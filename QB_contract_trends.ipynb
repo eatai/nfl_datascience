{
 "cells": [
  {
   "cell_type": "code",
   "execution_count": 1,
   "id": "4cbc9d62-cc92-4388-8f47-6f3aecad8e39",
   "metadata": {},
   "outputs": [],
   "source": [
    "import nfl_data_py as nfl\n",
    "\n",
    "import numpy as np\n",
    "import pandas as pd\n",
    "\n",
    "\n",
    "import matplotlib.pyplot as plt\n",
    "import mplcursors\n",
    "%matplotlib widget"
   ]
  },
  {
   "cell_type": "code",
   "execution_count": 2,
   "id": "d67d973e",
   "metadata": {},
   "outputs": [],
   "source": [
    "pd.options.plotting.backend = \"plotly\""
   ]
  },
  {
   "cell_type": "code",
   "execution_count": 3,
   "id": "8f74494b",
   "metadata": {},
   "outputs": [],
   "source": [
    "def compact_columns(df, num_cols = 5, col_width = 25):\n",
    "    cols = list(df.columns)\n",
    "    row_string = ''\n",
    "    for k, c in enumerate(cols):\n",
    "        row_item = f\"{c} {(col_width - len(c))*' '}\"\n",
    "        row_string = row_string + row_item\n",
    "        \n",
    "        if (k+1)%num_cols==0:\n",
    "            print(row_string)\n",
    "            row_string = ''\n",
    "                       \n",
    "    return "
   ]
  },
  {
   "attachments": {},
   "cell_type": "markdown",
   "id": "54e238fb",
   "metadata": {},
   "source": [
    "# Preface\n",
    "\n",
    "This is my first exploration using the `nfl_data_py` package.\n",
    "\n",
    "I am an Eagles fan. At the time I'm doing this project, it's Week 16 of the 2022 NFL season. Jalen Hurts is our quarterback, he's having an MVP-caliber season, and the Eagles are favored to represent the NFC in Super Bowl LVII (hoping this doesn't age terribly).\n",
    "\n",
    "Jalen Hurts is playing on the third year of his rookie contract and he'll be eligible to negotiate a new contract after this season ends. Most everyone is expecting that the Eagles will sign him to a big contract, but just how big is up for debate. In many discussions on r/eagles (the Philadelphia Eagles sub-Reddit), fellow fans bandy about hypothetical contract structures (e.g. Hurts should get a deal like such-and-such player avg annual value/years/guarantees) and often, these hypotheses are more aspirational/optimistic than they are grounded in data. \n",
    "\n",
    "But how much can the data tell us anyhow?\n",
    "\n",
    "\n",
    "# Quarterback Contracts\n",
    "\n",
    "Many factors may contribute to a players valuation: the player's past performance and injury history, recent trends in contracts, the scarcity of alternatives (via free agency or the draft) and the player's value on the free agency market, the team's financial situation, projections of the salary cap ceiling for future years, the franchise tag number, the altruism of the player or the general manager, the shrewdness of the player's agent, the resources the team has allocated or reserved for signing other players, etc. \n",
    "\n",
    "There is no single repository for the above measures, but player performance and contract specifics are tracked by different analytics outlets. Conviently, `nfl-data-py` consolidates data from numerous sources: (Pro Football Reference, TruMedia, OverTheCap, etc.).\n",
    "\n",
    "Challenges:\n",
    " - Few data instances. While performance data are tracked on a play-by-play basis, players only negotiate new contracts every 2-5 years. And since teams field just one starting QB, we may only have 5-10 data points for any season.\n",
    " - Non-measurable factors. Performance metrics don't account for player \"intangibles\" or the \"eye test\".\n",
    " - Complex contract structures. Modern NFL contracts creatively employ mechanisms such as void years, rolling guarantees, bonuses, and incentives that aren't sufficiently captured in aggregate numbers such as annual average value (AAV), contract duration (in seasons), and guaranteed money. Additionally, contracts are built with foresight, projecting future changes in the salary cap limit.\n"
   ]
  },
  {
   "attachments": {},
   "cell_type": "markdown",
   "id": "138468d9",
   "metadata": {},
   "source": [
    "# Loading and Inspecting Data\n",
    "\n",
    "`nfl_data_py` provides access to the following"
   ]
  },
  {
   "cell_type": "code",
   "execution_count": 4,
   "id": "47e96ea4-9511-4356-b985-2b4287cbb3a5",
   "metadata": {},
   "outputs": [
    {
     "name": "stdout",
     "output_type": "stream",
     "text": [
      "player                    position                  team                      is_active                 year_signed               \n",
      "years                     value                     apy                       guaranteed                apy_cap_pct               \n",
      "inflated_value            inflated_apy              inflated_guaranteed       player_page               otc_id                    \n",
      "date_of_birth             height                    weight                    college                   draft_year                \n"
     ]
    }
   ],
   "source": [
    "contracts_df = nfl.import_contracts()\n",
    "compact_columns(contracts_df)"
   ]
  },
  {
   "cell_type": "code",
   "execution_count": 5,
   "id": "b0fdc623-3ae0-4e8e-a73d-fb6f9927f4e8",
   "metadata": {},
   "outputs": [
    {
     "name": "stdout",
     "output_type": "stream",
     "text": [
      "season                    club_code                 week                      game_type                 depth_team                \n",
      "last_name                 first_name                football_name             formation                 gsis_id                   \n",
      "jersey_number             position                  elias_id                  depth_position            full_name                 \n"
     ]
    }
   ],
   "source": [
    "depth_df = nfl.import_depth_charts(years = range(2001,2023))\n",
    "compact_columns(depth_df)"
   ]
  },
  {
   "cell_type": "code",
   "execution_count": 6,
   "id": "69961ba5-bd00-48f1-9864-abbbc5dbfab3",
   "metadata": {},
   "outputs": [
    {
     "name": "stdout",
     "output_type": "stream",
     "text": [
      "depth_df['position']:\n",
      "['CB' 'FS' 'SS' 'QB' 'FB' 'DT' 'WR' 'P' 'T' 'RB' 'DE' 'G' 'OLB' 'C' 'TE'\n",
      " 'MLB' 'LS' 'K' 'ILB' 'NT' 'LB' 'S' 'UK' 'KR' 'DB' 'PR']\n",
      "depth_df['depth_position']:\n",
      "['RCB' 'FS' 'LCB' 'PR' 'SS' 'QB' 'FB' 'RT' 'WR' 'H' 'P' 'LT' 'RB' 'KR'\n",
      " 'RDE' 'LDE' 'RG' 'SLB' 'MLB' 'WLB' 'LG' 'TE' 'C' 'LS' 'K' 'RDT' 'LDT'\n",
      " 'OLB' 'DE' 'DT' 'CB' 'G' 'T' 'NT' 'NG' 'ILB' 'DL' 'HB' 'UT' 'LLB' 'RLB'\n",
      " 'WILB' 'LILB' 'LOLB' 'RILB' 'ROLB' 'BLB' 'RE' 'PC/KC' 'LE' 'KC' 'PC' 'KO'\n",
      " '\\n    ' 'KOR' 'JACK' 'WE' 'SAM' 'WILL' 'FL' 'SE' 'H\\nH' 'KO/LS' 'PK' 'S'\n",
      " 'MIKE' 'FG' 'ROT' 'LOT' 'JLB' ' LE' 'TE/LS' 'DB' 'OE' 'PS' 'P\\n' '\\n'\n",
      " 'H-B' 'HO' 'LB' '78' '87' '--' 'LS/TE' 'MOLB' 'MILB' '\\nWR' 'FS\\n' 'LBE'\n",
      " 'LB/DE' 'DE/LB' 'R' 'DDE' 'FB/TE' 'RWR' 'LWR' 'END' 'WL' 'SL' 'ML' 'OC'\n",
      " 'TED' 'RUSH' 'OL' ' RB' 'RBC' 'LSB' 'LC' ' LOLB' 'KOS' ' QB' 'LT\\n' 'MO'\n",
      " 'SAM\\n' 'K222' 'TE/FB' 'F' ' LT' 'NICK' 'RDE\\n' 'TE/HB' 'OL B' 'WIL'\n",
      " 'LEO' 'DS' 'RB`' ' WR' 'NKL' '2' 'HB/TE' ' FB' 'NOSE' 'CS' 'WS' 'PH' ' H'\n",
      " 'RB5' '$LB' 'LA' '9' 'OTTO' 'RB/TE' 'HB-TE' 'MCB' 'MIL' '\\nMLB' 'DL/OL'\n",
      " 'HLS' '19' 'TE\\n' 'DL44' 'NB' '21' 'RB86' 'NCB' 'K/KO' 'PF' 'NDT' 'DPR'\n",
      " 'N' 'LCR' '6' '0LB' 'P.' 'P/H' 'S47' 'LILBI' 'EDGE' '7' 'WRE' 'NICKE'\n",
      " 'LTE' 'RTE']\n",
      "contracts_df['position']:\n",
      "['QB' 'RB' 'FB' 'WR' 'TE' 'LT' 'LG' 'C' 'RG' 'RT' 'IDL' 'ED' 'LB' 'CB' 'S'\n",
      " 'K' 'P' 'LS']\n"
     ]
    }
   ],
   "source": [
    "print('depth_df[\\'position\\']:')\n",
    "print(depth_df['position'].unique())\n",
    "print('depth_df[\\'depth_position\\']:')\n",
    "print(depth_df['depth_position'].unique())\n",
    "print('contracts_df[\\'position\\']:')\n",
    "print(contracts_df['position'].unique())"
   ]
  },
  {
   "attachments": {},
   "cell_type": "markdown",
   "id": "7098c9f8",
   "metadata": {},
   "source": [
    "The `depth_df` dataframe lists both `position` (high-level) and `depth_position` (finer grain role). However, comparing the set of position designations used by `depth_df` and `contracts_df`, `contracts_df` is less specific still (e.g. contracts lumps \"FS\" and \"SS\" into \"S\"; \"DT\" and \"NT\" into \"IDL\"; \"OLB\", \"ILB\", \"MLB\" into \"LB\"; \"RB\" and \"FB\" into \"RB\"). This won't be a problem for QB though."
   ]
  },
  {
   "cell_type": "markdown",
   "id": "31994482",
   "metadata": {},
   "source": []
  },
  {
   "cell_type": "code",
   "execution_count": 7,
   "id": "213f2046-803e-437e-9263-eb82342524dc",
   "metadata": {},
   "outputs": [
    {
     "name": "stdout",
     "output_type": "stream",
     "text": [
      "['ATL' 'BAL' 'BUF' 'CAR' 'CHI' 'CIN' 'CLE' 'DAL' 'DEN' 'DET' 'GB' 'IND'\n",
      " 'JAX' 'KC' 'MIN' 'NO' 'NYJ' 'OAK' 'SD' 'SEA' 'SF' 'TB' 'TEN' 'ARI' 'MIA'\n",
      " 'NE' 'NYG' 'PHI' 'PIT' 'STL' 'WAS' 'HOU' 'LA' 'LAC' 'LV']\n",
      "['Packers' 'Bills' 'Broncos' 'Chiefs' 'Cardinals' 'Browns' 'Cowboys'\n",
      " 'Texans' 'Raiders' 'Rams' 'Bengals' 'SEA/DEN' 'Jaguars' 'Patriots'\n",
      " '49ers' 'Steelers' 'DET/LAR' 'Colts' 'NYJ/GB' 'PHI/WAS/IND' 'IND/ATL'\n",
      " 'Falcons' 'Vikings' 'Saints' 'Ravens' 'Dolphins' 'NE/BUF' 'Seahawks'\n",
      " 'Titans' 'Giants' 'Chargers' 'Panthers' 'Lions' 'Commanders' 'BAL/DEN'\n",
      " 'Buccaneers' 'Bears' 'Eagles' 'JAX/CHI' 'Jets' 'MIN/PHI' 'CLE/BUF'\n",
      " 'CAR/LAR' 'KC/SF' 'KC/DEN' 'DEN/CAR' 'CAR/NYJ' 'BUF/MIN' 'MIA/TEN'\n",
      " 'NO/NYJ']\n"
     ]
    }
   ],
   "source": [
    "print(depth_df['club_code'].unique())\n",
    "print(contracts_df['team'].unique()[0:50])"
   ]
  },
  {
   "cell_type": "code",
   "execution_count": 8,
   "id": "cd8c11f5-0399-4339-aac7-6b275fb0a3c6",
   "metadata": {},
   "outputs": [
    {
     "name": "stdout",
     "output_type": "stream",
     "text": [
      "['ATL' 'BAL' 'BUF' 'CAR' 'CHI' 'CIN' 'CLE' 'DAL' 'DEN' 'DET' 'GB' 'IND'\n",
      " 'JAX' 'KC' 'MIN' 'NO' 'NYJ' 'LV' 'SD' 'SEA' 'SF' 'TB' 'TEN' 'ARI' 'MIA'\n",
      " 'NE' 'NYG' 'PHI' 'PIT' 'LAR' 'WAS' 'HOU' 'LAC']\n"
     ]
    }
   ],
   "source": [
    "depth_df.replace(to_replace = 'LA', value = 'LAR', inplace=True)\n",
    "depth_df.replace(to_replace = 'STL', value = 'LAR', inplace=True)\n",
    "depth_df.replace(to_replace = 'OAK', value = 'LV', inplace=True)\n",
    "\n",
    "print(depth_df['club_code'].unique())\n"
   ]
  },
  {
   "cell_type": "code",
   "execution_count": 9,
   "id": "5074fa49-d341-405f-a0fd-c99bdf7d1604",
   "metadata": {},
   "outputs": [],
   "source": [
    "teamcode_dict = { \\\n",
    "                 'Eagles' : 'PHI', 'Cowboys' : 'DAL', 'Giants' : 'NYG', 'Commanders' : 'WAS', \\\n",
    "                 'Packers': 'GB', 'Vikings' : 'MIN', 'Lions' : 'DET', 'Bears' : 'CHI', \\\n",
    "                 'Saints' : 'NO', 'Buccaneers' : 'TB', 'Panthers' : 'CAR', 'Falcons' : 'ATL', \\\n",
    "                 'Rams' : 'LAR', '49ers' : 'SF', 'Seahawks' : 'SEA', 'Cardinals' : 'ARI', \\\n",
    "                 'Bills' : 'BUF', 'Patriots' : 'NE', 'Jets' : 'NYJ', 'Dolphins' : 'MIA', \\\n",
    "                 'Ravens': 'BAL', 'Steelers' : 'PIT', 'Bengals' : 'CIN', 'Browns' : 'CLE', \\\n",
    "                 'Colts' : 'IND', 'Titans' : 'TEN', 'Texans' : 'HOU', 'Jaguars' : 'JAX', \\\n",
    "                 'Chiefs' : 'KC', 'Raiders' : 'LV', 'Chargers' : 'LAC', 'Broncos' : 'DEN'\\\n",
    "                }\n",
    "\n",
    "contracts_df['team'].replace(to_replace = teamcode_dict, inplace=True)"
   ]
  },
  {
   "cell_type": "code",
   "execution_count": 10,
   "id": "f9618cd5-5d32-4f64-9ce2-6c64e8d29a4a",
   "metadata": {},
   "outputs": [],
   "source": [
    "#contracts_df[(contracts_df['team'].str.len()>4)]\n",
    "# contracts_df[(contracts_df['is_rookie_deal']) & (contracts_df['player'] == 'Sam Bradford')]"
   ]
  },
  {
   "cell_type": "code",
   "execution_count": 11,
   "id": "cbff1b7c-783e-4e33-acf9-e7ae2446123c",
   "metadata": {},
   "outputs": [],
   "source": [
    " # depth_df[['position', 'depth_position']][depth_df['position'] != depth_df['depth_position']]"
   ]
  },
  {
   "cell_type": "code",
   "execution_count": 12,
   "id": "23aa096f-73a5-4029-86a4-80ebf721d016",
   "metadata": {},
   "outputs": [],
   "source": [
    "# depth_df['depth_team'][depth_df['week']==1].head()"
   ]
  },
  {
   "cell_type": "markdown",
   "id": "0228b43d-c2f2-4b75-962d-17317cd007a4",
   "metadata": {},
   "source": [
    "### Pruning and repairing data\n",
    "\n",
    "Some issues with the data:\n",
    " - depth_df.club_code uses a 2- or 3-letter city code (e.g. PHI, DAL), while contracts_df.team uses the team name (e.g. Eagles, Cowboys) or a 2- or 3- letter code when the contract spans stints with several teams (e.g. Carson Wentz PHI/WAS/IND). NOTE, for contracts spanning multiple teams, the team code is in no particular order (oof).\n",
    " - depth_df has repeated indices. We'll reset indices once we have filtered by position."
   ]
  },
  {
   "cell_type": "code",
   "execution_count": 13,
   "id": "11628b45-6e90-41cc-831f-270e1a6b9242",
   "metadata": {},
   "outputs": [],
   "source": [
    "contracts_df = contracts_df[contracts_df.year_signed > 1970].reset_index()\n",
    "qb_contracts_df = contracts_df[contracts_df['position']=='QB'].reset_index()\n",
    "\n",
    "qb_depth_df = depth_df[depth_df['position']=='QB'].reset_index()\n"
   ]
  },
  {
   "cell_type": "code",
   "execution_count": 14,
   "id": "a933b030-2402-42b0-b819-42c5337b0a3b",
   "metadata": {},
   "outputs": [],
   "source": [
    "#minIdx = qb_depth_df.groupby(['full_name', 'season'], as_index=False)['week'].agg('idxmin').week.to_numpy()\n",
    "minIdx = qb_depth_df.groupby(['full_name', 'season'], as_index=False)['week'].agg('idxmin').week.to_numpy()\n",
    "qb_depth_df = qb_depth_df.loc[minIdx]"
   ]
  },
  {
   "cell_type": "code",
   "execution_count": 15,
   "id": "f0d0bb45-fa37-4946-a082-a390744de693",
   "metadata": {},
   "outputs": [
    {
     "data": {
      "text/html": [
       "<div>\n",
       "<style scoped>\n",
       "    .dataframe tbody tr th:only-of-type {\n",
       "        vertical-align: middle;\n",
       "    }\n",
       "\n",
       "    .dataframe tbody tr th {\n",
       "        vertical-align: top;\n",
       "    }\n",
       "\n",
       "    .dataframe thead th {\n",
       "        text-align: right;\n",
       "    }\n",
       "</style>\n",
       "<table border=\"1\" class=\"dataframe\">\n",
       "  <thead>\n",
       "    <tr style=\"text-align: right;\">\n",
       "      <th></th>\n",
       "      <th>index</th>\n",
       "      <th>season</th>\n",
       "      <th>club_code</th>\n",
       "      <th>week</th>\n",
       "      <th>game_type</th>\n",
       "      <th>depth_team</th>\n",
       "      <th>last_name</th>\n",
       "      <th>first_name</th>\n",
       "      <th>football_name</th>\n",
       "      <th>formation</th>\n",
       "      <th>gsis_id</th>\n",
       "      <th>jersey_number</th>\n",
       "      <th>position</th>\n",
       "      <th>elias_id</th>\n",
       "      <th>depth_position</th>\n",
       "      <th>full_name</th>\n",
       "    </tr>\n",
       "  </thead>\n",
       "  <tbody>\n",
       "    <tr>\n",
       "      <th>26240</th>\n",
       "      <td>23984</td>\n",
       "      <td>2016.0</td>\n",
       "      <td>PHI</td>\n",
       "      <td>1.0</td>\n",
       "      <td>REG</td>\n",
       "      <td>1</td>\n",
       "      <td>Wentz</td>\n",
       "      <td>Carson</td>\n",
       "      <td>Carson</td>\n",
       "      <td>Offense</td>\n",
       "      <td>00-0032950</td>\n",
       "      <td>11</td>\n",
       "      <td>QB</td>\n",
       "      <td>WEN615770</td>\n",
       "      <td>QB</td>\n",
       "      <td>Carson Wentz</td>\n",
       "    </tr>\n",
       "    <tr>\n",
       "      <th>27881</th>\n",
       "      <td>23749</td>\n",
       "      <td>2017.0</td>\n",
       "      <td>PHI</td>\n",
       "      <td>1.0</td>\n",
       "      <td>REG</td>\n",
       "      <td>1</td>\n",
       "      <td>Wentz</td>\n",
       "      <td>Carson</td>\n",
       "      <td>Carson</td>\n",
       "      <td>Offense</td>\n",
       "      <td>00-0032950</td>\n",
       "      <td>11</td>\n",
       "      <td>QB</td>\n",
       "      <td>WEN615770</td>\n",
       "      <td>QB</td>\n",
       "      <td>Carson Wentz</td>\n",
       "    </tr>\n",
       "    <tr>\n",
       "      <th>29413</th>\n",
       "      <td>23601</td>\n",
       "      <td>2018.0</td>\n",
       "      <td>PHI</td>\n",
       "      <td>1.0</td>\n",
       "      <td>REG</td>\n",
       "      <td>1</td>\n",
       "      <td>Wentz</td>\n",
       "      <td>Carson</td>\n",
       "      <td>Carson</td>\n",
       "      <td>Offense</td>\n",
       "      <td>00-0032950</td>\n",
       "      <td>11</td>\n",
       "      <td>QB</td>\n",
       "      <td>WEN615770</td>\n",
       "      <td>QB</td>\n",
       "      <td>Carson Wentz</td>\n",
       "    </tr>\n",
       "    <tr>\n",
       "      <th>30948</th>\n",
       "      <td>23172</td>\n",
       "      <td>2019.0</td>\n",
       "      <td>PHI</td>\n",
       "      <td>1.0</td>\n",
       "      <td>REG</td>\n",
       "      <td>1</td>\n",
       "      <td>Wentz</td>\n",
       "      <td>Carson</td>\n",
       "      <td>Carson</td>\n",
       "      <td>Offense</td>\n",
       "      <td>00-0032950</td>\n",
       "      <td>11</td>\n",
       "      <td>QB</td>\n",
       "      <td>WEN615770</td>\n",
       "      <td>QB</td>\n",
       "      <td>Carson Wentz</td>\n",
       "    </tr>\n",
       "    <tr>\n",
       "      <th>32548</th>\n",
       "      <td>22968</td>\n",
       "      <td>2020.0</td>\n",
       "      <td>PHI</td>\n",
       "      <td>1.0</td>\n",
       "      <td>REG</td>\n",
       "      <td>1</td>\n",
       "      <td>Wentz</td>\n",
       "      <td>Carson</td>\n",
       "      <td>Carson</td>\n",
       "      <td>Offense</td>\n",
       "      <td>00-0032950</td>\n",
       "      <td>11</td>\n",
       "      <td>QB</td>\n",
       "      <td>WEN615770</td>\n",
       "      <td>QB</td>\n",
       "      <td>Carson Wentz</td>\n",
       "    </tr>\n",
       "    <tr>\n",
       "      <th>33672</th>\n",
       "      <td>12012</td>\n",
       "      <td>2021.0</td>\n",
       "      <td>IND</td>\n",
       "      <td>1.0</td>\n",
       "      <td>REG</td>\n",
       "      <td>1</td>\n",
       "      <td>Wentz</td>\n",
       "      <td>Carson</td>\n",
       "      <td>Carson</td>\n",
       "      <td>Offense</td>\n",
       "      <td>00-0032950</td>\n",
       "      <td>11</td>\n",
       "      <td>QB</td>\n",
       "      <td>WEN615770</td>\n",
       "      <td>QB</td>\n",
       "      <td>Carson Wentz</td>\n",
       "    </tr>\n",
       "    <tr>\n",
       "      <th>36072</th>\n",
       "      <td>31416</td>\n",
       "      <td>2022.0</td>\n",
       "      <td>WAS</td>\n",
       "      <td>1.0</td>\n",
       "      <td>REG</td>\n",
       "      <td>1</td>\n",
       "      <td>Wentz</td>\n",
       "      <td>Carson</td>\n",
       "      <td>Carson</td>\n",
       "      <td>Offense</td>\n",
       "      <td>00-0032950</td>\n",
       "      <td>11</td>\n",
       "      <td>QB</td>\n",
       "      <td>WEN615770</td>\n",
       "      <td>QB</td>\n",
       "      <td>Carson Wentz</td>\n",
       "    </tr>\n",
       "  </tbody>\n",
       "</table>\n",
       "</div>"
      ],
      "text/plain": [
       "       index  season club_code  week game_type depth_team last_name  \\\n",
       "26240  23984  2016.0       PHI   1.0       REG          1     Wentz   \n",
       "27881  23749  2017.0       PHI   1.0       REG          1     Wentz   \n",
       "29413  23601  2018.0       PHI   1.0       REG          1     Wentz   \n",
       "30948  23172  2019.0       PHI   1.0       REG          1     Wentz   \n",
       "32548  22968  2020.0       PHI   1.0       REG          1     Wentz   \n",
       "33672  12012  2021.0       IND   1.0       REG          1     Wentz   \n",
       "36072  31416  2022.0       WAS   1.0       REG          1     Wentz   \n",
       "\n",
       "      first_name football_name formation     gsis_id jersey_number position  \\\n",
       "26240     Carson        Carson   Offense  00-0032950            11       QB   \n",
       "27881     Carson        Carson   Offense  00-0032950            11       QB   \n",
       "29413     Carson        Carson   Offense  00-0032950            11       QB   \n",
       "30948     Carson        Carson   Offense  00-0032950            11       QB   \n",
       "32548     Carson        Carson   Offense  00-0032950            11       QB   \n",
       "33672     Carson        Carson   Offense  00-0032950            11       QB   \n",
       "36072     Carson        Carson   Offense  00-0032950            11       QB   \n",
       "\n",
       "        elias_id depth_position     full_name  \n",
       "26240  WEN615770             QB  Carson Wentz  \n",
       "27881  WEN615770             QB  Carson Wentz  \n",
       "29413  WEN615770             QB  Carson Wentz  \n",
       "30948  WEN615770             QB  Carson Wentz  \n",
       "32548  WEN615770             QB  Carson Wentz  \n",
       "33672  WEN615770             QB  Carson Wentz  \n",
       "36072  WEN615770             QB  Carson Wentz  "
      ]
     },
     "execution_count": 15,
     "metadata": {},
     "output_type": "execute_result"
    }
   ],
   "source": [
    "# qb_depth_df.loc[:, keys_right+get_right]\n",
    "qb_depth_df[qb_depth_df['full_name']=='Carson Wentz'].sort_values(['season', 'week'])"
   ]
  },
  {
   "cell_type": "code",
   "execution_count": 16,
   "id": "2307ef01-00aa-4ab5-a684-06a642d52457",
   "metadata": {},
   "outputs": [],
   "source": [
    "# The columns in contracts_df (left) and depth_df (right) to join on.\n",
    "keys_left = ['player', 'year_signed']\n",
    "keys_right = ['full_name', 'season']\n",
    "get_right = ['depth_team']\n",
    "\n",
    "qb_contracts_df = qb_contracts_df.merge(\\\n",
    "                                        qb_depth_df.loc[:, keys_right+get_right], \\\n",
    "                                        how = 'left', \\\n",
    "                                        left_on = keys_left, \\\n",
    "                                        right_on = keys_right\n",
    "                                       )\n",
    "#.drop(columns = keys_right)\n",
    "\n",
    "depth = qb_contracts_df.pop('depth_team').to_numpy()\n",
    "try:\n",
    "    qb_contracts_df.insert(loc = 2, column = 'depth', value = depth)\n",
    "except:\n",
    "    qb_contracts_df['depth'] = depth\n",
    "\n",
    "qb_contracts_df.dropna(axis=0, subset='depth', inplace=True)\n"
   ]
  },
  {
   "cell_type": "code",
   "execution_count": 17,
   "id": "b2b032f3-1bb0-4575-8db1-1c31fb4f18aa",
   "metadata": {},
   "outputs": [],
   "source": [
    "is_rookie_deal = qb_contracts_df['year_signed'].to_numpy()==qb_contracts_df['draft_year'].to_numpy()\n",
    "\n",
    "try:\n",
    "    qb_contracts_df.insert(loc = 6, \\\n",
    "                       column = 'is_rookie_deal', \\\n",
    "                       value = is_rookie_deal)\n",
    "except:\n",
    "    qb_contracts_df['is_rookie_deal'] = is_rookie_deal"
   ]
  },
  {
   "cell_type": "code",
   "execution_count": 91,
   "id": "15d2c8f5-1178-4bbf-b558-dcafc0492649",
   "metadata": {},
   "outputs": [
    {
     "data": {
      "text/plain": [
       "Index(['level_0', 'index', 'depth', 'player', 'position', 'team',\n",
       "       'is_rookie_deal', 'is_active', 'year_signed', 'years', 'value', 'apy',\n",
       "       'guaranteed', 'apy_cap_pct', 'inflated_value', 'inflated_apy',\n",
       "       'inflated_guaranteed', 'player_page', 'otc_id', 'date_of_birth',\n",
       "       'height', 'weight', 'college', 'draft_year', 'draft_round',\n",
       "       'draft_overall', 'draft_team', 'cols', 'full_name', 'season',\n",
       "       'contract_type'],\n",
       "      dtype='object')"
      ]
     },
     "execution_count": 91,
     "metadata": {},
     "output_type": "execute_result"
    }
   ],
   "source": [
    "qb_contracts_df.columns\n"
   ]
  },
  {
   "cell_type": "code",
   "execution_count": 19,
   "id": "3901984d-40f6-41aa-86ef-cdd32a8d6e3f",
   "metadata": {},
   "outputs": [],
   "source": [
    "rookie_idx = qb_contracts_df.index[qb_contracts_df.is_rookie_deal==True]\n",
    "vet_starter_idx = qb_contracts_df.index[(qb_contracts_df.is_rookie_deal==False) & (qb_contracts_df.depth.astype(float) == 1)]\n",
    "vet_backup_idx = qb_contracts_df.index[(qb_contracts_df.is_rookie_deal==False) & (qb_contracts_df.depth.astype(float) > 1)]"
   ]
  },
  {
   "cell_type": "code",
   "execution_count": 20,
   "id": "1676a20e-92b5-425b-a3bc-50a0a62ac381",
   "metadata": {},
   "outputs": [],
   "source": [
    "def df_to_lists(df, cols=[], idx=[]):\n",
    "    # df - dataframe\n",
    "    # cols - columns to extract\n",
    "    # idx - indices by Pandas index (use loc), NOT ROW NUMBER (not iloc)\n",
    "    \n",
    "    # Returns a tuple of arrays corresponding to the requested columns.\n",
    "    # This is useful in extracting arrays for plotting in matplotlib (instead of Pandas built-in plotting functions).\n",
    "    \n",
    "    if not len(cols):\n",
    "        cols = df.columns\n",
    "    else:\n",
    "        to_remove = []\n",
    "        for col in cols:\n",
    "            if col not in df.columns:\n",
    "                print('%s is NOT a column label of the dataframe.'% col)\n",
    "                to_remove.append(col)\n",
    "        [cols.remove(r) for r in to_remove]\n",
    "    \n",
    "        \n",
    "    if not len(idx):\n",
    "        idx = range(0, df.shape[0])\n",
    "    \n",
    "    return tuple(df[cols].loc[idx].T.to_numpy(copy=True))"
   ]
  },
  {
   "cell_type": "code",
   "execution_count": 21,
   "id": "aa614483-ff07-4f4a-b4ca-a8de5751b49b",
   "metadata": {},
   "outputs": [],
   "source": [
    "y_rook, apy_rook, apy_pct_rook, draft_rook = df_to_lists(qb_contracts_df, cols = ['year_signed', 'apy', 'apy_cap_pct', 'draft_round'], idx = rookie_idx)\n",
    "y_vet, apy_vet, apy_pct_vet, draft_vet = df_to_lists(qb_contracts_df, cols = ['year_signed', 'apy', 'apy_cap_pct', 'draft_round'], idx = vet_starter_idx)\n",
    "y_backup, apy_backup, apy_pct_backup, draft_backup = df_to_lists(qb_contracts_df, cols = ['year_signed', 'apy', 'apy_cap_pct', 'draft_round'], idx = vet_backup_idx)"
   ]
  },
  {
   "attachments": {},
   "cell_type": "markdown",
   "id": "1b50b266",
   "metadata": {},
   "source": [
    "## Matplotlib"
   ]
  },
  {
   "cell_type": "code",
   "execution_count": 22,
   "id": "41b1c981-12d2-4174-85e7-59561e381240",
   "metadata": {},
   "outputs": [
    {
     "data": {
      "application/vnd.jupyter.widget-view+json": {
       "model_id": "70fac150ce134a43b10759d79b09d15c",
       "version_major": 2,
       "version_minor": 0
      },
      "image/png": "[encoded data removed]",
      "text/html": [
       "\n",
       "            <div style=\"display: inline-block;\">\n",
       "                <div class=\"jupyter-widgets widget-label\" style=\"text-align: center;\">\n",
       "                    Figure\n",
       "                </div>\n",
       "                <img src='data:image/png;base64,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' width=1000.0/>\n",
       "            </div>\n",
       "        "
      ],
      "text/plain": [
       "Canvas(toolbar=Toolbar(toolitems=[('Home', 'Reset original view', 'home', 'home'), ('Back', 'Back to previous …"
      ]
     },
     "metadata": {},
     "output_type": "display_data"
    }
   ],
   "source": [
    "plot_opts = {\\\n",
    "             'linestyle' : 'None',\\\n",
    "             'alpha': 0.8,\\\n",
    "             'marker' :'s',\\\n",
    "             'markersize' : 4, \\\n",
    "             'markeredgecolor' : 'None',\\\n",
    "            }\n",
    "            #  'cmap' : 'tab20c',\\\n",
    "            #  'clim' : [0, 12]\\\n",
    "            # }\n",
    "\n",
    "color_rook1 = np.array([80, 200, 140])/255.0\n",
    "color_vet1 = np.array([230, 100, 20])/255.0\n",
    "color_backup1 = np.array([250, 200, 70])/255.0\n",
    "    \n",
    "fig, ax = plt.subplots(nrows = 2, ncols = 1, sharex=True, figsize=(10, 10))\n",
    "ax[0].axvspan(2009.5, 2010.5, facecolor = '0.2', alpha = 0.2)\n",
    "ax[0].axvspan(1990, 2009.5, facecolor = '0.7', alpha = 0.2)\n",
    "\n",
    "ax[0].plot(y_rook+0.15, apy_rook, c=color_rook1, **plot_opts, label = 'Rookie Deal')\n",
    "ax[0].plot(y_backup-0.15, apy_backup, c=color_backup1, **plot_opts, label = 'Vet Backup')\n",
    "ax[0].plot(y_vet-0.15, apy_vet, c=color_vet1, **plot_opts, label = 'Vet Starter')\n",
    "\n",
    "ax[0].text(2009.7, 30, 'uncapped year', color = [0.5, 0.5, 0.5], rotation=90)\n",
    "ax[0].text(2010.7, 32, '2011 CBA', color = [0.5, 0.5, 0.5], rotation=90)\n",
    "\n",
    "ax[0].set_ylabel('($1M)')\n",
    "ax[0].legend()\n",
    "\n",
    "ax[1].axvspan(2009.5, 2010.5, facecolor = '0.2', alpha = 0.2)\n",
    "ax[1].axvspan(1990, 2009.5, facecolor = '0.7', alpha = 0.2)\n",
    "\n",
    "ax[1].plot(y_rook+0.15, apy_pct_rook, c=color_rook1, **plot_opts)\n",
    "ax[1].plot(y_backup-0.15, apy_pct_backup, c=color_backup1, **plot_opts)\n",
    "ax[1].plot(y_vet-0.15, apy_pct_vet, c=color_vet1, **plot_opts)\n",
    "ax[1].set_ylabel('(% Cap)')\n",
    "ax[1].set_xlim([1990, 2023])\n",
    "fig.supylabel('APY')\n",
    "fig.supxlabel('Season')\n",
    "\n",
    "# plt.tight_layout(pad=0, w_pad=0, h_pad=0);\n",
    "plt.subplots_adjust(hspace=0.075,left=0.1, bottom=0.075)\n",
    "plt.suptitle('QB Contracts APY')\n",
    "plt.tight_layout()\n",
    "plt.show()\n",
    "plt.savefig('qb_contracts.png', dpi='figure', format='png')"
   ]
  },
  {
   "attachments": {},
   "cell_type": "markdown",
   "id": "930cc374-6195-43aa-bc2f-2a2692cf38c3",
   "metadata": {},
   "source": [
    "#### Play with clickable figures with matplotlib"
   ]
  },
  {
   "cell_type": "code",
   "execution_count": 23,
   "id": "76a05efc-f327-4174-ba26-bf2a24b4848e",
   "metadata": {},
   "outputs": [
    {
     "data": {
      "application/vnd.jupyter.widget-view+json": {
       "model_id": "d6aec2846bdf4cae86c4cc0a8afefbdf",
       "version_major": 2,
       "version_minor": 0
      },
      "image/png": "[encoded data removed]",
      "text/html": [
       "\n",
       "            <div style=\"display: inline-block;\">\n",
       "                <div class=\"jupyter-widgets widget-label\" style=\"text-align: center;\">\n",
       "                    Figure\n",
       "                </div>\n",
       "                <img src='data:image/png;base64,iVBORw0KGgoAAAANSUhEUgAAA+gAAAPoCAYAAABNo9TkAAAAOXRFWHRTb2Z0d2FyZQBNYXRwbG90bGliIHZlcnNpb24zLjYuMiwgaHR0cHM6Ly9tYXRwbG90bGliLm9yZy8o6BhiAAAACXBIWXMAAA9hAAAPYQGoP6dpAADL0klEQVR4nOzdd3yV5f3/8fcZyckeJCGBLKYMEVBAxCoOUATciKsWRa22dVNtwba42qLWWq3iqHXxrdZRf9ZaWrRiBQegMo0KMiQMSQiBbHKSnHN+f9Acm577hIz75NznnNfz8UhrPvfJda6TEyDv+1o2n8/nEwAAAAAACCt7uDsAAAAAAAAI6AAAAAAAWAIBHQAAAAAACyCgAwAAAABgAQR0AAAAAAAsgIAOAAAAAIAFENABAAAAALAAAjoAAAAAABZAQAcAAAAAwAII6AAAAAAAWAABHQAAAAAACyCgAwAAAABgAQR0AAAAAAAsgIAOAAAAAIAFENABAAAAALAAAjoAAAAAABZAQAcAAAAAwAII6AAAAAAAWAABHQAAAAAACyCgAwAAAABgAQR0AAAAAAAsgIAOAAAAAIAFENABAAAAALAAAjoAAAAAABZAQAcAAAAAwAII6AAAAAAAWAABHQAAAAAACyCgAwAAAABgAQR0AAAAAAAsgIAOAAAAAIAFENABAAAAALAAAjoAAAAAABZAQAcAAAAAwAII6AAAAAAAWAABHQAAAAAACyCgAwAAAABgAQR0AAAAAAAsgIAOAAAAAIAFENABAAAAALAAAjoAAAAAABZAQAcAAAAAwAII6AAAAAAAWAABHQAAAAAACyCgAwAAAABgAQR0AAAAAAAsgIAOAAAAAIAFENABAAAAALAAAjoAAAAAABZAQAcAAAAAwAII6AAAAAAAWAABHQAAAAAACyCgAwAAAABgAQR0AAAAAAAsgIAOAAAAAIAFENABAAAAALAAAjoAAAAAABZAQAcAAAAAwAII6AAAAAAAWAABHQAAAAAACyCgAwAAAABgAQR0AAAAAAAsgIAOAAAAAIAFENABAAAAALAAAjoAAAAAABZAQAcAAAAAwAII6AAAAAAAWAABHQAAAAAACyCgAwAAAABgAQR0AAAAAAAsgIAOAAAAAIAFENABAAAAALAAAjoAAAAAABZAQAcAAAAAwAII6AAAAAAAWAABHQAAAAAACyCgAwAAAABgAQR0AAAAAAAsgIAOAAAAAIAFENABAAAAALAAAjoAAAAAABZAQAcAAAAAwAII6AAAAAAAWAABHQAAAAAACyCgAwAAAABgAQR0AAAAAAAsgIAOAAAAAIAFENABAAAAALAAAjoAAAAAABZAQAcAAAAAwAII6AAAAAAAWAABHQAAAAAACyCgAwAAAABgAQR0AAAAAAAsgIAOAAAAAIAFENABAAAAALAAAjoAAAAAABZAQAcAAAAAwAII6AAAAAAAWAABHQAAAAAACyCgAwAAAABgAQR0AAAAAAAsgIAOAAAAAIAFENABAAAAALAAAjoAAAAAABZAQAcAAAAAwAII6AAAAAAAWAABHQAAAAAACyCgAwAAAABgAQR0AAAAAAAsgIAOAAAAAIAFENABAAAAALAAAjoAAAAAABZAQAcAAAAAwAII6AAAAAAAWAABHQAAAAAACyCgAwAAAABgAQR0AAAAAAAsgIAOAAAAAIAFOMPdAXzL6/Xqm2++UWpqqmw2W7i7AwAAACCK+Xw+1dbWqm/fvrLbGbu1AgK6hXzzzTcqLCwMdzcAAAAAxJCdO3eqoKAg3N2ACOiWkpqaKkkqKSnx/zcAADBHeXl5SNsfMmRISNsHALPV1NSosLCQ7GEhBHQLaZ3WnpqaqrS0tDD3BgCA6FJfXx/S9vm3G0CkYnmtdbDQAAAAAAAACyCgAwAAAABgAQR0AAAAAAAsgDXoEcjr9aqlpSXc3UAYOZ1OjsIAAAAAogwBPYL4fD5VVVWpvr6ejRxinM/nU3JysjIyMvhZAAAAAKIEAT2CVFVVqaGhQb1791ZiYiLBLEb5fD4dPHhQFRUVkqTMzMww9wgAAACAGQjoEcLr9aq+vl69e/dWr169wt0dhFliYqIkae/evUpPT2e6OwAAABAF+K0+QrS0tMhms/mDGdA6i4L9CAAAAIDoQECPMExrRyt+FgAAAIDoQkAHAAAAAMACCOiICpMmTdKcOXOCXr/yyis1Y8aMHuxR98XFxemNN94IdzcAAAAA9BACOkLqyiuvVFxcnOLi4pSYmKjBgwdr7ty5amxs7NF+/O53v9PTTz/drTYmTZrkfy3JyckqLi7Wueeeq9dff92kXgIAAACIZQT0Drrzzjtls9nafAwdOtR/vbGxUdddd52ysrKUkpKiGTNmqLy8PIw9to4pU6Zo586d+uqrr/TAAw/oqaee0l133dWjfUhPT1dGRka327nqqqu0c+dObdq0SS+//LKGDRum7373u/rBD37Q/U4CAAAgJjWXrlfD8kUBH82l68PdNfQwAnonHHnkkdqzZ4//44MPPvBfu+WWW/Tmm2/q1Vdf1bJly/TNN9/o/PPPD2NvA22tL9e/Kj4L+NhaH9obCS6XS3l5eSosLNQ555yjSZMm6Z133vFfd7vduvnmm9W3b1+lpKTopJNO0ieffNKmjeXLl2vChAlKTk5WYWGhbr/99nZ3L//HP/6hrKwsvfjii5ICp7h7vV7dd999Gjx4sFJTU3XMMcfotddeO+xrSUpKUl5engoKCnTcccdpwYIFeuyxx/T0009r6dKl/sft3LlTl1xyibKzs9W7d2+df/752r59u//6J598ojPOOEN5eXnKysrSqaeeqjVr1hz2+QEAABB9COhoRUDvBKfTqby8PP9Hdna2JKm6ulpPP/20HnzwQZ166qkaM2aMnn32WX300UdauXJlmHv9rW0Ne/XOvpKAj20Ne3usDyUlJVqxYoXi4+P9tblz5+r111/XM888o48//lgDBw7U9OnTtX//fknS7t27ddZZZ2ns2LFavXq1Hn30UT377LP69a9/bfgcf/7zn3XZZZdp0aJFuvTSSw0fc9999+lPf/qTFi5cqPXr1+umm27S5ZdfruXLl3f6Nc2aNUuZmZn+qe7Nzc2aPn26UlJS9O9//1vLli1TcnKyzjzzTDU1NUmS6urq9L3vfU/vvfeePvjgAw0aNEhnn322amtrO/38AAAAAKKDM9wdiCSbN29W3759lZCQoAkTJmjBggUqKirS6tWr1dzcrMmTJ/sfO3ToUBUVFWnFihU67rjjwtjr8Fu8eLEyMjLU0tIit9stu92uhx9+WJJUX1+vJ598Uk8//bTOOOMMSdKTTz6pQYMG6dlnn9WPf/xjPfHEEyosLNTvf/97/9KCb775Rrfffrt+/vOfy27/9j7TY489pvnz5+uvf/2rJk6caNgft9ute++9V0uWLNGECRMkSQMGDNCHH36op556KujXBWO32zV48GCVlpZKkl555RV5vV794Q9/8B+F9vTTTys7O1vLli3TaaedplNOOaVNG0888YSys7O1fPlyTZ8+vVPPDwAAACA6ENA7aPz48Xruuec0ZMgQ7dmzR3fddZdOPPFElZSUqKysTPHx8QFrnHNzc1VWVha0TbfbLbfb7f+8pqYmVN0Pq5NPPlmPPvqo6uvr9fDDD8vpdPqn/2/dulXNzc06/vjj/Y+Pi4vTuHHj9OWXX0qSNm7cqPHjx7c59/v4449XXV2ddu3apaKiIknS//t//0979+7VsmXLNG7cuKD92bJlixoaGjR16tQ29aamJo0ePbpLr9Hn8/n7t2HDBm3ZskWZmZltHtPY2KitW7fqtNNOU3l5uebPn6/ly5dr79698ng8amho0I4dO7r0/AAAAAAiHwG9g/47zI0cOVLjx49XcXGxXnnlFSUmJnapzQULFvT4ZmnhkJycrEGDBkmS/vjHP+qYY47RM888oyuvvNLU5xk9erTWrl2r5557TmPHjm0T6P9bXV2dJOlvf/ub+vbt2+aay+Xq9PN6PB5t2bJFY8eO9bd/zDHHaNGiRQGPzcnJkXRoTXxlZaUefPBBFRUVyeVy6cQTT/RPgQcAAAAQewjoXZSRkaEjjjhCW7Zs0WmnnaampiZVVVW1GUUvLy9XXl5e0DbmzZvX5uzumpoaFRYWhrLbYWe32zV37lzddtttuuSSSzRw4EDFx8fro48+UnFxsaRDa7g//fRT3XjjjZIOLRd4/fXX24xSf/TRR0pNTVVBQYG/7QEDBuj+++/X5MmT5XA49Pvf/96wD8OHD5fL5dKOHTs6PZ3dyKJFi3TgwAH/rICjjz5ar776qnr37q20tDTDr/noo4/0yCOP+G/87Ny5U/v27et2XwAAABB54opHKWniLMM6YgsBvYvq6uq0detWfe9739OYMWMUFxenpUuX+ncK37Rpk3bs2OFf42zE5XJ1acS2qwYk9dbk7BGG9Z50wQUXaO7cuXr88cc1Z84cXXvttZo7d6569eqlwsJCPfDAA2poaNDs2bMlST/4wQ/0+9//XjfddJN+9KMf6auvvtLdd9+tm2++uc36c0k64ogj9K9//UuTJ0+W0+nUgw8+GPD8qampmjNnjm699VZ5vV595zvfUXV1tT766COlpaVp1qzAvxxbNTQ0qKysTC0tLdq1a5feeOMNPfzww7r22mt18sknS5IuvfRSPfjggzr//PN15513Kj8/Xzt27NDrr7+uW2+9VQUFBRo0aJBeeOEFjRkzRjU1NZo7d26XZ2IAAAAgssUVjyKMQxIBvcNuvfVWnXXWWSouLtY333yjO+64Qw6HQ5dcconS09N11VVXac6cOerVq5fS0tJ0ww03aMKECZbaIG5gcq4GJueGuxtyOp360Y9+pAceeEDXXnutfv3rX8vr9eqKK65QbW2txowZo8WLF/vXcOfn5+vNN9/UT3/6U40ZM0a9evXS7Nmzdfvttxu2P2TIEL399tv+kfTf/OY3AY+56667lJ2drfvvv1/btm1TRkaGjj76aM2dO7fdvj/99NN6+umnFR8fr6ysLB1zzDF68cUXde655/ofk5SUpHfffVfz5s3TzJkzVVtbq/z8fJ1yyin+EfU//OEP+uEPf6hjjz1WhYWFuueee/TTn/60i99RAAAAANHA5vP5fOHuRCS4+OKLtXz5clVWVionJ0cnnHCCfvWrX2ngwIGSDm0A9uMf/1h//vOf5Xa7NWXKFD322GPtTnH/XzU1NUpPT1dpaWnA1OimpiZVVFSouLhYCQkJpr42RKbGxkaVlpYqJyenzbF1AABje/bsCWn7w4YNC2n7AKJXc+l6wzPPQz2y3po/qqurgy7NRM9iBL2DXnrppXavJyQkaOHChVq4cGEP9QgAAABANGguXa+G5YEbDCdNnMXU9xhjP/xDAAAAAABAqBHQAQAAAACwAAI6AAAAAAAWQEAHAAAAAMAC2CQOAAAAAMIorniUkibOMqwjthDQAQAAACCMQn2cGiIHU9wBAAAAALAAAjrQCdu3b1dcXJzWrVsX7q4AAAAAiDIEdITMueeeq+nTpxte++CDDxQXF6cNGzYctp1Bgwbp4Ycf7tDj4uLiFBcXJ5fLpaKiIn3/+9/XgQMHOt13AAAAAOhpBHSEzOzZs/XOO+9o165dAdeee+45jRkzRiNHjjT1Oe+8807t3LlT27Zt06JFi/TBBx/o5ptvNvU5AAAAACAUCOgImenTpysnJ0eLFi1qU6+rq9Nrr72m2bNnSzo0mn7yyScrNTVV/fv3180336z6+npJ0qRJk1RaWqpbb73VPzrenpSUFOXl5Sk/P18nn3yyvve977WZjl5ZWanLLrtMxcXFSktL0+jRo/XSSy+1acPr9eqBBx7Q0KFDlZycrAEDBmjBggWGz+fxeHT11VdrxIgR2rFjh+6++26NGTOmzWMefvhhDRo0yP/5lVdeqRkzZuiee+5Rnz591KtXL/3oRz9SU1NT+99QAAAAAFGNgB5DfPWb5av4Z+BH/eaQPJ/T6dRll12mRYsWyefz+et/+ctf5PF4dPHFF2vr1q0688wzdd5552nNmjV64YUX9OGHH+rGG2+UJL366qsqKCjwj4zv3Lmzw8+/e/du/f3vf9e4ceP8tcbGRh1zzDF64403tG7dOl199dW64oor9PHHH/sf87Of/Uz333+/br/9dm3YsEGLFi1S7969A9p3u926+OKLtX79ev373/9WUVFRh/v27rvvauPGjXrnnXf0pz/9SX/96191zz33dPjrAQAAAEQfAnosadgi7VsS+NGwJWRPecUVV2jr1q1avny5v/b888/rvPPOU3p6uu677z5dcskluummmzR48GAdf/zx+t3vfqc//elPamxsVK9eveRwOPwj43l5ee0+3+23366MjAylpqaqX79+stlseuCBB/zX8/PzNWfOHI0ePVoDBgzQ9ddfrylTpugvf/mLJKm2tlaPPPKIFixYoFmzZmngwIE64YQTdNVVV7V5nrq6Op199tmqqKjQO++8o5ycnE59X+Lj4/XUU0/pyCOP1LRp03THHXfo0Ucfldfr7VQ7AAAAAKIHAR0hNXToUE2YMEHPPvusJGnLli364IMPdOWVV0qSf4Q6IyPD/zF9+nR5vV59/fXXnX6+H//4x/r000+1Zs0avf3225Kks88+Wx6PR9KhKem/+tWvNHr0aPXu3VsZGRl6++23/SPzX375pdxut0499dR2n+d73/ue6uvr9c9//lPp6emd7ufIkSOVlJTk//y4445TXV1dp2YIAAAAAIguBHSE3OzZs/X666+rtrZWzz//vAYOHKiJEydKkurr6/X9739fn376qf9j9erV+vLLLzVw4MBOP1dWVpYGDRqkwYMH65RTTtFvf/tbrVixQu+9954k6be//a0eeeQR3XbbbfrXv/6lTz/9VKeffrp//XdiYmKHnueMM87QZ599ppUrV7ap2+32NtP5JamlpaXTrwMAAABA7CGgI+Rmzpwpu92uP//5z/rTn/6kK664QjabTZI0evRoffnllxo0aFDAR3x8vKRD08G7OvXb4XBIkg4ePChJ+uijj3TWWWfpu9/9rkaNGqUBAwZo8+Zv1+APHjxYiYmJevfdd9tt99prr9WvfvUrnXfeeW2m72dnZ6u8vLxNSDc6M33Dhg3+PknSqlWrlJKSosLCwi69TgAAAACRj4COkEtJSdHMmTP185//XHv27NGsWbP812677TatWLFCN954o9atW6fNmzfrb3/7m3+TOEkqLi7W+++/r927d2vfvn3tPlddXZ3Kysq0Z88effzxx5o7d65ycnI0YcIESYfOSl+6dKk++ugjffnll/rhD3+o8vJy/9cnJCTotttu07x58/R///d/2rp1q1auXKlnnnkm4Lmuv/563XXXXTrnnHP0wQcfSJJOOukkVVRU6IEHHtDWrVv12GOP6a233gr42qamJl1zzTX64osv9M9//lN33323fvSjH8lu548kAAAAEKtIA7EkaZCUfUbgR9Kgw39tN82ePVsHDhzQ6aefrr59+/rrI0eO1NKlS7V582adcsopGjdunO688842j7njjju0fft2DRkyRH369Gn3ee68804VFhaqqKhI5557rpKTk/WPf/xDWVlZkg5tInf00Udr+vTpmjx5svLy8nT22We3aeNnP/uZbrnlFt1111066qij9N3vflcVFRWGz3fTTTdp/vz5Ovvss/XRRx9p2LBheuSRR/T4449rzJgx+uSTTzRnzpyArzv11FM1aNAgnXrqqbr00kt15plnav78+R3+fgIAAACIPjbf/y6YRdjU1NQoPT1dpaWlSktLa3OtqalJFRUVKi4uVkJCQph6CDNceeWVqq6u1muvvdatdhobG1VaWqqcnBz/cgAAQHB79uwJafvDhg0LafsAoldz6Xo1l64PqMcVj1Jc8aiQPW9r/qiurg7IHwgPZ7g7AAAAAACxrHHN33Vw5V8C6onHXRDSgA7rIaADAAAAQBh5KnfJW1dpWEdsIaADPcxowzkAAAAAYJM4AAAAAAAsgIAOAAAAAIAFMMUdAAAAAMLIkVUge0qWYR2xhYAOAAAAAGGUcMyZcmQVBtTZwT32ENABAAAARLRwnSNulkjpJ0KPgA4AAAAgojWXrlfD8kUB9aSJswi+iChsEgcAAAAAgAUQ0BEy5557rqZPn2547YMPPlBcXJw2bNhw2HYGDRqkhx9++LCPW79+vc477zz17dtXKSkpGjRokC699FLt3btXkrRs2TLFxcWpqqqqU68jmOeff17Z2dmmtAUAAAAABHSEzOzZs/XOO+9o165dAdeee+45jRkzRiNHjjTluSoqKjRlyhRlZmZq8eLF+uyzz/THP/5Rffr0UX19vSnP8d+am5tNa8vj8cjr9ZrWHgAAAIDIREBHyEyfPl05OTlatKjteqC6ujq99tprmj17tqRDo+knn3yyUlNT1b9/f918883+UD1p0iSVlpbq1ltvVVxcnOLi4gyf66OPPlJ1dbX+8Ic/6Oijj1b//v118skn67e//a369++v7du3a/LkyZKknJwcxcXF6corr5QkvfXWWzrppJOUnZ2t3NxcnXPOOdq6dau/7e3btysuLk6vvPKKTj31VKWkpOjFF1/U1Vdfrerqan+/7r77bkmS2+3WT37yExUXFys9PV3HH3+8li1b5m+vdeT9zTff1MiRI5WcnKwdO3aY9F0HAAAAEKnYJC6GNJeuV8uOwCnlzqKRIdk8w+l06rLLLtOiRYs0b9482Ww2SdJf/vIXeTweXXzxxdq6davOPPNM3XXXXXrqqadUUVGhm266STfeeKOefvppvfrqqxozZoyuvvpqXXXVVUGfKzc3Vy0tLfrrX/+qGTNm+J+rVWFhoV555RVdeOGF+vzzz5WWlqbExERJUn19vW6++WYdddRRqqur01133aULLrhAq1evlt3+7T2sn/3sZ7r//vs1evRo2e12/fa3v9Vdd92lzz//XJKUkpIiSbrxxhv15Zdf6oUXXlCfPn30xhtvaPr06Vq7dq0GDx4sSWpoaNBvfvMbPfHEE8rKylLv3r3N+8YDAADEmLjiUUqaOMuwDkQSAnoMadmxQY0f/CmgnnDCZSH7y+uKK67Qb3/7Wy1fvlwnnXSSpEMjyOedd57S09N122236ZJLLtFNN90kSRo8eLB+97vfadKkSVq4cKF69eolh8OhlJQU5eXlBX2e4447TnPnztX3vvc9XXfddRo3bpxOOeUUXXbZZcrNzZXD4VCvXr0kSb1791ZGRob/a88///w2bT311FPq06ePvvjiC40YMcJfv+GGG3Teeef5P09PT5fNZmvTrx07duj555/Xtm3b1LdvX0nSnDlz9NZbb+n555/XL3/5S0mHpsg/8sgjGjWKfzQAINy8Xq927NihvLw8JSQkhLs7ALqAY8oQLZjijpAaOnSoJkyYoGeffVaStGXLFn3wwQf+6eUbNmzQokWLlJGR4f+YPn26vF6vvv7660491z333KNdu3Zp4cKFGj58uP7whz9oxIgR+uyzz9r9us2bN+uyyy7TEUccoV69emnQoEGSpJ07d7Z53JgxYw7bh5KSEnk8Hg0fPrzNa1q+fLm2bdvmf1x8fLxp6+8BAN1jt9u1evVqeTyecHcFABDjGEFHyM2ePVs333yzHnnkET3//PMaOHCgJk6cKOnQ9PLvf//7uv766wO+rqioqNPPlZWVpQsuuEAXXHCBfvnLX2rcuHF68MEH/TcIjJx33nkqKirSE088oT59+sjr9Wr06NFqampq87jk5OTDPn9dXZ0cDodWrVolh8PR5lrrFHhJSkxMDJiGDwAIn169eqmqqqpDf9cDABAqBHSE3MyZMzVnzhz9+c9/1p/+9Cdde+21/nA6evRoffnll/5RayPx8fFd2uU8Pj5eAwYMUENDgyT5N5j77xGSyspKbdq0SU888YROOOEESYc2reto+/872jJ69Gh5PB5VVFT42wMAWN+gQYO0bt06NTQ0KDMzU05n21+R/ntpFAAAoUJAR8ilpKRo5syZ+vnPf66amhrNmvXtBh633XabTjjhBN1444268sorlZycrC+//FLvvPOOfv/730uSiouL9f777+vCCy+Uy+UyPHt88eLFevnll3XRRRdp8ODB8vl8Wrx4sf75z3/qj3/8o78dm82mxYsXa+rUqUpMTFRmZqaysrL01FNPKS8vTzt37tTtt9/eoddVXFysuro6vfvuuxo5cqSSkpJ0xBFH6JJLLtHs2bP9G8pVVFTo3//+t4466ihNmzbNhO8oAMBsK1askCStXbvWX7PZbPL5fLLZbJo5c2a4ugYAiCEE9BjiLBqphBMuM6yH2uzZs/Xss89q6tSp/s3TJGnkyJFaunSp5s+fr1NOOUU+n08DBgzQhRde6H/MHXfcoR/96EcaMmSI3G634Rnkw4YNU1JSkn7yk59o586dcrlcGjRokJ588klddtmh15yfn6877rhDP/vZz3T11Vfrsssu0zPPPKMXXnhBt9xyi0aPHq0jjjhCDz30kCZNmnTY13T88cfrmmuu0aWXXqrKykr94he/0Pz58/X000/r17/+tX7yk59o9+7dys7O1vjx4wnnAGBh06dPD3cXAACQzefz+cLdCRxSU1Oj9PR0lZaWKi0trc21pqYmVVRUqLi4mB1mIUlqbGxUaWmpcnJyFB8fH+7uAIDl7dmzJ6TtDxs2LKTtA4DZWvNHdXV1QP5AeDCCDgAA8B/V1dVqaGgI2PskPz8/TD0CYAXNpevVXLo+oM7xbjAbAR0AAMS8uro6ffjhh6qurvavPZfk39SUNehAbGsuXa+G5YsC6kkTZxHQYSrOQQcAADFv7dq1Sk5O1jnnnCOHw6EzzjhDp5xyijIzM3XyySeHu3sAgBhBQAcAADGvsrJSI0aMkMvl8o+a5+Tk6KijjmqzszsAAKFEQAcAADHP5/P5zz6Pj49XY2OjJCk5OVm1tbXh7BoAIIawBj3CsOk+WvGzAADmad3FOCUlRVlZWdq4caPsdru2bt2q5OTkcHcPABAjCOgRwul0yufz6eDBg0pMTAx3d2ABBw8ebDPiAwDouuHDh6ulpUWSdOSRR+qDDz7Qu+++K5fLpeOOOy7MvQMQbnHFo5Q0cZZhHTATv9lHCLvdruTkZFVUVEiSEhMT/WvkEFtab9RUVFQoOTlZdjsrVQCgu/Ly8vz/nZqaqqlTp8rtdis+Pp5/bwFwnBp6DAE9gmRkZEiS9u7dyy8LMc7n8yk5Odn/MwEAMEdtba3q6+uVnZ0tl8vFciIAQI8ioEcQm82mzMxMpaen+6fhITY5nU5GzgHARG63WytWrPDfBJ86dapSUlL0ySefKD4+XqNHjw53FwEAMYCAHoHsdrvi4+PD3Q0AAKLGunXrZLfbdeaZZ2rJkiX+elFRkdatWxe+jgEAYgpDcAAAIOaVl5dr5MiRSkpKalNPSUlRQ0NDmHoFAIg1BHQAABDzWlpa5HA4AupNTU0sKQIA9Bj+xQEAADEvOztb27dvb1Pz+XzauHGjevfuHZ5OAQBiDmvQAQBAzBs1apTee+89HThwQF6vVxs2bFBNTY2ampp06qmnhrt7AIAYQUAHAAAxLz09XVOnTtWWLVvkdDrV0tKi/Px8DRo0SImJiSF97r179zJKDwCQREAHAACQJMXHx2v48OE98lxut1slJSVas2aN9uzZo/nz5/fI8wIArI2ADgAAYt7f//539e/fX/379w/Yyd1MpaWlWrt2rb744gulpqZq2LBhmjZtWsieD0BkaC5dr+bS9QH1uOJRiiseFYYeIVwI6AAAIOYdccQR2r59u7744gv17t1b/fv3V35+vuHO7p1VV1endevWae3atXK73Ro+fLg8Ho8uvvhi5eTkmNB7AJGuuXS9GpYvCqgnTZxFQI8x7OLeBffee69sNptuvvlmf62xsVHXXXedsrKylJKSohkzZqi8vDx8nQQAAB12xBFH6PTTT9fkyZOVmpqqtWvX6s0339SaNWt04MCBLrf75z//WY8++qjKy8s1ZcoUzZkzhxFzAEBQjKB30ieffKInn3xSI0eObFO/5ZZbtHjxYr366qtKT0/X9ddfr/PPP18ffvhhmHoKAAA6KzMzU5mZmRo9erS2bNmiDRs2aOvWrUpPT9egQYPUv39/2Wy2Dre3efNmjR8/XmPHjlVWVlYIew4AiAYE9E6oq6vTd7/7XT311FP65S9/6a9XV1fr6aef1osvvug/iuXZZ5/VsGHDtHLlSh133HHh6jIAAOgEr9er3bt36+uvv1Z5ebmysrLUv39/NTQ0qKSkRHv37u3Uv+tXXnml1qxZoz/84Q/KycnRyJEjNWLEiBC+AgChwBpx9BQCeidcd911mj59uiZPntwmoK9evVrNzc2aPHmyvzZ06FAVFRVpxYoVBHQAACzuwIED+vrrr7Vjxw7ZbDYVFxdr9OjRSktL8z+moKBA77zzTqfaLSgoUEFBgc444wx9/vnnWrt2rd566y35fD5t3bpVaWlpcrlcZr8cACZjjTh6CgG9g1566SWtWbNGn3zyScC1srIyxcfHKyMjo009NzdXZWVlQdt0u91yu93+z2tqakzrLwAA6Lh33nlHubm5GjNmjPLz82W3B27Tk5ycrMLCwi61Hx8fr6OPPlpHH3209u3bp7Vr1+rDDz/U0qVLNWDAAF1yySXdfQkAIlhc8SglTZxlWEdsIaB3wM6dO3XTTTfpX//6lxISEkxrd8GCBbrrrrtMaw8AAHTNtGnTlJyc3O5jnE6njj322G4/V3Z2tk477TRNmjRJX331ldauXdvtNgFENqbKoxW7uHfA6tWrtXfvXh1zzDFyOp1yOp1atmyZfv/738vpdCo3N1dNTU2qqqpq83Xl5eXKy8sL2u68efNUXV3t/9i5c2eIXwkAADByuHAeCna7XUOHDmX0HADgxwh6B0yaNEmfffZZm9rs2bM1dOhQ/fSnP1VhYaHi4uK0dOlSzZgxQ5K0adMm7dixQxMmTAjarsvlYt0ZAABR7uuvv9aePXtUUFCgoqIiffrpp3r//ffV0tKiIUOGaOrUqYqLiwt3NwEAFkBA74DU1NSAHVeTk5OVlZXlr1911VWaM2eOevXqpbS0NN1www2aMGECG8QBABDDVq9ercWLFyszM1PvvvuuTjrpJL3//vsaOXKkbDabPvvsMyUlJbXZaBaA9bBGHD2FgG6S3/3ud7Lb7ZoxY4bcbremTJmixx57LNzdAgAAYbRq1SpNmTJF48eP15YtW/TnP/9ZZ511lkaPHi1J6tevn5YuXUpAB7op1MegsUYcPYWA3kXvvfdem88TEhK0cOFCLVy4MDwdAgAAlnPgwAENGTJEkjRo0CBJUn5+vv96QUEBp7gAJuAYNEQLAjoAAIhJ69at6/BjW0e8O6ulpaXN+vLWzWZbORwOeb3eLrUNAIg+BHQAABCTDhw40Obzqqoqeb1epaamSpLq6upks9mUmZnZ5eew2Wxyu91yOp3y+XySpKamJrndbkny/z8AABIBHQAAxKhTTjnF/9+bNm1SXFycjj32WMXHx0s6FKQ//vhj5eTkdPk5fD6fHn300TafP/nkk20+t9lsXW4fABBdCOgAACDmffXVV5o4caI/nEtSfHy8jjrqKC1btsy/jryzLr/8crO6CACIAQR0AAAQ85qbmw2nm7vdbrW0tHS53X79+nWjVwA6imPQEC0I6AAAIObl5+frk08+0ahRo9SrVy9J0v79+7V+/fo2u653Vm1trVasWKGTTjpJLperzbXGxkYtX75cxx9/vFJSUrrVfyDWcQwaogUBHQAAxLwxY8Zo/fr1WrlypX8zN5vNpv79+2vUqK7/0r9ixQq53e6AcC4dOqK1qalJK1as0Gmnndbl5wAARA8COgAAiHlOp1NjxozRqFGjVFdXJ0lKSUlpcyRaV2zZskVnnnlm0OujRo3Sm2++SUAHAEiS7OHuAAAAgFUcPHhQjY2N/nDeOpreVVVVVUpPTw96PS0tTVVVVd16DgBA9GAEHQAAxDy3260VK1Zo7969stlsmjp1qlJSUvTJJ58oPj5eo0eP7lK7Tqez3ZBeVVXV7VF6AED0YAQdAADEvHXr1slut+vMM8+Uw+Hw14uKilRWVtbldgsKCrR+/fqg17u7CR0AILoQ0AEAQMwrLy/XyJEjlZSU1KaekpKihoaGLrc7YcIErVu3Tm+//bZ/bbsk1dXV6a233tK6det0/PHHd7l9AEB0YU4VAACIeS0tLW1Gzls1NTXJbu/6eEb//v01bdo0LVmyRCtXrvTv5u52u2W32zV16lT179+/y+0DAKILAR0AAMS87Oxsbd++XUcddZS/5vP5tHHjRvXu3btbbY8dO1ZHHHGEPv/8c+3fv1+SlJWVpeHDhystLa1bbQMAogsBHQAAxLxRo0bpvffe04EDB+T1erVhwwbV1NSoqalJp556arfbT0tL04QJE0zoKQAgmhHQAQBAzEtPT9fUqVO1ZcsWOZ1OtbS0KD8/X4MGDVJiYmK4uwcAiBEEdAAAAEnx8fEaPnx4uLsBAIhhBHQAAAAd2hBu27Ztqq2tlXRoWnq/fv38G7sBABBqBHQAABDzKioq9MEHHyguLk6ZmZmSpM2bN+uLL77QCSecoJycnDD3EAAQCwjoAAAg5q1Zs0aFhYU65phj/Meqeb1erVmzRmvWrNGUKVPC3EMAQCzo+sGeAAAAUaKurk5HHHFEmzPP7Xa7jjjiCNXV1YXsecvKynT33XeHrH0AQGQhoAMAgJiXkZHhX3v+32pra5Wenh7S5/b5fCFtHwAQOZjiDgAAYt7gwYO1du1a1dbWKisrS5JUWVmprVu36qijjlJVVZX/sRkZGR1u9+WXX273utvtls1m60qXAQBRiIAOAABi3sqVKyVJGzZsMLxms9nk8/lks9k0c+bMDrf71VdfacCAAUpJSTG8zug5AOC/EdABAEDMmz59ekjazc7O1rBhw3TMMccYXi8rK9NXX30VkucGAEQeAjoAAIh5ycnJIWm3b9++2rNnT9DrDocj5GvcAQCRg4AOAAAgqaamRlu2bFFNTY0kKS0tTYMGDVJaWlqX25w+fXq709hzcnJ00003dbl9IBI0l65Xc+n6gHpc8SjFFY8KQ4+sh+8RWhHQAQBAzNu1a5dWrFihXr16tdkk7q233tKECRNUUFDQpXadTn7VAppL16th+aKAetLEWYTP/+B7hFb8qwEAAGLe+vXrNWzYMI0YMaJNvaSkROvXr+9yQD8cr9fbI0e5AQAiA+egAwCAmNfY2Kji4uKAenFxsRobG0P2vHv37tXDDz8csvYBAJGFgA4AAGJeTk6O9u3bF1Dft2+fsrOzw9AjAEAsYoo7AACIeX379tWGDRt04MCBNmvQd+7cqSOPPFK7d+/2PzY/P7/D7T755JPtXm9paelahwEAUYmADgAAYt6aNWskSVu2bNGWLVsMr0mSzWbTzJkzO9xuRUWFRowYoYyMDMPrdXV1qqys7HyHgQgSVzxKSRNnGdZxCN8jtCKgAwCAmHfhhReGpN3evXsrPz9f48aNM7xeVlbW5gYAgNjEcWpoRUAHAAAIkcLCwnZHyOPj4w03pwOiCUeIAR1HQAcAANCh9eAVFRWqr6+X1+ttc+2II47oUptTp05t93qvXr10+eWXd6ltAED0IaADAICYd+DAAb3//vvyeDxqaWlRfHy83G63nE6nXC5XlwM6AACdQUAHAAAxb926derbt6/GjBmj119/XZMmTZLdbteqVas0ePDgbre/e/du7dy5U3V1dZKklJQUFRYWdmpHeCBUmkvXq7l0fUDdrHXRnsqd8tYGLvXwVO7sdttAtCGgAwCAmFdVVaUxY8bIZrPJZrPJ6/UqJSVFI0eO1Mcff6yCgoIutVtfX69XXnlFO3bsUHp6ulJSUiQd2r39rbfeUlFRkS688EIlJyeb+XKATgn1GnFP5S5564wC+q5utw1EGwI6AACIeXa7XTabTZLkcrnU0NCgtLQ0xcXFqaGhocvtLl68WF6vV9ddd52ys7PbXNu3b5/+9re/6R//+Eenjm4DIo0jq0D2lCzDOoC2COgAACDmZWRkaP/+/UpNTVVOTo5KSkrkdrtVWlqq9PT0Lre7detWXXHFFQHhXJKys7N1xhln6Pnnn+9O1wHLc2QVyp5qFNALTXuOUE/TB3oKAR0AAMS8o446Si0tLf7//vjjj7V69WqlpqZq7NixXW7X4XDI7XYHvd7U1CSHw9Hl9gEcwlFuiBYEdAAAEPN69erl/++EhARNnDjRlHaPPPJI/fWvf9WUKVM0YMAAuVwuSZLb7da2bdv09ttva8SIEaY8FwAg8hHQAQBAzKurq5PP51Nqamqbem1trex2e5c3cZsyZYp8Pp9ee+01eb1e/2i5x+OR3W7X0UcfrdNPP73b/Qe6I654lJImzjKsR0L7QDQhoAMAgJj3ySefqH///gEBff/+/dq2bZtOOeWULrXrdDp15pln6rTTTtM333zT5pi1vn37+kfUgXAK9Tpt1oEDHUdABwAAMe/AgQOGa8179eqlNWvWdLt9l8ul/v37d7sdAEB0I6ADAICYZ7PZ/JvE/bfm5mb5fL5utd3c3Kw9e/YoMTFROTk5ba61tLTo888/16hRjC4C3cE0ekQLAjoAAIh52dnZ+vLLL3XcccfJbrdLkrxerzZu3Gh4RFpHVVZW6v/+7/9UXV0tm82moqIizZgxwz+VvrGxUW+88QYBHVGtJ45AYxo9ogUBHQAAxLyRI0fq3//+t5YsWeIP5Pv27VNzc7NOPvnkLrf7zjvvqHfv3rrmmmvU2NioJUuW6JlnntEVV1zRrfPVgUjCEWhAx9nD3QEAAIBwS09P15QpU1RQUCC3262WlhYVFxfrjDPO6FaQ3rlzpyZNmqSkpCT16tVLl1xyiQYOHKhnn31WBw4cMPEVAACiASPoAAAAkhITEzVy5EhT22xubvZPmZcOrXU/88wz9Y9//EPPPfeczj//fFOfDwAQ2QjoAAAAkpqamrR//3653e6AjeH69evXpTazs7P1zTffBGwON23aNEnSSy+91KV2AbTVE+vcgZ5AQAcAADHvm2++0cqVK9XS0qK4uLg212w2W5cD+tChQ1VSUmK4Cdy0adPk8/n06aefdqltAN9inTuiBQEdAADEvHXr1ql///466qij5HSa9+vRiSee2O716dOna/r06aY9H2BFHIEGdBwBHQAAxLyDBw9q8ODBpoZzAIcwzRzoOHZxBwAAMS8vL49d1QEAYcdtYgAAEPP69Omj9evXq7q6WhkZGbLZbG2u5+fnh6lnAIBYQkAHAAAxr3Wjti+++CLgms1m08yZM3u6SwA6gXXuiBYEdAAAEPMuvPDCcHcBQDewzh3RgjXoAAAAAABYAAG9gx5//HGNHDlSaWlpSktL04QJE/TPf/7Tf72xsVHXXXedsrKylJKSohkzZqi8vDyMPQYAAB31+eeft/sBAEBPYIp7BxUUFOjee+/V4MGD5fP59Pzzz+ucc87R2rVrdeSRR+qWW27R4sWL9eqrryo9PV3XX3+9zj//fH344Yfh7joAADiM3bt3t/nc6/Wqvr5edrtdycnJOvLII8PUMyD0mkvXq7l0fUCdaeNAz7P5fD5fuDsRqXr16qXf/OY3uuCCC5STk6MXX3xRF1xwgSRp48aNGjZsmFasWKHjjjuuQ+3V1NQoPT1dpaWlSktLC2XXAQCIOXv27OnU45ubm/Xxxx8rPz9f/fr1O+zjhw0b1sWeAeHVsHyRGpYvCqgnTZxluPEaokdr/qiuriZ/WART3LvA4/HopZdeUn19vSZMmKDVq1erublZkydP9j9m6NChKioq0ooVK4K243a7VVNT0+YDAABYQ1xcnI488kiVlJSEuysAgBhBQO+Ezz77TCkpKXK5XPrBD36g119/XcOHD1dZWZni4+OVkZHR5vG5ubkqKysL2t6CBQuUnp7u/ygsLAzxKwAAAJ3R3Nys5ubmcHcDABAjWIPeCUOGDNG6detUXV2tv/zlL7r88su1bNmyLrc3b948zZkzx/95TU0NIR0AgDD46quvAmqNjY0qLS1Vnz59wtAjAJ3BOnpECwJ6J8THx2vQoEGSpDFjxuiTTz7Rww8/rIsuukhNTU2qqqpqM4peXl6uvLy8oO25XC65XK5QdxsAABzG5s2bA2oul0vFxcWsLQciQHPp+qDr6AnoiCQE9G7wer1yu90aM2aM4uLitHTpUs2YMUOStGnTJu3YsUMTJkwIcy8BAMDhTJ8+PdxdAMImrniU4WZwBFug5xHQO2jevHmaOnWqioqKVFtbqxdffFHvvfee3nrrLaWnp+uqq67SnDlz1KtXL6WlpemGG27QhAkTOryDOwAAABAOTAMHrIOA3kF79+7VrFmztGfPHqWnp2vkyJF66623dNppp0mSfve738lut2vGjBlyu92aMmWKHnvssTD3GgAAAAAQKQjoHfT000+3ez0hIUELFy7UwoULe6hHAAAAAIBoQkAHAAAAENFYR49oQUAHAAAAENFYR49oYQ93BwAAAAAAAAEdAAAAAABLYIo7AAAAEMOaS9eruXR9QN2saeOhbh+IJgR0AAAAIIY1l65Xw/JFAfWkibNMC+ihbB+IJkxxBwAAAADAAgjoAAAAAABYAFPcAQAAgBjmqdwpb22lYR1AzyKgAwAAADHMU7lL3jqjgL4rDL0BYlvUB3S3261Vq1aptLRUDQ0NysnJ0dFHH63+/fuHu2sAAABA2DmyCmRPyTKsmyGueJSSJs4yrANoK2oD+ocffqiHH35Yb775ppqbm5Wenq7ExETt379fbrdbAwYM0DXXXKMf/OAHSk1NDXd3AQAAgLBwZBXKnmoU0AtNaZ/j1ICOi8pN4s4++2xddNFF6tevn95++23V1taqsrJSu3btUkNDgzZv3qyf//znWrp0qY444gj961//CneXAQAAAAAxLipH0KdPn67XXntNcXFxhtcHDBigAQMG6PLLL9cXX3yhPXv29HAPAQAAAABoKyoD+rXXXtvhxw4fPlzDhw8PYW8AAAAA62KNOGAdURnQAQAAAHQMa8QB64jagD5gwIAOPW7btm0h7gkAAAAAAIcXtQF9+/btKi4u1qWXXqrevXuHuzsAAAAAALQragP6yy+/rGeeeUYPPvigpk6dqiuvvFLTpk2T3R6VG9cDAAAAACJc1KbVmTNn6p///Ke2bNmiMWPG6JZbblFhYaHmzp2rzZs3h7t7AAAAAAC0EbUBvVV+fr5+9rOfafPmzXrxxRe1atUqDR06VAcOHAh31wAAAAAA8IvaKe7/rbGxUX/5y1/0zDPPaNWqVZo5c6aSkpLC3S0AAAAAAPyiOqCvWrVKTz/9tF555RUNGDBAV155pV577TVlZmaGu2sAAAAAALQRtQH9yCOP1N69e3XppZdq2bJlGjWKsx0BAAAAANZl8/l8vnB3IhTsdruSk5PldDpls9mCPm7//v092Kv21dTUKD09XaWlpUpLSwt3dwAAiCp79uwJafvDhg0LafsAYLbW/FFdXU3+sIioHUF/9tlnw90FAAAAoNuaS9eruXR9QD2ueJTiirs/SzTU7feE2r//Vu4NbwfUXSNPV+qZP+52+9HwPUJkiNqAfvnll4e7CwAAAEC3NZeuV8PyRQH1pImzTAvooWy/J7g3vK3m7WsNr5kV0CP9e4TIEPXHrAEAAAAAEAmidgT9cNavX69jjjlGHo8n3F0BAABABGP6MwCzxGxAl6Qo3R8PAAAAPYjpzwDMErUB/fzzz2/3enV1dbu7uwMAAAAA0JOiNqC/+eabOu2005Sbm2t4nantAAAAMIOncqe8tZWGdTPEFY9S0sRZhvVIaL8nuEae3ql6Z0XD9wiRIWoD+rBhwzRjxgxdddVVhtfXrVunv//97z3cKwAAAEQbT+UueeuMAvouU9oP9Vr2aFgrn3rmj03ZrT2YaPgeITJEbUAfM2aM1qxZEzSgu1wuFRUV9XCvAAAAgM5hEzogdkRtQH/iiSfancY+bNgwff311z3YIwAAAEQjR1aB7ClZhnUzsAkdEDuiNqC7XK5wdwEAAAAxwJFVKHuqUUAvDENvAESyqA3owXi9XpWWlqqoqEgOhyPc3QEAAADCiin0gHVEdUB//fXX1dzcrAsvvFCStG3bNp166qnasWOHcnJytHjxYo0dOzbMvQQAAEAki/QdvplCD1hHVAf03/zmN7ruuuv8n//iF7/QsGHD9Pe//10PP/yw5syZo+XLl4exhwAAAIh0jDQDMEtUBvQdO3bI5/Npy5YtyszM9H++ZMkS/eEPf1BaWpquueYaTZ48WTt27JAkdnQHAACAJUXDCD1T6IGOicqA/uyzz0qSGhoa9M9//lOffPKJdu3aJbfbrc8//1wlJSXyer06ePCgnnvuOUnS/Pnzw9hjAAAAwFikB1mm0AMdF5UB/Y477pAkvfnmm8rKytIdd9yh2267TRMnTvQH8a+//lrPPPMMwRwAAAAAYAlRGdBb/fSnP9Wll16qe++9V3a7Xf/617/819544w2dcMIJYewdAAAAEH6RPoUeiCZRHdBnzpyp0aNHa8OGDRozZoz69evnvzZs2DBNnTo1fJ0DAAAALCDSp9AD0SQqA/qOHTv8m74NHjxYgwcPDnjMlClT/P+9e/du5efn91j/AAAAAAD4X1EZ0MeNG6dzzz1XV199tcaNG2f4mOrqar3yyit6+OGHdc011+jGG2/s4V4CAAAgGrBLefuYQg90XFQG9C+++EK/+tWvdNpppykhIUFjxoxR3759lZCQoAMHDuiLL77Q559/rmOOOUb333+/pk2bFu4uAwAAWBLh8/DYpRyAWaIyoGdlZenBBx/Ur371Ky1evFgffPCBSktLdfDgQWVnZ+u73/2upkyZohEjRoS7qwAAAJYW6eHz4MpX5S55N6DuGnGqEo+bGYYexZ5I/xkCelJUBvRWiYmJuuCCC3TBBReEuysAAAAIA3fJu2pcu9jwGgEdgNXYw90BAAAAAABAQAcAAAAAwBKieoo7AAAAEGrsUg7ALAR0AAAABEX4PDx2tG8fP0NAxxHQAQAAEFSkh09H3iA584cZ1s3CUXTt64nvA+8BogUBHQAAAFHLkZYjeT3GdZNwjFj48R4gWhDQAQAAEFSkj0w2bftULRWlhnWjadcAEE4EdAAAAAQV6SOTLd9sku9gtWEdAKyGgA4AAAB0g6dyp7y1lYZ1AOgMAjoAAADQDZ7KXfLWGQX0XWHoDYBIZg93ByLFggULNG7cOKWmpqp3794699xztWlT26lRjY2Nuu6665SVlaWUlBTNmDFD5eXlYeoxAAAA7MmZkt0Z8GFPzjTtORxZBbKnZAV8OLIKTHsOtK/1KLf//YiEZRjAf2MEvYOWLVum6667TuPGjVNLS4tuv/12nX766friiy+UnJwsSbrlllu0ePFivfrqq0pPT9f111+v888/Xx9++GGYew8AAKJVqDdxi/Tp2/bkTNkcgb/ymhvQC2VPzTKsR4JI3whQiqy+Au0hoHfQkiVL2nz+3HPPqXfv3lq9erUmTpyo6upqPf3003rxxRd16qmnSpKeffZZDRs2TCtXrtRxxx0Xjm4DAIAoF+mbuIWaa8Spnap3RaTfxOBnCLAOAnoXVVcf2g20V69ekqTVq1erublZkydP9j9m6NChKioq0ooVKwwDutvtltvt9n9eU1MT4l4DAAB0TqSPDiceN1OJx80M6XOwBh2AWViD3gVer1c333yzvvOd72jEiBGSpLKyMsXHxysjI6PNY3Nzc1VWVmbYzoIFC5Senu7/KCyMjH/oAAAA8C3WoAMwCwG9C6677jqVlJTopZde6lY78+bNU3V1tf9j587ImAYFAACAb7XOMvjfj0iZZQDAOpji3knXX3+9/v73v2v58uUqKPj2rmheXp6amppUVVXVZhS9vLxceXl5hm25XC65XK5QdxkAAAAAEAEI6B3k8/l0ww036PXXX9d7772n/v37t7k+ZswYxcXFaenSpZoxY4YkadOmTdqxY4cmTJgQji4DAIAYYItPlDNvsGHdDK3HVxnVI0E07FAeapH+HgPRhIDeQdddd51efPFFvfHGG0pNTfWvK09PT1diYqLS09N11VVXac6cOerVq5fS0tJ0ww03aMKECezgDgAAQsbXdFAtZZsD6vFHmDNAEOogG+oA3RM7lEd6wOVmBWAdBPQOevzxxyVJJ598cpv6s88+qyuuuEKS9Lvf/U52u10zZsyQ2+3WlClT9Nhjj/VwTwEAACJHNBzxRcAFYBYCegf5fL7DPiYhIUELFy7UwoULe6BHAAAAAIBowi7uAAAAAABYAAEdAAAAAAALYIo7AABABIv0DcpCje8PgEhCQAcAAIhgkb5BWagDdKR/fwDEFgI6AACIWY7yTXKUbwqoe3KHyJM7pNvtR8MZ3NHwGkKt9u+/lXvD2wF118jTlXrmj8PQo87hPQasg4AOAABilqN8k+I/ezOg3iSZFtAj/QixUL+GaPgeuTe8rebtaw2vRUpAj/T3AIgWbBIHAAAAAIAFENABAAAAALAAprgDAAAA3eDzNHaqbjWeyp3y1lYa1gH0LAI6AAAA0B3eRsnnM65HAE/lLnnrjAL6rjD0BohtBHQAABCzPLlD1BSkboZoOIO7J45Bi/TvkWvIKKm5yrgeARxZBbKnZBnWAfQsAjoAAIhZZh2nFkw0HFMV6a+hJ44QSzn1XCWNiA+o23tPM6X9UHNkFcqeahTQC8PQGyC2EdABAAAQNhzjBgDfYhd3AAAAAAAsgBF0AAAAoBtsyYMNp7PbkgeHoTedFw37AADRgoAOAACAsImGI75syYMjJowbifR9BoBoQkAHAABA2HDEFwB8i4AOAEAQ3l0l8u4qCajbC0bIXjAiDD2KPbwH0S/UR3wxfRtAJCGgAwAQhHdXiVpWvRxQd0qEwx4S6vfAUb5JjvJNAXWzjl/riSO+0D6+1wAiCQEdAADELEf5JsV/9mZAvUkyLaBzxFf7mOIOAN/imDUAAAAAACyAEXQAAACETajXoPcEljIAMAsBHQAAIIJFejh0ZBXKnmoU0AvD0JuuYSkDALMQ0AEACMJeMMLwH0o2iOtBcYmy5wwwrOMQwiEQ+SL9RhvMQ0AHACAIjvKygOaD8lZsCyjbB4wzpXlP7hA1BambgSO+Do/v0eER3qIfN9rQioAOAABillnHqQVDgDo8vkeHR3gDYgcBHQAAALAwT+VOeWuNjqLbGYbeAAglAjoAAIhZjvJNcpRvCqiHemQd0SXU0/Q5Kx6IHQR0AADQZd5dJfLuKgmoR8r6fUf5JsV/9mZAvUnmrUMPNdZwhx/T9AGYhYAOAAC6zLurRC2rXg6oO2XSbvfs4n5YhEN0l69+s3z1mwPqtuTBsiUPDkOPYg832tCKgA4AAKwrxLu4A5HAkVUge4rRWfEFprTvq98s795/BNTtvacR0HsIN9rQioAOAAAAWJgjq1D2VKOAXhiG3gAIJQI6AAAAYGFMfwZiBwEdABCxIn2DMoSfJ3eImoLUAatg+nP4NZeuV3Pp+oC6We9NqNtH5CCgAwAiVsg3KMNh2QtGGP4yESnff45TA9ARzaXr1bB8UUA9aeIs0wJ6KNtH5CCgAwCALgv1bIVIvwEARAJb8mDZe08zrAPoWQR0AABgWSxXODymxqK7OE4NsA4COgAAQARjaiwARA97uDsAAAAAAAAYQQcARDDWJwMAekKoj7rjKD20IqADAAAY2O2p1m5PdUA935GufEd6GHoEIFxCvacDe0agFQEdABCxOGYNobTbU61PmnYEXogvIqADAEKCgA4AALrMu6tE3l0lAXV2X+85TI0FgOhBQAcAAF0W6lkM3AA4PKbGAkD0IKADAADLivRlDJxRDgDoDAI6AACIWY7yTXKUbwqoe3KHSJmJ3W6fM8rDj5skACIJAR0AELE4Zi362Zr3ydZSY1g3g6N8k+I/ezOg3iQpP/skKb4o4BobxEUWbpIAiCQEdABAxAr1OmR74zbZG7cF1L0JA+RNGBCy58W3bM0VsnlqDeuAVTBKD8AsBHQAAIKwN26Ts2ppQL0lQwT0/4jmWQwcs4aOYpQegFkI6AAAoMtCPYvB0adIjiP7B17oUyRfyJ4VAIDwIKADgEVxvBQQ+TijHIgOLGNATyGgA4BFRfrxUoAZPHt2qOXzrwPqzsQdsg8zof3cIWoKUjdDNPzyHunBhJskMAPLGNBTCOgAAESpcM/C2N64T9sbA3db75eQrX4J2R1qwxeXI58j1bBuBk/ukOBh3Gj9eQyK9GASKTcSAEAioAMAEJQ3YYBaMozrkSDcszC2N+7TsqrAM8aVoU4E9Gz5nGmG9VDLd6RzzBo6hFF6AGYhoAMAEATHqcW2fEc6YRwdwig9ALMQ0AEAAEIk0tdvAwB6FgEdAKwqLlH2HIPR27jEnu8LECaRfs56pK/fBnAIyxjQUwjoAGBVzQflrdgWULYPGBeGzlhTuDdBA2IBwQSRwFe/Wb76zQF1W/Jg2ZIHd7t9Zr2gpxDQAQARK9yboFlduEef+yVkSxlB6h3Eexx+BBNEAl/9Znn3/iOgbu89zZSADvQUAnoHLV++XL/5zW+0evVq7dmzR6+//rrOPfdc/3Wfz6c77rhDTz31lKqqqvSd73xHjz/+uAYP5i8EAEB4HG4mgRnHoLXHrHYAAIgV9nB3IFLU19dr1KhRWrhwoeH1+++/X7///e/1xBNPaNWqVUpOTtaUKVPU2NjYwz0FAKBjWo9B+98Po9AOAABCjxH0Dpo6daqmTp1qeM3n8+mhhx7Sz3/+c51zzjmSpEWLFik3N1d//etfdfHFF/dkVwEAEYI19NGP9dswQ6hPAwj1+u1ocHDlq3KXvBtQd404VYnHzQxDjxCtCOgm+Prrr1VWVqbJkyf7a+np6Ro/frxWrFhBQAfQJeFeP4zQY301gI4I9WkArN8+PHfJu2pcu9jwGgEdZiKgm6CsrEySlJub26aem5vrv2bE7XbL7Xb7P6+pqQlNBwFEJEZRD4+bGNEv0t9jjlkDeoYtebDsvacZ1oFIQkAPowULFuiuu+4KdzcAIGJxEyP6tfceh3qTOwCRg+n4iBYEdBPk5eVJksrLy9WnTx9/vby8XKNHjw76dfPmzdOcOXP8n9fU1KiwsDBk/QQA4L+ZcQxaOLVuchcgI3JeAwBIod9nAJGDgG6C/v37Ky8vT0uXLvUH8pqaGq1atUo//OEPg36dy+WSy+XqoV4CQPRhk7XuYaQZALpva325ttaXB9QHJudqYHKuwVcEYjkMWhHQO6iurk5btmzxf/71119r3bp16tWrl4qKinTzzTfrl7/8pQYPHqz+/fvrF7/4hfr27dvmrHQAgLkifZO1SF9fDaBnhPo0gGhfv21GgHaNODVofWt9ud7euyHg2um9R3a4faAVAb2DPv30U51yyin+z1unpl9++eV67rnn9JOf/ET19fW65pprVFVVpRNOOEFLlixRQkJCuLoMALA4RvqjH8eswQyhnuYc7eu3zQjQicfNDL5bu0HbQFcR0Dvo5JNPls/nC3rdZrPp7rvv1t13392DvQIAAFbG+lHg8MwY4W7vLPdQq3DXqKa5wbAOdBYBHQAARKRI3+QOwCFmjHC3d5a7VNDdLrarwl2jmpaDhnWgswjoAGBRbIAGtI9N7noGu0sD7attOSiPz2tY7yiWw6AVAR0ALCrUG6BFww0ANllDdznKN8lRHnhUmyd3iDy5Q8LQI+thd2ngcGydrAfihhdaEdABIEZF+g7oUnhvJmxv3KftjfsC6ozqRhZH+SbFf/ZmQL1JIqADUWJgcq5O7z3SsN5R7a1xT3UmyGGzB1xLdbJZNDqPgA4AQBDtzTLYnuLUsqrAkVdlsAYaQPQwYwO3cDOjr+2vcQfMQ0AHACAIz2dvqWXN3wLqzmPOliZMD0OPOqcnljFEw1KJSMcacYRST5zxbcYIt+wuKaHQuB5iOa40pTkTDetAZxHQAQAIwnfgG6l+v3E9AvTEMoZoWCoR6Vgjjkhnymi81y017jSoH9W9djsgx5WmtLgkwzrQWQR0ALAoNkADYAXsLg20z5QZAMB/ENABIEZxA6B7KpvrVOtpNKwjcnhyh6gpSB3Af874bm4wrHdUuJdhhHodfSStx4f1EdABwKKYOhwJfOHuALqJ49QOjyn0sa3CXaMag/O8OxvQw/kzZMY6elvyYMMN4WzJg7vdPyn8NzFgHQR0AIhR3AA4PFtmvmzJvQzrWXEpSnUEbgqUFZfSE10DAEmhHx02YwM0n7tcvuZqw3qksCUPNi2MGwn3TQxYBwEdAIAgHEedLltm34B6pNzA6IllDCyVCD/WiMe2UO+ybsYGaD73XqnFKKDv7Vbf/lu7I9z1gTMAAKsioAMADG1v3KftjfsC6v0SsmPmnO92jwqr2tiznemCnjjqjOPUwo8psOHnq98sX/3mgLotebC2KS3izxHvtpYayecxrpuk3RHu+sAbGFYTDbMMYA4COgDA0PbGfVpWtSnwQoYiIqBzgwEd4fLslMsTeDST21Eot8PgTGXAgK9+s7x7/xFQt/eepq0qCPk54lbna6k1DOi+ltow9MaaemKWASIDAR0ALCrapw6HOkCH+gZDv4RsKSNIHRHD5dmptKYVAfWaeJkS0NsbWQ3lelYzhXoKfTR8j9pjxi7o4WTGEWLOvFwlDAt8vDOvZ25QuOxOFSQE7ifishOFYD38VAKARYV66nC4bwBE+gg9I/HoiPZGVs0Kn6EOuKGeQt8T36NwMmMX9HAyYyp+XF6enK7ANmyZed1qt6Pc3hbtatwfUB/uLeiR5+8IZ06aEoYF7nnizOn4Wn9EBwI6AMQo1g4D0SHaA26ohXoX9FAzY4Q71Gyu3vI50w3rUuS/B2ZwZsXLYQ8M47bM+DD0BuFEQAeACMT6agAwR6h3QQ+1SAixNleubHFGAf1QvyP9PQDMREAHgAjUE9PDI2GNtXdXiby7SgLq9oIRUgr/xAE4PDPWiLd3xFeOu7zb54hHunaPQIOkw88yQOzgtxcAgKFIGI337ipRy6qXA+pOSf1GT7b8DQaEn9tRqBqDGaTs4B47zFgj3t56/5z6g90+R/zgylflLnk3oO4acaoSj5vZ4XaCCfU+Bj2x4V97ryESHG6WAWIHAR0AEDLtjXD3y84LaYCOhBsMCL9QH6fGyOHhRfv3yIw14u6Sd9W4drHhNbMCeqTvY9DeaxiYPMby6/SBVgR0AEDItDvCXTCCAH0Y7DUQeqE+B70nRg5DHXCjYXQ1nCJhjXi0i4T3INpvVKHjCOgAAIRJezMM7AUjIv4oukgQ6nPQD8eM3avbC7hmtB/q0dVwn4Oe40qz/BpxX0uNfD6PYT0SNG18U01blgfU4wdNVPzQsyJiJ/pQLzMAWhHQASACRcIGbji89mYYcARebAj17tWRsDt2uKdX57jSur1GPNR8LbWSYUCvDUNvOq9py3IdXPGG4bXWgG6Vn8dgWGaAnkJAB4AIxBTnQ+wFIwz/ISPcApGjeffXatq4NaAeP/RrmbGBdXPpejWXrg+oxxWPUlzxqIgYvQ0nzigHehYBHQAQsVqnggNWdbhwCKl593Y1lgQGdFvqdu06ovvhsLl0vRqWLwqoJ02c5Q/oVg+arsFHSY3fGNdN0N7650iYhSH1wF4MEb7MAJGDgA4ACBlGuNvnO7Bbvrr9hnVEh8OFQ0ieqn3yHnQb1iMlHIZa4tHfkSu/OqBu7/2dMPTGmkK9Z4GvcbfkazGuAyYioAMAQoYR7vb5Dnwj1RsF9EMjZZG+10Ak7ELPOeiHF+qRSU9VZZCAXmlK+zi89tY/SwU93yEraqnrXB3oIgI6AABhYsvMly25l2FdslaQ7YpI2IU+1OegH06o1z+b0X6oRyZtzlTJ5jCum8BTuVPe2sCw76kMPF7PqiL9CK74QRM7VbeiuOI+kidwU7644j6mrNNv2e9R0/bA0wTinR7Fm7AXAyIHAR0AgCAOdwxad9ky+0opRgG9b7fbRsc4yjfJUR54E8GTO0Se3CEhf/5Qr3+OhPXVNmeabIYB3Zxd1FvKv5Cndq9hPVJE+lnx8UPPUvzQs8LdjW5JGNZfCUXNgReS+5uyFKNl7wE1rlsbULenHaX4oZ3uLiIYAR0AgCA4Bi36Oco3Kf6zNwPqTVKPBHRIjqwC2VOyDOtmsKfEy54Q+CuvPcVgbQMCuOxOFSQE3kh02a0VI3z1m+Wr3xxQj/SbG4g91vqTBQCASSJh/TOiX1zxKCVNnGVYxyGOrELZU40CeqEpU/QdGdmyJ7oM62aJ5nDo9rZoV2PgXhnDvdZamx7qc8RtzlT5QrgUA2hFQAcARKVIWP/MLvfRj+PUDq+9mxiRMEVfCn04bI8Z65/bXeNef7DbfYwG9uxT5TVYdmHPGCt5w9AhRC0COgAAQYT6GLRo2OW+vXX6/bLzInoXejNEwznooR4d9h3cIW/NZwb1TEkR8j1yl8vXHHgMms8dGJy71H4778HW+oOWP4ouGmYY2LMnyZ49yfiiwfcf6CoCOgAAQRzuGDS0v06/X8GImArjRqLhHPRQjw43bVmugyveMLxmxsZicfn95Bsx0LBuFp97r9RiFNADN6frUvshPgYtnO1HSkBvjxnr9FkOg1YEdAAAgjjcMWgIPXvjNtkbtwXUvQkD5E0Y0O32fc4EeTKLDOs4xFv7pXyNZYZ1o2nRneWp2hfkHPTAPSS6Iv6I0xWX3z+gHg3BENZgxjr9SJpVg9AioAMAEATHoIWfvXGbnFVLA+otGTIloMc17VFcZeBxW7a+RTI4UMmSvPuWylv1aUDdnjE2+JTcTvAdLJU8dcZ1E3iqKoME9MCzy2NVu1PoXaHdrM2MjfoOJ+Tr6E3Q3p8zKafb7Tcse0SNn/0roJ5w1GnaM/bCbn9/EDkI6ACAqNQvITvm1z9HA1tzhWyeGsO6GZze/XL4DMKnN3A0zKo8+96VatYF1ltqTAnoka4nplfbXL3lc6Yb1s3Q3hT6CtWoprkh4FqFO/DPTfD2g98AGNg79CHQjHPEQ72e3Vv1qXwHPgysS1La1G633/jZv+T+/GPDa1uHnWT5fQZgHgI6ACAqcZxadLA1bpet5YBhHf/RUiv5PMZ1MzRXS/IFqVtfqDdwiwbeAyulpsCbXt4DK+UonB2GHsUgb6MM/5x5G3u8KwgvAjoAAEFE+jFooV6/LUmOnEzZjwqc/mrLyTSlfZunTkZnGNkMplx3hb1mj3yNgb8A22v2mNL+4TZ+MmNqb3tMad/X1Ll6Jzl7D1bz9q8M62YI9QZuPaG9EfocV5rS4pICruW4Ao8EC6qlRobhsKXjo/DtsrukhELjeg8I9Z8zUwS7oWbWjTZEDAI6ACBihTqAhvoYNEf1+3LUrwuoe5JHy5N+YrfbD/X6bUmyN+2SDm4MvNBUZPTrvvVU7JKvwSBoVuwypfnDbfy0cv9mLdsXuAb+pOzhpgX0bk+NtcV1rt5JzrxRcmQEHkXnzDNnwyxfS43hDAOfWeEzGoT4PZbXLTXuNKgfZU77Cu9RdKas0/cEGSkPVkfUIqADACJWTwTQUHLUr5OzznjNoRkBvSd49uxQy+dfB9SdiTtkH2bCEzhSJDmC1LvPJsNxQ9lMaf3wKtw1qmk5aFi3ipYDUsvOwA3bnIW5MiO+hfx4qVAvAVAPHLPWXvs9MwhteaE+Kq49pozEG/2MtldH1CKgAwAAy/L91//+b3174z5tbww8iqsz+w/4EtIke+C59r6ETkwPDre4TMkWb1w3Qcv+FjVuDPw+JyS3mNJ+qI+XsjlT5bMF3uSxOVND9pymszmN32NbdPwq3xM7xXeXPWOswWKb1l3cuy+uX1/JF3iaQVy/vhHx/YF5ouNPNQAAiEq2//rf/61vb9ynZVWbAr8oo+O79XvdLbJ7A28AeN3mhM/2pt3akgertuWgPL7AX/trDUbVg7En9ZO3IXCphz2pX6f6Gq2CLbWIiCUYrXwtxmv+fS3mhDdHQufqJjNjBDqcR9GZIWFwrhKKDX4q43OttVYeIUdABwAAluVN6H9onbtB3RSNDZJBQFdj4LFVXXG4I75qWxqDBPSOrzu1uXJlizPaQMycX+htScWSM3D9ri2p2JT2Q60nljG0t4lbqDcoM6Mde9ZJ8h5YFVjPHB8ZG6wp9MsAPOVvSnWBNwQ97j3mHGcY4s0YETkI6AAARClvwgC1ZBjXzeKLy5HPEThV2BeXY1L72fI5Aqeb++LMOULPm5glmz1wx3ZvYpYp7R9OqjNRDpvdsG4GM0ZX7SnDZHN9Ylg3I7wdbpZBd/k89ZLBTRCfp77bbbdq7yaJGRv1hXqjO0f+d+XI/67hta17N5hyRvmhteCBdbO09z0yZZZB034ZnShxqG4Cu8EShvbqiFoEdABAxOqJABpKnuTRnap3lpnHqQVj63+yHAZh2WbS7ve25grZPIEhxNZcIcV1f9pqS+5I2faXGdZ7woDk3tp5MHB994Dk3qa0H+pRTlPCZzuzDLYprfujt80HZBismg907Os7oN0AWt/x5QpB21d4NzPsLrNutrSraZ/xhmpN+yw32m8o2JFzPXQUHayDgA4AiFg9EUBDyZN+Ykh3a++Jc9Cd2UmypwQGdG9CkuGGSp1la94XJKDvkxlbiHvTcuVLyjCs9wQzzrBub+2tGSPczt6ZShh9tGHdDO32XyYcE+cOMsIZrN4Fnr3/lK/q04C6LWOslHxyt9v3Ne4+tA7dqG4C776l8hr0/9AGaN2fDePZ/ULQKfTBRu47rTnIWe7NJp2I4G3uXL2zDgbeKGy3jqhFQAcAIEr1xDF0jtpVctZ8EPgcaSeY8hyHptAbTXHPObQRXEbg13R0g7ie0Lz7azVt3BpQjx/6tVzmDJK3y4wRbkfyPrnyA0OCPXmfpO6vQw/9EWLBApRJwUqSb/8KqSUw8Pv2rzAloAcd7TdpFoC36lP5DnwYWJektKndb3/v21JT4M+Qt7navIDuC/J+BqtbrX0F7uDefh3RioAOAAC6rN0RbhO0twa9M8epBePJHSKjLZg8uUO61W6rln0NhkeU2bMb5JI5a8RDvUlcqAN0c1mZWrYFjvI7B5SpwlWjmubADfusdE68JMkTZFPBYPXO8gXZcz5YvbPNh3iNu4Kt9/9P3YyZHi376tRSHvhnzZlrM2OyzaGp5p5a47opIn0hA8xCQAcAoAvMOIMb4efMTpIrM/D9cjuSZLCatdMOF545Xkpq+aZUjV8Gjq4mJJSqIq9GNQZHznUuoPfAQWvtjK6acROmpaJOLfsC32Nndro54dNdYTiFXu4KczZYM1ob/l91M2Z6tJQfMLwZliCnOTvRO1Ol5krjOmAiAjoAAEG0t4Z7e2NTt8/gRvi5PDuV1rQioF4TL7kdhWHoUeeFfop4cKaEt6gQ/CaAGTdhWioPGofPYSbt8O0Ncqyft9GcDdZCvX5bUnvvgRk3AA6dBGDwHD5vxBxFh8hAQAcARCzvrhJ5d5UE1O0FI2Q3YRfx9tZwS9YfmYwGkb5T/+Es2/eF1lZtD6gfndFPJ2UP71AbIZ+eHEZOm0NxNodhveN6YupwD4zSBxEZ4bAHvj+2ILEmWL2z2tkH4J9l67TqQOBRgeMzB+v6gVO6/dRm/D2ByEFABwBELO+uErWsejmg7pRMCeiRzmdzyRvf17Bu2nO0s4mbGUK9U7/Tu18OX51hvSesrdqulQa/2Evq8C/e7cVPc9a495bPaTRNv7c5I5PtaPF51Gxw86El2JRpozb2NYV2ergkySHJYIq4HOaEq2A3JGwOc96Ddto3hcMleQy+Pw4Tp3j4jHaTaKfeWQZ7bbTWdxzcp3pP4GZuOwyOUAwu+J/k5fu+1IaaHQFXalsOEtCjEAEdABAyPXHMVyiF+gzuULP53LI3fRNQ9yYNM+05fLY4eR0ZhvVI4PQeCBLQzdkdO9RHlElS8zc71LLTYJO1wh0aOLT7o6i2xCLZUgNveNkSiwyPF+8sT22TvI2B4c1Ta06wcm8/IPeWvQF11yCvEk15Bkk2e5BsZTflJkzIGexh0Fo3ZYQ+2N8H/6lXuM3YDDD4KP1XtXtU3lgVcOWr2j2GN7CMtOxrUMu+wD46s5PUmNBs+OyNns5M4Q/2h8mr7fX71OILvL693pzNOGEtBHQAiECRskFZTxzzFUqhPoM7GtibvpGjKXBkx9eUFzE/p6Fk87wnV87GwAser6SzTHmOlp1fqXFjRUA9QQ5TwpWn/B9SXeBr8Lj3qiLtvO4HK1+QY6R8blOmuHvrDhreAPDWHdp8zpQR7nZ2WS93V6nZGzjiX+6u6ljbkuQN3CivtW5G+JQ3yC7r3nqt3L9Zy/Z9EXDppOzhHQ/oLYH9++96acM+1TQHvsbShk4EUKddjowEw/raqu2qMxjhNnrfgwl2IkPC0GxV9jbY3V1SZZNxvbOqWgJvIrZXR2QjoANABNreuK/bG5T1xOh2uyPQkcBTZ7z7sKcuIs7gDjczfk5DrcXeSx5bimF9t6dauz2BI4v5jnTlOwKnfBtq2CbDqc8Nh/7s1bYclMdgZKzWYOfy4IJN9/bo5V0rtKG6NODKyPRi3T7k3I41f7BUhq/hYKk+bN6kCoMQ8mHlJn238IQONe9IS5U9IfBXUkdaqjlT3CvrpZbA73FL5aFQas704eCjnzsaKuU1GF/d0WCwI3gQzuwkJQwN/DPjzE5SSc1Ow/BZUrOzw+23p6RmhyqbAoNgicH3rKu21pXLbbCL/Na6wJtLQbV45akK3OwuLi8l5AHXHWSzu2D1zgr+04VoREAHgBjVE6PboT4jO9Rs//W//1s3YxT4cDdJGIEOvRZ7ZpCAnqnPm8u0rnl3wLXRcfkdD+iHOV5qS1254dTVLZ0JJu1M7d1Yu9sw+GysDXxdwZsP/hr2uo2nRgerG3IHTj9vrX9es1Nub2D/P+9E+PQ2GIek1ro504eD3yRp8BpP1Q9WN+LMTpIzO8nwWkWT8fc6WL2zdh88YHiDYfdBc5aBSNL+IEE5WL2zCLiIJAR0AIChSAiH9oIRhv+Q2QtGmNJ/nyPl0NpSg/pH1VtUUr8r4NqI5AIdnz6oQ+0f7iZJqEegQ/0eVzbXqdYTOKJV2WzOL91v7FurDXWBQW1kSqHOyQ5c991ZVd6DqjfYYKoq2HTjLmgyOnu6nXpnBVsD26m1scGCpLdJniA3B4LVjdsJfsSX0RnokoLWu6Le4Ge0vbrVhDp8mvIzFOXi7E55DEbL4+zmRK2eOIcA1mF6QD948KASE03bciPiLFy4UL/5zW9UVlamUaNG6ZFHHtGxxx4b7m4BQKdFwvTk9o5T2161MaT9/3fVl9raGDhVv6K5tsMBPdQOd0RZqN/jUAf0DXU79bXbeLlERwO621GoGoOjpN2OQqml41OQuyrO5lCjDH6x7/QxYsZ1X5CgHKxuLHgENCc4BO+/Lci1YHVD9iCPDVZHG+b8DEU+T12QzQzrmkz6cxxc+A7xQziYHtCPPPJIPf7445oypftn/kWal19+WXPmzNETTzyh8ePH66GHHtKUKVO0adMm9e7dO9zdA4AeF+ojuEKtvf5XHWww/AW1qiVww6xw6Ynd8j3Jo4PX6zu+Trgr3F7jnZM7s+7T7Sg8FMYNmRDQ7Q7j2c92k46vkuTMTlXC0MDvhDM7NeThyozg4MxOCLK+OkHeIJuvBasbsbuc8hwMDFZ2FxNJW7W3Q7kvOzICensBOtRsQe71BKsD7TH9b6aUlBRNmzZNF110kR566KGYCqYPPvigvv/972v27NmSpCeeeEKLFy/WM888o7lz54a5dwCiSaRsUOaLyw4ScK3Vz2Da73/oR1cjgSf9RHnSTzS8ltX0qVINzjnOigtc890VRmur26uHRdJAqe5L47pJnPn95cw2WFPuypeCbJDeKXaX8S7idpcp86jbW19tCzJE35ngY4sLXKby33WXI07ulsCfGZcjdo5qaG+HckXGX9ch50iJN97MMCVemXEpqm0JnC2UadLfdUxxjy2mB/S1a9fqwQcf1N1336233npL9913n66++mqzn8ZympqatHr1as2bN89fs9vtmjx5slasWBHGngGIRmasET7c9Gcz9MRzhFL7/SegH05WXIpSHYHL3swK6KGWYU9Usi1w/nuGveNL+ZzF18pXH3gGti15sCQpLsgIe1wnRtjtWSfKu+9dw7qrvF4NBjt8uxwG8/qDcaZJTQYB3ZmmuGaH4S7rnZ+ibxw/zJjiHldkvKFfaz0jLslwTXtGnPFNA2Ptvwaj0eZOTdPv0jObI9Trq83SXoAOtXGZAw3/nI3LNOdGnEN2tRjcDXPI+OYTIpvpf7IcDoduu+02XXTRRbrhhht0zTXX6P/+7//05JNPaujQoWY/nWXs27dPHo9Hubltz4PMzc3Vxo0G559Kcrvdcru//cNcU9OJM0MBoJt6YvpzTzxHKLXf/09Mab+9GxiRMlMiWh0Zl2cYxju8g7sOBfHWMG5kXObAoGdwd5S91wmyuQLPo7YlD1ZRzSf6qq4s4FpRYq8Oty+HwdnS/6n3dWRqx8HAkde+CZkdb9+eEGSEPkF9EzINz8Lum9jx9pOP7iMd3Sfo9e9kDZHrQOBpCmMzO/F3VzuvYUBCjuFrKE7qzJ9jh4zXSjiU5kxUtcENhjRnZ/aEChYJnMqIS1KZwa78nbuB0T67bIY7xdsjZIw4x5WmNIPvR44rcAYWcDghu/VVVFSkN954Q3/729905ZVX6qijjjLcPM5ms6m62pxjICLNggULdNddd4W7GwBgKNLDYaj7n+FM0v6WesN6Rx3uBkaod8wP9fco1O0XuHqpxmATugJXJ8JnOzp13nkX/aD/ad1uo72bACPSyg3PsB6RVtTx9lOGyNe037A+Ls6EkcPEIqn+K8P6Gb1H6+29GwIund57ZMfbt8VLBrvx6z+zIy7Mn6AL8yd0vD0j7cwyeOCo73WvbUlyuCSPwf4WDpdGp/fTygOBszRGp/frePvxWZICb+QoPkt9E3ppn8FZ930TOvPnzCnJaOnJoSiSHZ+qvU2BA1XZ8amdeA4gOoR0bsq+ffv06quvav/+/Ro5cqSOPrr7R55YVXZ2thwOh8rL255bWl5erry8PMOvmTdvnubMmeP/vKamRoWFwTaqAYCeZaXj1Loi1P0/JWOYcuoDf3kckVwQsuc0W0/cAAhl+6NSCg035RuVwr+lrcwY2bOnDJO34WvDeo4iYOTQmSI1B95gkNPEpRbtzDIwhT3BOKDbE4LOtujMLIz2pDoT5DA4bjLV2YnXZo+TDM6zl/3QOv+EIOv9g9XDwZmdFGQzQ/NmEgRTnJRtwiwMRIqQBfQ//vGPmjt3rtxutx544AHdfPPNstujd51EfHy8xowZo6VLl+rcc8+VJHm9Xi1dulTXX3+94de4XC65XIGb5wAArO/49EGWOU4tVkX6LI+eMDA513C0eWBy4JT4YGzJg2XvPc2wPlBp3W7fnjnecK85e+Z4c/qfOUG+qk8D6xljO9zG4dizTpL3wKrAeuZ4U9pv7zWclD1cJ2UP71b7cYMmBq2bcgMgfYxUsz6wnjZKkjnLDNoL0L3jU1VhMAsgpxMj9M7s1CBh3GHKz2nc+LeCXnugw60gGth8vk6cU9EBX3zxhX7wgx/ogw8+0LRp0/TYY4+pqKjj06gi2csvv6zLL79cTz75pI499lg99NBDeuWVV7Rx48aAtelGampqlJ6ertLSUqWlWejOMwAAUWDPnj0hbX/YsGEhbR8AzNaaP6qrq8kfFmH6CPrRRx+trKwsvfzyy5o5c6bZzVvaRRddpIqKCs2fP19lZWUaPXq0lixZ0qFwDgAAAACIbaaPoP/whz/Uvffeq/T00G6qEo0YQQcAIHQYQQeAthhBtx7TF4U//vjjWrlypaZOnaqhQ4fqO9/5jh5++GGznwYAAAAAgKhi+hT3ZcuWadq0afL5fMrOztbWrVu1cuVK7d69W/fff7/ZTwcAAAAAQFQwfQT917/+tXJzc7Vhwwbt3btXe/fu1SmnnKKFCxfq4EGD8yEBAAAAAID5Ab2kpEQ/+tGPNGLECElSZmamfv3rX+vgwYP6/PPPzX46AAAAAACigukBvaysTP37929TGzDg0BmGtbWB5w8CAAAAAIAQBHSfzyebzdam1vq5yRvGAwAAAAAQNUzfJE6SFi1apJUrV/o/b2xslM1m06OPPqq//vWvbR5rs9nY5R0AAAAAEPNMPwfdbu/coLzNZpPH4zGzCxGLc9ABAAgdzkEHgLY4B916TB9B93q9nXr8/v37ze4CAAAAAAARx/Q16B3hdrv16quv6txzz1V+fn44ugAAAAAAgKWEZA26EZ/Pp6VLl+qFF17Q66+/rpqaGuXk5OiSSy7pqS5YXutqA3a7BwDAfHV1dSFtv6amJqTtA4DZWv/eYjNv6wh5QF+9erVeeOEFvfTSSyorK5PNZtPFF1+s66+/Xscdd1zAju+xrLKyUpL8Z8gDAAAAQKjV1tYqPT093N2AQhTQt23bphdeeEEvvPCCNm/erPz8fH33u9/Vscceq4suukgzZszQhAkTQvHUEa1Xr16SpB07dvAHJErV1NSosLBQO3fuZCOOKMV7HBt4n6Mf73H04z2OfrzHh+fz+VRbW6u+ffuGuyv4D9MD+oQJE/Txxx8rOztbF1xwgf74xz/qhBNOkCRt3brV7KeLKq074Kenp/OXSJRLS0vjPY5yvMexgfc5+vEeRz/e4+jHe9w+BgatxfSAvmrVKvXv318PPvigpk+fLqezx5a5AwAAAAAQsUzfxf3RRx9Vnz59dN555ykvL0/XXnut/v3vf7PxAAAAAAAA7TA9oP/oRz/SBx98oK1bt+rmm2/W+++/r0mTJik/P1/z58+XzWZjY7ggXC6X7rjjDrlcrnB3BSHCexz9eI9jA+9z9OM9jn68x9GP9xiRyObrgaHt1p3cX375Ze3Zs0e5ubk666yzdPbZZ2vy5MlKSEgIdRcAAAAAALC0Hgnorbxer95991396U9/0uuvv67a2lolJSWF/FxSAAAAAACsrkcD+n9rbGzUG2+8oRdffFFvvPFGOLoAAAAAAIBlhC2gAwAAAACAb5m+SRwAAAAAAOg8AjoAAAAAABZAQAcAAAAAwAII6AAAAAAAWAABHQAAAAAACyCgAwAAAABgAQR0AAAAAAAsgIAOAAAAAIAFENABAAAAALAAAjoAAAAAABZAQAcAAAAAwAII6AAAAAAAWAABHQAAAAAACyCgAwAAAABgAQR0AAAAAAAsgIAOAAAAAIAFENABAAAAALAAAjoAAAAAABbgDHcH8C2v16tvvvlGqampstls4e4OAAAAgCjm8/lUW1urvn37ym5n7NYSfDHs0Ucf9RUXF/tcLpfv2GOP9a1atSroY//whz/4TjjhBF9GRoYvIyPDN2nSpIDHX3755T5JbT6mTJnS4f7s3Lkz4Ov54IMPPvjggw8++OCDDz5C+bFz584uZyqYK2ZH0F9++WXNmTNHTzzxhMaPH6+HHnpIU6ZM0aZNm9S7d++Ax7/33nu65JJLdPzxxyshIUH33XefTj/9dH3++efKz8/3P+6MM87Qs88+6//c5XJ1uE+pqamSpJKSEv9/AwAAc5SXl4e0/SFDhoS0fQAwW01NjQoLC8keFmLz+Xy+cHciHMaPH69x48bp0UcflXRoenlhYaFuuOEGzZ0797Bf7/F4lJmZqUcffVSzZs2SJF1xxRWqqqrSX//61y71qaamRunp6SotLVVaWlqX2gAAAMb27NkT0vaHDRsW0vYBwGyt+aO6upr8YRExudCgqalJq1ev1uTJk/01u92uyZMna8WKFR1qo6GhQc3NzerVq1eb+nvvvafevXtryJAh+uEPf6jKysqgbbjdbtXU1LT5AAAAAADEppgM6Pv27ZPH41Fubm6bem5ursrKyjrUxk9/+lP17du3Tcg/44wztGjRIi1dulT33Xefli1bpqlTp8rj8Ri2sWDBAqWnp/s/CgsLu/6iAAAAAAARLWbXoHfHvffeq5deeknvvfeeEhIS/PWLL77Y/99HHXWURo4cqYEDB+q9997TpEmTAtqZN2+e5syZ4/+8dQ0IAAAAACD2xOQIenZ2thwOR8BmMeXl5crLy2v3ax944AHde++9evvttzVy5Mh2HztgwABlZ2dry5YthtddLpfS0tLafAAAAAAAYlNMBvT4+HiNGTNGS5cu9de8Xq+WLl2qCRMmBP26+++/X/fcc4+WLFmisWPHHvZ5du3apcrKSvXp08eUfgMAAAAAoldMBnRJmjNnjp566ik9//zz+vLLL/XDH/5Q9fX1mj17tiRp1qxZmjdvnv/x9913n37xi1/omWeeUb9+/VRWVqaysjLV1dVJkurq6nTbbbdp5cqV2r59u5YuXapzzjlHgwYN0pQpU8LyGgEAAAAAkSNm16BfdNFFqqio0Pz581VWVqbRo0dryZIl/o3jduzYIbv92/sXjz/+uJqamnTBBRe0aeeOO+7QnXfeKYfDoQ0bNuj5559XVVWV+vbtq9NPP1333HNPp85CBwAAAADEppg9B92KOAcdAIDQ4Rx0AGiLc9CtJ2anuAMAAAAAYCUEdAAAAAAALICADgAAAACABRDQAQAAAACwgJjdxR0AAAAArKC5dL2aS9cH1OOKRymueFQYeoRwIaADAAAAQBg1l65Xw/JFAfWkibMI6DGGKe4AAAAAAFgAAR0AAAAAAAsgoAMAAAAAYAEEdAAAAAAALIBN4gAAAAAgjOKKRylp4izDOmILAR0AAAAA2hHqY9A4Tg2tCOgAAAAA0I5QH4PGOehoRUAHAAAAgDDiHHS0YpM4AAAAAAAsgIAOAAAAAIAFENABAAAAALAA1qADAAAAQDs4Bg09hYAOAAAAAO0I9W7q3ABAKwI6AAAAAIQRx6mhFWvQAQAAAACwAAI6AAAAAAAWQEAHAAAAAMACCOgAAAAAAFgAm8QBAAAAiGjNpevVXLo+oM7ma4g0BHQAAAAAEa25dL0ali8KqCdNnEVAR0RhijsAAAAAABZAQAcAAAAAwAII6AAAAAAAWAABHQAAAAAAC2CTOAAAAAARLa54lJImzjKsA5GEgA4AAAAgonGcGqIFU9wBAAAAALAARtABAAAAIIwOrnxV7pJ3A+quEacq8biZYegRwoWADgAAAABh5C55V41rFxteI6DHFqa4AwAAAABgAYygAwAAAEA7mkvXq7l0fUCdzelgNgI6AAAAALSjuXS9GpYvCqgnTZxFQIepmOIOAAAAAIAFMIIOAAAAAGHkGnFqp+qIXgR0AAAAAAijxONmsls7JDHFHQAAAAAAS2AEHQAAAADaEVc8SkkTZxnWATMR0AEAAACgHRynhp7CFHcAAAAAACyAgA4AAAAAgAUQ0AEAAAAAsAACOgAAAAAAFkBABwAAAADAAgjoAAAAAABYAAEdAAAAAAALIKADAAAAAGABBHQAAAAAACyAgA4AAAAAgAUQ0AEAAAAAsAACOgAAAAAAFkBABwAAAADAAgjoAAAAAABYAAEdAAAAAAALIKADAAAAAGABBHQAAAAAACyAgA4AAAAAgAXEdEBfuHCh+vXrp4SEBI0fP14ff/xx0Mc+9dRTOvHEE5WZmanMzExNnjw54PE+n0/z589Xnz59lJiYqMmTJ2vz5s2hfhkAAAAAgCgQswH95Zdf1pw5c3THHXdozZo1GjVqlKZMmaK9e/caPv69997TJZdcon//+99asWKFCgsLdfrpp2v37t3+x9x///36/e9/ryeeeEKrVq1ScnKypkyZosbGxp56WQAAAACACGXz+Xy+cHciHMaPH69x48bp0UcflSR5vV4VFhbqhhtu0Ny5cw/79R6PR5mZmXr00Uc1a9Ys+Xw+9e3bVz/+8Y916623SpKqq6uVm5ur5557ThdffPFh26ypqVF6erpKS0uVlpbWvRcIAADa2LNnT0jbHzZsWEjbBwCzteaP6upq8odFxOQIelNTk1avXq3Jkyf7a3a7XZMnT9aKFSs61EZDQ4Oam5vVq1cvSdLXX3+tsrKyNm2mp6dr/PjxHW4TAAAAABC7nOHuQDjs27dPHo9Hubm5beq5ubnauHFjh9r46U9/qr59+/oDeVlZmb+N/22z9dr/crvdcrvd/s9ramo6/BoAAAAAANElJkfQu+vee+/VSy+9pNdff10JCQldbmfBggVKT0/3fxQWFprYSwAAAABAJInJEfTs7Gw5HA6Vl5e3qZeXlysvL6/dr33ggQd077336p133tHIkSP99davKy8vV58+fdq0OXr0aMO25s2bpzlz5vg/r6mpIaQDAAAAndRcul7NpesD6nHFoxRXPCoMPQK6JiZH0OPj4zVmzBgtXbrUX/N6vVq6dKkmTJgQ9Ovuv/9+3XPPPVqyZInGjh3b5lr//v2Vl5fXps2amhqtWrUqaJsul0tpaWltPgAAAAB0TnPpejUsXxTwYRTaASuLyRF0SZozZ44uv/xyjR07Vscee6weeugh1dfXa/bs2ZKkWbNmKT8/XwsWLJAk3XfffZo/f75efPFF9evXz7+uPCUlRSkpKbLZbLr55pv1y1/+UoMHD1b//v31i1/8Qn379tW5554brpcJAAAAAIgQMRvQL7roIlVUVGj+/PkqKyvT6NGjtWTJEv8mbzt27JDd/u0Eg8cff1xNTU264IIL2rRzxx136M4775Qk/eQnP1F9fb2uueYaVVVV6YQTTtCSJUu6tU4dAAAAABAbYvYcdCviHHQAAEKHc9CB6NU6pf1/JU2cpaSJs8LQo8jAOejWE7Mj6AAAAABgBWxyh1YEdAAAAAARLa54lOFIeaSE29ZN7v5X0sRZEfMaYA4COgAAAICIxkgzokVMHrMGAAAAAIDVENABAAAAALAAAjoAAAAAABbAGnQAAAAACKNI3+QO5iGgAwAQhHdXiby7SgLq9oIRsheMCEOPAMB8HPEVfnyv0YqADgBAEN5dJWpZ9XJA3SkR0AFEDY74AqyDNegAAAAAAFgAAR0AAAAAAAsgoAMAAAAAYAGsQQcAAAAQMmxCB3QcAR0AgCDsBSMM/6FkgzgA0STUR3yxCR3QcQR0AACC4Dg1ALGAkWzAOliDDgAAAACABRDQAQAAAACwAAI6AAAAAAAWwBp0AAAAACET6k3ogGjCCDoAAAAAABbACDoAAACAkOGYNaDjGEEHAAAAAMACGEEHAABAUM2l69Vcuj6gztnZAGA+AjoAAACCYnoyustTuVPe2krDOoC2COgAAAAAQsZTuUveOqOAvisMvQGsjYAOAAAAIGQcWQWyp2QZ1gG0RUAHAAAAEDKOrELZU40CemEYegNYG7u4AwAAAABgAYygAwAAIKi44lFKmjjLsA4AMBcBHQAQsby7SuTdVRJQtxeMkL1gRBh6BEQfjlNDd3GTB+g4AjoAIGJ5d5WoZdXLAXWnREAHAIvgJg/QcaxBBwAAAADAAgjoAAAAAABYAAEdAAAAAAALYA06AFgUG6ABAADEFgI6AFgUG6Adnr1ghOE/ZHx/AMA6mkvXq7l0fUCdzeOAQAR0AEDEYjYBEHqEq+gX6ve4uXS9GpYvCqgnTZzFzxDwPwjoAAAACIpwFf14jwHrIKADAAAAQBgxUwWtCOgAAAAAEEbMYkArAjoAWBQboAEAAMQWAjoAWBQboAHoCKbGwuriikcpaeIsw7pZ+HOAaEFABwAAiGChnhrbE+EK4RXq97gnQjJTxBEtCOgAAAAIihHI6Md7DFgHAR0AAAAAwoiZKmhFQAcAAEBQrO0FQo8/T2hFQAcAAEBQrO0FgJ5DQAcAAIhgTI0F+HOA6EFABwBELO+uEnl3lQTUOaIOsYSpsQB/DhA9COgAgIjl3VWillUvB9SdEgEdAABEHHu4OwAAAAAAABhBBwAAiGih3mWdtb0A0HMI6AAAABEs1Luss7YXAHoOAR0AAADohkg/Kz7S+y9Fx2sAJAI6AFgWO5Qfnr1ghOE/ZHx/APSkSD8rPtL7L0XHawAkAjoAWBY7lB8eNysAAEA0IaADAAAA3eCp3ClvbaVhHQA6g4AOAAAQwdhlPfw8lbvkrTMK6LvC0JvO4wYDYB0EdAAAgAjGJljorki/wQBEEwI6AAAA0A2OrALZU7IM65Eg0vsvMZME0YOADgAWxQ7lANB9PXH8liOrUPZUo4BbaEr7oRbp/ZeYSYLoQUAHAItih3IA6L7GNX/XwZV/CagnHncBgQ6A5RDQAQAAELV6Yn0106sBmMUe7g6Ey8KFC9WvXz8lJCRo/Pjx+vjjj4M+9vPPP9eMGTPUr18/2Ww2PfTQQwGPufPOO2Wz2dp8DB06NISvAAAAAFbQGtD/9yNSAnqk9x+IJjE5gv7yyy9rzpw5euKJJzR+/Hg99NBDmjJlijZt2qTevXsHPL6hoUEDBgzQzJkzdcsttwRt98gjj9Q777zj/9zpjMlvLwAA+I+eWP+M6BfqnyN+HgHriMkE+eCDD+r73/++Zs+eLUl64okntHjxYj3zzDOaO3duwOPHjRuncePGSZLh9VZOp1N5eXmh6TQAAIg4zaXr1bB8UUCd0Ul0Bj9HQOyIuYDe1NSk1atXa968ef6a3W7X5MmTtWLFim61vXnzZvXt21cJCQmaMGGCFixYoKKioqCPd7vdcrvd/s9ramq69fwAAABoKxqOEIt0PTGThNkqiBYxF9D37dsnj8ej3NzcNvXc3Fxt3Lixy+2OHz9ezz33nIYMGaI9e/borrvu0oknnqiSkhKlpqYafs2CBQt01113dfk5AQAA0L6EY840PC6M0NZzemIGALMMEC1iLqCHytSpU/3/PXLkSI0fP17FxcV65ZVXdNVVVxl+zbx58zRnzhz/5zU1NSosjJzzJgEAAKyOEVQAkSTmAnp2drYcDofKy8vb1MvLy01dP56RkaEjjjhCW7ZsCfoYl8sll8tl2nMCAACgLaY+A4gkMRfQ4+PjNWbMGC1dulTnnnuuJMnr9Wrp0qW6/vrrTXueuro6bd26Vd/73vdMaxMAAESWaDgfO9IDbjRMfY6GnyMAHRNzAV2S5syZo8svv1xjx47Vscceq4ceekj19fX+Xd1nzZql/Px8LViwQNKhjeW++OIL/3/v3r1b69atU0pKigYNGiRJuvXWW3XWWWepuLhY33zzje644w45HA5dcskl4XmRAAAg7CIlxLYnGgJupIuGnyMAHROTAf2iiy5SRUWF5s+fr7KyMo0ePVpLlizxbxy3Y8cO2e12/+O/+eYbHX300f7PH3jgAT3wwAM66aST9N5770mSdu3apUsuuUSVlZXKycnRCSecoJUrVyonJ6dHXxsAAAC+1bTtU7VUlBrWjUalYb6emAHALANEi5gM6JJ0/fXXB53S3hq6W/Xr108+n6/d9l566SWzugYAAACTtHyzSb6D1YZ19IyemAHALANEC/vhHwIAAAAAAEItZkfQAQAAEH6h3oTOnpwp2QN/5bUnZ3a77Vahfg2RvlEfgI4joAMAACCoUK/tDfUmdPbkTNkcoQ/ooXwNbNQHxA4COgAAAIJilBYAeg4BHQAAAFHLNeLUTtVjEVPoAesgoAMAEIS9cZvsjdsC6t6EAfImDAhDj2A2R/kmOcoDd/P25A6RJ3dIGHoEsyUeN1OJx80MdzcsjSn0gHUQ0AEACMLeuE3OqqUB9ZYMEdCjhKN8k+I/ezOg3iQR0AEAPY6ADgAAgLAJ9SZ0PSHUryEavkcAOoaADgAAgLCJhnXOoX4N0fA9AtAx9nB3AAAAAAAARNAIutvt1qpVq1RaWqqGhgbl5OTo6KOPVv/+/cPdNQAAACBiMYX+8NjpHj3F8gH9ww8/1MMPP6w333xTzc3NSk9PV2Jiovbv3y+3260BAwbommuu0Q9+8AOlpqaGu7sAgCjiTRiglgzjOqKDJ3eImoLU0TMIPuHH9/rw2OkePcXSAf3ss8/WmjVrdOmll+rtt9/W2LFjlZiY6L++bds2vf/++/rzn/+sBx98UIsWLdJpp50Wxh4DAKIJx6lFP45TC79oCD7cZABgFksH9OnTp+u1115TXFyc4fUBAwZowIABuvzyy/XFF19oz549PdxDAAAAxLpouMkAwBosHdCvvfbaDj92+PDhGj58eAh7AwAAgEjD6DaASGLpgG7k008/1ZdffilJGjZsmMaOHRvmHgEAABgjHIYfo9uHx88pYB0RE9B37dqlSy65RB9++KEyMjIkSVVVVTr++OP10ksvqaCgILwdBAAA+B+EQ0QCfk4Pj53u0VMiJqBfffXVam5u1pdffqkhQw5t5rJp0ybNnj1bV199tZYsWRLmHgIAALN5d5XIu6skoG4vGCF7wYgw9Ahmi4bg46ncKW9tpWEd0YHZBOgpERPQly1bpo8++sgfziVpyJAheuSRR3TiiSeGsWcAgHAhvEU/764Stax6OaDulHiPowTBBwC+FTEBvbCwUM3NzQF1j8ejvn37hqFHAIBwI7wBsAJHVqHsqVmGdQDojIgJ6L/5zW/0/9u79+go6vv/46+9JBsChAAJCdcgEAFLBcqteAGtCCheqHePLYqt+rXSFtGqWJXS1uJdrGKpPV+r1q9H5Kdi/apYCqLfFrSCgCIaEQg3SSBACCQkm92d3x+Y1HRmNwmZ2d3ZfT7O4Sjvncx+NrNL8prP7ac//akWLFjQuDDcmjVr9POf/1wPPfRQglsHAACAZJQKQ+gBpA/XBPRrrrlGNTU1GjNmjPz+Y80OhULy+/269tprde211zYee+DAgUQ1EwAAoFE8wiErcMcWj++D2+egcxMDSB6uCejz589PdBMAAABaJR7hkBW4Ey+8f5ciR6wC+q4EtKb1uJkDJA/XBPSrr7460U0AAABx5u01xPKXFdYYSB2pMALA17WXvB2s5qCzDTCA1nFNQP+m2tpaBYPBJrWcnJwEtQYAkCiEt9THivypLxVGALBIHAC7uCagV1dX6/bbb9dLL72k/fsthhCFwwloFQAgkQhvAAAglbgmoN92221655139Ic//EE//OEPtWDBAu3evVt//OMfdd999yW6eQBgO/b4hhvwPgWQDA7/78Oq+/hvpnrg5InqeN4tCWgRcHxcE9Bff/11PffcczrjjDM0ffp0nX766RowYICKior0P//zP7rqqqsS3UQAsBV7fMMNeJ8mHitwJx7XIPHqPv6b6kvXWT5GQIebuCagHzhwQP369ZN0bL55w1Zqp512mm688cZENg0AACBh3LSYWqriGgCwi2sCer9+/bRt2zb16dNHgwYN0ksvvaTRo0fr9ddfV25ubqKbBwAAHOD0EHpfeYl85SWmerhgoMIFA9t8fjTPk9lO/sJiyzoApBvXBPTp06drw4YNGj9+vO644w6df/75euKJJ1RfX69HHnkk0c0DAAAOcHoIva+8RJmfvG6qByUCepwYwaMKlW021TNPHJuA1gBAYrkmoN98882N/z9hwgR9/vnnWrt2rQYMGKCTTz45gS0DAAAAAKDtXBPQ/1NRUZGKiooS3QwAcAx7fMMNeJ8CaE799g2q377BVLdz7n7g5ImtqgPJKukD+ooVKzRjxgy9//77ysnJafLYoUOHdMopp2jhwoU6/fTTE9RCAHAG21TBDXifAmhO/fYNqnnvOVM9e9w02wJ6x/NuYbV2pARvohvQnPnz5+u6664zhXNJ6tSpk2644QbmoAMAALhUeP9ORQ7vN/0J79+Z6KYBQNwlfQ/6hg0bdP/990d9fOLEiXrooYfi2CIAABAvTg+hDxcMVDBKHQCAeEv6gF5eXq6MjIyoj/v9fu3bty+OLQIAAPHi9BB6tlNLPF/X3vJ27GpZt0M85j8DgF2SPqD37NlTGzdu1IABAywf//jjj9W9e/c4twoA3M/p/aUBO/A+RVvFY/4zANgl6QP6ueeeq7vvvluTJ09WVlZWk8eOHj2qOXPm6LzzzktQ6wDAvZzeXxqwA+9TwP0yioYqe9w0yzqAppI+oN9111165ZVXdOKJJ2rGjBkaOPDYMLTPP/9cCxYsUDgc1i9/+csEtxIAAAAAgLZJ+oBeUFCgVatW6cYbb9Ts2bNlGIYkyePxaNKkSVqwYIEKCgoS3EoAAAAcj1ToXT38vw+r7uO/meqBkyey9ZeYZgC0RtIHdEkqKirSm2++qYMHD+rLL7+UYRgqLi5W586dE900AAAAtEEqLNZW9/HfVF+6zvIxAjqA1nBFQG/QuXNnjRo1KtHNAAAAKcJXXiJfeYmpzuruqSMVeugBpA9XBXQAgH2c3l86HljhO/U5/T71lZco85PXTfWg2As9VaRCDz2A9EFAB4A0lQohlhW+U18qvE8BAGgpAjoAAADQBka4tlX1ZFO/fYPqt28w1e0afcA0A6DlCOgAAAAu5nS4QvMCxQOlujLrugs4vco670Wg5VwX0A8fPqxf//rXWrlypcLhsE499VTNmTNHeXl5iW4aAABA3LGFVeJ1+N5UZQ/JNNW93c5NQGsAuJnrAvp1112ndu3aae7cuaqvr9dTTz2lq666Sm+//XaimwYAtmIBNMB54YKBCkapAwAQb0kf0B999FHNnDlTHo9HkvThhx/qiy++kM/nkyQNHDhQ3/3udxPZRABwBAugNS8VVqJ3O7ffSGI7NQBAMkn6gL5lyxaNGTNGf/zjHzV8+HCdffbZmjJliqZOnar6+nr95S9/0aRJkxLdTABAArglBKYybiQBAGCfpA/oTzzxhN5//31de+21OvPMMzVv3jw9//zzWrZsmcLhsC699FLNmDEj0c0EAABAmvK0L7acb+5pX5yA1rQeq6wDySPpA7okffe739WHH36o+++/X2PHjtWDDz6ol19+OdHNAgAASDjCVeJ52he7JoxbYZV1IHm4IqBLkt/v1y9/+Utddtll+q//+i89++yzeuKJJ1RYWJjopgEAACQM4QoAUoc30Q1ozoYNGzRq1Ch17NhRp556qiKRiJYvX64pU6bolFNO0R/+8IdENxEAHOHtNUT+MZeb/jCvFwAAIDV5DMMwEt2IWEaMGKHx48fr+uuv19KlS/Xaa6/pnXfekSTt27dPN998s7Zs2aLVq1cnuKVtV1VVpU6dOmn79u3KyclJdHMAAGiWm1Zx37Nnj6PnHzx4sKPnBxBd/fYNqt++wVRnhElsDfnj0KFD5I8kkfRD3L/44gstWrRIAwYMUHFxsebPn9/4WH5+vp5//nn97W9/S1wDAQBIY8kYxAGkn/rtG1Tz3nOmeva4aQR0uErSB/QzzjhD119/va644gqtWLFCp556qumYiRMnJqBlAAAAAADYJ+kD+nPPPad7771Xr732moYOHao77rgj0U0CgJTgpqHJAAAA6SDpA3rnzp310EMPJboZAJByIrs2KvTBIlPdLxHQUwQ3YRKPebEAgNZI6oC+Y8cO9enTp8XH7969Wz179nSwRQAAuAc3YRKPebEAgNZI6oA+atQoTZ06VT/+8Y81atQoy2MOHTqkl156SY899piuv/56/exnP4tzKwEAgFMYBQA4LxVGemQUDVX2uGmWdcBNkjqgb9q0Sffee6/OPvtsZWVlacSIEerRo4eysrJ08OBBbdq0SZ9++qm+853v6IEHHtC5557b4nMvWLBADz74oMrKyjR06FA9/vjjGj16tOWxn376qe655x6tXbtW27dv16OPPqqZM2e26ZwAAKB5iRwFsDt8SLvDh0z1nr5O6unr5OhzA/GUCiM93HQzAYjFm+gGxNK1a1c98sgj2rNnj5544gkVFxeroqJCmzdvliRdddVVWrt2rVavXt2qcL5o0SLNmjVLc+bM0UcffaShQ4dq0qRJ2rt3r+XxNTU16tevn+677z4VFhback4AAJDcdocP6cPgDtMfq9AOAIAdkroHvUG7du10ySWX6JJLLrHlfI888oiuu+46TZ8+XZK0cOFCvfHGG3r66actV4kfNWpU4xD7aKvIt/acAJBo3l5DLH8IMGwYAFonFYaIA0gOrgjodgoGg1q7dq1mz57dWPN6vZowYYJWr16dNOcEAKcxhzf1cRMm8ZgXmx7cPkQ8vH+nIof3W9YBxFfaBfSKigqFw2EVFBQ0qRcUFOjzzz+P6znr6upUV1fX+Peqqqrjen4AAKxwEybx6EGFG4T371LkiFVA35WA1gDpLe0CejKZN2+e5s6dm+hmAICl0toKldZWmOp9s/LUNysvAS1KPaxQ3jxffmd5v32yqe7J75yA1gCpyde1l7wdulrWAcRX2gX0vLw8+Xw+lZeXN6mXl5dHXQDOqXPOnj1bs2bNavx7VVWVevfufVxtAAC7ldZW6N3KEvMDuSKg2yTV9ym34yZPRlef/L6gqR7K9SnU5hbG1tPXScrsY10HUoiva295O1oFdH4vBeIt7QJ6ZmamRowYoeXLl2vq1KmSpEgkouXLl2vGjBlxPWcgEFAgEDiu5wQAINm5/SYP26kBAOIt7QK6JM2aNUtXX321Ro4cqdGjR2v+/Pmqrq5uXIF92rRp6tmzp+bNmyfp2CJwmzZtavz/3bt3a/369erQoYMGDBjQonMCAFILUwAANGAxQAB2ScuAfvnll2vfvn265557VFZWpmHDhmnp0qWNi7zt2LFDXu+/t4j/6quvNHz48Ma/P/TQQ3rooYc0fvx4rVy5skXnBACkFrf3DuMYX3mJfOXm6xguGKhwwcAEtAhu5PbFALnBACSPtAzokjRjxoyow88bQneDvn37yjCMNp0TAAAkH195iTI/ed1UD0oEdKQNt99gAFJJ2gZ0AEBsfbPypNwo9TQRWvuaIiXvmeregeOk/m0Pb+xT3rxIVj+Fcq3rAACkGgI6AMASc6mlSMl7Cm/8m/WDNgX0RIZxp+fR23GTJ1RRo8gucxu9vQrldXgHqN3hQ9odPmSqp9vicfXbN6h++wZTnV5XALAfAR0AgDTl9Dx6O4J+Irei2x0+pA+DO8wPZPZJu4Be895zpnr2uGkEdACwGQEdAFyIFcQTjykAAADAbgR0AHAhVhBPPG6GpIZwwUAFo9SBZME0AyB9ENABAEDairmdmtXwdiABmGYApA8COgAAUXgHjmtVHQCcEN6/U5HD+y3rAFILAR0AkBBumEfvH3GhNOLCRDfDMW6YR5/Ireh6+jpJmX2s6y2UCkOTM4qGKnvcNMs64iO8f5ciR6wC+q4EtAaAkwjoAICEYB594iXTzZBoErkVnR3bqaXC0GQ33UwAALcjoAOAC7mh5zPVuWEEAAAAcBcCOgC4ECEw8RgBACBefF17yduhq2UdQGohoAMAAABJzNe1t7wdrQJ67wS0BoCTCOgAAABAEmOhPiB9ENABAAnh9Dx65oinhsiujYrs2miqJ3LxuNYgWCVeqqyk75a2AmgbAjoAICGcDsrMEU8NkV0bFfpgkanuV3y2WmsrglXipcJK+gDSBwEdAIDjwEr6AADAbgR0AACOA0PlAQCA3QjoAAAADkmF+c9IfUb1ZhnVm011T/tiedoXJ6BFQPoioAMAADiE+c9wA6N6syJ73zTVvd3OJaADcUZABwCkJOaIpwZvryGWv6y4YYE4JAdW0gfgJgR0AEBKYo54anDLdmpIXkwnAOAm3kQ3AAAAAAAAENABAAAAAEgKDHEHADgmsmujIrs2muoMW0a6YP4z3MDTvljebuda1gHEFwEdAOCYyK6NCn2wyFT3i0W+kB6Y/ww3YDs1IHkQ0AEArkUPfXorra1QaW2Fqc4CgYg39rtPfVxjxAsBHQDgWvTQp7fS2gq9W1lifiCX7fQQX+x3n/q4xogXFokDAAAAACAJENABAAAAAEgCDHEHADjG22uI5Q8ahp8DAPBvzHFHAwI6AMAxLNYGAEDzmOOOBgR0AIBr0UMfW6qvct83K0/KjVIH4oj97lMf1xjxQkAHALhWqgRNp6T6Kvdsp4ZkwTDk1Mc1RrywSBwAAAAAAEmAgA4AAAAAQBJgiDsAAAAAJBBz3NGAgA4AAI5bqi9EB7Z/AuKBzxMaENABAEhR8VjlPtUXogPbPwFAPBHQAQBIUfRiAwDgLgR0AAAAAEggppKgAQEdAAAAABKIqSRoQEAHAABwMXreACB1ENABAMBxi8dCdE7ylZfIV15iqocLBipcMDABLWo9p3ve2P4JAOKHgA4AAI6b2xei85WXKPOT1031oOSagO40euIBIH68iW4AAAAAAACgBx0AAAAAYnJ6rQemkqABAR0AAAAAYojHWg+EcUgEdAAAAFej5w0AUgcBHQAApK1wwUAFo9TdwumeN7ZxA4D4IaADAIC05abt1BLF6aG9AIB/I6ADAAAASYxRDED6IKADAAAASYxRDInHWg+IFwI6AAAAAMTAaAXEizfRDQAAAAAAAPSgAwAAIAaG9gJA/BDQAQAAEBVDewEgfgjoAAAkqdLaCpXWVpjqfbPy1DcrLwEtApAITo9iMKo3y6jebKp72hfL077YlucA0DIEdAAAklRpbYXerSwxP5ArArpLEHxgB6dHMRjVmxXZ+6ap7u12Lu/Trx19f7HqNq4w1QNDvqd23700AS1CqiKgAwCQIJFdGxXZtdFU9/YaIm+vIQloEewWj+DDTQDAeXUbV6h23RuWjxHQYScCOgAACRLZtVGhDxaZ6n6JgI4Wo/cTAFIHAR0AgCjo4U59gfBOBcI7TfU6X2/V+XonoEUAjgcjSZAqCOgAgJRkxwJr9HCnvkB4p3KCq031qkwR0AEXYSQJUgUBHQCQklJhgbW+WXlSbpQ6ANjE075Y3m7nWtYBxFdaB/QFCxbowQcfVFlZmYYOHarHH39co0ePjnr84sWLdffdd6u0tFTFxcW6//77de65//7H7JprrtGzzz7b5GsmTZqkpUuXOvYaAACpi+3U3I/g0zyGJice3+vmBYZ8r1V14HilbUBftGiRZs2apYULF2rMmDGaP3++Jk2apJKSEnXr1s10/KpVq3TllVdq3rx5Ou+88/TCCy9o6tSp+uijjzRkyL+HOU6ePFl//vOfG/8eCATi8noAAO7j7TXE8gcxw+dTRzyCj9tvAjA0GW7Q7ruXRl2tfUt1ubZUl5vq/dsXqH/7AqebhhSTtgH9kUce0XXXXafp06dLkhYuXKg33nhDTz/9tO644w7T8Y899pgmT56sX/ziF5Kk3/zmN1q2bJmeeOIJLVy4sPG4QCCgwsLC+LwIAICrsdgc7EDvJ5BYW6rL9be9H5vqE7udTEBHq6VlQA8Gg1q7dq1mz57dWPN6vZowYYJWrzYvFCNJq1ev1qxZs5rUJk2apCVLljSprVy5Ut26dVPnzp31ve99T7/97W/VtWtXy3PW1dWprq6u8e9VVVXH+YoAAE5wuoebVeITr87XW1WZ1nUA7uH2kSRAg7QM6BUVFQqHwyooaHpHq6CgQJ9//rnl15SVlVkeX1ZW1vj3yZMn66KLLtIJJ5ygLVu26M4779Q555yj1atXy+fzmc45b948zZ0714ZXBAD4T3YssOZ0UGaV+MRjOzUgNSRyJMm+uipV1ddY1oHWSsuA7pQrrrii8f+//e1v6+STT1b//v21cuVKnXXWWabjZ8+e3aRXvqqqSr1780sCANiBBdYAAPGwr65KVaGjlnWgtdIyoOfl5cnn86m8vOliDuXl5VHnjxcWFrbqeEnq16+f8vLy9OWXX1oG9EAgwCJyAJDEGIIOOL/KOkOT4fZF1g6HjipsRCzrQGulZUDPzMzUiBEjtHz5ck2dOlWSFIlEtHz5cs2YMcPya8aOHavly5dr5syZjbVly5Zp7NixUZ9n165d2r9/v7p3725n8wEAccIQdDjN6WBix/mdXmWdRe6SWzzCs9OLrDn/GjytrAPRpWVAl6RZs2bp6quv1siRIzV69GjNnz9f1dXVjau6T5s2TT179tS8efMkST//+c81fvx4Pfzww5oyZYpefPFFrVmzRk899ZQk6ciRI5o7d64uvvhiFRYWasuWLbrttts0YMAATZo0KWGvEwAAJK94BBNWl0ZbpMJ7yOnX0NGfJZ/Ha1kHWittA/rll1+uffv26Z577lFZWZmGDRumpUuXNi4Et2PHDnm9//6gnXLKKXrhhRd011136c4771RxcbGWLFnSuAe6z+fTxx9/rGeffVaVlZXq0aOHJk6cqN/85jcMYwcAWGIf9MQLhHcqEN5pqrN4HFoj1jSArcpx9fBtHBPrGtuhfvsG1W/fYKpnFA1VRtFQW54D7pC2AV2SZsyYEXVI+8qVK021Sy+9VJdeeqnl8e3atdPbb79tZ/MAACmOueyJFwjvVE7QvMVqVSZbraULp6cBbFEv1/dAu4HTATrWNc4P5CjH3870WH4gp8Xnr9++QTXvPWeqZ4+bRkBPM2kd0AEAAJDeUmEIN2IHaKmXo8+dH8hRTka2ZR1oLQI6AABRMAQdYJX1tnJ6j2ynF0CLxx7f/dsXaGK3ky3rbuD29iO5ENABAIiCIehoq+bmlTr9i70d50/1VdadDqBO75GdCiMAnJ6PH4/PmVu+10h+BHQAAACHNDevNB7BhOAQm9MB2u1SYfg2nwO4CQEdAAA4orS2QqW1FaZ636w89c3KS0CLzOp8vVWVaV1HfMRa3MstPfexpgHk15W3eQExJJ7TUz0yioYqe9w0yzrSCwEdAAA4orS2Qu9WlpgfyFVSBXTCeGLFWtwrHgHdjhW4Y91MyK8+6voe6LaKyxZi3oCUZfFZ9tqz3bHTN4zYTg0NCOgAAABIW6kwhDvZxWULsUidVLvTov5te84PxAkBHQAAAAlTv3ubgp9vMdUzB23TrvbOrlAeD25YCNDp8xt15TLqD1nWATRFQAcAAHAI80qbV/vpGtV+tMlUj4QLtaXn6Y6vUO72Fb7dcH6jbq8Usgroe9t03pZyeis6wE4EdACAa3lrt8pbu9VUj2T1UySrXwJaBDTFvNLmhSv3K3K0zrJuh5ZsdUdIc1ioSjLC1vU4SIWt6JA+COgAANfy1m6Vv3K5qR7KFQE9CfTNypNyo9SBr3n8HSWPz7pug7jMf0ZMRuiwZUA3QocT0BoguRHQAQCAI5JpO7VofOUl8pWbV5oPFwxUuGBgAlqUfjz+HHksAzqLtDU4+v5i1W1cYaoHhnxP7b57aQJa1Dr+wgJlDTb3VPsL7eu9jrkNWrV5n/tkE5eV7uEKBHQAAJC2fOUlyvzkdVM9KBHQkTTqNq5Q7bo3LB9zQ0DPKCyUP2AO457OhbY9R8xt0KrNw9uTDSM90ICADgAAgITxde0lb4eulnWnF3BDfHgC3WT4O1nWATRFQAcAAMctsmujIrs2mureXkPk7TUkAS2C22R95zz5uvY21VnALX6M6s0yqjeb6jF7pVvBEyiQJ8MqoB+7tk6vsh7w+tUrq4tlPVmwFR0aJM+7EgCAVopk9VMo17qO+Ijs2qjQB4tMdb9EQFdqzCt1Orw5/b3wZLaTv9DcTk9mO8ee025GqEqG5SJr9qyCblRvVmTvm6a6t9u59gT0WPPD5fwq63WRkHbVHjDVT4r0avO57ZLoreiQPAjoAADXYjs1JLtUmFfqdHhzmhE8qlCZ+QZD5oljE9Ca4+P2VdDtupkDpAMCOgAASFvhgoEKRqkDySJQ/G2p9ivrOlJCRs++Mob0t6wjvRDQAQBA2mI7tdSXCnN72w0/VYGe5tfg7XZqAloDJ/jzsuUdZN6W0puXnYDWIJEI6AAAAEhZzO2FG/A+RQMCOgAAOG7eXkMsf5mwa4E4b+1WeWu3muqsPxA/TvdABz9/XcEv3zPVMweMU+ag8215DsQWaxE3p1dYbzhXW7fTi7WYoR3nP/r+YtVtXGGqB4Z8z5a96NmKDg0I6AAAJIjv0P/JV73eVA+3H6Zwp9Pj36Dj4PR2at7arfJXLjfVQ7nuWK0/o2iossdNs6zbJVKxXJHKNaa6N3ekvHlntfn8RvCAFD5qXbdB8Mv3dHT1a5aP2RHQU2Fub3OroNtx/mjn2rL34zavsN7cTRg7wn6sxQz7dzu3zeev27hCtevesHzMnoAeeys6pA8COgAACeKrXi//kX9ZPuaWgI7Y4rGdWqRyjYyD/zTXJVsCuoyQZFgspWeE2n7uOMjoeYJ8GeaA7u12QgJac3zcvgq60zdhgFRCQAcAIEWlwvBwT/0+ecLmvZ499ftsOX/WV+8ps2ytqR4sHKHaHuNseQ6nGaGqKFtw2bNHNlJfrOHhOMbpveiBBgR0AABSVDyGhzt9E8BTXxEloFe0+dySlFm2Vn6LeaWSXBPQFWWPbNm0R7bTNwDClRWKHK2zrNvB6eHhUuyA64aQG2t4uNQr/g1KQkbtbstRI0btblvOH4/3KdyBgA4AAI6b2+eIowUcvgEQrtwfJaDvt+X88QjJsQIuAStFhI60rt5KbrmZA+cR0AEAwHEL79mu8FZzD7r6DZBybXgCj1+GJ9OyngqcXiHblvN7vJI8Uept5+9WrPrSLyzrbpEKe61HY8cK6PHgdA90RlF3KWy+KZVR1N2Wz5nbR2HAPqnx0w0AABcKtx/WqnoyCu/ZodCn20x1f7sd8g624QmMkDwuXqCsOe8f2Kx3KzaZ6uPzTmrxL/ae7CIZtV9Z1rdUl7d5BW6Pr70MizDu8bVv0dc3x184VL7cDZZ1t0jkHtbx2AatrTIHWE8XiVY/Hk4H2azBJyirT735gfYn2PI5YxQGGhDQAQBIkHCn01mtPc3tq6tSVci8hdm+upbP7/Z2GKxIjfkmibeDHXdIJPlzJI/Puo6EsyMcOn3+zEHns1o70EIEdAAAUlQkq59CudZ1tzAy8mX4zEHQyMi35fyRmqOKeM1D6CM15tCcrGIO7a12z+twSioMHXZ6lXXeQ83z+DvKsLhR5fF3TEBrkMoI6AAApKh4bKd2LECbf0G1K0AbGXlRAnqeLef3VpZJBw6Y67lltpw/FYT2B1W/2dyjn1EclH9A28+fUTRU2eOmWdbtEDnwD0UqzCv1e/O+J59dATfQTYa/k2XdDqyynnjevO8pYjFqxJs7UookoEFIWQR0AABw3IyMPBkWv7TaFaDRPKfDW2hflWo/s5jjnmvPNmsZRUNtC+NW4jE/3BMokCfDKqAnxxzw5nADoHnevLPkzTvL+kGLKQDA8SKgAwCA4+btNcTylwlvryG2nN/wBBTJ7GFZL62tUGmtea/svll56pvljhsE+YEc5fjbWdbtYMcK3J5AN8nB3uFUwB7WiZfIqQx2fM5CB8IKlpr/Lcj0h5XJRy2tENABAMBx8/YaYlsYt+Ix6uQNmntvI9mDVVpboXcrS8xflKukCejNhYZe7bropI7mHspe7brY8vx2rOTt+t7hUJXlPu5GyJ4RAPEQaxu3QLu+6pVlfr8EvPb8mm9H+IxHeHb7KuihvQdVu36dqe7N+bYyByWgQUgYAjoAAEhftTVSxGICaW2NLadvLjTURULaVWueA39ShGHFtgkdtgzoCpn3tD5eTofDWMP06wLOvofsuMnj9vDcHKdX0kd6IaADAIC0Fe7QXZ6MnZZ1pIZUWH3b6UXoACQPAjoAAEhb9T1GybPfvGJ7fY9RCWjN8XF6/rPTq6w7zdN+gIyjOyzrdok1BN0OTk8zMOoPypDXsh4PW6rLtaXa/L2yo/feLpGK5YpUrjHVvbkjJdmzawUgEdABADgubligzFu7Vd7araZ6PLZfQ/w4vQhWrFXW3RCs4sHpleJj3gAItH0oe6TyQ8lijnjE45Wv51VtPn9z3DBEPFK5RsbBf5rrkpRzTtzbg9RFQAcA4Di4YYEyb+1W+SuXm+qhXLkmoEey+imUa13vqxzJ4rFk+f6nAzcEq3hss+a0mK8hYMMTBA/IcjPvoHlue7Jy+0r6bh+pAvsQ0AEAiCJWDzSOSWQvfTKNVoimudBgxwrZsbihh9vpFb7jMX/b6eeIdX6n30N2iEd4jsd2atHYcQ3qS99T7SfLzA8Yh7QjrzDpP8ewDwEdAOBakV0bFdm10VS3a+uvWD3QEqtsS5Lv8AfyV/3DVA/lnGZLQHd6FEC4YKCCUep2aC402LVCdrSAu6X6aJt7uGOd3w6xVvjeqpw2BxMjeEAKH7Wu2ySRW9ER0prn9I0qO85Tu+F11X22wfxApFZbBo9P+pEqsA8BHQDgWpFdGxX6YJGp7pcc3Zsb/+apr5AnbN5P2lNvnp+fjMIFA20L44kSK+DacSPJ6fPHYscQeuPodil8xLruEm4fpp/obdbcMBVD4drW1ZGyCOgAAAAOqd++QfXbzb1isRZeSzZOL1Dm9PmPBRwjSt0esYZwu2GagTK7SsF91vU4sGOIuNMjPby5I61m6X+9irsNjPrW1ZGyCOgAAByHvll5Sb9AWawF1hAf9ds3qOa950z17HHTXBTQo/fe9u9iQ7ByfAG0KL3M0erHIdZUhi17P25z763Tc9x9BecpEig01W0Ln82wa6pHokZ62IIedHyNgA4AwHFwwwJlbKcGpyVVL3A0kbrW1ZOQ03PcvXlnyZt3li3nSlWxtlmz5XtnhFtXR8oioAOAC7lhD27J/ftw0wPdPCMjX4Yvx7JuB65B82INEe/fZUTSr/Ad2h9U/WbzOgYZxUHtC1Spqr7G9Ni+OvPxiRTa9nsZlWtMdU/uSKn9GW0+f8xpAA5zxRB9xWMqxh4pYh5ubtTtafO5JSmjbw/JMN80yujbwxUr9cM+BHQAcCE37MEtOb8Ct7fXEMsfZHYtEOeWGwmJFO44WkaG+T1n1/fN6WsQCO9UILzTVK/z9Vadr7djzxsvdoQop4dXh/ZVqfazr8znz62SetjwBB6fZFjMHvb4bDj5MUblGiloDrFG5RpbAnrk4IdS0HxTNnLwQ/l6T2/z+WOxY4G1eGyz5vRUDKf3is8aVKSsIosH2hUl3c0QOIuADgBwLbu2U8Pxc/tNjEB4p3KCq031qky5JqA7Pfw5kVuI5QdylJORbVlvOW8r60kouFfW4dAdq7gnco9yKfl6+y2Fj8p6MUPzFoFIbQR0AACicPsQfSReRtFQZY+bZlmXpHcrNmldZanp8eG5fTU+7ySnm9cijvd+ev2SN9O6bgePxzL3yOOx5/ySFDJv49ZQt2V4ssPzkyMVyxWxGKJ/bJG4tk9XiXV+u+a+G3V7pYj5+2HbVnQWw9tj1lsr2vvRzvcpXIGADgBAFE4P0XcaNxgSr7nt1NZVlur9g+atoSS1OKA7PT855grldsxPDh6w7iUMHtC+OhvmoPtzpKDFStj+1vTCNyMSZaXtSK0tvbehvYcUqjBfY39eJ2W06czHxFoATTnntPn84a9ekiz2nQ/XbLVvcbrarySFotRt4Iky4iJavbXq9reujpRFQAcAIEW5/QYDWibmNmUOs2N+shE6bNkTbIQOHwvoIXN4b1VAz+hsvcd3RueWn6NZVl30seqtE6qoVu3n5jnoWYNc8qt8cL8svxdBG8On0/uIR1uzwLa1DKK1k33Q041LPtUAgG+yYw/uePSuGp6AIpnmVZ4Mjx2bGyMZuL2X3h85IJ9hHp7sj9iz8FNcePySx2KIuMcdv+b5CwuUNdgc5v2FBcfmoPvbmR5r3Rz0OPAGpIjFKACvTf/WOdx7a4SqotwkqYrLEH07RmKEKo4oVG6+ieEv8NgyykCZXa1v9GR2tePsQCN3/MsNAGjCju3U4tG76jHq5A2ahxdGsgfbcn6neer3yRM299R56i1+SUtTvsMfyF/1D1M9lHOaKwK6FG1+pz3zPuMx97Z+V4lCpebhw/6+XeTv3/bzG9WbZVSbh+HbNQc9o7BQfosF5zydC21ZJC60e4dCZebPrL8wSxl2rTHpbRcloLezZ52BjE6SLIZqWyzed1zq9kmGxfDwun32LLDWzPxtO0ZihMoPWo8ykN+mreKij5Kw5/yeKM/BHPR0Q0AHACAKT31FlIBu/iUwXbn9exTydlbY08GybodYc3vtCuihr3ap9nPzcPaszF22nN+o3qzI3jdN9WMLx7V9f2mnhcr3Wgc3O0fyxBhebcc6A8roIsugltGlZV/fnBhz6O3h7BSAYyxWuf+6bscNgFjbrNlyfgI6vkZABwBYKq2tUGmt+ZdaO3rv3cLIyJfhM/fUGRltX9U4HfAekoyarVIkaF3XsV5UK9HqluqjzMeur7KlZy+8b7lUvc26nn91y9sZRWh/UPWbza8hoziofYG2LxIXPlKnSK25dzh8pK51DY3F31EKH7au28Hjk2VQ8/js6b11evi2N0OKWPTQe20ZfH5MtCkddk31sBph8HX9i8N7VF5baXroi8N7LKcHALEQ0AEAlkprK/RuZYn5gdzWzXVPFDvCoZGRFyWg2/P6m5u/3dbXEMnqp1CudT0e3P4eskXdXln2in29gFuvdl1VZxFcerVrRTAyogRNo05vla3XBxa9t2M6F2tG/0ktO//R7bJcHfvodlXWV8trERwr66tbdm5Jof01qi0xv889XWok8xIWrRY5Um8Z0CNHjvV627PVnbM9xP6OR5Q1yNxb7u94xJ7e27oo+6zX7bXnBkBGZ6nOYgqAnQv1ObwVneqjLGhXv19fHNmjI2Hz5/CLI3ta8QR+SeabeZLfFdsxwj4EdABASnI6HNpxA6C5dQDa+hrcslBbstodPqTdYfPq6D19ndTT18K5v82EhkW7VuvjQ+b54yd3KtKdA6e2sKXRw+HGqp2WwWFj1c4WnlsxX8PKfZu0p67S9NCRUK0u6zm2ZeePsc3awWC1jobNoeVgsBU3ACoqpZA5fIYqKiVJ71V8po+rdpgePxw62vLwEzwYtb69Zp+CFjdhtte0fC0Lf6ca+TtZfeZr7Om9jTYlpb7CphsAUV7r13VbttNTtCAe1pqDW7Wrxhyw1xzc2uLvUaiiRqEKcxv9edk6Umg9FeBIqDVTBKzC+bH60vL1+uJImemR8rpKAnoKIqADQJqKR+9qontwnUTv8DFunwZQ5+utKosF0Ot8vbU7fEgfBs3BTZl9Wh7Qm7G9Zp/qLIbOtia8xVJjEc5j1S3FCOgHguYV8CVFrVueJsY2azuOVqjaoq07jrZ8jYNIjXXwaagfDtUqbJgD/OHWhKsYw5/3B49Y3kLZ34rvUSx2fI+c5/wWYv68bGUNMv/b68/LtuVzFqqoibLVXZ5CBdafkZBNvfcHgtWKWLyLDrTiRhXcg4AOAGkqHr2rbu/BjXWDYUPFl/oqWGl6bMORHTojd5DjbUsW4Y6jLYf8R7L6af/hAzocNoec/fX2BBM71Pl6q87X2/KxyvoSVRvmcFdptVp3NL4sKWQRhn1ZkqT6iPUv8NHqVvx5HZU1yPzLuz+vo+qt5v1KUevWovfQWwVbSVHrlmp3Wz9H7W7tr4sSbuta8R7yRllk6+u6Lc8RY4Gy2rB1CI1Wby172h+dHb3PzVl7cJvlDYu1B7fpqt6ntfn80UZctGYkRiz1UW7QRKu3lh03wuAeBHQAAKKIdYNhV92HClr88rWrLspQ1yRkxzD9WN+j/Qd2OBrQX6tYp4+PmIdqn9yhty7MG97m81dGjrY9oHuzJJmHyR+rR+9ha03Pmz+/o/x5VvugBxSKEpSj1S1FO9aIKBwlmEarWx9sHjbcUK+2eP9Iilq34vF5rdfG9nljnqs1zxEroNdHGXodrd5aB0PWn6do9db6tGqnZe/zp62ZJtGMbUfNuxDEqluJ1cNdn+fsNQhFonzOotRbff4o769odbgbAR0AYKlvVp6UG6WOlOD0MP2uGR3U0Wfeyqprhnlbs+Px8ZGd2hZlbqsdAd0OnuwTZIQqLeu2ycyT6nZb1r1Bj2XntNfTiq2b/B0ki9dwrN7y00Q9fV77KEOT28vn9VpOLfZ5vS0+v8dvfWy0uts4vYGZ1fz5WPV05Pf6LMO43+tLQGvgdgR0AIAlt2+F5YYbDM3N0XfDa4jlWEBvZ1lPF75eP5BRPcZU97QvliRleH2WATSjFb/Ye7uerkjFCst61t6jCobMPf5ZPose92gCBVLIYhRAoECekEeGRRT0tGLv5mMjACz2JPdkyifrEB2tbsWTESWgf10P+DJUFzKHzYDPxi3AXMzrseEmT4rL9mWqNmKespDdms9ZDOyQnl7SOqAvWLBADz74oMrKyjR06FA9/vjjGj16dNTjFy9erLvvvlulpaUqLi7W/fffr3PPPbfxccMwNGfOHP3pT39SZWWlTj31VP3hD39QcXFxPF4OAOAbnL7BEPBa/wiNVrfS3Bx9t98kcVpdpN7yl9Y6i1+Uj0eut53ae8y/YOd6zTcdovG0L24M41b6ty9QtcUK4i1eHVuSt8tp8gTMx3vaF6vLwVU6bBHQu2S0b/H55fHKeg9ur7J9mZarxLcqmMQYQp/p9VvewMhsxecso4/1gn4N9dyMbFVZfI9yM7Jb/BySV9bD3N3RSx9rhfJInnVffMSwq4/eHuEjwSj73UdbHb2V/F75crMs69Hej615n8bi9CgJJJe0DeiLFi3SrFmztHDhQo0ZM0bz58/XpEmTVFJSom7dupmOX7Vqla688krNmzdP5513nl544QVNnTpVH330kYYMGSJJeuCBB/T73/9ezz77rE444QTdfffdmjRpkjZt2qSsLIsPNADAtQKeDMvei4CHXrd4sZoXG6veWnYE9OaM7NxfByz2DB/ZuX+LzxHrJkCG919R6q34FdCIyDIKGBFl+wJRArpFj3hU0edv+zxRetCj1K20H95dGt496uMBb5TPsrc1n+XoEcoNvZ+x5m9HDehJFg8jUQJ6xK6AHoooXGlelyCjsEPUmxXJdhMD7pC2Af2RRx7Rddddp+nTp0uSFi5cqDfeeENPP/207rjjDtPxjz32mCZPnqxf/OIXkqTf/OY3WrZsmZ544gktXLhQhmFo/vz5uuuuu3ThhRdKkp577jkVFBRoyZIluuKKK+L34gAAjju5g/XK39Hq6cjtQ/R7+jpJmX2s6zbp377AciXs1vSgx9Inu6v2WOyR3Se7a4vP4ckuklH7lWW9y9H2qggeNj3WJbMVPfS+bClssaCZL1tF2Xk6FDL37BZl2/ceGtnZehRLtLo1r6z34fYqy5uhoxajOrJadQMgOo/aPs0gFr/HZ7kgpt+TXPOrvR0y5c0yRxtvB3uGmccSj/cp0kdaBvRgMKi1a9dq9uzZjTWv16sJEyZo9erVll+zevVqzZo1q0lt0qRJWrJkiSRp27ZtKisr04QJExof79Spk8aMGaPVq1cT0AEgxVyYNzxpFiI7Xk4HaKeH6PcKdFGVxUrbvQJdbDl/T18nW8O4lf7tC2wL41ZO7NBDpTXmntETO/Ro8Tm8HQYrUrPNsj4kI8dye6whOeYbG1Fl9ZSqv7Cs2zHCQJ5MyWI1fn09OuKynmN1Wc+xLT+fFX8H63n6/g6aWjhKaw5uNT3UqhsAngzJsJi64clQl4z2ltegVTdJPFFGPHgC6p6Va7mneves3JafvxleeSx75L2tuMngixLQfXEI6La8T2Pwy2u5YrvfJVMo0DppGdArKioUDodVUND0B2JBQYE+//xzy68pKyuzPL6srKzx8YZatGP+U11dnerq/j0srKqqqnUvBACANnD7HPehHXqr0qLXaiijGOImP5CjHIu52vmBnAS0JgpvQApbBHRva4bhN/cc0bfTs+UGgDdLsto33ZulIR176/2Dm00PDenYis9BRq4ki50AMnLVNztfZXWVpof6Zue3/Pzyy3rJ/2NRJC+zo/YGzb8H52V2bMVzAKkhLQN6spg3b57mzp2b6GYAAACgLXxR1hqKVm8tb0aUEfQZGp7b1/JLotUTwuONMhH/WA9wVpQV86PVgVSWlgE9Ly9PPp9P5eXlTerl5eUqLCy0/JrCwsKYxzf8t7y8XN27d29yzLBhwyzPOXv27CbD5quqqtS7N3f9AQBoCbfPcY8HO+a4e9oXy9vtXMt6f+W0+fzezmOs1z/vPMaeOfo5Q6WqDdZ1m3i7jlfk4AfmemfzFnvHw9N5rIzKNeZ67kiNzztJ4/NOatP5MwaMi1q35QZAh5OkI59Z1AdLkk7tOlCBNk4D8OdlK2uQ+bPvz8tWR1+WDltMh+nYihsosc5vz1oSPlnfhfGpKDtP2y2mqjDHPTV5DCM9lxccM2aMRo8erccff1ySFIlE1KdPH82YMcNykbjLL79cNTU1ev311xtrp5xyik4++eTGReJ69OihW2+9VbfccoukY4G7W7dueuaZZ1o0B72qqkqdOnXS9u3blZOTREPDAABIAXv27HH0/IMHD3b0/ABgt4b8cejQIfJHkkjLHnRJmjVrlq6++mqNHDlSo0eP1vz581VdXd24qvu0adPUs2dPzZs3T5L085//XOPHj9fDDz+sKVOm6MUXX9SaNWv01FNPSZI8Ho9mzpyp3/72tyouLm7cZq1Hjx6aOnVqol4mAAAAAMAl0jagX3755dq3b5/uuecelZWVadiwYVq6dGnjIm87duyQ1/vvlRFPOeUUvfDCC7rrrrt05513qri4WEuWLGncA12SbrvtNlVXV+v6669XZWWlTjvtNC1dupQ90AEAAAAAzUrbIe7JiCHuAAA4hyHuANAUQ9yTD5vnAQAAAACQBAjoAAAAAAAkAQI6AAAAAABJgIAOAAAAAEASIKADAAAAAJAECOgAAAAAACQBAjoAAAAAAEmAgA4AAAAAQBIgoAMAAAAAkAT8iW4A/s0wDEnS4cOHE9wSAABSz5EjRxw9f1VVlaPnBwC7Nfy71ZBDkHgE9CSyf/9+SdKQIUMS3BIAAAAA6eLw4cPq1KlTopsBEdCTSpcuXSRJO3bs4AOSoqqqqtS7d2/t3LlTOTk5iW4OHMA1Tg9c59THNU59XOPUxzVunmEYOnz4sHr06JHopuBrBPQk4vUeWxKgU6dO/COS4nJycrjGKY5rnB64zqmPa5z6uMapj2scGx2DyYVF4gAAAAAASAIEdAAAAAAAkgABPYkEAgHNmTNHgUAg0U2BQ7jGqY9rnB64zqmPa5z6uMapj2sMN/IYrKkPAAAAAEDC0YMOAAAAAEASIKADAAAAAJAECOgAAAAAACQBAjoAAAAAAEmAgG6z9957T+eff7569Oghj8ejJUuWNHm8vLxc11xzjXr06KHs7GxNnjxZmzdvbnLMli1b9P3vf1/5+fnKycnRZZddpvLy8ibHHDhwQFdddZVycnKUm5urH/3oRzpy5IjTLw+K3zXu27evPB5Pkz/33Xef0y8PkubNm6dRo0apY8eO6tatm6ZOnaqSkpImx9TW1uqmm25S165d1aFDB1188cWma7hjxw5NmTJF2dnZ6tatm37xi18oFAo1OWblypX6zne+o0AgoAEDBuiZZ55x+uVB8bvGK1euNH2OPR6PysrK4vI605ld1/hnP/uZRowYoUAgoGHDhlk+18cff6zTTz9dWVlZ6t27tx544AGnXha+IV7XuLS01PJz/P777zv58vA1O67zhg0bdOWVV6p3795q166dBg8erMcee8z0XPxMRjIgoNusurpaQ4cO1YIFC0yPGYahqVOnauvWrXrttde0bt06FRUVacKECaqurm78+okTJ8rj8WjFihX65z//qWAwqPPPP1+RSKTxXFdddZU+/fRTLVu2TP/7v/+r9957T9dff33cXmc6i9c1lqRf//rX2rNnT+Ofn/70p3F5jenu3Xff1U033aT3339fy5YtU319vSZOnNh4DSXp5ptv1uuvv67Fixfr3Xff1VdffaWLLrqo8fFwOKwpU6YoGAxq1apVevbZZ/XMM8/onnvuaTxm27ZtmjJlis4880ytX79eM2fO1I9//GO9/fbbcX296She17hBSUlJk89yt27d4vI605kd17jBtddeq8svv9zyeaqqqjRx4kQVFRVp7dq1evDBB/WrX/1KTz31lGOvDcfE6xo3+Pvf/97kczxixAjbXxPM7LjOa9euVbdu3fT888/r008/1S9/+UvNnj1bTzzxROMx/ExG0jDgGEnGq6++2vj3kpISQ5KxcePGxlo4HDby8/ONP/3pT4ZhGMbbb79teL1e49ChQ43HVFZWGh6Px1i2bJlhGIaxadMmQ5Lx4YcfNh7z1ltvGR6Px9i9e7fDrwrf5NQ1NgzDKCoqMh599FHHXwOat3fvXkOS8e677xqGcex6ZWRkGIsXL2485rPPPjMkGatXrzYMwzDefPNNw+v1GmVlZY3H/OEPfzBycnKMuro6wzAM47bbbjO+9a1vNXmuyy+/3Jg0aZLTLwn/walr/M477xiSjIMHD8bvxcDS8Vzjb5ozZ44xdOhQU/3JJ580Onfu3HjNDcMwbr/9dmPgwIH2vwjE5NQ13rZtmyHJWLdunVNNRyu09To3+MlPfmKceeaZjX/nZzKSBT3ocVRXVydJysrKaqx5vV4FAgH94x//aDzG4/EoEAg0HpOVlSWv19t4zOrVq5Wbm6uRI0c2HjNhwgR5vV598MEH8XgpiMKua9zgvvvuU9euXTV8+HA9+OCDpuHRiI9Dhw5Jkrp06SLp2J34+vp6TZgwofGYQYMGqU+fPlq9erWkY5/Tb3/72yooKGg8ZtKkSaqqqtKnn37aeMw3z9FwTMM5ED9OXeMGw4YNU/fu3XX22Wfrn//8p9MvBxaO5xq3xOrVqzVu3DhlZmY21iZNmqSSkhIdPHjQptajJZy6xg0uuOACdevWTaeddpr++te/2tNotJpd1/nQoUON55D4mYzkQUCPo4Z/LGbPnq2DBw8qGAzq/vvv165du7Rnzx5J0ne/+121b99et99+u2pqalRdXa1bb71V4XC48ZiysjLT8Ei/368uXbowrzHB7LrG0rE5cS+++KLeeecd3XDDDfrd736n2267LVEvLW1FIhHNnDlTp556qoYMGSLp2GcwMzNTubm5TY4tKCho/AyWlZU1CW4Njzc8FuuYqqoqHT161ImXAwtOXuPu3btr4cKFevnll/Xyyy+rd+/eOuOMM/TRRx85/KrwTcd7jVuiJe8DOM/Ja9yhQwc9/PDDWrx4sd544w2ddtppmjp1KiE9Aey6zqtWrdKiRYuaTA/lZzKShT/RDUgnGRkZeuWVV/SjH/1IXbp0kc/n04QJE3TOOefIMAxJUn5+vhYvXqwbb7xRv//97+X1enXllVfqO9/5jrxe7qckOzuv8axZsxr//+STT1ZmZqZuuOEGzZs3r0nvO5x10003aePGjabRDUgdTl7jgQMHauDAgY1/P+WUU7RlyxY9+uij+stf/mL788Ean+PU5+Q1zsvLa/IzedSoUfrqq6/04IMP6oILLrD9+RCdHdd548aNuvDCCzVnzhxNnDjRxtYB9iCgx9mIESO0fv16HTp0SMFgUPn5+RozZkyT4eoTJ07Uli1bVFFRIb/fr9zcXBUWFqpfv36SpMLCQu3du7fJeUOhkA4cOKDCwsK4vh6Y2XGNrYwZM0ahUEilpaVNfuGHc2bMmNG4CGOvXr0a64WFhQoGg6qsrGxyx768vLzxM1hYWKh//etfTc7XsKLsN4/5z9WEy8vLlZOTo3bt2jnxkvAfnL7GVkaPHk1QjKO2XOOWiPY5bngMznP6GlsZM2aMli1b1qZzoHXsuM6bNm3SWWedpeuvv1533XVXk8f4mYxkQZdsgnTq1En5+fnavHmz1qxZowsvvNB0TF5ennJzc7VixQrt3bu38S7t2LFjVVlZqbVr1zYeu2LFCkUiEY0ZMyZurwGxteUaW1m/fr28Xi+rP8eBYRiaMWOGXn31Va1YsUInnHBCk8dHjBihjIwMLV++vLFWUlKiHTt2aOzYsZKOfU4/+eSTJjfTli1bppycHJ100kmNx3zzHA3HNJwDzonXNbayfv16de/e3eZXhP9kxzVuibFjx+q9995TfX19Y23ZsmUaOHCgOnfu3PYXgqjidY2t8DmOH7uu86effqozzzxTV199te69917T8/AzGUkjgQvUpaTDhw8b69atM9atW2dIMh555BFj3bp1xvbt2w3DMIyXXnrJeOedd4wtW7YYS5YsMYqKioyLLrqoyTmefvppY/Xq1caXX35p/OUvfzG6dOlizJo1q8kxkydPNoYPH2588MEHxj/+8Q+juLjYuPLKK+P2OtNZPK7xqlWrjEcffdRYv369sWXLFuP555838vPzjWnTpsX1taarG2+80ejUqZOxcuVKY8+ePY1/ampqGo/5r//6L6NPnz7GihUrjDVr1hhjx441xo4d2/h4KBQyhgwZYkycONFYv369sXTpUiM/P9+YPXt24zFbt241srOzjV/84hfGZ599ZixYsMDw+XzG0qVL4/p601G8rvGjjz5qLFmyxNi8ebPxySefGD//+c8Nr9dr/P3vf4/r601HdlxjwzCMzZs3G+vWrTNuuOEG48QTT2z8979h1fbKykqjoKDA+OEPf2hs3LjRePHFF43s7Gzjj3/8Y1xfbzqK1zV+5plnjBdeeMH47LPPjM8++8y49957Da/Xazz99NNxfb3pyo7r/Mknnxj5+fnGD37wgybn2Lt3b+Mx/ExGsiCg26xhS53//HP11VcbhmEYjz32mNGrVy8jIyPD6NOnj3HXXXc12ZrFMI5tz1JQUGBkZGQYxcXFxsMPP2xEIpEmx+zfv9+48sorjQ4dOhg5OTnG9OnTjcOHD8frZaa1eFzjtWvXGmPGjDE6depkZGVlGYMHDzZ+97vfGbW1tfF8qWnL6vpKMv785z83HnP06FHjJz/5idG5c2cjOzvb+P73v2/s2bOnyXlKS0uNc845x2jXrp2Rl5dn3HLLLUZ9fX2TY9555x1j2LBhRmZmptGvX78mzwHnxOsa33///Ub//v2NrKwso0uXLsYZZ5xhrFixIl4vM63ZdY3Hjx9veZ5t27Y1HrNhwwbjtNNOMwKBgNGzZ0/jvvvui9OrTG/xusbPPPOMMXjwYCM7O9vIyckxRo8e3WRLLzjLjus8Z84cy3MUFRU1eS5+JiMZeAzj65WrAAAAAABAwjAHHQAAAACAJEBABwAAAAAgCRDQAQAAAABIAgR0AAAAAACSAAEdAAAAAIAkQEAHAAAAACAJENABAAAAAEgCBHQAAAAAAJIAAR0AAAAAgCRAQAcAAAAAIAkQ0AEAAAAASAIEdAAAAAAAkgABHQAAAACAJEBABwAAAAAgCRDQAQAAAABIAgR0AAAAAACSAAEdAAAAAIAkQEAHAAAAACAJENABAAAAAEgCBHQAAAAAAJIAAR0AAAAAgCRAQAcAAAAAIAkQ0AEAAAAASAIEdAAAAAAAkgABHQAAAACAJEBABwAAAAAgCRDQAQBwwCeffKJLLrlERUVFysrKUs+ePXX22Wfr8ccfT3TTAABAkvIYhmEkuhEAAKSSVatW6cwzz1SfPn109dVXq7CwUDt37tT777+vLVu26Msvv0x0EwEAQBIioAMAYLMpU6boww8/1BdffKHc3Nwmj+3du1fdunVLTMMAAEBSY4g7AAA227Jli771rW+ZwrkkUzh//vnnNWLECLVr105dunTRFVdcoZ07dzY55v/+7/906aWXqk+fPgoEAurdu7duvvlmHT16tMlxZWVlmj59unr16qVAIKDu3bvrwgsvVGlpaZPjnnzySX3rW99SIBBQjx49dNNNN6mysrLJMWeccYaGDBmiTZs26cwzz1R2drZ69uypBx544Li/LwAAIDYCOgAANisqKtLatWu1cePGmMfde++9mjZtmoqLi/XII49o5syZWr58ucaNG9ckMC9evFg1NTW68cYb9fjjj2vSpEl6/PHHNW3atCbnu/jii/Xqq69q+vTpevLJJ/Wzn/1Mhw8f1o4dOxqP+dWvfqWbbrpJPXr00MMPP6yLL75Yf/zjHzVx4kTV19c3Od/Bgwc1efJkDR06VA8//LAGDRqk22+/XW+99Vbbv0kAAMCEIe4AANhs2bJlOueccyRJo0eP1umnn66zzjpLZ555pjIyMiRJ27dvV//+/fXrX/9ad955Z+PXbty4UcOHD9fcuXMb60ePHlW7du2aPMd9992nO++8U6WlperTp48qKyvVuXNnPfjgg7r11lst27Vv3z716tVLZ5xxht566y15vcfu0y9YsEAzZszQ008/renTp0s61oP+7rvv6rnnntMPf/hDSVIwGFRRUZFOPfVU/b//9/9s/I4BAACJHnQAAGx39tlna/Xq1brgggu0YcMGPfDAA5o0aZJ69uypv/71r5KkV155RZFIRJdddpkqKioa/xQWFqq4uFjvvPNO4/m+Gc6rq6tVUVGhU045RYZhaN26dY3HZGZmauXKlTp48KBlu/7+978rGAxq5syZjeFckq677jrl5OTojTfeaHJ8hw4d9IMf/KDx75mZmRo9erS2bt3a9m8SAAAwIaADAOCAUaNG6ZVXXtHBgwf1r3/9S7Nnz9bhw4d1ySWXaNOmTdq8ebMMw1BxcbHy8/Ob/Pnss8+0d+/exnPt2LFD11xzjbp06aIOHTooPz9f48ePlyQdOnRIkhQIBHT//ffrrbfeUkFBgcaNG6cHHnhAZWVljefZvn27JGngwIFN2pqZmal+/fo1Pt6gV69e8ng8TWqdO3eOegMAAAC0jT/RDQAAIJVlZmZq1KhRGjVqlE488URNnz5dixcvViQSkcfj0VtvvSWfz2f6ug4dOkiSwuGwzj77bB04cEC33367Bg0apPbt22v37t265pprFIlEGr9m5syZOv/887VkyRK9/fbbuvvuuzVv3jytWLFCw4cPb3XbrdolScyOAwDAGQR0AADiZOTIkZKkPXv2qH///jIMQyeccIJOPPHEqF/zySef6IsvvtCzzz7bZFG4ZcuWWR7fv39/3XLLLbrlllu0efNmDRs2TA8//LCef/55FRUVSZJKSkrUr1+/xq8JBoPatm2bJkyYYMfLBAAAx4kh7gAA2Oydd96x7GV+8803JR0bYn7RRRfJ5/Np7ty5pmMNw9D+/fsl/bsX+5vHGIahxx57rMnX1NTUqLa2tkmtf//+6tixo+rq6iRJEyZMUGZmpn7/+983Od9///d/69ChQ5oyZcrxvmQAAGADetABALDZT3/6U9XU1Oj73/++Bg0apGAwqFWrVmnRokXq27evpk+frtzcXP32t7/V7NmzVVpaqqlTp6pjx47atm2bXn31VV1//fW69dZbNWjQIPXv31+33nqrdu/erZycHL388sumeeBffPGFzjrrLF122WU66aST5Pf79eqrr6q8vFxXXHGFJCk/P1+zZ8/W3LlzNXnyZF1wwQUqKSnRk08+qVGjRjVZEA4AAMQfAR0AAJs99NBDWrx4sd5880099dRTCgaD6tOnj37yk5/orrvuUm5uriTpjjvu0IknnqhHH31Uc+fOlST17t1bEydO1AUXXCBJysjI0Ouvv66f/exnmjdvnrKysvT9739fM2bM0NChQxufs3fv3rryyiu1fPly/eUvf5Hf79egQYP00ksv6eKLL2487le/+pXy8/P1xBNP6Oabb1aXLl10/fXX63e/+13jFnAAACAx2AcdAAAAAIAkwBx0AAAAAACSAAEdAAAAAIAkQEAHAAAAACAJENABAAAAAEgCBHQAAAAAAJIAAR0AAAAAgCRAQAcAAAAAIAkQ0AEAAAAASAIEdAAAAAAAkgABHQAAAACAJEBABwAAAAAgCRDQAQAAAABIAgR0AAAAAACSwP8H4nnHJ3oQk8IAAAAASUVORK5CYII=' width=1000.0/>\n",
       "            </div>\n",
       "        "
      ],
      "text/plain": [
       "Canvas(toolbar=Toolbar(toolitems=[('Home', 'Reset original view', 'home', 'home'), ('Back', 'Back to previous …"
      ]
     },
     "metadata": {},
     "output_type": "display_data"
    }
   ],
   "source": [
    "plot_opts = {\\\n",
    "             'linestyle' : 'None',\\\n",
    "             'alpha': 0.8,\\\n",
    "             'marker' :'s',\\\n",
    "             'markersize' : 4, \\\n",
    "             'markeredgecolor' : 'None',\\\n",
    "            }\n",
    "            #  'cmap' : 'tab20c',\\\n",
    "            #  'clim' : [0, 12]\\\n",
    "            # }\n",
    "\n",
    "color_rook1 = np.array([80, 200, 140])/255.0\n",
    "color_vet1 = np.array([230, 100, 20])/255.0\n",
    "color_backup1 = np.array([250, 200, 70])/255.0\n",
    "    \n",
    "fig, ax = plt.subplots(nrows = 2, ncols = 1, sharex=True, figsize=(10, 10))\n",
    "ax[0].axvspan(2009.5, 2010.5, facecolor = '0.2', alpha = 0.2)\n",
    "ax[0].axvspan(1990, 2009.5, facecolor = '0.7', alpha = 0.2)\n",
    "\n",
    "pts_rook, = ax[0].plot(y_rook+0.15, apy_rook, c=color_rook1, **plot_opts, label = 'Rookie Deal')\n",
    "pts_backup, = ax[0].plot(y_backup-0.15, apy_backup, c=color_backup1, **plot_opts, label = 'Vet Backup')\n",
    "pts_vet, = ax[0].plot(y_vet-0.15, apy_vet, c=color_vet1, **plot_opts, label = 'Vet Starter')\n",
    "\n",
    "txt1 = ax[0].text(2009.7, 30, 'uncapped year', color = [0.5, 0.5, 0.5], rotation=90)\n",
    "ax[0].text(2010.7, 32, '2011 CBA', color = [0.5, 0.5, 0.5], rotation=90)\n",
    "\n",
    "ax[0].set_ylabel('($1M)')\n",
    "leg = ax[0].legend()\n",
    "\n",
    "ax[1].axvspan(2009.5, 2010.5, facecolor = '0.2', alpha = 0.2)\n",
    "ax[1].axvspan(1990, 2009.5, facecolor = '0.7', alpha = 0.2)\n",
    "\n",
    "ax[1].plot(y_rook+0.15, apy_pct_rook, c=color_rook1, **plot_opts, label = 'Rookie Deal')\n",
    "ax[1].plot(y_backup-0.15, apy_pct_backup, c=color_backup1, **plot_opts, label = 'Vet Backup')\n",
    "ax[1].plot(y_vet-0.15, apy_pct_vet, c=color_vet1, **plot_opts, label = 'Vet Starter')\n",
    "ax[1].set_ylabel('(% Cap)')\n",
    "ax[1].set_xlim([1990, 2023])\n",
    "\n",
    "\n",
    "fig.supylabel('APY')\n",
    "fig.supxlabel('Season')\n",
    "\n",
    "# plt.tight_layout(pad=0, w_pad=0, h_pad=0);\n",
    "plt.subplots_adjust(hspace=0.075,left=0.1, bottom=0.075)\n",
    "\n",
    "\n",
    "for leg_item in leg.get_lines():\n",
    "    leg_item.set_picker(True)\n",
    "    leg_item.set_pickradius(10)\n",
    "\n",
    "# for pts0, pts1 in zip(ax[0].lines, ax[1].lines):\n",
    "#     pts0.s\n",
    "\n",
    "def on_pick(event):\n",
    "    # On the pick event, find the original line corresponding to the legend\n",
    "    # proxy line, and toggle its visibility.\n",
    "    leg_item = event.artist\n",
    "    \n",
    "    match_idx = np.where([pts._label == leg_item._label for pts in ax[0].get_lines()])[0][0]\n",
    "\n",
    "    pts0 = ax[0].get_lines()[match_idx]\n",
    "    pts1 = ax[1].get_lines()[match_idx]\n",
    "    \n",
    "    is_visible = not pts0.get_visible()  # toggle visibility\n",
    "    pts0.set_visible(is_visible)\n",
    "    pts1.set_visible(is_visible)\n",
    "    \n",
    "    leg_item.set_alpha(1.0 if is_visible else 0.5)\n",
    "    leg.get_texts()[match_idx].set_alpha(1.0 if is_visible else 0.3)\n",
    "    fig.canvas.draw()\n",
    "\n",
    "plt.connect('pick_event', on_pick)\n",
    "\n",
    "plt.show()"
   ]
  },
  {
   "attachments": {},
   "cell_type": "markdown",
   "id": "19591913-8ccb-4763-b5e1-68aad4912cc8",
   "metadata": {},
   "source": [
    "## Plotly plotting"
   ]
  },
  {
   "cell_type": "code",
   "execution_count": 24,
   "id": "837048de",
   "metadata": {},
   "outputs": [
    {
     "name": "stdout",
     "output_type": "stream",
     "text": [
      "[1 1 1 1 1 1 1 1 1 1 1 1 1 1 1 1 1 1 1 1 1 1 1 1 1 1 1 1 1 1 1 1 1 1 1 1 1\n",
      " 1 1 1 1 1 1 1 1 1 2 1 1 1 1 1 1 1 1 1 1 1 1 1 1 1 1 1 1 1 1 1 1 1 1 1 1 1\n",
      " 1 1 1 1 1 1 2 1 1 1 1 1 1 1 1 1 1 1 1 2 1 1 1 2 1 1 1 1 3 1 1 2 1 1 1 2 3\n",
      " 1 1 3 2 1 1 1 1 1 1 1 1 1 1 1 1 1 1 1 1 2 2 2 1 1 1 2 2 2 1 1 2 1 1 1 1 2\n",
      " 2 1 2 1 1 1 2 2 1 2 2 3 1 2 1 1 1 1 2 1 2 1 1 2 2 2 1 2 2 1 1 1 1 1 1 2 2\n",
      " 2 2 1 2 1 2 2 2 2 2 1 1 2 2 1 2 2 2 3 2 1 2 2 2 2 1 2 3 2 2 2 2 3 1 2 3 2\n",
      " 2 2 1 2 1 2 2 2 2 2 2 1 2 2 1 1 2 2 3 2 1 2 2 1 2 2 2 2 2 2 2 1 2 2 2 2 2\n",
      " 2 3 2 3 2 1 2 2 3 2 2 3 2 1 1 1 2 3 2 2 2 3 2 3 2 2 1 2 2 2 2 2 1 2 3 2 3\n",
      " 2 2 2 3 2 2 2 2 2 2 1 2 2 2 3 2 2 2 2 2 2 2 3 2 3 2 2 2 2 2 2 2 2 2 2 2 1\n",
      " 2 3 2 2 3 2 2 3 2 2 2 2 1 1 2 2 2 3 2 2 1 2 2 2 2 3 2 2 2 2 2 2 2 1 2 2 2\n",
      " 2 2 3 1 2 2 2 3 2 2 2 2 1 3 2 3 3 3 3 3 3 2 3 3 3 1 2 2 2 1 2 2 3 2 2 2 2\n",
      " 2 2 1 2 3 2 2 3 2 2 2 2 2 2 2 2 2 2 2 1 3 2 3 3 2 3 3 2 3 2 3 2 3 3 3 3 2\n",
      " 2 2 3 2 3 3 3 3 3 2 3 3 2 2 2 2 3 3 2 3 3 3 2 2 3 3 3 3 3 3 2 2 2 3 3 2 2\n",
      " 2 2 3 3 3 3 2 3 3 3 2 1 3 3 2 2 3 2 2 2 2 3 2 1 2 3 1 2 3 3 2 3 2 3 2 3 2\n",
      " 3 3 2 3 3 2 3 3 1 2 3 2 2 3 2 2 3 3 3 3 2 3 2 3 2 2 3 3 3 3 3 2 3 2 2 3 3\n",
      " 2 3 2 3 2 2 2 2 3 3 2 2 3 3 2 2 2 2 3 2 3 2 3 2 3 2 2 3 2 3 3 3 3 3 3 3 3\n",
      " 2 2 3 3 3 3 2 3 3 3 2 2 3 2 3 1 3 3 2 2 2 2 3 3 2 2 2 2 2 3 2 2 3 3 3 3 3\n",
      " 2 1 3 3 2 2 3 3 2 2 3 3 2 3 2 2 3 3 3 3 2 3 3 3 3 2 2 3 3 3 2 3 3 3 3 3 3\n",
      " 2 3 2 3 3 3 3 3 2 2 2 3 3 3 3 3 3 3 3 3 3 3 3 2 2 2 3 3 3 3 2 3 2 3 2 3 2\n",
      " 3 2 2 3 3 3 3 3 3 3 2 2 3 2 2 2 2 2 3 3 3 2 3 3 3 2 2 3 2 2 3 2 3 2 3 2 3\n",
      " 3 3 3 2 2 3 2 2 3 3 2 2 3 2 3 2 3 2 2 2 2 2 2 2 2 2 2 2 2 3 2 3 2 3 2 2 2\n",
      " 2 2 3 3 2 2 3 3 2 2 3 3 3 3 3 2 3 3 2 3 3 2 3 2 2 3 2 3 2 1 2 3 2 3 2 3 2\n",
      " 3 2 3 3 3 2 3 2 2 3 2 3 3 2 3 2 2 3 2 3 2 1 3 2 2 3 2 2 2 2 2 2 3 2 3 3 2\n",
      " 3 3 3 3 2 2 2 3 3 2 3 3 3 3 2 3 3 3 2 2 3 3 3 2 3 2 3 3 3 3 2 3 2 3 3 3 3\n",
      " 3 3 3 3 3 3 3 3 2 2 3 2 3 3 2 1 2 2 3 2 3 2 3 2 3 2 3 2 3 3 3 3 3 2 2 2 3\n",
      " 3 3 3 2 3]\n"
     ]
    }
   ],
   "source": [
    "depth = qb_contracts_df['depth'].to_numpy(dtype=int)\n",
    "print(depth)"
   ]
  },
  {
   "cell_type": "code",
   "execution_count": 45,
   "id": "535183b7",
   "metadata": {},
   "outputs": [
    {
     "data": {
      "text/plain": [
       "0    Vet Starter\n",
       "1    Vet Starter\n",
       "2    Vet Starter\n",
       "3    Vet Starter\n",
       "4    Vet Starter\n",
       "Name: contract_type, dtype: object"
      ]
     },
     "execution_count": 45,
     "metadata": {},
     "output_type": "execute_result"
    }
   ],
   "source": [
    "depth = qb_contracts_df['depth'].to_numpy(dtype=int)\n",
    "\n",
    "contract_type_conditions = [is_rookie_deal,\n",
    "    (~ is_rookie_deal) & (depth==1),\n",
    "    (~ is_rookie_deal) & (depth >1)\n",
    "    ]\n",
    "\n",
    "contract_types = ['Rookie deal', 'Vet Starter', 'Vet Backup']\n",
    "qb_contracts_df['contract_type'] = np.select(contract_type_conditions, contract_types, default='')\n",
    "qb_contracts_df['contract_type'].head()"
   ]
  },
  {
   "cell_type": "code",
   "execution_count": 46,
   "id": "08212ca8",
   "metadata": {},
   "outputs": [
    {
     "name": "stdout",
     "output_type": "stream",
     "text": [
      "level_0                   index                     depth                     player                    position                  \n",
      "team                      is_rookie_deal            is_active                 year_signed               years                     \n",
      "value                     apy                       guaranteed                apy_cap_pct               inflated_value            \n",
      "inflated_apy              inflated_guaranteed       player_page               otc_id                    date_of_birth             \n",
      "height                    weight                    college                   draft_year                draft_round               \n",
      "draft_overall             draft_team                cols                      full_name                 season                    \n"
     ]
    },
    {
     "data": {
      "text/plain": [
       "array(['Aaron Rodgers', 'Josh Allen', 'Russell Wilson', 'Patrick Mahomes',\n",
       "       'Kyler Murray', 'Deshaun Watson', 'Dak Prescott', 'Derek Carr',\n",
       "       'Carson Palmer', 'Ben Roethlisberger'], dtype=object)"
      ]
     },
     "execution_count": 46,
     "metadata": {},
     "output_type": "execute_result"
    }
   ],
   "source": [
    "compact_columns(qb_contracts_df)\n",
    "qb_contracts_df['player'].unique()[:10]"
   ]
  },
  {
   "cell_type": "code",
   "execution_count": 47,
   "id": "29f6532d-5017-4105-9cf2-577b16acb9b5",
   "metadata": {},
   "outputs": [],
   "source": [
    "import plotly.graph_objects as go\n",
    "import plotly.express as px"
   ]
  },
  {
   "cell_type": "code",
   "execution_count": null,
   "id": "195b1cf8",
   "metadata": {},
   "outputs": [],
   "source": []
  },
  {
   "cell_type": "code",
   "execution_count": 140,
   "id": "daf74feb",
   "metadata": {},
   "outputs": [
    {
     "name": "stdout",
     "output_type": "stream",
     "text": [
      "0 : Rookie deal\n",
      "1 : Vet Backup\n",
      "2 : Vet Starter\n"
     ]
    }
   ],
   "source": [
    "\n",
    "df = qb_contracts_df[['player', 'contract_type', 'is_rookie_deal', 'year_signed', 'value', 'years', 'guaranteed', 'apy', 'apy_cap_pct', 'inflated_apy']]\n",
    "\n",
    "contract_type_ids, contract_types_unique = pd.factorize(df['contract_type'], sort = True, size_hint=3)\n",
    "[print(f'{ci} : {cu}') for ci, cu in zip(np.unique(contract_type_ids), contract_types_unique)]\n",
    "\n",
    "df.insert(2, 'contract_type_id', contract_type_ids)\n",
    "x_offset = 0.2\n",
    "# df.loc[df['is_rookie_deal'], 'year_signed'] += x_offset\n"
   ]
  },
  {
   "cell_type": "code",
   "execution_count": 197,
   "id": "f0c0b2be",
   "metadata": {},
   "outputs": [
    {
     "data": {
      "text/html": [
       "<div>\n",
       "<style scoped>\n",
       "    .dataframe tbody tr th:only-of-type {\n",
       "        vertical-align: middle;\n",
       "    }\n",
       "\n",
       "    .dataframe tbody tr th {\n",
       "        vertical-align: top;\n",
       "    }\n",
       "\n",
       "    .dataframe thead th {\n",
       "        text-align: right;\n",
       "    }\n",
       "</style>\n",
       "<table border=\"1\" class=\"dataframe\">\n",
       "  <thead>\n",
       "    <tr style=\"text-align: right;\">\n",
       "      <th></th>\n",
       "      <th>player</th>\n",
       "      <th>contract_type</th>\n",
       "      <th>contract_type_id</th>\n",
       "      <th>is_rookie_deal</th>\n",
       "      <th>year_signed</th>\n",
       "      <th>value</th>\n",
       "      <th>years</th>\n",
       "      <th>guaranteed</th>\n",
       "      <th>apy</th>\n",
       "      <th>apy_cap_pct</th>\n",
       "      <th>inflated_apy</th>\n",
       "    </tr>\n",
       "  </thead>\n",
       "  <tbody>\n",
       "    <tr>\n",
       "      <th>24</th>\n",
       "      <td>Matt Ryan</td>\n",
       "      <td>Vet Starter</td>\n",
       "      <td>2</td>\n",
       "      <td>False</td>\n",
       "      <td>2018</td>\n",
       "      <td>150.00</td>\n",
       "      <td>5.0</td>\n",
       "      <td>100.00</td>\n",
       "      <td>30.00</td>\n",
       "      <td>0.169</td>\n",
       "      <td>38.092551</td>\n",
       "    </tr>\n",
       "    <tr>\n",
       "      <th>25</th>\n",
       "      <td>Matt Ryan</td>\n",
       "      <td>Vet Starter</td>\n",
       "      <td>2</td>\n",
       "      <td>False</td>\n",
       "      <td>2013</td>\n",
       "      <td>103.75</td>\n",
       "      <td>5.0</td>\n",
       "      <td>59.00</td>\n",
       "      <td>20.75</td>\n",
       "      <td>0.169</td>\n",
       "      <td>37.957317</td>\n",
       "    </tr>\n",
       "    <tr>\n",
       "      <th>119</th>\n",
       "      <td>Matt Ryan</td>\n",
       "      <td>Rookie deal</td>\n",
       "      <td>0</td>\n",
       "      <td>True</td>\n",
       "      <td>2008</td>\n",
       "      <td>67.50</td>\n",
       "      <td>6.0</td>\n",
       "      <td>34.75</td>\n",
       "      <td>11.25</td>\n",
       "      <td>0.097</td>\n",
       "      <td>21.821121</td>\n",
       "    </tr>\n",
       "  </tbody>\n",
       "</table>\n",
       "</div>"
      ],
      "text/plain": [
       "        player contract_type  contract_type_id  is_rookie_deal  year_signed  \\\n",
       "24   Matt Ryan   Vet Starter                 2           False         2018   \n",
       "25   Matt Ryan   Vet Starter                 2           False         2013   \n",
       "119  Matt Ryan   Rookie deal                 0            True         2008   \n",
       "\n",
       "      value  years  guaranteed    apy  apy_cap_pct  inflated_apy  \n",
       "24   150.00    5.0      100.00  30.00        0.169     38.092551  \n",
       "25   103.75    5.0       59.00  20.75        0.169     37.957317  \n",
       "119   67.50    6.0       34.75  11.25        0.097     21.821121  "
      ]
     },
     "execution_count": 197,
     "metadata": {},
     "output_type": "execute_result"
    }
   ],
   "source": [
    "df.query('player == \"Matt Ryan\"')"
   ]
  },
  {
   "cell_type": "code",
   "execution_count": 141,
   "id": "5e33aaf5",
   "metadata": {},
   "outputs": [],
   "source": [
    "#field_color = '#003a00'\n",
    "# text_color = '#99bb99'\n",
    "\n",
    "field_color = 'rgb(0,58,0)'\n",
    "text_color = 'rgba(200, 200, 200, 0.7)'"
   ]
  },
  {
   "cell_type": "code",
   "execution_count": 199,
   "id": "c7372013",
   "metadata": {},
   "outputs": [
    {
     "data": {
      "application/vnd.plotly.v1+json": {
       "config": {
        "plotlyServerURL": "https://plot.ly"
       },
       "data": [
        {
         "customdata": [
          [
           "Sam Bradford",
           2010,
           78,
           5,
           50,
           13,
           10.1
          ],
          [
           "David Carr",
           2002,
           48.75,
           7,
           14,
           7,
           9.8
          ],
          [
           "Matt Ryan",
           2008,
           67.5,
           6,
           34.8,
           11.2,
           9.7
          ],
          [
           "Alex Smith",
           2005,
           49.5,
           6,
           40,
           8.2,
           9.6
          ],
          [
           "JaMarcus Russell",
           2007,
           61,
           6,
           29,
           10.2,
           9.3
          ],
          [
           "Sam Bradford",
           2010,
           78,
           1,
           50,
           12,
           9.3
          ],
          [
           "Michael Vick",
           2001,
           37.3,
           6,
           22.5,
           6.2,
           9.2
          ],
          [
           "Carson Palmer",
           2003,
           40,
           6,
           14,
           6.7,
           8.9
          ],
          [
           "Jason Campbell",
           2005,
           7.5,
           5,
           5,
           7.5,
           8.8
          ],
          [
           "Philip Rivers",
           2004,
           41.25,
           6,
           15.6,
           6.9,
           8.5
          ],
          [
           "Mark Sanchez",
           2009,
           47.5,
           5,
           28,
           9.5,
           7.7
          ],
          [
           "Jay Cutler",
           2006,
           34.1125,
           6,
           11.3,
           5.7,
           5.6
          ],
          [
           "Ben Roethlisberger",
           2004,
           25.2195,
           6,
           9,
           4.2,
           5.2
          ],
          [
           "Trevor Lawrence",
           2021,
           36.793486,
           4,
           36.8,
           9.2,
           5
          ],
          [
           "Zach Wilson",
           2021,
           35.15068,
           4,
           35.2,
           8.8,
           4.8
          ],
          [
           "Trey Lance",
           2021,
           34.105258,
           4,
           34.1,
           8.5,
           4.7
          ],
          [
           "Kyler Murray",
           2019,
           35.158644,
           4,
           35.2,
           8.8,
           4.7
          ],
          [
           "Baker Mayfield",
           2018,
           32.68298,
           4,
           32.7,
           8.2,
           4.6
          ],
          [
           "Andrew Luck",
           2012,
           22.107998,
           4,
           22.1,
           5.5,
           4.6
          ],
          [
           "Cam Newton",
           2011,
           22.025498,
           4,
           22,
           5.5,
           4.6
          ],
          [
           "Joe Burrow",
           2020,
           36.190136,
           4,
           36.2,
           9,
           4.6
          ],
          [
           "Jared Goff",
           2016,
           27.937672,
           4,
           27.9,
           7,
           4.5
          ],
          [
           "Jameis Winston",
           2015,
           25.351277,
           4,
           25.4,
           6.3,
           4.4
          ],
          [
           "Mitchell Trubisky",
           2017,
           29.032436,
           4,
           29,
           7.3,
           4.3
          ],
          [
           "Carson Wentz",
           2016,
           26.676338,
           4,
           26.7,
           6.7,
           4.3
          ],
          [
           "Sam Darnold",
           2018,
           30.247694,
           4,
           30.2,
           7.6,
           4.3
          ],
          [
           "Marcus Mariota",
           2015,
           24.213974,
           4,
           24.2,
           6.1,
           4.2
          ],
          [
           "Joe Flacco",
           2008,
           23.8,
           5,
           8.4,
           4.8,
           4.1
          ],
          [
           "Blake Bortles",
           2014,
           20.654802,
           4,
           20.7,
           5.2,
           3.9
          ],
          [
           "Tua Tagovailoa",
           2020,
           30.275436,
           4,
           30.3,
           7.6,
           3.8
          ],
          [
           "Daniel Jones",
           2019,
           25.664056,
           4,
           25.7,
           6.4,
           3.4
          ],
          [
           "Justin Herbert",
           2020,
           26.578754,
           4,
           26.6,
           6.6,
           3.4
          ],
          [
           "Josh Allen",
           2018,
           21.183034,
           4,
           21.2,
           5.3,
           3
          ],
          [
           "Ryan Tannehill",
           2012,
           12.668512,
           4,
           12.7,
           3.2,
           2.6
          ],
          [
           "Jake Locker",
           2011,
           12.586002,
           4,
           12.6,
           3.1,
           2.6
          ],
          [
           "Justin Fields",
           2021,
           18.871952,
           4,
           18.9,
           4.7,
           2.6
          ],
          [
           "Blaine Gabbert",
           2011,
           12.001646,
           4,
           12,
           3,
           2.5
          ],
          [
           "Josh Rosen",
           2018,
           17.59776,
           4,
           17.6,
           4.4,
           2.5
          ],
          [
           "Patrick Mahomes",
           2017,
           16.425962,
           4,
           16.4,
           4.1,
           2.5
          ],
          [
           "Josh Freeman",
           2009,
           13.5,
           5,
           9.5,
           2.7,
           2.2
          ],
          [
           "Mac Jones",
           2021,
           15.58634,
           4,
           15.6,
           3.9,
           2.1
          ],
          [
           "Christian Ponder",
           2011,
           10.158698,
           4,
           10.2,
           2.5,
           2.1
          ],
          [
           "Deshaun Watson",
           2017,
           13.854482,
           4,
           13.9,
           3.5,
           2.1
          ],
          [
           "Dwayne Haskins",
           2019,
           14.416614,
           4,
           14.4,
           3.6,
           1.9
          ],
          [
           "E.J. Manuel",
           2013,
           8.8853,
           4,
           8.9,
           2.2,
           1.8
          ],
          [
           "Aaron Rodgers",
           2005,
           7.655,
           5,
           4.1,
           1.5,
           1.8
          ],
          [
           "Kenny Pickett",
           2022,
           14.067904,
           4,
           14.1,
           3.5,
           1.7
          ],
          [
           "Brandon Weeden",
           2012,
           8.083596,
           4,
           7.5,
           2,
           1.7
          ],
          [
           "Jordan Love",
           2020,
           12.38347,
           4,
           12.4,
           3.1,
           1.6
          ],
          [
           "Johnny Manziel",
           2014,
           8.248596,
           4,
           7.7,
           2.1,
           1.6
          ],
          [
           "Paxton Lynch",
           2016,
           9.476306,
           4,
           8.3,
           2.4,
           1.5
          ],
          [
           "Drew Brees",
           2001,
           3.605,
           4,
           1.8,
           0.9,
           1.3
          ],
          [
           "Lamar Jackson",
           2018,
           9.471652,
           4,
           8.1,
           2.4,
           1.3
          ],
          [
           "Teddy Bridgewater",
           2014,
           6.849502,
           4,
           5.5,
           1.7,
           1.3
          ],
          [
           "Andy Dalton",
           2011,
           5.214198,
           4,
           4,
           1.3,
           1.1
          ],
          [
           "Colin Kaepernick",
           2011,
           5.124296,
           4,
           3.8,
           1.3,
           1.1
          ],
          [
           "Geno Smith",
           2013,
           5.019603,
           4,
           0.8,
           1.3,
           1
          ],
          [
           "Derek Carr",
           2014,
           5.371802,
           4,
           3.3,
           1.3,
           1
          ],
          [
           "Drew Lock",
           2019,
           7.01082,
           4,
           4.4,
           1.8,
           0.9
          ],
          [
           "Jalen Hurts",
           2020,
           6.025176,
           4,
           3.4,
           1.5,
           0.8
          ],
          [
           "Kyle Trask",
           2021,
           5.535336,
           4,
           3,
           1.4,
           0.8
          ],
          [
           "Christian Hackenberg",
           2016,
           4.660304,
           4,
           2,
           1.2,
           0.8
          ],
          [
           "Christian Hackenberg",
           2016,
           4.660304,
           4,
           0.2,
           1.2,
           0.8
          ],
          [
           "DeShone Kizer",
           2017,
           4.948412,
           4,
           2.9,
           1.2,
           0.7
          ],
          [
           "Chad Henne",
           2008,
           3.4301,
           4,
           1.4,
           0.9,
           0.7
          ],
          [
           "Brock Osweiler",
           2012,
           3.516678,
           4,
           1,
           0.9,
           0.7
          ],
          [
           "Kellen Mond",
           2021,
           5.223412,
           4,
           1.2,
           1.3,
           0.7
          ],
          [
           "Davis Mills",
           2021,
           5.2221,
           4,
           1.2,
           1.3,
           0.7
          ],
          [
           "Jimmy Garoppolo",
           2014,
           3.483898,
           4,
           1.1,
           0.9,
           0.7
          ],
          [
           "Josh McCown",
           2002,
           1.388,
           3,
           0.5,
           0.5,
           0.7
          ],
          [
           "Desmond Ridder",
           2022,
           5.362962,
           4,
           1.1,
           1.3,
           0.6
          ],
          [
           "Mike Glennon",
           2013,
           3.104063,
           4,
           0.6,
           0.8,
           0.6
          ],
          [
           "Russell Wilson",
           2012,
           2.996774,
           4,
           0.6,
           0.7,
           0.6
          ],
          [
           "Malik Willis",
           2022,
           5.1601,
           4,
           0.9,
           1.3,
           0.6
          ],
          [
           "Ryan Mallett",
           2011,
           2.947828,
           4,
           1,
           0.7,
           0.6
          ],
          [
           "Garrett Grayson",
           2015,
           3.400606,
           4,
           0.7,
           0.9,
           0.6
          ],
          [
           "Nick Foles",
           2012,
           2.76852,
           4,
           0.5,
           0.7,
           0.6
          ],
          [
           "Ian Book",
           2021,
           4.15358,
           4,
           0.7,
           1,
           0.6
          ],
          [
           "Charlie Whitehurst",
           2006,
           2.318,
           4,
           0.7,
           0.6,
           0.6
          ],
          [
           "Sean Mannion",
           2015,
           3.250896,
           4,
           0.6,
           0.8,
           0.6
          ],
          [
           "Matt Schaub",
           2004,
           1.365,
           3,
           0.4,
           0.5,
           0.6
          ],
          [
           "Matt Barkley",
           2013,
           2.739528,
           4,
           0.5,
           0.7,
           0.6
          ],
          [
           "Mason Rudolph",
           2018,
           3.921866,
           4,
           0.9,
           1,
           0.6
          ],
          [
           "Jacoby Brissett",
           2016,
           3.410832,
           4,
           0.7,
           0.9,
           0.5
          ],
          [
           "Cody Kessler",
           2016,
           3.389082,
           4,
           0.7,
           0.8,
           0.5
          ],
          [
           "Davis Webb",
           2017,
           3.611326,
           4,
           0.8,
           0.9,
           0.5
          ],
          [
           "Kyle Orton",
           2005,
           1.843,
           4,
           0.5,
           0.5,
           0.5
          ],
          [
           "Kirk Cousins",
           2012,
           2.572688,
           4,
           0.5,
           0.6,
           0.5
          ],
          [
           "Ryan Nassib",
           2013,
           2.6136,
           4,
           0.5,
           0.7,
           0.5
          ],
          [
           "Tyler Wilson",
           2013,
           2.6109,
           4,
           0.5,
           0.7,
           0.5
          ],
          [
           "Landry Jones",
           2013,
           2.59922,
           4,
           0.4,
           0.6,
           0.5
          ],
          [
           "C.J. Beathard",
           2017,
           3.528646,
           4,
           0.7,
           0.9,
           0.5
          ],
          [
           "Bailey Zappe",
           2022,
           4.307072,
           4,
           0.6,
           1.1,
           0.5
          ],
          [
           "Will Grier",
           2019,
           3.852996,
           4,
           0.8,
           1,
           0.5
          ],
          [
           "Jacob Eason",
           2020,
           4.027264,
           4,
           0.7,
           1,
           0.5
          ],
          [
           "James Morgan",
           2020,
           4.010264,
           4,
           0.7,
           1,
           0.5
          ],
          [
           "Sam Ehlinger",
           2021,
           3.610704,
           4,
           0.1,
           0.9,
           0.5
          ],
          [
           "Bryce Petty",
           2015,
           2.833696,
           4,
           0.6,
           0.7,
           0.5
          ],
          [
           "Colt McCoy",
           2010,
           2.541,
           4,
           0.8,
           0.6,
           0.5
          ],
          [
           "Sam Howell",
           2022,
           4.0216,
           4,
           0.4,
           1,
           0.5
          ],
          [
           "Connor Cook",
           2016,
           2.959888,
           4,
           0.6,
           0.7,
           0.5
          ],
          [
           "Tom Savage",
           2014,
           2.520584,
           4,
           0.3,
           0.6,
           0.5
          ],
          [
           "Ricky Stanzi",
           2011,
           2.251052,
           4,
           0.2,
           0.6,
           0.5
          ],
          [
           "T.J. Yates",
           2011,
           2.225,
           4,
           0.2,
           0.6,
           0.5
          ],
          [
           "Nathan Enderle",
           2011,
           2.20886,
           4,
           0.2,
           0.6,
           0.5
          ],
          [
           "Ryan Lindley",
           2012,
           2.205308,
           4,
           0.1,
           0.6,
           0.5
          ],
          [
           "Aaron Murray",
           2014,
           2.427424,
           4,
           0.2,
           0.6,
           0.5
          ],
          [
           "Jake Fromm",
           2020,
           3.59796,
           4,
           0.3,
           0.9,
           0.5
          ],
          [
           "Brad Sorensen",
           2013,
           2.2194,
           4,
           0.1,
           0.6,
           0.5
          ],
          [
           "Skylar Thompson",
           2022,
           3.742208,
           4,
           0.1,
           0.9,
           0.4
          ],
          [
           "Brock Purdy",
           2022,
           3.737012,
           4,
           0.1,
           0.9,
           0.4
          ],
          [
           "Kyle Lauletta",
           2018,
           3.1677,
           4,
           0.7,
           0.8,
           0.4
          ],
          [
           "Shane Buechele",
           2021,
           2.44,
           3,
           0.2,
           0.8,
           0.4
          ],
          [
           "Feleipe Franks",
           2021,
           2.44,
           3,
           0.1,
           0.8,
           0.4
          ],
          [
           "Tyrod Taylor",
           2011,
           2.145308,
           4,
           0.1,
           0.5,
           0.4
          ],
          [
           "Chandler Harnish",
           2012,
           2.145896,
           4,
           0,
           0.5,
           0.4
          ],
          [
           "Joshua Dobbs",
           2017,
           2.959124,
           4,
           0.6,
           0.7,
           0.4
          ],
          [
           "Zach Mettenberger",
           2014,
           2.345116,
           4,
           0.1,
           0.6,
           0.4
          ],
          [
           "Ryan Finley",
           2019,
           3.309656,
           4,
           0.8,
           0.8,
           0.4
          ],
          [
           "David Fales",
           2014,
           2.334224,
           4,
           0.1,
           0.6,
           0.4
          ],
          [
           "Jake Luton",
           2020,
           3.476756,
           4,
           0.2,
           0.9,
           0.4
          ],
          [
           "Cardale Jones",
           2016,
           2.723392,
           4,
           0.4,
           0.7,
           0.4
          ],
          [
           "Dak Prescott",
           2016,
           2.723392,
           4,
           0.4,
           0.7,
           0.4
          ],
          [
           "Brett Hundley",
           2015,
           2.503632,
           4,
           0.2,
           0.6,
           0.4
          ],
          [
           "Ben DiNucci",
           2020,
           3.390148,
           4,
           0.1,
           0.8,
           0.4
          ],
          [
           "Zac Dysert",
           2013,
           2.2082,
           4,
           0,
           0.5,
           0.4
          ],
          [
           "Matt Cassel",
           2005,
           1.439,
           4,
           0.1,
           0.4,
           0.4
          ],
          [
           "Jarrett Stidham",
           2019,
           3.156112,
           4,
           0.6,
           0.8,
           0.4
          ],
          [
           "Anthony Brown",
           2022,
           2.58,
           3,
           0.1,
           0.9,
           0.4
          ],
          [
           "Anthony Brown",
           2022,
           2.56,
           3,
           0,
           0.9,
           0.4
          ],
          [
           "Jarrett Guarantano",
           2022,
           2.56,
           3,
           0,
           0.9,
           0.4
          ],
          [
           "Trevor Siemian",
           2015,
           2.332784,
           4,
           0.1,
           0.6,
           0.4
          ],
          [
           "Shane Buechele",
           2021,
           1.485,
           2,
           0,
           0.7,
           0.4
          ],
          [
           "Josh Johnson",
           2008,
           1.8775,
           4,
           0.2,
           0.5,
           0.4
          ],
          [
           "Tyler Wilson",
           2013,
           1.485,
           3,
           0,
           0.5,
           0.4
          ],
          [
           "Austin Davis",
           2012,
           1.445,
           3,
           0,
           0.5,
           0.4
          ],
          [
           "Nate Sudfeld",
           2016,
           2.477336,
           4,
           0.1,
           0.6,
           0.4
          ],
          [
           "Brandon Allen",
           2016,
           2.464272,
           4,
           0.1,
           0.6,
           0.4
          ],
          [
           "Nathan Peterman",
           2017,
           2.639508,
           4,
           0.2,
           0.7,
           0.4
          ],
          [
           "Jeff Driskel",
           2016,
           2.45254,
           4,
           0,
           0.6,
           0.4
          ],
          [
           "Joe Webb",
           2010,
           2.032515,
           4,
           0,
           0.5,
           0.4
          ],
          [
           "Steven Montez",
           2020,
           2.295,
           3,
           0,
           0.8,
           0.4
          ],
          [
           "Reid Sinnett",
           2020,
           2.295,
           3,
           0.2,
           0.8,
           0.4
          ],
          [
           "Tyler Huntley",
           2020,
           2.29,
           3,
           0,
           0.8,
           0.4
          ],
          [
           "Bryce Perkins",
           2020,
           2.29,
           3,
           0,
           0.8,
           0.4
          ],
          [
           "David Fales",
           2014,
           1.53,
           3,
           0,
           0.5,
           0.4
          ],
          [
           "Jarrett Guarantano",
           2022,
           1.585,
           2,
           0,
           0.8,
           0.4
          ],
          [
           "Derek Anderson",
           2005,
           0.9745,
           3,
           0,
           0.3,
           0.4
          ],
          [
           "Mike White",
           2018,
           2.677556,
           4,
           0.2,
           0.7,
           0.4
          ],
          [
           "Brad Kaaya",
           2017,
           2.523356,
           4,
           0.1,
           0.6,
           0.4
          ],
          [
           "Easton Stick",
           2019,
           2.79862,
           4,
           0.3,
           0.7,
           0.4
          ],
          [
           "Ryan Fitzpatrick",
           2005,
           0.95325,
           3,
           0,
           0.3,
           0.4
          ],
          [
           "Taylor Heinicke",
           2015,
           1.585,
           3,
           0,
           0.5,
           0.4
          ],
          [
           "Luke Falk",
           2018,
           2.608832,
           4,
           0.1,
           0.7,
           0.4
          ],
          [
           "Gardner Minshew",
           2019,
           2.711616,
           4,
           0.2,
           0.7,
           0.4
          ],
          [
           "Trace McSorley",
           2019,
           2.680688,
           4,
           0.2,
           0.7,
           0.4
          ],
          [
           "Trevone Boykin",
           2016,
           1.635,
           3,
           0,
           0.5,
           0.4
          ],
          [
           "Steven Montez",
           2020,
           1.39,
           2,
           0,
           0.7,
           0.4
          ],
          [
           "Matt Moore",
           2007,
           1.13,
           3,
           0,
           0.4,
           0.3
          ],
          [
           "Cooper Rush",
           2017,
           1.67,
           3,
           0,
           0.6,
           0.3
          ],
          [
           "Taysom Hill",
           2017,
           1.67,
           3,
           0,
           0.6,
           0.3
          ],
          [
           "Kyle Sloter",
           2017,
           1.665,
           3,
           0,
           0.6,
           0.3
          ],
          [
           "Kyle Sloter",
           2017,
           1.665,
           3,
           0,
           0.6,
           0.3
          ],
          [
           "Tyler Wilson",
           2013,
           0.405,
           1,
           0,
           0.4,
           0.3
          ],
          [
           "Kyle Allen",
           2018,
           1.713,
           3,
           0,
           0.6,
           0.3
          ],
          [
           "Brian Hoyer",
           2009,
           1.1975,
           3,
           0,
           0.4,
           0.3
          ],
          [
           "Tim Boyle",
           2018,
           1.716,
           3,
           0,
           0.6,
           0.3
          ],
          [
           "Chase Daniel",
           2009,
           1.1865,
           3,
           0,
           0.4,
           0.3
          ],
          [
           "Chase Daniel",
           2009,
           1.185,
           3,
           0,
           0.4,
           0.3
          ],
          [
           "Kevin Hogan",
           2016,
           0.99,
           2,
           0,
           0.5,
           0.3
          ],
          [
           "Jake Rudock",
           2016,
           0.99,
           2,
           0,
           0.5,
           0.3
          ],
          [
           "Joe Callahan",
           2016,
           0.99,
           2,
           0,
           0.5,
           0.3
          ],
          [
           "David Blough",
           2019,
           1.775,
           3,
           0.1,
           0.6,
           0.3
          ],
          [
           "Kyle Shurmur",
           2019,
           1.765,
           3,
           0.1,
           0.6,
           0.3
          ],
          [
           "Brett Rypien",
           2019,
           1.765,
           3,
           0.1,
           0.6,
           0.3
          ],
          [
           "Jacob Dolegala",
           2019,
           1.76,
           3,
           0,
           0.6,
           0.3
          ],
          [
           "Devlin Hodges",
           2019,
           1.756,
           3,
           0,
           0.6,
           0.3
          ],
          [
           "Brad Kaaya",
           2017,
           1.02,
           2,
           0,
           0.5,
           0.3
          ],
          [
           "Chris Streveler",
           2020,
           1.8,
           3,
           0,
           0.6,
           0.3
          ],
          [
           "Kyle Shurmur",
           2019,
           1.08,
           2,
           0,
           0.5,
           0.3
          ],
          [
           "Devlin Hodges",
           2019,
           1.08,
           2,
           0,
           0.5,
           0.3
          ],
          [
           "Brett Rypien",
           2019,
           1.08,
           2,
           0,
           0.5,
           0.3
          ],
          [
           "Kyle Allen",
           2018,
           0.975,
           2,
           0,
           0.5,
           0.3
          ],
          [
           "Brett Rypien",
           2019,
           0.494989,
           1,
           0,
           0.5,
           0.3
          ],
          [
           "Kyle Sloter",
           2017,
           0.34,
           1,
           0,
           0.3,
           0.2
          ],
          [
           "Brett Rypien",
           2019,
           0.34,
           1,
           0,
           0.3,
           0.2
          ],
          [
           "Brad Kaaya",
           2017,
           0.255,
           1,
           0,
           0.3,
           0.2
          ],
          [
           "Anthony Brown",
           2022,
           0.290001,
           1,
           0,
           0.3,
           0.1
          ],
          [
           "Tyler Huntley",
           2020,
           0.252728,
           1,
           0,
           0.3,
           0.1
          ],
          [
           "Anthony Brown",
           2022,
           0.262334,
           1,
           0,
           0.3,
           0.1
          ],
          [
           "Tyler Huntley",
           2020,
           0.225246,
           1,
           0,
           0.2,
           0.1
          ],
          [
           "Anthony Brown",
           2022,
           0.234667,
           1,
           0,
           0.2,
           0.1
          ],
          [
           "Tyler Huntley",
           2020,
           0.197764,
           1,
           0,
           0.2,
           0.1
          ],
          [
           "Steven Montez",
           2020,
           0.197764,
           1,
           0,
           0.2,
           0.1
          ],
          [
           "Jarrett Guarantano",
           2022,
           0.207,
           1,
           0,
           0.2,
           0.1
          ],
          [
           "Anthony Brown",
           2022,
           0.207,
           1,
           0,
           0.2,
           0.1
          ],
          [
           "Jarrett Guarantano",
           2022,
           0.207,
           1,
           0,
           0.2,
           0.1
          ],
          [
           "Jarrett Guarantano",
           2022,
           0.207,
           1,
           0,
           0.2,
           0.1
          ],
          [
           "Reid Sinnett",
           2020,
           0.189364,
           1,
           0,
           0.2,
           0.1
          ],
          [
           "Shane Buechele",
           2021,
           0.1656,
           1,
           0,
           0.2,
           0.1
          ],
          [
           "Steven Montez",
           2020,
           0.170282,
           1,
           0,
           0.2,
           0.1
          ],
          [
           "Bryce Perkins",
           2020,
           0.170282,
           1,
           0,
           0.2,
           0.1
          ],
          [
           "Tyler Wilson",
           2013,
           0.102,
           1,
           0,
           0.1,
           0.1
          ],
          [
           "Reid Sinnett",
           2020,
           0.161882,
           1,
           0,
           0.2,
           0.1
          ],
          [
           "David Fales",
           2014,
           0.1071,
           1,
           0,
           0.1,
           0.1
          ],
          [
           "Chandler Harnish",
           2012,
           0.0969,
           1,
           0,
           0.1,
           0.1
          ],
          [
           "Kyle Allen",
           2018,
           0.1292,
           1,
           0,
           0.1,
           0.1
          ],
          [
           "Kyle Allen",
           2018,
           0.1292,
           1,
           0,
           0.1,
           0.1
          ],
          [
           "Devlin Hodges",
           2019,
           0.136,
           1,
           0,
           0.1,
           0.1
          ],
          [
           "Kyle Shurmur",
           2019,
           0.136,
           1,
           0,
           0.1,
           0.1
          ],
          [
           "Kyle Shurmur",
           2019,
           0.136,
           1,
           0,
           0.1,
           0.1
          ],
          [
           "Reid Sinnett",
           2020,
           0.1428,
           1,
           0,
           0.1,
           0.1
          ],
          [
           "Steven Montez",
           2020,
           0.1428,
           1,
           0,
           0.1,
           0.1
          ],
          [
           "Reid Sinnett",
           2020,
           0.1428,
           1,
           0,
           0.1,
           0.1
          ],
          [
           "Chase Daniel",
           2009,
           0.0884,
           1,
           0,
           0.1,
           0.1
          ]
         ],
         "hovertemplate": "<br>%{customdata[0]}, %{customdata[1]}         <br> $%{customdata[2]}M/%{customdata[3]}yr ($%{customdata[4]}M guaranteed)         <br> $%{customdata[5]}M APY",
         "marker": {
          "line": {
           "width": 2
          },
          "opacity": 0.8,
          "size": 8,
          "symbol": "circle-open"
         },
         "mode": "markers",
         "name": "Rookie deal",
         "type": "scatter",
         "x": [
          2009.75,
          2001.75,
          2007.75,
          2004.75,
          2006.75,
          2009.75,
          2000.75,
          2002.75,
          2004.75,
          2003.75,
          2008.75,
          2005.75,
          2003.75,
          2020.75,
          2020.75,
          2020.75,
          2018.75,
          2017.75,
          2011.75,
          2010.75,
          2019.75,
          2015.75,
          2014.75,
          2016.75,
          2015.75,
          2017.75,
          2014.75,
          2007.75,
          2013.75,
          2019.75,
          2018.75,
          2019.75,
          2017.75,
          2011.75,
          2010.75,
          2020.75,
          2010.75,
          2017.75,
          2016.75,
          2008.75,
          2020.75,
          2010.75,
          2016.75,
          2018.75,
          2012.75,
          2004.75,
          2021.75,
          2011.75,
          2019.75,
          2013.75,
          2015.75,
          2000.75,
          2017.75,
          2013.75,
          2010.75,
          2010.75,
          2012.75,
          2013.75,
          2018.75,
          2019.75,
          2020.75,
          2015.75,
          2015.75,
          2016.75,
          2007.75,
          2011.75,
          2020.75,
          2020.75,
          2013.75,
          2001.75,
          2021.75,
          2012.75,
          2011.75,
          2021.75,
          2010.75,
          2014.75,
          2011.75,
          2020.75,
          2005.75,
          2014.75,
          2003.75,
          2012.75,
          2017.75,
          2015.75,
          2015.75,
          2016.75,
          2004.75,
          2011.75,
          2012.75,
          2012.75,
          2012.75,
          2016.75,
          2021.75,
          2018.75,
          2019.75,
          2019.75,
          2020.75,
          2014.75,
          2009.75,
          2021.75,
          2015.75,
          2013.75,
          2010.75,
          2010.75,
          2010.75,
          2011.75,
          2013.75,
          2019.75,
          2012.75,
          2021.75,
          2021.75,
          2017.75,
          2020.75,
          2020.75,
          2010.75,
          2011.75,
          2016.75,
          2013.75,
          2018.75,
          2013.75,
          2019.75,
          2015.75,
          2015.75,
          2014.75,
          2019.75,
          2012.75,
          2004.75,
          2018.75,
          2021.75,
          2021.75,
          2021.75,
          2014.75,
          2020.75,
          2007.75,
          2012.75,
          2011.75,
          2015.75,
          2015.75,
          2016.75,
          2015.75,
          2009.75,
          2019.75,
          2019.75,
          2019.75,
          2019.75,
          2013.75,
          2021.75,
          2004.75,
          2017.75,
          2016.75,
          2018.75,
          2004.75,
          2014.75,
          2017.75,
          2018.75,
          2018.75,
          2015.75,
          2019.75,
          2006.75,
          2016.75,
          2016.75,
          2016.75,
          2016.75,
          2012.75,
          2017.75,
          2008.75,
          2017.75,
          2008.75,
          2008.75,
          2015.75,
          2015.75,
          2015.75,
          2018.75,
          2018.75,
          2018.75,
          2018.75,
          2018.75,
          2016.75,
          2019.75,
          2018.75,
          2018.75,
          2018.75,
          2017.75,
          2018.75,
          2016.75,
          2018.75,
          2016.75,
          2021.75,
          2019.75,
          2021.75,
          2019.75,
          2021.75,
          2019.75,
          2019.75,
          2021.75,
          2021.75,
          2021.75,
          2021.75,
          2019.75,
          2020.75,
          2019.75,
          2019.75,
          2012.75,
          2019.75,
          2013.75,
          2011.75,
          2017.75,
          2017.75,
          2018.75,
          2018.75,
          2018.75,
          2019.75,
          2019.75,
          2019.75,
          2008.75
         ],
         "y": [
          13,
          6.964286,
          11.25,
          8.25,
          10.166667,
          12,
          6.216667,
          6.666667,
          7.5,
          6.875,
          9.5,
          5.685417,
          4.20325,
          9.198372,
          8.787695,
          8.526315,
          8.789661,
          8.170745,
          5.527,
          5.506375,
          9.047534,
          6.984418,
          6.337819,
          7.258109,
          6.669085,
          7.561924,
          6.053494,
          4.76,
          5.163701,
          7.568859,
          6.416014,
          6.644689,
          5.295759,
          3.167128,
          3.146501,
          4.717988,
          3.000412,
          4.39944,
          4.106491,
          2.7,
          3.896585,
          2.539675,
          3.463621,
          3.604154,
          2.221325,
          1.531,
          3.516976,
          2.020899,
          3.095868,
          2.062149,
          2.369077,
          0.90125,
          2.367913,
          1.712376,
          1.30355,
          1.281074,
          1.254901,
          1.342951,
          1.752705,
          1.506294,
          1.383834,
          1.165076,
          1.165076,
          1.237103,
          0.857525,
          0.87917,
          1.305853,
          1.305525,
          0.870975,
          0.462667,
          1.340741,
          0.776016,
          0.749194,
          1.290025,
          0.736957,
          0.850152,
          0.69213,
          1.038395,
          0.5795,
          0.812724,
          0.455,
          0.684882,
          0.980467,
          0.852708,
          0.847271,
          0.902832,
          0.46075,
          0.643172,
          0.6534,
          0.652725,
          0.649805,
          0.882162,
          1.076768,
          0.963249,
          1.006816,
          1.002566,
          0.902676,
          0.708424,
          0.63525,
          1.0054,
          0.739972,
          0.630146,
          0.562763,
          0.55625,
          0.552215,
          0.551327,
          0.606856,
          0.89949,
          0.55485,
          0.935552,
          0.934253,
          0.791925,
          0.813333,
          0.813333,
          0.536327,
          0.536474,
          0.739781,
          0.586279,
          0.827414,
          0.583556,
          0.869189,
          0.680848,
          0.680848,
          0.625908,
          0.847537,
          0.52205,
          0.35975,
          0.789028,
          0.86,
          0.853333,
          0.853333,
          0.583196,
          0.7425,
          0.469375,
          0.495,
          0.481667,
          0.619334,
          0.616068,
          0.659877,
          0.613135,
          0.508129,
          0.765,
          0.765,
          0.763333,
          0.763333,
          0.51,
          0.7925,
          0.324833,
          0.669389,
          0.630839,
          0.699655,
          0.31775,
          0.528333,
          0.652208,
          0.677904,
          0.670172,
          0.545,
          0.695,
          0.376667,
          0.556667,
          0.556667,
          0.555,
          0.555,
          0.405,
          0.581,
          0.399167,
          0.572,
          0.3955,
          0.395,
          0.495,
          0.495,
          0.495,
          0.591667,
          0.588333,
          0.588333,
          0.586667,
          0.585333,
          0.51,
          0.6,
          0.54,
          0.54,
          0.54,
          0.4875,
          0.494989,
          0.34,
          0.34,
          0.255,
          0.290001,
          0.252728,
          0.262334,
          0.225246,
          0.234667,
          0.197764,
          0.197764,
          0.207,
          0.207,
          0.207,
          0.207,
          0.189364,
          0.1656,
          0.170282,
          0.170282,
          0.102,
          0.161882,
          0.1071,
          0.0969,
          0.1292,
          0.1292,
          0.136,
          0.136,
          0.136,
          0.1428,
          0.1428,
          0.1428,
          0.0884
         ]
        },
        {
         "customdata": [
          [
           "Tom Brady",
           2005,
           48,
           4,
           26.5,
           12,
           14
          ],
          [
           "Sam Bradford",
           2016,
           35,
           2,
           26,
           17.5,
           11.3
          ],
          [
           "Donovan McNabb",
           2009,
           24.2,
           2,
           15.5,
           12.1,
           9.8
          ],
          [
           "Nick Foles",
           2018,
           29,
           2,
           5,
           14.5,
           8.2
          ],
          [
           "Josh McCown",
           2018,
           10,
           1,
           5,
           10,
           5.6
          ],
          [
           "Matt Hasselbeck",
           2011,
           20,
           3,
           6,
           6.7,
           5.5
          ],
          [
           "Matt Flynn",
           2012,
           19.5,
           3,
           10,
           6.5,
           5.4
          ],
          [
           "Taysom Hill",
           2020,
           21,
           2,
           17.4,
           10.5,
           5.3
          ],
          [
           "Charlie Whitehurst",
           2010,
           6.824,
           1,
           2,
           6.8,
           5.3
          ],
          [
           "Matt Schaub",
           2014,
           13.5,
           2,
           0,
           6.8,
           5.1
          ],
          [
           "Matt Flynn",
           2013,
           11.5,
           2,
           6.5,
           5.8,
           4.7
          ],
          [
           "Cam Newton",
           2021,
           8.25,
           1,
           4.5,
           8.2,
           4.5
          ],
          [
           "Chase Daniel",
           2016,
           21,
           3,
           12,
           7,
           4.5
          ],
          [
           "Chad Pennington",
           2010,
           5.75,
           1,
           2.5,
           5.8,
           4.5
          ],
          [
           "Marcus Mariota",
           2020,
           17.6,
           2,
           7.5,
           8.8,
           4.4
          ],
          [
           "Kyle Orton",
           2014,
           11,
           2,
           3,
           5.5,
           4.1
          ],
          [
           "Nick Foles",
           2020,
           24,
           3,
           21,
           8,
           4
          ],
          [
           "Teddy Bridgewater",
           2019,
           7.25,
           1,
           7.2,
           7.2,
           3.9
          ],
          [
           "Kurt Warner",
           2004,
           3,
           1,
           1.5,
           3,
           3.7
          ],
          [
           "Ryan Tannehill",
           2019,
           7,
           1,
           6.8,
           7,
           3.7
          ],
          [
           "Teddy Bridgewater",
           2018,
           6,
           1,
           0.5,
           6,
           3.4
          ],
          [
           "Jimmy Garoppolo",
           2022,
           7,
           1,
           6.5,
           7,
           3.4
          ],
          [
           "Nick Foles",
           2017,
           11,
           2,
           7,
           5.5,
           3.3
          ],
          [
           "Matt Moore",
           2013,
           8,
           2,
           4,
           4,
           3.3
          ],
          [
           "Mark Sanchez",
           2015,
           9,
           2,
           5.5,
           4.5,
           3.1
          ],
          [
           "Teddy Bridgewater",
           2022,
           6.5,
           1,
           6.5,
           6.5,
           3.1
          ],
          [
           "Luke McCown",
           2009,
           7.5,
           2,
           2.5,
           3.8,
           3
          ],
          [
           "Case Keenum",
           2020,
           18,
           3,
           10,
           6,
           3
          ],
          [
           "Matt Cassel",
           2013,
           3.7,
           1,
           2,
           3.7,
           3
          ],
          [
           "Michael Vick",
           2014,
           4,
           1,
           4,
           4,
           3
          ],
          [
           "Matt Hasselbeck",
           2013,
           7.25,
           2,
           3,
           3.6,
           2.9
          ],
          [
           "Tony Romo",
           2006,
           3,
           1,
           2,
           3,
           2.9
          ],
          [
           "Josh McCown",
           2006,
           6,
           2,
           2,
           3,
           2.9
          ],
          [
           "Tyrod Taylor",
           2019,
           11,
           2,
           6,
           5.5,
           2.9
          ],
          [
           "Kyle Orton",
           2012,
           10.5,
           3,
           5,
           3.5,
           2.9
          ],
          [
           "Jason Campbell",
           2012,
           3.5,
           1,
           2,
           3.5,
           2.9
          ],
          [
           "David Carr",
           2007,
           6.2,
           2,
           3,
           3.1,
           2.8
          ],
          [
           "Chase Daniel",
           2018,
           10,
           2,
           7,
           5,
           2.8
          ],
          [
           "Chad Henne",
           2012,
           6.75,
           2,
           4.1,
           3.4,
           2.8
          ],
          [
           "Michael Vick",
           2009,
           6.875,
           2,
           1.5,
           3.4,
           2.8
          ],
          [
           "Cam Newton",
           2021,
           5.1,
           1,
           3.5,
           5.1,
           2.8
          ],
          [
           "Shaun Hill",
           2010,
           10.76,
           3,
           1.1,
           3.6,
           2.8
          ],
          [
           "Jacoby Brissett",
           2021,
           5,
           1,
           5,
           5,
           2.7
          ],
          [
           "Nick Foles",
           2016,
           8.5,
           2,
           0,
           4.2,
           2.7
          ],
          [
           "Mason Rudolph",
           2021,
           4.985199,
           1,
           2.1,
           5,
           2.7
          ],
          [
           "Chase Daniel",
           2013,
           10,
           3,
           4,
           3.3,
           2.7
          ],
          [
           "Josh McCown",
           2008,
           6.25,
           2,
           2.5,
           3.1,
           2.7
          ],
          [
           "Ryan Fitzpatrick",
           2013,
           6.5,
           2,
           3.2,
           3.2,
           2.6
          ],
          [
           "Alex Smith",
           2009,
           6.5,
           2,
           4,
           3.2,
           2.6
          ],
          [
           "Tyrod Taylor",
           2022,
           11,
           2,
           10.9,
           5.5,
           2.6
          ],
          [
           "Chad Henne",
           2016,
           8,
           2,
           4.5,
           4,
           2.6
          ],
          [
           "Ryan Mallett",
           2015,
           7,
           2,
           0,
           3.5,
           2.4
          ],
          [
           "David Carr",
           2010,
           6.25,
           2,
           3.9,
           3.1,
           2.4
          ],
          [
           "Matt Schaub",
           2017,
           8,
           1,
           2.5,
           4,
           2.4
          ],
          [
           "Shaun Hill",
           2012,
           5.5,
           2,
           1,
           2.8,
           2.3
          ],
          [
           "Shaun Hill",
           2015,
           6.5,
           2,
           3.2,
           3.2,
           2.3
          ],
          [
           "Mike Glennon",
           2018,
           8,
           2,
           4,
           4,
           2.3
          ],
          [
           "Ryan Fitzpatrick",
           2009,
           8.25,
           3,
           1.2,
           2.8,
           2.2
          ],
          [
           "Chase Daniel",
           2020,
           13.05,
           3,
           5,
           4.4,
           2.2
          ],
          [
           "Brian Hoyer",
           2019,
           12,
           3,
           9,
           4,
           2.1
          ],
          [
           "Chad Henne",
           2017,
           3.5,
           1,
           0.5,
           3.5,
           2.1
          ],
          [
           "Matt Hasselbeck",
           2015,
           3,
           1,
           1,
           3,
           2.1
          ],
          [
           "Drew Stanton",
           2016,
           6.5,
           2,
           4.5,
           3.2,
           2.1
          ],
          [
           "Matt Moore",
           2011,
           5.025,
           2,
           1.5,
           2.5,
           2.1
          ],
          [
           "Colt McCoy",
           2016,
           9,
           3,
           1.8,
           3,
           1.9
          ],
          [
           "Marcus Mariota",
           2021,
           3.5,
           1,
           3.5,
           3.5,
           1.9
          ],
          [
           "Joe Flacco",
           2021,
           3.5,
           1,
           3.5,
           3.5,
           1.9
          ],
          [
           "Chad Henne",
           2018,
           6.7,
           2,
           5.1,
           3.4,
           1.9
          ],
          [
           "Ryan Fitzpatrick",
           2018,
           3.3,
           1,
           1.3,
           3.3,
           1.9
          ],
          [
           "Mark Brunell",
           2007,
           2,
           1,
           0,
           2,
           1.8
          ],
          [
           "Colt McCoy",
           2018,
           6.5,
           2,
           2,
           3.2,
           1.8
          ],
          [
           "Drew Stanton",
           2018,
           6.5,
           2,
           4.2,
           3.2,
           1.8
          ],
          [
           "Matt Moore",
           2015,
           2.6,
           1,
           1.6,
           2.6,
           1.8
          ],
          [
           "Ryan Fitzpatrick",
           2017,
           3,
           1,
           1.2,
           3,
           1.8
          ],
          [
           "Shaun Hill",
           2008,
           6,
           3,
           2,
           2,
           1.7
          ],
          [
           "David Carr",
           2009,
           2.1,
           1,
           1,
           2.1,
           1.7
          ],
          [
           "Mark Sanchez",
           2014,
           2.25,
           1,
           1.5,
           2.2,
           1.7
          ],
          [
           "Case Keenum",
           2022,
           3.5,
           1,
           2,
           3.5,
           1.7
          ],
          [
           "Josh McCown",
           2005,
           1.43,
           1,
           0,
           1.4,
           1.7
          ],
          [
           "Brian Hoyer",
           2013,
           2.023,
           1,
           0,
           2,
           1.6
          ],
          [
           "Nate Sudfeld",
           2019,
           3.095,
           1,
           0,
           3.1,
           1.6
          ],
          [
           "Brian Hoyer",
           2012,
           1.927,
           1,
           0,
           1.9,
           1.6
          ],
          [
           "Matt Cassel",
           2017,
           5.25,
           2,
           0.5,
           2.6,
           1.6
          ],
          [
           "Christian Ponder",
           2015,
           2.25,
           1,
           1.5,
           2.2,
           1.6
          ],
          [
           "Derek Anderson",
           2015,
           4.5,
           2,
           1.5,
           2.2,
           1.6
          ],
          [
           "Colt McCoy",
           2022,
           7.5,
           2,
           6,
           3.2,
           1.6
          ],
          [
           "Mark Brunell",
           2008,
           3.6,
           2,
           0.5,
           1.8,
           1.6
          ],
          [
           "Jason Campbell",
           2013,
           3.75,
           2,
           0.5,
           1.9,
           1.5
          ],
          [
           "Andy Dalton",
           2020,
           3,
           1,
           3,
           3,
           1.5
          ],
          [
           "Charlie Whitehurst",
           2014,
           4,
           2,
           2,
           2,
           1.5
          ],
          [
           "Nick Foles",
           2022,
           6.2,
           2,
           4,
           3.1,
           1.5
          ],
          [
           "Austin Davis",
           2015,
           4.17353,
           3,
           0.6,
           2.1,
           1.5
          ],
          [
           "Andy Dalton",
           2022,
           3,
           1,
           3,
           3,
           1.4
          ],
          [
           "Charlie Whitehurst",
           2015,
           2,
           1,
           0,
           2,
           1.4
          ],
          [
           "Blaine Gabbert",
           2015,
           4,
           2,
           0.5,
           2,
           1.4
          ],
          [
           "Matt Schaub",
           2015,
           2,
           1,
           2,
           2,
           1.4
          ],
          [
           "Matt Cassel",
           2015,
           2,
           1,
           0,
           2,
           1.4
          ],
          [
           "Charlie Whitehurst",
           2015,
           2,
           1,
           0,
           2,
           1.4
          ],
          [
           "Mitchell Trubisky",
           2021,
           2.5,
           1,
           2,
           2.5,
           1.4
          ],
          [
           "C.J. Beathard",
           2021,
           5,
           2,
           2.8,
           2.5,
           1.4
          ],
          [
           "Rob Johnson",
           2003,
           2,
           2,
           0.2,
           1,
           1.3
          ],
          [
           "Landry Jones",
           2017,
           4.4,
           2,
           0.6,
           2.2,
           1.3
          ],
          [
           "Tim Boyle",
           2021,
           2.4,
           1,
           1.5,
           2.4,
           1.3
          ],
          [
           "Taylor Heinicke",
           2021,
           4.75,
           2,
           1.5,
           2.4,
           1.3
          ],
          [
           "Matt Cassel",
           2016,
           2,
           1,
           0.8,
           2,
           1.3
          ],
          [
           "Brandon Weeden",
           2016,
           4,
           2,
           0.4,
           2,
           1.3
          ],
          [
           "Brian Hoyer",
           2016,
           2,
           1,
           0.8,
           2,
           1.3
          ],
          [
           "Mark Sanchez",
           2016,
           2,
           1,
           0,
           2,
           1.3
          ],
          [
           "Charlie Whitehurst",
           2012,
           3.05,
           2,
           1,
           1.5,
           1.3
          ],
          [
           "Jeff Driskel",
           2020,
           5,
           2,
           2.5,
           2.5,
           1.3
          ],
          [
           "Mike White",
           2022,
           2.54,
           1,
           0,
           2.5,
           1.2
          ],
          [
           "Kyle Allen",
           2022,
           2.5,
           1,
           2.2,
           2.5,
           1.2
          ],
          [
           "Matt Barkley",
           2017,
           4,
           2,
           0.5,
           2,
           1.2
          ],
          [
           "Case Keenum",
           2017,
           2,
           1,
           0.2,
           2,
           1.2
          ],
          [
           "Mark Sanchez",
           2017,
           2,
           1,
           1,
           2,
           1.2
          ],
          [
           "Ryan Mallett",
           2017,
           2,
           1,
           1,
           2,
           1.2
          ],
          [
           "Mark Brunell",
           2010,
           3,
           2,
           0.3,
           1.5,
           1.2
          ],
          [
           "Matt Moore",
           2016,
           3.55,
           2,
           2.2,
           1.8,
           1.1
          ],
          [
           "Colt McCoy",
           2020,
           2.25,
           1,
           1.7,
           2.2,
           1.1
          ],
          [
           "Matt Barkley",
           2018,
           4,
           2,
           0.6,
           2,
           1.1
          ],
          [
           "Blaine Gabbert",
           2018,
           4,
           2,
           1,
           2,
           1.1
          ],
          [
           "Jason Campbell",
           2014,
           1.5,
           1,
           0.4,
           1.5,
           1.1
          ],
          [
           "Matt Schaub",
           2016,
           1.75,
           1,
           0.5,
           1.8,
           1.1
          ],
          [
           "Scott Tolzien",
           2016,
           3.5,
           2,
           0.5,
           1.8,
           1.1
          ],
          [
           "Tony Romo",
           2005,
           1.88,
           2,
           0.3,
           0.9,
           1.1
          ],
          [
           "Blaine Gabbert",
           2021,
           2,
           1,
           1.5,
           2,
           1.1
          ],
          [
           "Blaine Gabbert",
           2022,
           2.25,
           1,
           1.8,
           2.2,
           1.1
          ],
          [
           "Austin Davis",
           2015,
           1.542,
           1,
           0,
           1.5,
           1.1
          ],
          [
           "Nathan Peterman",
           2020,
           2.133,
           1,
           0,
           2.1,
           1.1
          ],
          [
           "Cooper Rush",
           2020,
           2.133,
           1,
           0,
           2.1,
           1.1
          ],
          [
           "Ryan Griffin",
           2017,
           1.797,
           1,
           0,
           1.8,
           1.1
          ],
          [
           "Trevor Siemian",
           2019,
           2,
           1,
           1,
           2,
           1.1
          ],
          [
           "Josh McCown",
           2019,
           2,
           1,
           2,
           2,
           1.1
          ],
          [
           "Colt McCoy",
           2015,
           1.5,
           1,
           0.2,
           1.5,
           1
          ],
          [
           "Tarvaris Jackson",
           2015,
           1.5,
           1,
           1.5,
           1.5,
           1
          ],
          [
           "Drew Stanton",
           2012,
           1.25,
           1,
           0.5,
           1.2,
           1
          ],
          [
           "Mike Glennon",
           2019,
           1.95,
           1,
           1.4,
           2,
           1
          ],
          [
           "Nate Sudfeld",
           2020,
           2,
           1,
           1,
           2,
           1
          ],
          [
           "Matt Schaub",
           2019,
           3.78,
           2,
           0.8,
           1.9,
           1
          ],
          [
           "Brett Hundley",
           2019,
           1.875,
           1,
           0.8,
           1.9,
           1
          ],
          [
           "Kevin Kolb",
           2007,
           4.33,
           4,
           2.6,
           1.1,
           1
          ],
          [
           "Luke McCown",
           2016,
           3,
           2,
           0.5,
           1.5,
           1
          ],
          [
           "Derek Anderson",
           2014,
           2.564,
           2,
           0.4,
           1.3,
           1
          ],
          [
           "Chase Daniel",
           2022,
           2,
           1,
           1.1,
           2,
           1
          ],
          [
           "Trevor Siemian",
           2022,
           4,
           2,
           3,
           2,
           1
          ],
          [
           "Nick Mullens",
           2022,
           2,
           1,
           1,
           2,
           1
          ],
          [
           "Nate Sudfeld",
           2022,
           2,
           1,
           2,
           2,
           1
          ],
          [
           "Tim Boyle",
           2022,
           2,
           1,
           1.8,
           2,
           1
          ],
          [
           "Brian Hoyer",
           2022,
           4,
           2,
           3,
           2,
           1
          ],
          [
           "Chad Henne",
           2022,
           2,
           1,
           2,
           2,
           1
          ],
          [
           "Jeff Driskel",
           2021,
           1.75,
           1,
           0.8,
           1.8,
           1
          ],
          [
           "Rob Johnson",
           2002,
           0.675,
           1,
           0.5,
           0.7,
           0.9
          ],
          [
           "Matt Barkley",
           2018,
           3.35,
           2,
           0.5,
           1.7,
           0.9
          ],
          [
           "Charlie Whitehurst",
           2010,
           1.176,
           1,
           0,
           1.2,
           0.9
          ],
          [
           "Josh Johnson",
           2012,
           2.115,
           2,
           0.4,
           1.1,
           0.9
          ],
          [
           "Rob Johnson",
           2003,
           0.655,
           1,
           0,
           0.7,
           0.9
          ],
          [
           "David Carr",
           2008,
           1,
           1,
           0.1,
           1,
           0.9
          ],
          [
           "Nate Sudfeld",
           2020,
           1.7,
           1,
           1.6,
           1.7,
           0.9
          ],
          [
           "Blaine Gabbert",
           2019,
           1.6,
           1,
           0.5,
           1.6,
           0.9
          ],
          [
           "Tom Savage",
           2018,
           1.5,
           1,
           0.1,
           1.5,
           0.8
          ],
          [
           "Brandon Allen",
           2021,
           1.5,
           1,
           0.3,
           1.5,
           0.8
          ],
          [
           "David Carr",
           2012,
           0.99,
           1,
           0.2,
           1,
           0.8
          ],
          [
           "Chad Henne",
           2020,
           3.25,
           2,
           2.8,
           1.6,
           0.8
          ],
          [
           "Austin Davis",
           2016,
           1.25,
           1,
           0.1,
           1.2,
           0.8
          ],
          [
           "Ryan Fitzpatrick",
           2008,
           0.927,
           1,
           0,
           0.9,
           0.8
          ],
          [
           "Mark Brunell",
           2011,
           0.96,
           1,
           0.6,
           1,
           0.8
          ],
          [
           "Jimmy Clausen",
           2015,
           1.125,
           1,
           0.3,
           1.1,
           0.8
          ],
          [
           "Ryan Mallett",
           2015,
           2.245,
           2,
           0,
           1.1,
           0.8
          ],
          [
           "Ryan Griffin",
           2019,
           2.9,
           2,
           0.4,
           1.4,
           0.8
          ],
          [
           "Josh Johnson",
           2013,
           1.895,
           2,
           0.2,
           0.9,
           0.8
          ],
          [
           "Shaun Hill",
           2005,
           0.656,
           1,
           0,
           0.7,
           0.8
          ],
          [
           "Ryan Griffin",
           2017,
           2.55,
           2,
           0,
           1.3,
           0.8
          ],
          [
           "Joe Flacco",
           2020,
           1.5,
           1,
           0.6,
           1.5,
           0.8
          ],
          [
           "Jeff Garcia",
           2011,
           0.91,
           1,
           0,
           0.9,
           0.8
          ],
          [
           "Mike Glennon",
           2021,
           1.375,
           1,
           0.4,
           1.4,
           0.8
          ],
          [
           "Drew Stanton",
           2011,
           0.9,
           1,
           0.2,
           0.9,
           0.7
          ],
          [
           "Derek Anderson",
           2012,
           0.89,
           1,
           0.1,
           0.9,
           0.7
          ],
          [
           "Derek Anderson",
           2013,
           0.905,
           1,
           0.1,
           0.9,
           0.7
          ],
          [
           "Matt Flynn",
           2013,
           1.79375,
           2,
           0,
           0.9,
           0.7
          ],
          [
           "Josh McCown",
           2012,
           0.875,
           1,
           0,
           0.9,
           0.7
          ],
          [
           "Brandon Allen",
           2022,
           1.5,
           1,
           0.3,
           1.5,
           0.7
          ],
          [
           "Geno Smith",
           2017,
           1.2,
           1,
           0.3,
           1.2,
           0.7
          ],
          [
           "David Carr",
           2011,
           0.86,
           1,
           0,
           0.9,
           0.7
          ],
          [
           "Josh McCown",
           2013,
           0.865,
           1,
           0.1,
           0.9,
           0.7
          ],
          [
           "Dan Orlovsky",
           2016,
           1.065,
           1,
           0.2,
           1.1,
           0.7
          ],
          [
           "Josh McCown",
           2012,
           0.825,
           1,
           0,
           0.8,
           0.7
          ],
          [
           "Luke McCown",
           2012,
           0.825,
           1,
           0,
           0.8,
           0.7
          ],
          [
           "Michael Vick",
           2015,
           0.97,
           1,
           0,
           1,
           0.7
          ],
          [
           "Josh McCown",
           2011,
           0.81,
           1,
           0,
           0.8,
           0.7
          ],
          [
           "Luke McCown",
           2013,
           0.825,
           1,
           0,
           0.8,
           0.7
          ],
          [
           "Geno Smith",
           2021,
           1.2125,
           1,
           0.1,
           1.2,
           0.7
          ],
          [
           "Colt McCoy",
           2021,
           1.2125,
           1,
           0.1,
           1.2,
           0.7
          ],
          [
           "Kellen Clemens",
           2017,
           1.08,
           1,
           0.1,
           1.1,
           0.6
          ],
          [
           "Charlie Whitehurst",
           2016,
           1,
           1,
           0,
           1,
           0.6
          ],
          [
           "Cooper Rush",
           2020,
           1.25,
           1,
           0.2,
           1.2,
           0.6
          ],
          [
           "Matt Cassel",
           2018,
           1.105,
           1,
           0,
           1.1,
           0.6
          ],
          [
           "Sean Mannion",
           2021,
           1.1275,
           1,
           0,
           1.1,
           0.6
          ],
          [
           "Derek Anderson",
           2011,
           0.735,
           1,
           0,
           0.7,
           0.6
          ],
          [
           "Matt Flynn",
           2015,
           0.87,
           1,
           0,
           0.9,
           0.6
          ],
          [
           "Derek Anderson",
           2018,
           1.07353,
           1,
           0.1,
           1.1,
           0.6
          ],
          [
           "Mike Glennon",
           2020,
           1.1875,
           1,
           0,
           1.2,
           0.6
          ],
          [
           "Blaine Gabbert",
           2020,
           1.1875,
           1,
           0.9,
           1.2,
           0.6
          ],
          [
           "Matt Moore",
           2020,
           1.1875,
           1,
           0.9,
           1.2,
           0.6
          ],
          [
           "Geno Smith",
           2020,
           1.1875,
           1,
           0.1,
           1.2,
           0.6
          ],
          [
           "Joe Webb",
           2016,
           1.86,
           2,
           0.2,
           0.9,
           0.6
          ],
          [
           "Kellen Clemens",
           2017,
           1,
           1,
           0,
           1,
           0.6
          ],
          [
           "Brandon Weeden",
           2017,
           1,
           1,
           0,
           1,
           0.6
          ],
          [
           "Colt McCoy",
           2014,
           0.795,
           1,
           0.1,
           0.8,
           0.6
          ],
          [
           "Matt Barkley",
           2021,
           1.075,
           1,
           0,
           1.1,
           0.6
          ],
          [
           "Blake Bortles",
           2021,
           1.075,
           1,
           0,
           1.1,
           0.6
          ],
          [
           "Brian Hoyer",
           2021,
           1.075,
           1,
           0,
           1.1,
           0.6
          ],
          [
           "Brian Hoyer",
           2021,
           1.075,
           1,
           0.1,
           1.1,
           0.6
          ],
          [
           "Josh Johnson",
           2021,
           1.075,
           1,
           0,
           1.1,
           0.6
          ],
          [
           "Chase Daniel",
           2021,
           1.075,
           1,
           0,
           1.1,
           0.6
          ],
          [
           "Josh Johnson",
           2021,
           1.075,
           1,
           0,
           1.1,
           0.6
          ],
          [
           "Matt Barkley",
           2021,
           1.075,
           1,
           0,
           1.1,
           0.6
          ],
          [
           "Josh Johnson",
           2021,
           1.075,
           1,
           0,
           1.1,
           0.6
          ],
          [
           "Josh Johnson",
           2022,
           1.22,
           1,
           0.1,
           1.2,
           0.6
          ],
          [
           "Josh Johnson",
           2017,
           1.95,
           2,
           0.1,
           1,
           0.6
          ],
          [
           "Josh Johnson",
           2012,
           0.7,
           1,
           0,
           0.7,
           0.6
          ],
          [
           "Mike Glennon",
           2020,
           1.15,
           1,
           0,
           1.2,
           0.6
          ],
          [
           "Shaun Hill",
           2006,
           1.18,
           2,
           0,
           0.6,
           0.6
          ],
          [
           "Brandon Allen",
           2022,
           1.2,
           1,
           0,
           1.2,
           0.6
          ],
          [
           "Jeff Driskel",
           2022,
           1.1875,
           1,
           0.2,
           1.2,
           0.6
          ],
          [
           "Joshua Dobbs",
           2022,
           1.1875,
           1,
           0,
           1.2,
           0.6
          ],
          [
           "Josh Johnson",
           2016,
           0.885,
           1,
           0,
           0.9,
           0.6
          ],
          [
           "Josh Johnson",
           2018,
           1.005,
           1,
           0,
           1,
           0.6
          ],
          [
           "Joe Webb",
           2018,
           1.005,
           1,
           0.1,
           1,
           0.6
          ],
          [
           "Geno Smith",
           2018,
           1,
           1,
           0.2,
           1,
           0.6
          ],
          [
           "Nathan Peterman",
           2021,
           1.025,
           1,
           1,
           1,
           0.6
          ],
          [
           "Alex Tanney",
           2019,
           2.15,
           2,
           0.3,
           1,
           0.6
          ],
          [
           "Jameis Winston",
           2020,
           1.1,
           1,
           1.1,
           1.1,
           0.6
          ],
          [
           "David Blough",
           2022,
           1.15,
           1,
           0.2,
           1.2,
           0.6
          ],
          [
           "Matt Moore",
           2019,
           1.03,
           1,
           0,
           1,
           0.5
          ],
          [
           "Josh Johnson",
           2019,
           1.03,
           1,
           0,
           1,
           0.5
          ],
          [
           "Josh Johnson",
           2017,
           1.815,
           2,
           0,
           0.9,
           0.5
          ],
          [
           "Brett Hundley",
           2021,
           0.99,
           1,
           0,
           1,
           0.5
          ],
          [
           "Sean Mannion",
           2021,
           0.99,
           1,
           0,
           1,
           0.5
          ],
          [
           "Brett Hundley",
           2021,
           0.99,
           1,
           0,
           1,
           0.5
          ],
          [
           "Jeff Driskel",
           2021,
           0.99,
           1,
           0,
           1,
           0.5
          ],
          [
           "Nate Sudfeld",
           2021,
           0.99,
           1,
           0.3,
           1,
           0.5
          ],
          [
           "Trevor Siemian",
           2021,
           0.99,
           1,
           0,
           1,
           0.5
          ],
          [
           "Josh Johnson",
           2017,
           0.9,
           1,
           0,
           0.9,
           0.5
          ],
          [
           "Chase Daniel",
           2017,
           0.9,
           1,
           0.9,
           0.9,
           0.5
          ],
          [
           "Josh Johnson",
           2022,
           1.12,
           1,
           0,
           1.1,
           0.5
          ],
          [
           "Josh McCown",
           2020,
           2.125,
           2,
           0,
           1.1,
           0.5
          ],
          [
           "Cooper Rush",
           2021,
           1.955,
           2,
           0,
           1,
           0.5
          ],
          [
           "Nick Mullens",
           2021,
           0.97,
           1,
           0.2,
           1,
           0.5
          ],
          [
           "Blake Bortles",
           2019,
           1,
           1,
           1,
           1,
           0.5
          ],
          [
           "Brian Hoyer",
           2020,
           1.05,
           1,
           0,
           1,
           0.5
          ],
          [
           "Joe Webb",
           2020,
           1.05,
           1,
           0,
           1,
           0.5
          ],
          [
           "Brett Hundley",
           2020,
           1.0475,
           1,
           0.9,
           1,
           0.5
          ],
          [
           "Sean Mannion",
           2020,
           1.0475,
           1,
           0.1,
           1,
           0.5
          ],
          [
           "Josh Johnson",
           2015,
           0.745,
           1,
           0,
           0.7,
           0.5
          ],
          [
           "Christian Ponder",
           2015,
           0.745,
           1,
           0,
           0.7,
           0.5
          ],
          [
           "Josh Johnson",
           2015,
           0.745,
           1,
           0,
           0.7,
           0.5
          ],
          [
           "Josh Johnson",
           2018,
           0.915,
           1,
           0,
           0.9,
           0.5
          ],
          [
           "Mark Sanchez",
           2018,
           0.915,
           1,
           0,
           0.9,
           0.5
          ],
          [
           "Joe Webb",
           2018,
           0.915,
           1,
           0,
           0.9,
           0.5
          ],
          [
           "Garrett Gilbert",
           2022,
           1.075,
           1,
           0,
           1.1,
           0.5
          ],
          [
           "Christian Ponder",
           2016,
           0.8,
           1,
           0,
           0.8,
           0.5
          ],
          [
           "Austin Davis",
           2017,
           0.855,
           1,
           0,
           0.9,
           0.5
          ],
          [
           "Ryan Nassib",
           2017,
           0.855,
           1,
           0.1,
           0.9,
           0.5
          ],
          [
           "T.J. Yates",
           2017,
           0.855,
           1,
           0,
           0.9,
           0.5
          ],
          [
           "Blaine Gabbert",
           2017,
           0.855,
           1,
           0.1,
           0.9,
           0.5
          ],
          [
           "Brian Hoyer",
           2012,
           0.615,
           1,
           0,
           0.6,
           0.5
          ],
          [
           "Nathan Peterman",
           2020,
           1,
           1,
           1,
           1,
           0.5
          ],
          [
           "Nick Mullens",
           2021,
           0.92,
           1,
           0,
           0.9,
           0.5
          ],
          [
           "Kyle Sloter",
           2021,
           0.92,
           1,
           0,
           0.9,
           0.5
          ],
          [
           "Davis Webb",
           2021,
           1.815,
           2,
           0,
           0.9,
           0.5
          ],
          [
           "Trace McSorley",
           2021,
           1.815,
           2,
           0,
           0.9,
           0.5
          ],
          [
           "Joshua Dobbs",
           2022,
           1.035,
           1,
           0,
           1,
           0.5
          ],
          [
           "Jeff Driskel",
           2022,
           1.035,
           1,
           0,
           1,
           0.5
          ],
          [
           "Nathan Peterman",
           2022,
           1.035,
           1,
           0,
           1,
           0.5
          ],
          [
           "Nate Sudfeld",
           2022,
           1.035,
           1,
           0,
           1,
           0.5
          ],
          [
           "Cooper Rush",
           2022,
           1.035,
           1,
           0,
           1,
           0.5
          ],
          [
           "Nathan Peterman",
           2022,
           1.035,
           1,
           0,
           1,
           0.5
          ],
          [
           "Tim Boyle",
           2022,
           1.035,
           1,
           0,
           1,
           0.5
          ],
          [
           "Austin Davis",
           2018,
           0.88,
           1,
           0.1,
           0.9,
           0.5
          ],
          [
           "Brock Osweiler",
           2018,
           0.88,
           1,
           0.6,
           0.9,
           0.5
          ],
          [
           "David Fales",
           2018,
           0.88,
           1,
           0.1,
           0.9,
           0.5
          ],
          [
           "Will Grier",
           2022,
           2.045,
           2,
           0,
           1,
           0.5
          ],
          [
           "T.J. Yates",
           2016,
           0.76,
           1,
           0,
           0.8,
           0.5
          ],
          [
           "Ricky Stanzi",
           2013,
           1.2,
           2,
           0,
           0.6,
           0.5
          ],
          [
           "Alex Tanney",
           2019,
           1.825,
           2,
           0,
           0.9,
           0.5
          ],
          [
           "Cody Kessler",
           2019,
           0.91215,
           1,
           0,
           0.9,
           0.5
          ],
          [
           "Tyler Bray",
           2020,
           0.955,
           1,
           0,
           1,
           0.5
          ],
          [
           "E.J. Manuel",
           2017,
           0.8,
           1,
           0,
           0.8,
           0.5
          ],
          [
           "Geno Smith",
           2019,
           0.895,
           1,
           0,
           0.9,
           0.5
          ],
          [
           "Sean Mannion",
           2019,
           0.895,
           1,
           0.1,
           0.9,
           0.5
          ],
          [
           "Ryan Lindley",
           2015,
           1.335,
           2,
           0,
           0.7,
           0.5
          ],
          [
           "Kyle Allen",
           2021,
           0.85,
           1,
           0,
           0.8,
           0.5
          ],
          [
           "Dwayne Haskins",
           2021,
           0.85,
           1,
           0,
           0.8,
           0.5
          ],
          [
           "Brett Rypien",
           2021,
           0.85,
           1,
           0,
           0.8,
           0.5
          ],
          [
           "Josh Rosen",
           2021,
           0.85,
           1,
           0,
           0.8,
           0.5
          ],
          [
           "Mike White",
           2021,
           0.85,
           1,
           0,
           0.8,
           0.5
          ],
          [
           "Josh Rosen",
           2021,
           0.85,
           1,
           0,
           0.8,
           0.5
          ],
          [
           "T.J. Yates",
           2017,
           0.775,
           1,
           0,
           0.8,
           0.5
          ],
          [
           "Matt Barkley",
           2017,
           0.775,
           1,
           0,
           0.8,
           0.5
          ],
          [
           "Brock Osweiler",
           2017,
           0.775,
           1,
           0,
           0.8,
           0.5
          ],
          [
           "Kellen Moore",
           2017,
           0.775,
           1,
           0,
           0.8,
           0.5
          ],
          [
           "Kellen Moore",
           2017,
           0.775,
           1,
           0,
           0.8,
           0.5
          ],
          [
           "Ryan Nassib",
           2017,
           0.775,
           1,
           0,
           0.8,
           0.5
          ],
          [
           "David Blough",
           2022,
           0.965,
           1,
           0,
           1,
           0.5
          ],
          [
           "Brett Rypien",
           2022,
           0.965,
           1,
           0,
           1,
           0.5
          ],
          [
           "Trace McSorley",
           2022,
           0.965,
           1,
           0,
           1,
           0.5
          ],
          [
           "Brandon Weeden",
           2014,
           1.23,
           2,
           0,
           0.6,
           0.5
          ],
          [
           "Geno Smith",
           2019,
           0.87,
           1,
           0,
           0.9,
           0.5
          ],
          [
           "Ryan Lindley",
           2015,
           0.66,
           1,
           0,
           0.7,
           0.5
          ],
          [
           "Austin Davis",
           2015,
           0.66,
           1,
           0,
           0.7,
           0.5
          ],
          [
           "Blake Bortles",
           2020,
           0.91,
           1,
           0,
           0.9,
           0.5
          ],
          [
           "Trevor Siemian",
           2020,
           0.91,
           1,
           0,
           0.9,
           0.5
          ],
          [
           "Taylor Heinicke",
           2020,
           0.91,
           1,
           0,
           0.9,
           0.5
          ],
          [
           "Trevor Siemian",
           2020,
           0.91,
           1,
           0,
           0.9,
           0.5
          ],
          [
           "Blake Bortles",
           2020,
           0.91,
           1,
           0,
           0.9,
           0.5
          ],
          [
           "Kyle Lauletta",
           2021,
           1.675,
           2,
           0,
           0.8,
           0.5
          ],
          [
           "Logan Woodside",
           2022,
           1.905,
           2,
           0,
           1,
           0.5
          ],
          [
           "Davis Webb",
           2022,
           0.945,
           1,
           0,
           0.9,
           0.5
          ],
          [
           "Matt Barkley",
           2018,
           0.79,
           1,
           0,
           0.8,
           0.4
          ],
          [
           "Brandon Weeden",
           2018,
           0.79,
           1,
           0,
           0.8,
           0.4
          ],
          [
           "Austin Davis",
           2018,
           0.79,
           1,
           0,
           0.8,
           0.4
          ],
          [
           "Landry Jones",
           2018,
           0.79,
           1,
           0,
           0.8,
           0.4
          ],
          [
           "Tyler Bray",
           2019,
           0.8264,
           1,
           0,
           0.8,
           0.4
          ],
          [
           "Matt Barkley",
           2016,
           0.675,
           1,
           0,
           0.7,
           0.4
          ],
          [
           "Phillip Walker",
           2022,
           0.895,
           1,
           0,
           0.9,
           0.4
          ],
          [
           "Logan Woodside",
           2022,
           0.895,
           1,
           0,
           0.9,
           0.4
          ],
          [
           "John Wolford",
           2022,
           0.895,
           1,
           0,
           0.9,
           0.4
          ],
          [
           "Tyler Huntley",
           2022,
           0.895,
           1,
           0,
           0.9,
           0.4
          ],
          [
           "Chris Streveler",
           2022,
           0.895,
           1,
           0,
           0.9,
           0.4
          ],
          [
           "Ryan Lindley",
           2014,
           0.57,
           1,
           0,
           0.6,
           0.4
          ],
          [
           "Austin Davis",
           2014,
           0.57,
           1,
           0,
           0.6,
           0.4
          ],
          [
           "David Fales",
           2019,
           0.805,
           1,
           0,
           0.8,
           0.4
          ],
          [
           "David Fales",
           2019,
           0.805,
           1,
           0,
           0.8,
           0.4
          ],
          [
           "Tyler Bray",
           2019,
           0.805,
           1,
           0,
           0.8,
           0.4
          ],
          [
           "David Fales",
           2019,
           0.805,
           1,
           0,
           0.8,
           0.4
          ],
          [
           "Tyler Huntley",
           2021,
           0.78,
           1,
           0,
           0.8,
           0.4
          ],
          [
           "Kyle Lauletta",
           2021,
           0.78,
           1,
           0,
           0.8,
           0.4
          ],
          [
           "Jake Luton",
           2021,
           0.78,
           1,
           0,
           0.8,
           0.4
          ],
          [
           "Jake Fromm",
           2021,
           0.78,
           1,
           0,
           0.8,
           0.4
          ],
          [
           "Garrett Gilbert",
           2020,
           1.67,
           2,
           0,
           0.8,
           0.4
          ],
          [
           "Cody Kessler",
           2019,
           1.565,
           2,
           0,
           0.8,
           0.4
          ],
          [
           "David Fales",
           2017,
           0.69,
           1,
           0,
           0.7,
           0.4
          ],
          [
           "Cody Kessler",
           2019,
           1.54,
           2,
           0,
           0.8,
           0.4
          ],
          [
           "Case Keenum",
           2015,
           0.585,
           1,
           0,
           0.6,
           0.4
          ],
          [
           "Case Keenum",
           2015,
           0.585,
           1,
           0,
           0.6,
           0.4
          ],
          [
           "Bryce Perkins",
           2021,
           1.485,
           2,
           0,
           0.7,
           0.4
          ],
          [
           "Reid Sinnett",
           2021,
           1.485,
           2,
           0,
           0.7,
           0.4
          ],
          [
           "Reid Sinnett",
           2021,
           1.485,
           2,
           0,
           0.7,
           0.4
          ],
          [
           "Reid Sinnett",
           2021,
           1.485,
           2,
           0,
           0.7,
           0.4
          ],
          [
           "Chandler Harnish",
           2014,
           1.08,
           2,
           0,
           0.5,
           0.4
          ],
          [
           "Chandler Harnish",
           2014,
           1.08,
           2,
           0,
           0.5,
           0.4
          ],
          [
           "Tom Savage",
           2018,
           0.705,
           1,
           0,
           0.7,
           0.4
          ],
          [
           "Tom Savage",
           2018,
           0.705,
           1,
           0,
           0.7,
           0.4
          ],
          [
           "Taylor Heinicke",
           2017,
           1.32,
           2,
           0,
           0.7,
           0.4
          ],
          [
           "Phillip Walker",
           2020,
           1.565,
           2,
           0.2,
           0.8,
           0.4
          ],
          [
           "Austin Davis",
           2013,
           0.48,
           1,
           0,
           0.5,
           0.4
          ],
          [
           "David Fales",
           2015,
           1.11,
           2,
           0,
           0.6,
           0.4
          ],
          [
           "Brad Sorensen",
           2015,
           1.11,
           2,
           0,
           0.6,
           0.4
          ],
          [
           "David Fales",
           2015,
           1.11,
           2,
           0,
           0.6,
           0.4
          ],
          [
           "David Fales",
           2016,
           0.6,
           1,
           0,
           0.6,
           0.4
          ],
          [
           "Mike White",
           2020,
           1.525,
           2,
           0,
           0.8,
           0.4
          ],
          [
           "David Blough",
           2020,
           1.525,
           2,
           0,
           0.8,
           0.4
          ],
          [
           "Brett Rypien",
           2020,
           1.525,
           2,
           0,
           0.8,
           0.4
          ],
          [
           "Kyle Sloter",
           2019,
           1.43,
           2,
           0,
           0.7,
           0.4
          ],
          [
           "Nick Mullens",
           2020,
           0.75,
           1,
           0,
           0.8,
           0.4
          ],
          [
           "Josh Rosen",
           2020,
           0.75,
           1,
           0,
           0.8,
           0.4
          ],
          [
           "Jake Rudock",
           2020,
           0.75,
           1,
           0,
           0.8,
           0.4
          ],
          [
           "Alex Tanney",
           2016,
           1.17,
           3,
           0,
           0.6,
           0.4
          ],
          [
           "Case Keenum",
           2014,
           0.495,
           1,
           0,
           0.5,
           0.4
          ],
          [
           "Paxton Lynch",
           2019,
           1.38,
           2,
           0,
           0.7,
           0.4
          ],
          [
           "Garrett Gilbert",
           2019,
           1.38,
           2,
           0.1,
           0.7,
           0.4
          ],
          [
           "Case Keenum",
           2013,
           0.9,
           2,
           0,
           0.4,
           0.4
          ],
          [
           "Kyle Shurmur",
           2021,
           0.66,
           1,
           0,
           0.7,
           0.4
          ],
          [
           "Kurt Benkert",
           2021,
           0.66,
           1,
           0,
           0.7,
           0.4
          ],
          [
           "Brad Sorensen",
           2015,
           0.51,
           1,
           0,
           0.5,
           0.4
          ],
          [
           "Kevin Hogan",
           2018,
           0.63,
           1,
           0,
           0.6,
           0.4
          ],
          [
           "Kevin Hogan",
           2018,
           0.63,
           1,
           0,
           0.6,
           0.4
          ],
          [
           "Nate Sudfeld",
           2017,
           1.17,
           2,
           0,
           0.6,
           0.4
          ],
          [
           "Brandon Allen",
           2019,
           0.645,
           1,
           0,
           0.6,
           0.3
          ],
          [
           "Paxton Lynch",
           2019,
           0.645,
           1,
           0,
           0.6,
           0.3
          ],
          [
           "Brandon Allen",
           2019,
           0.645,
           1,
           0,
           0.6,
           0.3
          ],
          [
           "Jeff Driskel",
           2019,
           0.645,
           1,
           0,
           0.6,
           0.3
          ],
          [
           "Mike White",
           2020,
           0.675,
           1,
           0,
           0.7,
           0.3
          ],
          [
           "Mike White",
           2020,
           0.675,
           1,
           0,
           0.7,
           0.3
          ],
          [
           "Alex McGough",
           2019,
           1.28,
           2,
           0.1,
           0.6,
           0.3
          ],
          [
           "Zac Dysert",
           2016,
           0.525,
           1,
           0,
           0.5,
           0.3
          ],
          [
           "Zac Dysert",
           2016,
           0.525,
           1,
           0,
           0.5,
           0.3
          ],
          [
           "Keith Wenning",
           2015,
           0.96,
           2,
           0,
           0.5,
           0.3
          ],
          [
           "Jake Rudock",
           2020,
           0.66,
           1,
           0,
           0.7,
           0.3
          ],
          [
           "Chad Kelly",
           2019,
           1.23,
           2,
           0,
           0.6,
           0.3
          ],
          [
           "Nate Sudfeld",
           2017,
           0.540005,
           1,
           0,
           0.5,
           0.3
          ],
          [
           "Joe Callahan",
           2017,
           0.54,
           1,
           0,
           0.5,
           0.3
          ],
          [
           "Brett Rypien",
           2020,
           1.26,
           2,
           0,
           0.6,
           0.3
          ],
          [
           "John Wolford",
           2020,
           1.26,
           2,
           0.2,
           0.6,
           0.3
          ],
          [
           "Mike White",
           2020,
           1.26,
           2,
           0,
           0.6,
           0.3
          ],
          [
           "Davis Webb",
           2018,
           0.555,
           1,
           0,
           0.6,
           0.3
          ],
          [
           "Alex Tanney",
           2018,
           0.555,
           1,
           0,
           0.6,
           0.3
          ],
          [
           "Garrett Gilbert",
           2018,
           0.555,
           1,
           0,
           0.6,
           0.3
          ],
          [
           "Davis Webb",
           2018,
           0.554999,
           1,
           0,
           0.6,
           0.3
          ],
          [
           "Garrett Gilbert",
           2017,
           1.02,
           2,
           0,
           0.5,
           0.3
          ],
          [
           "Keith Wenning",
           2015,
           0.435,
           1,
           0,
           0.4,
           0.3
          ],
          [
           "Keith Wenning",
           2015,
           0.435,
           2,
           0,
           0.4,
           0.3
          ],
          [
           "Luke Falk",
           2019,
           0.57,
           1,
           0,
           0.6,
           0.3
          ],
          [
           "Chad Kelly",
           2019,
           0.57,
           1,
           0,
           0.6,
           0.3
          ],
          [
           "Nick Mullens",
           2018,
           1.05,
           2,
           0,
           0.5,
           0.3
          ],
          [
           "Kyle Allen",
           2020,
           0.585,
           1,
           0,
           0.6,
           0.3
          ],
          [
           "Clayton Thorson",
           2020,
           1.16,
           2,
           0,
           0.6,
           0.3
          ],
          [
           "Alex McGough",
           2019,
           1.08,
           2,
           0,
           0.5,
           0.3
          ],
          [
           "Logan Woodside",
           2020,
           1.11,
           2,
           0,
           0.6,
           0.3
          ],
          [
           "Garrett Gilbert",
           2017,
           0.465,
           1,
           0,
           0.5,
           0.3
          ],
          [
           "Alex McGough",
           2019,
           0.495006,
           1,
           0,
           0.5,
           0.3
          ],
          [
           "Danny Etling",
           2019,
           0.495,
           1,
           0,
           0.5,
           0.3
          ],
          [
           "Danny Etling",
           2019,
           0.495,
           1,
           0,
           0.5,
           0.3
          ],
          [
           "Danny Etling",
           2019,
           0.495,
           1,
           0,
           0.5,
           0.3
          ],
          [
           "Jeff Driskel",
           2022,
           0.471,
           1,
           0,
           0.5,
           0.2
          ],
          [
           "Will Grier",
           2022,
           0.459333,
           1,
           0,
           0.5,
           0.2
          ],
          [
           "Jeff Driskel",
           2022,
           0.4334,
           1,
           0,
           0.4,
           0.2
          ],
          [
           "Jeff Driskel",
           2021,
           0.375,
           1,
           0,
           0.4,
           0.2
          ],
          [
           "Will Grier",
           2022,
           0.425622,
           1,
           0,
           0.4,
           0.2
          ],
          [
           "Jeff Driskel",
           2022,
           0.3958,
           1,
           0,
           0.4,
           0.2
          ],
          [
           "Cooper Rush",
           2022,
           0.3958,
           1,
           0,
           0.4,
           0.2
          ],
          [
           "Nathan Peterman",
           2022,
           0.3958,
           1,
           0,
           0.4,
           0.2
          ],
          [
           "Will Grier",
           2022,
           0.391911,
           1,
           0,
           0.4,
           0.2
          ],
          [
           "Josh Johnson",
           2021,
           0.343444,
           1,
           0,
           0.3,
           0.2
          ],
          [
           "Sean Mannion",
           2021,
           0.334,
           1,
           0,
           0.3,
           0.2
          ],
          [
           "Alex McGough",
           2019,
           0.34,
           1,
           0,
           0.3,
           0.2
          ],
          [
           "Brett Hundley",
           2021,
           0.32,
           1,
           0,
           0.3,
           0.2
          ],
          [
           "Will Grier",
           2022,
           0.3582,
           1,
           0,
           0.4,
           0.2
          ],
          [
           "Jeff Driskel",
           2022,
           0.3582,
           1,
           0,
           0.4,
           0.2
          ],
          [
           "Joshua Dobbs",
           2022,
           0.3582,
           1,
           0,
           0.4,
           0.2
          ],
          [
           "David Blough",
           2022,
           0.3582,
           1,
           0,
           0.4,
           0.2
          ],
          [
           "Nathan Peterman",
           2022,
           0.3582,
           1,
           0,
           0.4,
           0.2
          ],
          [
           "Cooper Rush",
           2022,
           0.3582,
           1,
           0,
           0.4,
           0.2
          ],
          [
           "Brian Hoyer",
           2021,
           0.297722,
           1,
           0,
           0.3,
           0.2
          ],
          [
           "Josh Johnson",
           2021,
           0.297722,
           1,
           0,
           0.3,
           0.2
          ],
          [
           "Tyler Bray",
           2020,
           0.323316,
           1,
           0,
           0.3,
           0.2
          ],
          [
           "Brett Hundley",
           2021,
           0.293,
           1,
           0,
           0.3,
           0.2
          ],
          [
           "Sean Mannion",
           2021,
           0.293,
           1,
           0,
           0.3,
           0.2
          ],
          [
           "Josh Johnson",
           2022,
           0.334222,
           1,
           0,
           0.3,
           0.2
          ],
          [
           "Nick Mullens",
           2021,
           0.289111,
           1,
           0,
           0.3,
           0.2
          ],
          [
           "Matt Barkley",
           2016,
           0.2448,
           1,
           0,
           0.2,
           0.2
          ],
          [
           "Chris Streveler",
           2022,
           0.321666,
           1,
           0,
           0.3,
           0.2
          ],
          [
           "Davis Webb",
           2022,
           0.321666,
           1,
           0,
           0.3,
           0.2
          ],
          [
           "Taylor Heinicke",
           2017,
           0.255,
           1,
           0,
           0.3,
           0.2
          ],
          [
           "David Fales",
           2015,
           0.2125,
           1,
           0,
           0.2,
           0.1
          ],
          [
           "Garrett Gilbert",
           2022,
           0.2998,
           1,
           0,
           0.3,
           0.1
          ],
          [
           "Nate Sudfeld",
           2021,
           0.2572,
           1,
           0,
           0.3,
           0.1
          ],
          [
           "Tyler Bray",
           2020,
           0.278187,
           1,
           0,
           0.3,
           0.1
          ],
          [
           "Josh Johnson",
           2022,
           0.288,
           1,
           0,
           0.3,
           0.1
          ],
          [
           "Jeff Driskel",
           2021,
           0.252,
           1,
           0,
           0.3,
           0.1
          ],
          [
           "Blake Bortles",
           2021,
           0.252,
           1,
           0,
           0.3,
           0.1
          ],
          [
           "Nathan Peterman",
           2021,
           0.252,
           1,
           0,
           0.3,
           0.1
          ],
          [
           "Blake Bortles",
           2021,
           0.252,
           1,
           0,
           0.3,
           0.1
          ],
          [
           "Josh Johnson",
           2021,
           0.252,
           1,
           0,
           0.3,
           0.1
          ],
          [
           "Brian Hoyer",
           2021,
           0.252,
           1,
           0,
           0.3,
           0.1
          ],
          [
           "Sean Mannion",
           2021,
           0.252,
           1,
           0,
           0.3,
           0.1
          ],
          [
           "Nick Mullens",
           2021,
           0.252,
           1,
           0,
           0.3,
           0.1
          ],
          [
           "Brett Hundley",
           2021,
           0.252,
           1,
           0,
           0.3,
           0.1
          ],
          [
           "Matt Barkley",
           2021,
           0.252,
           1,
           0,
           0.3,
           0.1
          ],
          [
           "Brett Hundley",
           2021,
           0.252,
           1,
           0,
           0.3,
           0.1
          ],
          [
           "Davis Webb",
           2022,
           0.283444,
           1,
           0,
           0.3,
           0.1
          ],
          [
           "Logan Woodside",
           2022,
           0.283444,
           1,
           0,
           0.3,
           0.1
          ],
          [
           "Chris Streveler",
           2022,
           0.283444,
           1,
           0,
           0.3,
           0.1
          ],
          [
           "Garrett Gilbert",
           2022,
           0.2772,
           1,
           0,
           0.3,
           0.1
          ],
          [
           "Mike Glennon",
           2022,
           0.2772,
           1,
           0,
           0.3,
           0.1
          ],
          [
           "Mike Glennon",
           2022,
           0.2772,
           1,
           0,
           0.3,
           0.1
          ],
          [
           "Tim Boyle",
           2022,
           0.2772,
           1,
           0,
           0.3,
           0.1
          ],
          [
           "Garrett Gilbert",
           2022,
           0.2772,
           1,
           0,
           0.3,
           0.1
          ],
          [
           "Matt Moore",
           2020,
           0.253765,
           1,
           0,
           0.3,
           0.1
          ],
          [
           "Chris Streveler",
           2022,
           0.245222,
           1,
           0,
           0.2,
           0.1
          ],
          [
           "Logan Woodside",
           2022,
           0.245222,
           1,
           0,
           0.2,
           0.1
          ],
          [
           "Davis Webb",
           2022,
           0.245222,
           1,
           0,
           0.2,
           0.1
          ],
          [
           "Nate Sudfeld",
           2021,
           0.2114,
           1,
           0,
           0.2,
           0.1
          ],
          [
           "Jake Luton",
           2021,
           0.206266,
           1,
           0,
           0.2,
           0.1
          ],
          [
           "Tyler Bray",
           2019,
           0.2125,
           1,
           0,
           0.2,
           0.1
          ],
          [
           "Trace McSorley",
           2021,
           0.203622,
           1,
           0,
           0.2,
           0.1
          ],
          [
           "Davis Webb",
           2021,
           0.203622,
           1,
           0,
           0.2,
           0.1
          ],
          [
           "David Fales",
           2016,
           0.17,
           1,
           0,
           0.2,
           0.1
          ],
          [
           "Luke Falk",
           2019,
           0.204,
           1,
           0,
           0.2,
           0.1
          ],
          [
           "Josh McCown",
           2020,
           0.204,
           1,
           0,
           0.2,
           0.1
          ],
          [
           "Cooper Rush",
           2020,
           0.204,
           1,
           0,
           0.2,
           0.1
          ],
          [
           "Cooper Rush",
           2020,
           0.204,
           1,
           0,
           0.2,
           0.1
          ],
          [
           "Trevor Siemian",
           2020,
           0.204,
           1,
           0,
           0.2,
           0.1
          ],
          [
           "Joe Webb",
           2020,
           0.204,
           1,
           0,
           0.2,
           0.1
          ],
          [
           "Kevin Hogan",
           2020,
           0.204,
           1,
           0,
           0.2,
           0.1
          ],
          [
           "Joe Webb",
           2020,
           0.204,
           1,
           0,
           0.2,
           0.1
          ],
          [
           "Taylor Heinicke",
           2020,
           0.204,
           1,
           0,
           0.2,
           0.1
          ],
          [
           "Kevin Hogan",
           2020,
           0.204,
           1,
           0,
           0.2,
           0.1
          ],
          [
           "Blake Bortles",
           2020,
           0.204,
           1,
           0,
           0.2,
           0.1
          ],
          [
           "Mike Glennon",
           2020,
           0.204,
           1,
           0,
           0.2,
           0.1
          ],
          [
           "Cooper Rush",
           2020,
           0.204,
           1,
           0,
           0.2,
           0.1
          ],
          [
           "Matt Moore",
           2020,
           0.204,
           1,
           0,
           0.2,
           0.1
          ],
          [
           "Trevor Siemian",
           2020,
           0.204,
           1,
           0,
           0.2,
           0.1
          ],
          [
           "Chris Streveler",
           2022,
           0.207,
           1,
           0,
           0.2,
           0.1
          ],
          [
           "Davis Webb",
           2022,
           0.207,
           1,
           0,
           0.2,
           0.1
          ],
          [
           "Trace McSorley",
           2022,
           0.207,
           1,
           0,
           0.2,
           0.1
          ],
          [
           "Logan Woodside",
           2022,
           0.207,
           1,
           0,
           0.2,
           0.1
          ],
          [
           "Nick Mullens",
           2018,
           0.17,
           1,
           0,
           0.2,
           0.1
          ],
          [
           "Jake Luton",
           2021,
           0.172133,
           1,
           0,
           0.2,
           0.1
          ],
          [
           "Jake Luton",
           2021,
           0.1656,
           1,
           0,
           0.2,
           0.1
          ],
          [
           "Kurt Benkert",
           2021,
           0.1656,
           1,
           0,
           0.2,
           0.1
          ],
          [
           "Brett Rypien",
           2021,
           0.1656,
           1,
           0,
           0.2,
           0.1
          ],
          [
           "Jake Fromm",
           2021,
           0.1656,
           1,
           0,
           0.2,
           0.1
          ],
          [
           "Nate Sudfeld",
           2021,
           0.1656,
           1,
           0,
           0.2,
           0.1
          ],
          [
           "Kyle Lauletta",
           2021,
           0.1656,
           1,
           0,
           0.2,
           0.1
          ],
          [
           "Reid Sinnett",
           2021,
           0.1656,
           1,
           0,
           0.2,
           0.1
          ],
          [
           "Trace McSorley",
           2021,
           0.1656,
           1,
           0,
           0.2,
           0.1
          ],
          [
           "Jake Luton",
           2021,
           0.1656,
           1,
           0,
           0.2,
           0.1
          ],
          [
           "Chris Streveler",
           2021,
           0.1656,
           1,
           0,
           0.2,
           0.1
          ],
          [
           "Kyle Shurmur",
           2021,
           0.1656,
           1,
           0,
           0.2,
           0.1
          ],
          [
           "Kyle Sloter",
           2021,
           0.1656,
           1,
           0,
           0.2,
           0.1
          ],
          [
           "Davis Webb",
           2021,
           0.1656,
           1,
           0,
           0.2,
           0.1
          ],
          [
           "Clayton Thorson",
           2020,
           0.172564,
           1,
           0,
           0.2,
           0.1
          ],
          [
           "Kurt Benkert",
           2020,
           0.170282,
           1,
           0,
           0.2,
           0.1
          ],
          [
           "Mike White",
           2020,
           0.167988,
           1,
           0,
           0.2,
           0.1
          ],
          [
           "Austin Davis",
           2013,
           0.102,
           1,
           0,
           0.1,
           0.1
          ],
          [
           "Case Keenum",
           2014,
           0.1071,
           1,
           0,
           0.1,
           0.1
          ],
          [
           "Chandler Harnish",
           2014,
           0.1071,
           1,
           0,
           0.1,
           0.1
          ],
          [
           "Ryan Lindley",
           2014,
           0.1071,
           1,
           0,
           0.1,
           0.1
          ],
          [
           "Brad Sorensen",
           2015,
           0.1122,
           1,
           0,
           0.1,
           0.1
          ],
          [
           "David Fales",
           2015,
           0.1122,
           1,
           0,
           0.1,
           0.1
          ],
          [
           "Keith Wenning",
           2015,
           0.1122,
           1,
           0,
           0.1,
           0.1
          ],
          [
           "Brad Sorensen",
           2015,
           0.1122,
           1,
           0,
           0.1,
           0.1
          ],
          [
           "Zac Dysert",
           2016,
           0.1173,
           1,
           0,
           0.1,
           0.1
          ],
          [
           "Zac Dysert",
           2016,
           0.1173,
           1,
           0,
           0.1,
           0.1
          ],
          [
           "Kellen Moore",
           2017,
           0.1224,
           1,
           0,
           0.1,
           0.1
          ],
          [
           "Taylor Heinicke",
           2017,
           0.1224,
           1,
           0,
           0.1,
           0.1
          ],
          [
           "Garrett Gilbert",
           2017,
           0.1224,
           1,
           0,
           0.1,
           0.1
          ],
          [
           "Joe Callahan",
           2017,
           0.1224,
           1,
           0,
           0.1,
           0.1
          ],
          [
           "Austin Davis",
           2018,
           0.1292,
           1,
           0,
           0.1,
           0.1
          ],
          [
           "Brandon Allen",
           2018,
           0.1292,
           1,
           0,
           0.1,
           0.1
          ],
          [
           "Danny Etling",
           2019,
           0.136,
           1,
           0,
           0.1,
           0.1
          ],
          [
           "Paxton Lynch",
           2019,
           0.136,
           1,
           0,
           0.1,
           0.1
          ],
          [
           "Danny Etling",
           2019,
           0.136,
           1,
           0,
           0.1,
           0.1
          ],
          [
           "Kyle Sloter",
           2019,
           0.136,
           1,
           0,
           0.1,
           0.1
          ],
          [
           "Mike White",
           2020,
           0.1428,
           1,
           0,
           0.1,
           0.1
          ],
          [
           "Garrett Gilbert",
           2020,
           0.1428,
           1,
           0,
           0.1,
           0.1
          ],
          [
           "Mike White",
           2020,
           0.1428,
           1,
           0,
           0.1,
           0.1
          ],
          [
           "Tyler Bray",
           2020,
           0.1428,
           1,
           0,
           0.1,
           0.1
          ],
          [
           "David Blough",
           2020,
           0.1428,
           1,
           0,
           0.1,
           0.1
          ],
          [
           "Brett Rypien",
           2020,
           0.1428,
           1,
           0,
           0.1,
           0.1
          ],
          [
           "Jake Rudock",
           2020,
           0.1428,
           1,
           0,
           0.1,
           0.1
          ],
          [
           "Jake Rudock",
           2020,
           0.1428,
           1,
           0,
           0.1,
           0.1
          ],
          [
           "Mike White",
           2020,
           0.1428,
           1,
           0,
           0.1,
           0.1
          ],
          [
           "Josh Rosen",
           2020,
           0.1428,
           1,
           0,
           0.1,
           0.1
          ],
          [
           "Mike White",
           2020,
           0.1428,
           1,
           0,
           0.1,
           0.1
          ],
          [
           "Clayton Thorson",
           2020,
           0.1428,
           1,
           0,
           0.1,
           0.1
          ],
          [
           "Mike White",
           2020,
           0.136682,
           1,
           0,
           0.1,
           0.1
          ],
          [
           "Matt Barkley",
           2021,
           1.1,
           1,
           0,
           0.1,
           0.1
          ]
         ],
         "hovertemplate": "<br>%{customdata[0]}, %{customdata[1]}         <br> $%{customdata[2]}M/%{customdata[3]}yr ($%{customdata[4]}M guaranteed)         <br> $%{customdata[5]}M APY",
         "marker": {
          "line": {
           "width": 2
          },
          "opacity": 0.8,
          "size": 8,
          "symbol": "x-thin-open"
         },
         "mode": "markers",
         "name": "Vet Backup",
         "type": "scatter",
         "x": [
          2005,
          2016,
          2009,
          2018,
          2018,
          2011,
          2012,
          2020,
          2010,
          2014,
          2013,
          2021,
          2016,
          2010,
          2020,
          2014,
          2020,
          2019,
          2004,
          2019,
          2018,
          2022,
          2017,
          2013,
          2015,
          2022,
          2009,
          2020,
          2013,
          2014,
          2013,
          2006,
          2006,
          2019,
          2012,
          2012,
          2007,
          2018,
          2012,
          2009,
          2021,
          2010,
          2021,
          2016,
          2021,
          2013,
          2008,
          2013,
          2009,
          2022,
          2016,
          2015,
          2010,
          2017,
          2012,
          2015,
          2018,
          2009,
          2020,
          2019,
          2017,
          2015,
          2016,
          2011,
          2016,
          2021,
          2021,
          2018,
          2018,
          2007,
          2018,
          2018,
          2015,
          2017,
          2008,
          2009,
          2014,
          2022,
          2005,
          2013,
          2019,
          2012,
          2017,
          2015,
          2015,
          2022,
          2008,
          2013,
          2020,
          2014,
          2022,
          2015,
          2022,
          2015,
          2015,
          2015,
          2015,
          2015,
          2021,
          2021,
          2003,
          2017,
          2021,
          2021,
          2016,
          2016,
          2016,
          2016,
          2012,
          2020,
          2022,
          2022,
          2017,
          2017,
          2017,
          2017,
          2010,
          2016,
          2020,
          2018,
          2018,
          2014,
          2016,
          2016,
          2005,
          2021,
          2022,
          2015,
          2020,
          2020,
          2017,
          2019,
          2019,
          2015,
          2015,
          2012,
          2019,
          2020,
          2019,
          2019,
          2007,
          2016,
          2014,
          2022,
          2022,
          2022,
          2022,
          2022,
          2022,
          2022,
          2021,
          2002,
          2018,
          2010,
          2012,
          2003,
          2008,
          2020,
          2019,
          2018,
          2021,
          2012,
          2020,
          2016,
          2008,
          2011,
          2015,
          2015,
          2019,
          2013,
          2005,
          2017,
          2020,
          2011,
          2021,
          2011,
          2012,
          2013,
          2013,
          2012,
          2022,
          2017,
          2011,
          2013,
          2016,
          2012,
          2012,
          2015,
          2011,
          2013,
          2021,
          2021,
          2017,
          2016,
          2020,
          2018,
          2021,
          2011,
          2015,
          2018,
          2020,
          2020,
          2020,
          2020,
          2016,
          2017,
          2017,
          2014,
          2021,
          2021,
          2021,
          2021,
          2021,
          2021,
          2021,
          2021,
          2021,
          2022,
          2017,
          2012,
          2020,
          2006,
          2022,
          2022,
          2022,
          2016,
          2018,
          2018,
          2018,
          2021,
          2019,
          2020,
          2022,
          2019,
          2019,
          2017,
          2021,
          2021,
          2021,
          2021,
          2021,
          2021,
          2017,
          2017,
          2022,
          2020,
          2021,
          2021,
          2019,
          2020,
          2020,
          2020,
          2020,
          2015,
          2015,
          2015,
          2018,
          2018,
          2018,
          2022,
          2016,
          2017,
          2017,
          2017,
          2017,
          2012,
          2020,
          2021,
          2021,
          2021,
          2021,
          2022,
          2022,
          2022,
          2022,
          2022,
          2022,
          2022,
          2018,
          2018,
          2018,
          2022,
          2016,
          2013,
          2019,
          2019,
          2020,
          2017,
          2019,
          2019,
          2015,
          2021,
          2021,
          2021,
          2021,
          2021,
          2021,
          2017,
          2017,
          2017,
          2017,
          2017,
          2017,
          2022,
          2022,
          2022,
          2014,
          2019,
          2015,
          2015,
          2020,
          2020,
          2020,
          2020,
          2020,
          2021,
          2022,
          2022,
          2018,
          2018,
          2018,
          2018,
          2019,
          2016,
          2022,
          2022,
          2022,
          2022,
          2022,
          2014,
          2014,
          2019,
          2019,
          2019,
          2019,
          2021,
          2021,
          2021,
          2021,
          2020,
          2019,
          2017,
          2019,
          2015,
          2015,
          2021,
          2021,
          2021,
          2021,
          2014,
          2014,
          2018,
          2018,
          2017,
          2020,
          2013,
          2015,
          2015,
          2015,
          2016,
          2020,
          2020,
          2020,
          2019,
          2020,
          2020,
          2020,
          2016,
          2014,
          2019,
          2019,
          2013,
          2021,
          2021,
          2015,
          2018,
          2018,
          2017,
          2019,
          2019,
          2019,
          2019,
          2020,
          2020,
          2019,
          2016,
          2016,
          2015,
          2020,
          2019,
          2017,
          2017,
          2020,
          2020,
          2020,
          2018,
          2018,
          2018,
          2018,
          2017,
          2015,
          2015,
          2019,
          2019,
          2018,
          2020,
          2020,
          2019,
          2020,
          2017,
          2019,
          2019,
          2019,
          2019,
          2022,
          2022,
          2022,
          2021,
          2022,
          2022,
          2022,
          2022,
          2022,
          2021,
          2021,
          2019,
          2021,
          2022,
          2022,
          2022,
          2022,
          2022,
          2022,
          2021,
          2021,
          2020,
          2021,
          2021,
          2022,
          2021,
          2016,
          2022,
          2022,
          2017,
          2015,
          2022,
          2021,
          2020,
          2022,
          2021,
          2021,
          2021,
          2021,
          2021,
          2021,
          2021,
          2021,
          2021,
          2021,
          2021,
          2022,
          2022,
          2022,
          2022,
          2022,
          2022,
          2022,
          2022,
          2020,
          2022,
          2022,
          2022,
          2021,
          2021,
          2019,
          2021,
          2021,
          2016,
          2019,
          2020,
          2020,
          2020,
          2020,
          2020,
          2020,
          2020,
          2020,
          2020,
          2020,
          2020,
          2020,
          2020,
          2020,
          2022,
          2022,
          2022,
          2022,
          2018,
          2021,
          2021,
          2021,
          2021,
          2021,
          2021,
          2021,
          2021,
          2021,
          2021,
          2021,
          2021,
          2021,
          2021,
          2020,
          2020,
          2020,
          2013,
          2014,
          2014,
          2014,
          2015,
          2015,
          2015,
          2015,
          2016,
          2016,
          2017,
          2017,
          2017,
          2017,
          2018,
          2018,
          2019,
          2019,
          2019,
          2019,
          2020,
          2020,
          2020,
          2020,
          2020,
          2020,
          2020,
          2020,
          2020,
          2020,
          2020,
          2020,
          2020,
          2021
         ],
         "y": [
          12,
          17.5,
          12.1,
          14.5,
          10,
          6.666667,
          6.5,
          10.5,
          6.824,
          6.75,
          5.75,
          8.25,
          7,
          5.75,
          8.8,
          5.5,
          8,
          7.25,
          3,
          7,
          6,
          7,
          5.5,
          4,
          4.5,
          6.5,
          3.75,
          6,
          3.7,
          4,
          3.625,
          3,
          3,
          5.5,
          3.5,
          3.5,
          3.1,
          5,
          3.375,
          3.4375,
          5.1,
          3.586667,
          5,
          4.25,
          4.985199,
          3.333333,
          3.125,
          3.25,
          3.25,
          5.5,
          4,
          3.5,
          3.125,
          4,
          2.75,
          3.25,
          4,
          2.75,
          4.35,
          4,
          3.5,
          3,
          3.25,
          2.5125,
          3,
          3.5,
          3.5,
          3.35,
          3.3,
          2,
          3.25,
          3.25,
          2.6,
          3,
          2,
          2.1,
          2.25,
          3.5,
          1.43,
          2.023,
          3.095,
          1.927,
          2.625,
          2.25,
          2.25,
          3.25,
          1.8,
          1.875,
          3,
          2,
          3.1,
          2.086765,
          3,
          2,
          2,
          2,
          2,
          2,
          2.5,
          2.5,
          1,
          2.2,
          2.4,
          2.375,
          2,
          2,
          2,
          2,
          1.525,
          2.5,
          2.54,
          2.5,
          2,
          2,
          2,
          2,
          1.5,
          1.775,
          2.25,
          2,
          2,
          1.5,
          1.75,
          1.75,
          0.94,
          2,
          2.25,
          1.542,
          2.133,
          2.133,
          1.797,
          2,
          2,
          1.5,
          1.5,
          1.25,
          1.95,
          2,
          1.89,
          1.875,
          1.0825,
          1.5,
          1.282,
          2,
          2,
          2,
          2,
          2,
          2,
          2,
          1.75,
          0.675,
          1.675,
          1.176,
          1.0575,
          0.655,
          1,
          1.7,
          1.6,
          1.5,
          1.5,
          0.99,
          1.625,
          1.25,
          0.927,
          0.96,
          1.125,
          1.1225,
          1.45,
          0.9475,
          0.656,
          1.275,
          1.5,
          0.91,
          1.375,
          0.9,
          0.89,
          0.905,
          0.896875,
          0.875,
          1.5,
          1.2,
          0.86,
          0.865,
          1.065,
          0.825,
          0.825,
          0.97,
          0.81,
          0.825,
          1.2125,
          1.2125,
          1.08,
          1,
          1.25,
          1.105,
          1.1275,
          0.735,
          0.87,
          1.07353,
          1.1875,
          1.1875,
          1.1875,
          1.1875,
          0.93,
          1,
          1,
          0.795,
          1.075,
          1.075,
          1.075,
          1.075,
          1.075,
          1.075,
          1.075,
          1.075,
          1.075,
          1.22,
          0.975,
          0.7,
          1.15,
          0.59,
          1.2,
          1.1875,
          1.1875,
          0.885,
          1.005,
          1.005,
          1,
          1.025,
          1.05,
          1.1,
          1.15,
          1.03,
          1.03,
          0.9075,
          0.99,
          0.99,
          0.99,
          0.99,
          0.99,
          0.99,
          0.9,
          0.9,
          1.12,
          1.0625,
          0.9775,
          0.97,
          1,
          1.05,
          1.05,
          1.0475,
          1.0475,
          0.745,
          0.745,
          0.745,
          0.915,
          0.915,
          0.915,
          1.075,
          0.8,
          0.855,
          0.855,
          0.855,
          0.855,
          0.615,
          1,
          0.92,
          0.92,
          0.9075,
          0.9075,
          1.035,
          1.035,
          1.035,
          1.035,
          1.035,
          1.035,
          1.035,
          0.88,
          0.88,
          0.88,
          1.0225,
          0.76,
          0.6,
          0.9125,
          0.91215,
          0.955,
          0.8,
          0.895,
          0.895,
          0.6675,
          0.85,
          0.85,
          0.85,
          0.85,
          0.85,
          0.85,
          0.775,
          0.775,
          0.775,
          0.775,
          0.775,
          0.775,
          0.965,
          0.965,
          0.965,
          0.615,
          0.87,
          0.66,
          0.66,
          0.91,
          0.91,
          0.91,
          0.91,
          0.91,
          0.8375,
          0.9525,
          0.945,
          0.79,
          0.79,
          0.79,
          0.79,
          0.8264,
          0.675,
          0.895,
          0.895,
          0.895,
          0.895,
          0.895,
          0.57,
          0.57,
          0.805,
          0.805,
          0.805,
          0.805,
          0.78,
          0.78,
          0.78,
          0.78,
          0.835,
          0.7825,
          0.69,
          0.77,
          0.585,
          0.585,
          0.7425,
          0.7425,
          0.7425,
          0.7425,
          0.54,
          0.54,
          0.705,
          0.705,
          0.66,
          0.7825,
          0.48,
          0.555,
          0.555,
          0.555,
          0.6,
          0.7625,
          0.7625,
          0.7625,
          0.715,
          0.75,
          0.75,
          0.75,
          0.585,
          0.495,
          0.69,
          0.69,
          0.45,
          0.66,
          0.66,
          0.51,
          0.63,
          0.63,
          0.585,
          0.645,
          0.645,
          0.645,
          0.645,
          0.675,
          0.675,
          0.64,
          0.525,
          0.525,
          0.48,
          0.66,
          0.615,
          0.540005,
          0.54,
          0.63,
          0.63,
          0.63,
          0.555,
          0.555,
          0.555,
          0.554999,
          0.51,
          0.435,
          0.435,
          0.57,
          0.57,
          0.525,
          0.585,
          0.58,
          0.54,
          0.555,
          0.465,
          0.495006,
          0.495,
          0.495,
          0.495,
          0.471,
          0.459333,
          0.4334,
          0.375,
          0.425622,
          0.3958,
          0.3958,
          0.3958,
          0.391911,
          0.343444,
          0.334,
          0.34,
          0.32,
          0.3582,
          0.3582,
          0.3582,
          0.3582,
          0.3582,
          0.3582,
          0.297722,
          0.297722,
          0.323316,
          0.293,
          0.293,
          0.334222,
          0.289111,
          0.2448,
          0.321666,
          0.321666,
          0.255,
          0.2125,
          0.2998,
          0.2572,
          0.278187,
          0.288,
          0.252,
          0.252,
          0.252,
          0.252,
          0.252,
          0.252,
          0.252,
          0.252,
          0.252,
          0.252,
          0.252,
          0.283444,
          0.283444,
          0.283444,
          0.2772,
          0.2772,
          0.2772,
          0.2772,
          0.2772,
          0.253765,
          0.245222,
          0.245222,
          0.245222,
          0.2114,
          0.206266,
          0.2125,
          0.203622,
          0.203622,
          0.17,
          0.204,
          0.204,
          0.204,
          0.204,
          0.204,
          0.204,
          0.204,
          0.204,
          0.204,
          0.204,
          0.204,
          0.204,
          0.204,
          0.204,
          0.204,
          0.207,
          0.207,
          0.207,
          0.207,
          0.17,
          0.172133,
          0.1656,
          0.1656,
          0.1656,
          0.1656,
          0.1656,
          0.1656,
          0.1656,
          0.1656,
          0.1656,
          0.1656,
          0.1656,
          0.1656,
          0.1656,
          0.172564,
          0.170282,
          0.167988,
          0.102,
          0.1071,
          0.1071,
          0.1071,
          0.1122,
          0.1122,
          0.1122,
          0.1122,
          0.1173,
          0.1173,
          0.1224,
          0.1224,
          0.1224,
          0.1224,
          0.1292,
          0.1292,
          0.136,
          0.136,
          0.136,
          0.136,
          0.1428,
          0.1428,
          0.1428,
          0.1428,
          0.1428,
          0.1428,
          0.1428,
          0.1428,
          0.1428,
          0.1428,
          0.1428,
          0.1428,
          0.136682,
          0.11
         ]
        },
        {
         "customdata": [
          [
           "Aaron Rodgers",
           2022,
           150.815,
           5,
           150.7,
           50.3,
           24.1
          ],
          [
           "Josh Allen",
           2021,
           258,
           6,
           150,
           43,
           23.6
          ],
          [
           "Russell Wilson",
           2022,
           245,
           5,
           165,
           49,
           23.5
          ],
          [
           "Patrick Mahomes",
           2020,
           450,
           10,
           141,
           45,
           22.7
          ],
          [
           "Kyler Murray",
           2022,
           230.5,
           5,
           160,
           46.1,
           22.1
          ],
          [
           "Deshaun Watson",
           2022,
           230,
           5,
           230,
           46,
           22.1
          ],
          [
           "Dak Prescott",
           2021,
           160,
           4,
           126,
           40,
           21.9
          ],
          [
           "Deshaun Watson",
           2020,
           156,
           4,
           111.9,
           39,
           19.7
          ],
          [
           "Derek Carr",
           2022,
           121.422481,
           3,
           65.3,
           40.5,
           19.4
          ],
          [
           "Carson Palmer",
           2005,
           97,
           6,
           24,
           16.2,
           18.9
          ],
          [
           "Aaron Rodgers",
           2018,
           134,
           4,
           98.2,
           33.5,
           18.9
          ],
          [
           "Russell Wilson",
           2019,
           140,
           4,
           107,
           35,
           18.6
          ],
          [
           "Ben Roethlisberger",
           2019,
           68,
           2,
           50,
           34,
           18.1
          ],
          [
           "Aaron Rodgers",
           2013,
           110,
           5,
           54,
           22,
           17.9
          ],
          [
           "Jared Goff",
           2019,
           134,
           4,
           110,
           33.5,
           17.8
          ],
          [
           "Peyton Manning",
           2004,
           98,
           7,
           34.5,
           14,
           17.4
          ],
          [
           "Brett Favre",
           2001,
           80.6,
           7,
           11,
           11.5,
           17.1
          ],
          [
           "Carson Wentz",
           2019,
           128,
           4,
           107.9,
           32,
           17
          ],
          [
           "Matt Ryan",
           2018,
           150,
           5,
           100,
           30,
           16.9
          ],
          [
           "Matt Ryan",
           2013,
           103.75,
           5,
           59,
           20.8,
           16.9
          ],
          [
           "Kirk Cousins",
           2022,
           35,
           1,
           35,
           35,
           16.8
          ],
          [
           "Kirk Cousins",
           2020,
           66,
           2,
           96,
           33,
           16.6
          ],
          [
           "Drew Brees",
           2012,
           100,
           5,
           60.5,
           20,
           16.6
          ],
          [
           "Joe Flacco",
           2013,
           120.6,
           6,
           51,
           20.1,
           16.3
          ],
          [
           "Michael Vick",
           2004,
           91,
           7,
           37,
           13,
           16.1
          ],
          [
           "Peyton Manning",
           2012,
           96,
           5,
           58,
           19.2,
           15.9
          ],
          [
           "Dak Prescott",
           2020,
           31.409,
           1,
           31.4,
           31.4,
           15.8
          ],
          [
           "Andrew Luck",
           2016,
           122.97,
           5,
           87,
           24.6,
           15.8
          ],
          [
           "Kirk Cousins",
           2018,
           84,
           3,
           84,
           28,
           15.8
          ],
          [
           "Drew Bledsoe",
           2001,
           95.4,
           9,
           14,
           10.6,
           15.7
          ],
          [
           "Drew Brees",
           2016,
           24.25,
           1,
           24.2,
           24.2,
           15.6
          ],
          [
           "Jimmy Garoppolo",
           2018,
           137.5,
           5,
           74.1,
           27.5,
           15.5
          ],
          [
           "Russell Wilson",
           2015,
           87.6,
           4,
           61.5,
           21.9,
           15.3
          ],
          [
           "Ben Roethlisberger",
           2015,
           87.4,
           4,
           64,
           21.8,
           15.2
          ],
          [
           "Derek Carr",
           2017,
           125.025,
           5,
           70.2,
           25,
           15
          ],
          [
           "Peyton Manning",
           2011,
           90,
           5,
           20,
           18,
           15
          ],
          [
           "Ryan Tannehill",
           2020,
           118,
           4,
           91,
           29.5,
           14.9
          ],
          [
           "Jacoby Brissett",
           2019,
           27.975,
           1,
           20,
           28,
           14.9
          ],
          [
           "Eli Manning",
           2015,
           84,
           4,
           65,
           21,
           14.7
          ],
          [
           "Tony Romo",
           2013,
           108,
           6,
           55,
           18,
           14.6
          ],
          [
           "Philip Rivers",
           2015,
           83.25,
           4,
           65,
           20.8,
           14.5
          ],
          [
           "Cam Newton",
           2015,
           103.8,
           5,
           60,
           20.8,
           14.5
          ],
          [
           "Kirk Cousins",
           2017,
           23.9436,
           1,
           23.9,
           23.9,
           14.3
          ],
          [
           "Colin Kaepernick",
           2014,
           114,
           6,
           61,
           19,
           14.3
          ],
          [
           "Joe Flacco",
           2016,
           66.4,
           3,
           62,
           22.1,
           14.3
          ],
          [
           "Drew Brees",
           2018,
           50,
           2,
           27,
           25,
           14.1
          ],
          [
           "Tom Brady",
           2010,
           72,
           4,
           40,
           18,
           14
          ],
          [
           "Tom Brady",
           2021,
           25,
           1,
           25,
           25,
           13.7
          ],
          [
           "Jay Cutler",
           2014,
           126.7,
           7,
           54,
           18.1,
           13.6
          ],
          [
           "Carson Palmer",
           2016,
           21,
           1,
           27.2,
           21,
           13.5
          ],
          [
           "Ryan Tannehill",
           2015,
           77,
           4,
           45,
           19.2,
           13.4
          ],
          [
           "Michael Vick",
           2011,
           80,
           5,
           35.5,
           16,
           13.3
          ],
          [
           "Alex Smith",
           2018,
           94,
           4,
           71,
           23.5,
           13.3
          ],
          [
           "Eli Manning",
           2009,
           97.5,
           6,
           35,
           16.2,
           13.2
          ],
          [
           "Tom Brady",
           2016,
           41,
           2,
           30,
           20.5,
           13.2
          ],
          [
           "Steve McNair",
           2004,
           63.25001,
           6,
           6.1,
           10.5,
           13.1
          ],
          [
           "Matt Schaub",
           2012,
           62,
           4,
           24.2,
           15.5,
           12.9
          ],
          [
           "Kirk Cousins",
           2016,
           19.953,
           1,
           20,
           20,
           12.9
          ],
          [
           "Alex Smith",
           2014,
           68,
           4,
           45,
           17,
           12.8
          ],
          [
           "Ben Roethlisberger",
           2008,
           87.9865,
           6,
           33.2,
           14.7,
           12.6
          ],
          [
           "Steve McNair",
           2001,
           42.5425,
           5,
           0,
           8.5,
           12.6
          ],
          [
           "Philip Rivers",
           2020,
           25,
           1,
           25,
           25,
           12.6
          ],
          [
           "Tom Brady",
           2020,
           50,
           2,
           50,
           25,
           12.6
          ],
          [
           "Drew Brees",
           2020,
           50,
           2,
           25,
           25,
           12.6
          ],
          [
           "Philip Rivers",
           2009,
           91.8,
           6,
           38.2,
           15.3,
           12.4
          ],
          [
           "Carson Palmer",
           2014,
           49.5,
           3,
           24.7,
           16.5,
           12.4
          ],
          [
           "Brett Favre",
           2010,
           16,
           1,
           16,
           16,
           12.4
          ],
          [
           "Tom Brady",
           2019,
           23,
           1,
           22,
           23,
           12.2
          ],
          [
           "Andy Dalton",
           2014,
           96,
           6,
           17,
           16,
           12
          ],
          [
           "Peyton Manning",
           2015,
           34,
           2,
           15,
           17,
           11.9
          ],
          [
           "Donovan McNabb",
           2002,
           67.188235,
           8,
           13.5,
           8.4,
           11.8
          ],
          [
           "Jay Cutler",
           2009,
           28.912499,
           2,
           20,
           14.5,
           11.8
          ],
          [
           "Nick Foles",
           2019,
           88,
           4,
           50.1,
           22,
           11.7
          ],
          [
           "Brock Osweiler",
           2016,
           72,
           4,
           37,
           18,
           11.6
          ],
          [
           "Tyrod Taylor",
           2016,
           90,
           5,
           37,
           18,
           11.6
          ],
          [
           "Brock Osweiler",
           2016,
           72,
           4,
           37,
           18,
           11.6
          ],
          [
           "Donovan McNabb",
           2010,
           74.25,
           5,
           18.1,
           14.8,
           11.5
          ],
          [
           "Chad Pennington",
           2004,
           64.198,
           7,
           18,
           9.2,
           11.4
          ],
          [
           "Sam Bradford",
           2018,
           40,
           2,
           15,
           20,
           11.3
          ],
          [
           "Mark Sanchez",
           2012,
           40.475,
           3,
           19.5,
           13.5,
           11.2
          ],
          [
           "Mark Brunell",
           2001,
           30,
           4,
           8,
           7.5,
           11.1
          ],
          [
           "Aaron Rodgers",
           2008,
           63.52,
           5,
           20,
           12.7,
           11
          ],
          [
           "Teddy Bridgewater",
           2020,
           63,
           3,
           33,
           21,
           10.6
          ],
          [
           "Tom Brady",
           2002,
           29.625,
           4,
           9.5,
           7.4,
           10.4
          ],
          [
           "Tony Romo",
           2007,
           67.5,
           6,
           11.5,
           11.2,
           10.3
          ],
          [
           "Kevin Kolb",
           2011,
           62.108,
           5,
           20,
           12.4,
           10.3
          ],
          [
           "Brett Favre",
           2009,
           25,
           2,
           6,
           12.5,
           10.2
          ],
          [
           "Case Keenum",
           2018,
           36,
           2,
           36,
           18,
           10.2
          ],
          [
           "Colin Kaepernick",
           2016,
           31.2,
           2,
           13.3,
           15.6,
           10
          ],
          [
           "Blake Bortles",
           2018,
           34.947,
           2,
           26.5,
           17.5,
           9.9
          ],
          [
           "Drew Brees",
           2006,
           60,
           5,
           8,
           10,
           9.8
          ],
          [
           "Kevin Kolb",
           2010,
           12.222,
           1,
           12.2,
           12.2,
           9.5
          ],
          [
           "Drew Brees",
           2005,
           8.078,
           1,
           8.1,
           8.1,
           9.4
          ],
          [
           "Matt Hasselbeck",
           2005,
           48,
           6,
           17,
           8,
           9.4
          ],
          [
           "Kurt Warner",
           2009,
           23,
           2,
           19,
           11.5,
           9.3
          ],
          [
           "Tom Brady",
           2013,
           57,
           5,
           57,
           11.4,
           9.3
          ],
          [
           "Tyrod Taylor",
           2017,
           30.5,
           2,
           15.5,
           15.2,
           9.1
          ],
          [
           "Mike Glennon",
           2017,
           45,
           3,
           18.5,
           15,
           9
          ],
          [
           "Carson Palmer",
           2011,
           43,
           4,
           5,
           10.8,
           8.9
          ],
          [
           "Nick Foles",
           2015,
           25,
           2,
           13.8,
           12.2,
           8.5
          ],
          [
           "Matt Cassel",
           2009,
           63,
           6,
           27.8,
           10.5,
           8.5
          ],
          [
           "Ryan Fitzpatrick",
           2011,
           59,
           6,
           24,
           9.8,
           8.2
          ],
          [
           "Jake Plummer",
           2003,
           40.834725,
           7,
           7,
           5.8,
           7.8
          ],
          [
           "Ryan Fitzpatrick",
           2016,
           12,
           1,
           12,
           12,
           7.7
          ],
          [
           "Ben Roethlisberger",
           2021,
           14,
           1,
           14,
           14,
           7.7
          ],
          [
           "Drew Bledsoe",
           2004,
           18.5,
           3,
           6.5,
           6.2,
           7.7
          ],
          [
           "Baker Mayfield",
           2022,
           15.358,
           1,
           15.4,
           15.4,
           7.4
          ],
          [
           "Matt Schaub",
           2007,
           48,
           6,
           7,
           8,
           7.3
          ],
          [
           "Carson Palmer",
           2013,
           17,
           2,
           10,
           8.5,
           6.9
          ],
          [
           "Derek Anderson",
           2008,
           24,
           3,
           7,
           8,
           6.9
          ],
          [
           "Jameis Winston",
           2022,
           28,
           2,
           21,
           14,
           6.7
          ],
          [
           "Alex Smith",
           2012,
           24,
           3,
           15.5,
           8,
           6.6
          ],
          [
           "Kyle Orton",
           2010,
           8.379,
           1,
           5.5,
           8.4,
           6.5
          ],
          [
           "Teddy Bridgewater",
           2021,
           11.5,
           1,
           10.1,
           11.5,
           6.3
          ],
          [
           "Michael Vick",
           2013,
           7.5,
           1,
           3.5,
           7.5,
           6.1
          ],
          [
           "Jay Cutler",
           2017,
           10,
           1,
           5,
           10,
           6
          ],
          [
           "Andy Dalton",
           2021,
           10,
           1,
           7,
           10,
           5.5
          ],
          [
           "Ryan Fitzpatrick",
           2021,
           10,
           1,
           6,
           10,
           5.5
          ],
          [
           "Steve McNair",
           2006,
           22,
           4,
           11,
           5.5,
           5.4
          ],
          [
           "Drew Bledsoe",
           2005,
           13.5,
           3,
           3.5,
           4.5,
           5.3
          ],
          [
           "Kurt Warner",
           2006,
           15,
           3,
           3,
           5,
           4.9
          ],
          [
           "Kurt Warner",
           2005,
           4,
           1,
           2,
           4,
           4.7
          ],
          [
           "Marcus Mariota",
           2022,
           18.75,
           2,
           6.8,
           9.4,
           4.5
          ],
          [
           "Donovan McNabb",
           2011,
           5.05,
           1,
           0,
           5,
           4.2
          ],
          [
           "Case Keenum",
           2019,
           7.5,
           1,
           7.5,
           7.5,
           4
          ],
          [
           "Matt Cassel",
           2014,
           10.5,
           2,
           5.6,
           5.2,
           3.9
          ],
          [
           "Josh McCown",
           2014,
           10,
           2,
           4.8,
           5,
           3.8
          ],
          [
           "Brian Hoyer",
           2015,
           10.5,
           2,
           4.8,
           5.2,
           3.7
          ],
          [
           "Brian Hoyer",
           2017,
           12,
           2,
           9.8,
           6,
           3.6
          ],
          [
           "Josh McCown",
           2017,
           6,
           1,
           6,
           6,
           3.6
          ],
          [
           "Jason Campbell",
           2010,
           4.6,
           1,
           0,
           4.6,
           3.6
          ],
          [
           "Mitchell Trubisky",
           2022,
           14.285,
           2,
           5.2,
           7.4,
           3.6
          ],
          [
           "Chad Pennington",
           2008,
           8,
           2,
           3.5,
           4,
           3.4
          ],
          [
           "Alex Smith",
           2011,
           4,
           1,
           4,
           4,
           3.3
          ],
          [
           "Josh McCown",
           2015,
           14,
           3,
           6.2,
           4.7,
           3.3
          ],
          [
           "Tyrod Taylor",
           2021,
           5.5,
           1,
           2.5,
           5.5,
           3
          ],
          [
           "Jameis Winston",
           2021,
           5.5,
           1,
           5.5,
           5.5,
           3
          ],
          [
           "Chad Henne",
           2014,
           8,
           2,
           4.5,
           4,
           3
          ],
          [
           "Ryan Fitzpatrick",
           2019,
           11,
           2,
           7,
           5.5,
           2.9
          ],
          [
           "Derek Anderson",
           2010,
           7.25,
           2,
           2.5,
           3.6,
           2.8
          ],
          [
           "Ryan Fitzpatrick",
           2014,
           7.25,
           2,
           4,
           3.6,
           2.7
          ],
          [
           "Kyle Orton",
           2008,
           3,
           2,
           1.4,
           3,
           2.6
          ],
          [
           "Jason Campbell",
           2010,
           3.14325,
           1,
           0,
           3.1,
           2.4
          ],
          [
           "Matt Moore",
           2010,
           3.043,
           1,
           0,
           3,
           2.4
          ],
          [
           "Josh Freeman",
           2013,
           2.833334,
           1,
           0,
           2.8,
           2.3
          ],
          [
           "Jacoby Brissett",
           2022,
           4.65,
           1,
           4.5,
           4.6,
           2.2
          ],
          [
           "Kyle Orton",
           2010,
           2.621,
           1,
           0,
           2.6,
           2
          ],
          [
           "Joe Flacco",
           2022,
           3.5,
           1,
           2.8,
           3.5,
           1.7
          ],
          [
           "Geno Smith",
           2022,
           3.5,
           1,
           0.5,
           3.5,
           1.7
          ],
          [
           "Tim Couch",
           2004,
           1.25,
           1,
           0.6,
           1.2,
           1.6
          ],
          [
           "Luke McCown",
           2011,
           1.8,
           1,
           0.2,
           1.8,
           1.5
          ],
          [
           "Shaun Hill",
           2014,
           1.75,
           1,
           0.5,
           1.8,
           1.3
          ],
          [
           "Brian Hoyer",
           2017,
           4.815,
           3,
           1.5,
           1.6,
           1
          ],
          [
           "Cam Newton",
           2020,
           1.75,
           1,
           0.6,
           1.8,
           0.9
          ],
          [
           "Chase Daniel",
           2012,
           1,
           1,
           0.3,
           1,
           0.8
          ],
          [
           "Tyrod Taylor",
           2015,
           3.35,
           3,
           1.2,
           1.1,
           0.8
          ],
          [
           "Luke McCown",
           2015,
           1.05,
           1,
           0.4,
           1,
           0.7
          ],
          [
           "Luke McCown",
           2014,
           0.92,
           1,
           0.2,
           0.9,
           0.7
          ],
          [
           "Josh Freeman",
           2015,
           0.765,
           1,
           0,
           0.8,
           0.5
          ],
          [
           "Josh Freeman",
           2015,
           1.505,
           2,
           0,
           0.8,
           0.5
          ],
          [
           "Josh Freeman",
           2015,
           0.745,
           1,
           0,
           0.7,
           0.5
          ],
          [
           "Garrett Gilbert",
           2021,
           0.92,
           1,
           0,
           0.9,
           0.5
          ],
          [
           "Brandon Allen",
           2020,
           0.825,
           1,
           0,
           0.8,
           0.4
          ],
          [
           "Garrett Gilbert",
           2021,
           0.252,
           1,
           0,
           0.3,
           0.1
          ],
          [
           "Brandon Allen",
           2020,
           0.204,
           1,
           0,
           0.2,
           0.1
          ],
          [
           "Nathan Peterman",
           2018,
           0.1292,
           1,
           0,
           0.1,
           0.1
          ]
         ],
         "hovertemplate": "<br>%{customdata[0]}, %{customdata[1]}         <br> $%{customdata[2]}M/%{customdata[3]}yr ($%{customdata[4]}M guaranteed)         <br> $%{customdata[5]}M APY",
         "marker": {
          "line": {
           "width": 2
          },
          "opacity": 0.8,
          "size": 8,
          "symbol": "square-open"
         },
         "mode": "markers",
         "name": "Vet Starter",
         "type": "scatter",
         "x": [
          2022.25,
          2021.25,
          2022.25,
          2020.25,
          2022.25,
          2022.25,
          2021.25,
          2020.25,
          2022.25,
          2005.25,
          2018.25,
          2019.25,
          2019.25,
          2013.25,
          2019.25,
          2004.25,
          2001.25,
          2019.25,
          2018.25,
          2013.25,
          2022.25,
          2020.25,
          2012.25,
          2013.25,
          2004.25,
          2012.25,
          2020.25,
          2016.25,
          2018.25,
          2001.25,
          2016.25,
          2018.25,
          2015.25,
          2015.25,
          2017.25,
          2011.25,
          2020.25,
          2019.25,
          2015.25,
          2013.25,
          2015.25,
          2015.25,
          2017.25,
          2014.25,
          2016.25,
          2018.25,
          2010.25,
          2021.25,
          2014.25,
          2016.25,
          2015.25,
          2011.25,
          2018.25,
          2009.25,
          2016.25,
          2004.25,
          2012.25,
          2016.25,
          2014.25,
          2008.25,
          2001.25,
          2020.25,
          2020.25,
          2020.25,
          2009.25,
          2014.25,
          2010.25,
          2019.25,
          2014.25,
          2015.25,
          2002.25,
          2009.25,
          2019.25,
          2016.25,
          2016.25,
          2016.25,
          2010.25,
          2004.25,
          2018.25,
          2012.25,
          2001.25,
          2008.25,
          2020.25,
          2002.25,
          2007.25,
          2011.25,
          2009.25,
          2018.25,
          2016.25,
          2018.25,
          2006.25,
          2010.25,
          2005.25,
          2005.25,
          2009.25,
          2013.25,
          2017.25,
          2017.25,
          2011.25,
          2015.25,
          2009.25,
          2011.25,
          2003.25,
          2016.25,
          2021.25,
          2004.25,
          2022.25,
          2007.25,
          2013.25,
          2008.25,
          2022.25,
          2012.25,
          2010.25,
          2021.25,
          2013.25,
          2017.25,
          2021.25,
          2021.25,
          2006.25,
          2005.25,
          2006.25,
          2005.25,
          2022.25,
          2011.25,
          2019.25,
          2014.25,
          2014.25,
          2015.25,
          2017.25,
          2017.25,
          2010.25,
          2022.25,
          2008.25,
          2011.25,
          2015.25,
          2021.25,
          2021.25,
          2014.25,
          2019.25,
          2010.25,
          2014.25,
          2008.25,
          2010.25,
          2010.25,
          2013.25,
          2022.25,
          2010.25,
          2022.25,
          2022.25,
          2004.25,
          2011.25,
          2014.25,
          2017.25,
          2020.25,
          2012.25,
          2015.25,
          2015.25,
          2014.25,
          2015.25,
          2015.25,
          2015.25,
          2021.25,
          2020.25,
          2021.25,
          2020.25,
          2018.25
         ],
         "y": [
          50.271667,
          43,
          49,
          45,
          46.1,
          46,
          40,
          39,
          40.47416,
          16.166667,
          33.5,
          35,
          34,
          22,
          33.5,
          14,
          11.514286,
          32,
          30,
          20.75,
          35,
          33,
          20,
          20.1,
          13,
          19.2,
          31.409,
          24.594,
          28,
          10.6,
          24.25,
          27.5,
          21.9,
          21.85,
          25.005,
          18,
          29.5,
          27.975,
          21,
          18,
          20.8125,
          20.76,
          23.9436,
          19,
          22.133333,
          25,
          18,
          25,
          18.1,
          21,
          19.25,
          16,
          23.5,
          16.25,
          20.5,
          10.541668,
          15.5,
          19.953,
          17,
          14.664417,
          8.5085,
          25,
          25,
          25,
          15.3,
          16.5,
          16,
          23,
          16,
          17,
          8.398529,
          14.45625,
          22,
          18,
          18,
          18,
          14.85,
          9.171143,
          20,
          13.491667,
          7.5,
          12.704,
          21,
          7.40625,
          11.25,
          12.4216,
          12.5,
          18,
          15.6,
          17.4835,
          10,
          12.222,
          8.078,
          8,
          11.5,
          11.4,
          15.25,
          15,
          10.75,
          12.25,
          10.5,
          9.833333,
          5.833532,
          12,
          14,
          6.166667,
          15.358,
          8,
          8.5,
          8,
          14,
          8,
          8.379,
          11.5,
          7.5,
          10,
          10,
          10,
          5.5,
          4.5,
          5,
          4,
          9.375,
          5.05,
          7.5,
          5.25,
          5,
          5.25,
          6,
          6,
          4.6,
          7.4125,
          4,
          4,
          4.666667,
          5.5,
          5.5,
          4,
          5.5,
          3.625,
          3.625,
          3,
          3.14325,
          3.043,
          2.833334,
          4.65,
          2.621,
          3.5,
          3.5,
          1.25,
          1.8,
          1.75,
          1.605,
          1.75,
          1,
          1.116667,
          1.05,
          0.92,
          0.765,
          0.7525,
          0.745,
          0.92,
          0.825,
          0.252,
          0.204,
          0.1292
         ]
        }
       ],
       "layout": {
        "annotations": [
         {
          "font": {
           "color": "rgb(0,58,0)",
           "size": 24
          },
          "height": 24,
          "text": "uncapped year",
          "textangle": -90,
          "valign": "middle",
          "x": 2010,
          "xshift": 8,
          "y": 37
         },
         {
          "font": {
           "color": "rgba(200, 200, 200, 0.7)",
           "size": 24
          },
          "height": 24,
          "text": "2011 CBA",
          "textangle": -90,
          "valign": "middle",
          "x": 2011,
          "xshift": 8,
          "y": 36
         },
         {
          "font": {
           "size": 24
          },
          "showarrow": false,
          "text": "10",
          "x": 1999,
          "y": 11.5
         },
         {
          "font": {
           "size": 24
          },
          "showarrow": false,
          "text": "20",
          "x": 1999,
          "y": 21.5
         },
         {
          "font": {
           "size": 24
          },
          "showarrow": false,
          "text": "30",
          "x": 1999,
          "y": 31.5
         },
         {
          "font": {
           "size": 24
          },
          "showarrow": false,
          "text": "40",
          "x": 1999,
          "y": 41.5
         },
         {
          "font": {
           "size": 24
          },
          "showarrow": false,
          "text": "50",
          "x": 1999,
          "y": 51.5
         }
        ],
        "colorway": [
         "#6ed2f8",
         "#f9e394",
         "#eeeeee"
        ],
        "font": {
         "color": "rgba(200, 200, 200, 0.7)",
         "family": "Courier",
         "size": 16
        },
        "height": 600,
        "legend": {
         "x": 0.1,
         "xanchor": "left",
         "y": 0.855,
         "yanchor": "top"
        },
        "margin": {
         "b": 5,
         "l": 5,
         "r": 5,
         "t": 10
        },
        "paper_bgcolor": "rgb(0,58,0)",
        "plot_bgcolor": "rgb(0,58,0)",
        "shapes": [
         {
          "fillcolor": "rgba(200, 200, 200, 0.7)",
          "layer": "below",
          "line": {
           "color": "rgba(200, 200, 200, 0.7)",
           "width": 0.5
          },
          "opacity": 0.8,
          "type": "rect",
          "x0": 2009.5,
          "x1": 2010.5,
          "xref": "x",
          "y0": 0,
          "y1": 1,
          "yref": "y domain"
         }
        ],
        "template": {
         "data": {
          "bar": [
           {
            "error_x": {
             "color": "#2a3f5f"
            },
            "error_y": {
             "color": "#2a3f5f"
            },
            "marker": {
             "line": {
              "color": "#E5ECF6",
              "width": 0.5
             },
             "pattern": {
              "fillmode": "overlay",
              "size": 10,
              "solidity": 0.2
             }
            },
            "type": "bar"
           }
          ],
          "barpolar": [
           {
            "marker": {
             "line": {
              "color": "#E5ECF6",
              "width": 0.5
             },
             "pattern": {
              "fillmode": "overlay",
              "size": 10,
              "solidity": 0.2
             }
            },
            "type": "barpolar"
           }
          ],
          "carpet": [
           {
            "aaxis": {
             "endlinecolor": "#2a3f5f",
             "gridcolor": "white",
             "linecolor": "white",
             "minorgridcolor": "white",
             "startlinecolor": "#2a3f5f"
            },
            "baxis": {
             "endlinecolor": "#2a3f5f",
             "gridcolor": "white",
             "linecolor": "white",
             "minorgridcolor": "white",
             "startlinecolor": "#2a3f5f"
            },
            "type": "carpet"
           }
          ],
          "choropleth": [
           {
            "colorbar": {
             "outlinewidth": 0,
             "ticks": ""
            },
            "type": "choropleth"
           }
          ],
          "contour": [
           {
            "colorbar": {
             "outlinewidth": 0,
             "ticks": ""
            },
            "colorscale": [
             [
              0,
              "#0d0887"
             ],
             [
              0.1111111111111111,
              "#46039f"
             ],
             [
              0.2222222222222222,
              "#7201a8"
             ],
             [
              0.3333333333333333,
              "#9c179e"
             ],
             [
              0.4444444444444444,
              "#bd3786"
             ],
             [
              0.5555555555555556,
              "#d8576b"
             ],
             [
              0.6666666666666666,
              "#ed7953"
             ],
             [
              0.7777777777777778,
              "#fb9f3a"
             ],
             [
              0.8888888888888888,
              "#fdca26"
             ],
             [
              1,
              "#f0f921"
             ]
            ],
            "type": "contour"
           }
          ],
          "contourcarpet": [
           {
            "colorbar": {
             "outlinewidth": 0,
             "ticks": ""
            },
            "type": "contourcarpet"
           }
          ],
          "heatmap": [
           {
            "colorbar": {
             "outlinewidth": 0,
             "ticks": ""
            },
            "colorscale": [
             [
              0,
              "#0d0887"
             ],
             [
              0.1111111111111111,
              "#46039f"
             ],
             [
              0.2222222222222222,
              "#7201a8"
             ],
             [
              0.3333333333333333,
              "#9c179e"
             ],
             [
              0.4444444444444444,
              "#bd3786"
             ],
             [
              0.5555555555555556,
              "#d8576b"
             ],
             [
              0.6666666666666666,
              "#ed7953"
             ],
             [
              0.7777777777777778,
              "#fb9f3a"
             ],
             [
              0.8888888888888888,
              "#fdca26"
             ],
             [
              1,
              "#f0f921"
             ]
            ],
            "type": "heatmap"
           }
          ],
          "heatmapgl": [
           {
            "colorbar": {
             "outlinewidth": 0,
             "ticks": ""
            },
            "colorscale": [
             [
              0,
              "#0d0887"
             ],
             [
              0.1111111111111111,
              "#46039f"
             ],
             [
              0.2222222222222222,
              "#7201a8"
             ],
             [
              0.3333333333333333,
              "#9c179e"
             ],
             [
              0.4444444444444444,
              "#bd3786"
             ],
             [
              0.5555555555555556,
              "#d8576b"
             ],
             [
              0.6666666666666666,
              "#ed7953"
             ],
             [
              0.7777777777777778,
              "#fb9f3a"
             ],
             [
              0.8888888888888888,
              "#fdca26"
             ],
             [
              1,
              "#f0f921"
             ]
            ],
            "type": "heatmapgl"
           }
          ],
          "histogram": [
           {
            "marker": {
             "pattern": {
              "fillmode": "overlay",
              "size": 10,
              "solidity": 0.2
             }
            },
            "type": "histogram"
           }
          ],
          "histogram2d": [
           {
            "colorbar": {
             "outlinewidth": 0,
             "ticks": ""
            },
            "colorscale": [
             [
              0,
              "#0d0887"
             ],
             [
              0.1111111111111111,
              "#46039f"
             ],
             [
              0.2222222222222222,
              "#7201a8"
             ],
             [
              0.3333333333333333,
              "#9c179e"
             ],
             [
              0.4444444444444444,
              "#bd3786"
             ],
             [
              0.5555555555555556,
              "#d8576b"
             ],
             [
              0.6666666666666666,
              "#ed7953"
             ],
             [
              0.7777777777777778,
              "#fb9f3a"
             ],
             [
              0.8888888888888888,
              "#fdca26"
             ],
             [
              1,
              "#f0f921"
             ]
            ],
            "type": "histogram2d"
           }
          ],
          "histogram2dcontour": [
           {
            "colorbar": {
             "outlinewidth": 0,
             "ticks": ""
            },
            "colorscale": [
             [
              0,
              "#0d0887"
             ],
             [
              0.1111111111111111,
              "#46039f"
             ],
             [
              0.2222222222222222,
              "#7201a8"
             ],
             [
              0.3333333333333333,
              "#9c179e"
             ],
             [
              0.4444444444444444,
              "#bd3786"
             ],
             [
              0.5555555555555556,
              "#d8576b"
             ],
             [
              0.6666666666666666,
              "#ed7953"
             ],
             [
              0.7777777777777778,
              "#fb9f3a"
             ],
             [
              0.8888888888888888,
              "#fdca26"
             ],
             [
              1,
              "#f0f921"
             ]
            ],
            "type": "histogram2dcontour"
           }
          ],
          "mesh3d": [
           {
            "colorbar": {
             "outlinewidth": 0,
             "ticks": ""
            },
            "type": "mesh3d"
           }
          ],
          "parcoords": [
           {
            "line": {
             "colorbar": {
              "outlinewidth": 0,
              "ticks": ""
             }
            },
            "type": "parcoords"
           }
          ],
          "pie": [
           {
            "automargin": true,
            "type": "pie"
           }
          ],
          "scatter": [
           {
            "fillpattern": {
             "fillmode": "overlay",
             "size": 10,
             "solidity": 0.2
            },
            "type": "scatter"
           }
          ],
          "scatter3d": [
           {
            "line": {
             "colorbar": {
              "outlinewidth": 0,
              "ticks": ""
             }
            },
            "marker": {
             "colorbar": {
              "outlinewidth": 0,
              "ticks": ""
             }
            },
            "type": "scatter3d"
           }
          ],
          "scattercarpet": [
           {
            "marker": {
             "colorbar": {
              "outlinewidth": 0,
              "ticks": ""
             }
            },
            "type": "scattercarpet"
           }
          ],
          "scattergeo": [
           {
            "marker": {
             "colorbar": {
              "outlinewidth": 0,
              "ticks": ""
             }
            },
            "type": "scattergeo"
           }
          ],
          "scattergl": [
           {
            "marker": {
             "colorbar": {
              "outlinewidth": 0,
              "ticks": ""
             }
            },
            "type": "scattergl"
           }
          ],
          "scattermapbox": [
           {
            "marker": {
             "colorbar": {
              "outlinewidth": 0,
              "ticks": ""
             }
            },
            "type": "scattermapbox"
           }
          ],
          "scatterpolar": [
           {
            "marker": {
             "colorbar": {
              "outlinewidth": 0,
              "ticks": ""
             }
            },
            "type": "scatterpolar"
           }
          ],
          "scatterpolargl": [
           {
            "marker": {
             "colorbar": {
              "outlinewidth": 0,
              "ticks": ""
             }
            },
            "type": "scatterpolargl"
           }
          ],
          "scatterternary": [
           {
            "marker": {
             "colorbar": {
              "outlinewidth": 0,
              "ticks": ""
             }
            },
            "type": "scatterternary"
           }
          ],
          "surface": [
           {
            "colorbar": {
             "outlinewidth": 0,
             "ticks": ""
            },
            "colorscale": [
             [
              0,
              "#0d0887"
             ],
             [
              0.1111111111111111,
              "#46039f"
             ],
             [
              0.2222222222222222,
              "#7201a8"
             ],
             [
              0.3333333333333333,
              "#9c179e"
             ],
             [
              0.4444444444444444,
              "#bd3786"
             ],
             [
              0.5555555555555556,
              "#d8576b"
             ],
             [
              0.6666666666666666,
              "#ed7953"
             ],
             [
              0.7777777777777778,
              "#fb9f3a"
             ],
             [
              0.8888888888888888,
              "#fdca26"
             ],
             [
              1,
              "#f0f921"
             ]
            ],
            "type": "surface"
           }
          ],
          "table": [
           {
            "cells": {
             "fill": {
              "color": "#EBF0F8"
             },
             "line": {
              "color": "white"
             }
            },
            "header": {
             "fill": {
              "color": "#C8D4E3"
             },
             "line": {
              "color": "white"
             }
            },
            "type": "table"
           }
          ]
         },
         "layout": {
          "annotationdefaults": {
           "arrowcolor": "#2a3f5f",
           "arrowhead": 0,
           "arrowwidth": 1
          },
          "autotypenumbers": "strict",
          "coloraxis": {
           "colorbar": {
            "outlinewidth": 0,
            "ticks": ""
           }
          },
          "colorscale": {
           "diverging": [
            [
             0,
             "#8e0152"
            ],
            [
             0.1,
             "#c51b7d"
            ],
            [
             0.2,
             "#de77ae"
            ],
            [
             0.3,
             "#f1b6da"
            ],
            [
             0.4,
             "#fde0ef"
            ],
            [
             0.5,
             "#f7f7f7"
            ],
            [
             0.6,
             "#e6f5d0"
            ],
            [
             0.7,
             "#b8e186"
            ],
            [
             0.8,
             "#7fbc41"
            ],
            [
             0.9,
             "#4d9221"
            ],
            [
             1,
             "#276419"
            ]
           ],
           "sequential": [
            [
             0,
             "#0d0887"
            ],
            [
             0.1111111111111111,
             "#46039f"
            ],
            [
             0.2222222222222222,
             "#7201a8"
            ],
            [
             0.3333333333333333,
             "#9c179e"
            ],
            [
             0.4444444444444444,
             "#bd3786"
            ],
            [
             0.5555555555555556,
             "#d8576b"
            ],
            [
             0.6666666666666666,
             "#ed7953"
            ],
            [
             0.7777777777777778,
             "#fb9f3a"
            ],
            [
             0.8888888888888888,
             "#fdca26"
            ],
            [
             1,
             "#f0f921"
            ]
           ],
           "sequentialminus": [
            [
             0,
             "#0d0887"
            ],
            [
             0.1111111111111111,
             "#46039f"
            ],
            [
             0.2222222222222222,
             "#7201a8"
            ],
            [
             0.3333333333333333,
             "#9c179e"
            ],
            [
             0.4444444444444444,
             "#bd3786"
            ],
            [
             0.5555555555555556,
             "#d8576b"
            ],
            [
             0.6666666666666666,
             "#ed7953"
            ],
            [
             0.7777777777777778,
             "#fb9f3a"
            ],
            [
             0.8888888888888888,
             "#fdca26"
            ],
            [
             1,
             "#f0f921"
            ]
           ]
          },
          "colorway": [
           "#636efa",
           "#EF553B",
           "#00cc96",
           "#ab63fa",
           "#FFA15A",
           "#19d3f3",
           "#FF6692",
           "#B6E880",
           "#FF97FF",
           "#FECB52"
          ],
          "font": {
           "color": "#2a3f5f"
          },
          "geo": {
           "bgcolor": "white",
           "lakecolor": "white",
           "landcolor": "#E5ECF6",
           "showlakes": true,
           "showland": true,
           "subunitcolor": "white"
          },
          "hoverlabel": {
           "align": "left"
          },
          "hovermode": "closest",
          "mapbox": {
           "style": "light"
          },
          "paper_bgcolor": "white",
          "plot_bgcolor": "#E5ECF6",
          "polar": {
           "angularaxis": {
            "gridcolor": "white",
            "linecolor": "white",
            "ticks": ""
           },
           "bgcolor": "#E5ECF6",
           "radialaxis": {
            "gridcolor": "white",
            "linecolor": "white",
            "ticks": ""
           }
          },
          "scene": {
           "xaxis": {
            "backgroundcolor": "#E5ECF6",
            "gridcolor": "white",
            "gridwidth": 2,
            "linecolor": "white",
            "showbackground": true,
            "ticks": "",
            "zerolinecolor": "white"
           },
           "yaxis": {
            "backgroundcolor": "#E5ECF6",
            "gridcolor": "white",
            "gridwidth": 2,
            "linecolor": "white",
            "showbackground": true,
            "ticks": "",
            "zerolinecolor": "white"
           },
           "zaxis": {
            "backgroundcolor": "#E5ECF6",
            "gridcolor": "white",
            "gridwidth": 2,
            "linecolor": "white",
            "showbackground": true,
            "ticks": "",
            "zerolinecolor": "white"
           }
          },
          "shapedefaults": {
           "line": {
            "color": "#2a3f5f"
           }
          },
          "ternary": {
           "aaxis": {
            "gridcolor": "white",
            "linecolor": "white",
            "ticks": ""
           },
           "baxis": {
            "gridcolor": "white",
            "linecolor": "white",
            "ticks": ""
           },
           "bgcolor": "#E5ECF6",
           "caxis": {
            "gridcolor": "white",
            "linecolor": "white",
            "ticks": ""
           }
          },
          "title": {
           "x": 0.05
          },
          "xaxis": {
           "automargin": true,
           "gridcolor": "white",
           "linecolor": "white",
           "ticks": "",
           "title": {
            "standoff": 15
           },
           "zerolinecolor": "white",
           "zerolinewidth": 2
          },
          "yaxis": {
           "automargin": true,
           "gridcolor": "white",
           "linecolor": "white",
           "ticks": "",
           "title": {
            "standoff": 15
           },
           "zerolinecolor": "white",
           "zerolinewidth": 2
          }
         }
        },
        "width": 1200,
        "xaxis": {
         "dtick": 5,
         "fixedrange": true,
         "minor": {
          "nticks": 5,
          "tickcolor": "rgba(200, 200, 200, 0.7)",
          "ticklen": 5,
          "tickwidth": 2
         },
         "range": [
          1998.1,
          2023.9
         ],
         "showgrid": false,
         "tick0": 2000,
         "tickmode": "linear"
        },
        "yaxis": {
         "fixedrange": true,
         "gridcolor": "rgba(200, 200, 200, 0.7)",
         "gridwidth": 2,
         "range": [
          0,
          57.5
         ],
         "showticklabels": false,
         "zeroline": true,
         "zerolinecolor": "rgba(200, 200, 200, 0.7)",
         "zerolinewidth": 2
        }
       }
      }
     },
     "metadata": {},
     "output_type": "display_data"
    }
   ],
   "source": [
    "\n",
    "fig = go.Figure()\n",
    "\n",
    "# '#f9e394', '#ee0000', '#6ed2f8'\n",
    "\n",
    "# contract_plot_styles = dict(name = 'Vet Starter'\n",
    "#     marker_style = dict(\n",
    "#         symbol = 'square-open',\n",
    "#         color = '#f9e394'\n",
    "#         )\n",
    "# )\n",
    "cat_symbols = ['circle-open', 'x-thin-open', 'square-open']\n",
    "cat_colors = ['#6ed2f8', '#f9e394','#eeeeee']\n",
    "x_offset = 0.25\n",
    "\n",
    "fig.add_vrect(2009.5, 2010.5,\n",
    "    fillcolor = text_color,\n",
    "    opacity = 0.8,\n",
    "    layer='below',\n",
    "    line = dict(width = 0.5, color = text_color)\n",
    "    )\n",
    "\n",
    "fig.add_annotation(\n",
    "    x = 2010,\n",
    "    y = 37,\n",
    "    text = 'uncapped year',\n",
    "    height =24,\n",
    "    valign = 'middle',\n",
    "    xshift=8,\n",
    "    font = dict(\n",
    "        color = field_color,\n",
    "        size = 24\n",
    "    ),\n",
    "    textangle = -90,\n",
    "    )\n",
    "\n",
    "fig.add_annotation(\n",
    "    x = 2011,\n",
    "    y = 36,\n",
    "    text = '2011 CBA',\n",
    "    height =24,\n",
    "    valign = 'middle',\n",
    "    xshift=8,\n",
    "    font = dict(\n",
    "        color = text_color,\n",
    "        size = 24\n",
    "    ),\n",
    "    textangle = -90,\n",
    "    )\n",
    "\n",
    "\n",
    "for cidx, clabel, marker_sym in zip(np.unique(contract_type_ids), contract_types_unique, cat_symbols):\n",
    "    marker_dict = dict(\n",
    "        symbol=marker_sym,\n",
    "        size=8,\n",
    "        line=dict(width=2),\n",
    "        opacity=0.8\n",
    "    )\n",
    "\n",
    "    style_dict = {\n",
    "        'mode':'markers',\n",
    "        'marker': marker_dict   \n",
    "        }\n",
    "\n",
    "    cdata = df[df['contract_type_id']==cidx][['player', 'year_signed', 'value', 'years', 'guaranteed', 'apy', 'apy_cap_pct']]\n",
    "    cdata['apy_cap_pct'] = cdata['apy_cap_pct'].apply(lambda x: np.around(100*x,1))\n",
    "    cdata[['apy','guaranteed']] = cdata[['apy','guaranteed']].apply(lambda x: np.around(x,1))\n",
    "\n",
    "    cdata.to_numpy()\n",
    "\n",
    "    # if clabel == 'Rookie deal':\n",
    "    #     hovtemp = \"<br>%{customdata[0]}, %{customdata[1]} \\\n",
    "    #         <br> $%{customdata[2]}M/%{customdata[3]}yr ($%{customdata[4]}M guaranteed)\"\n",
    "    # else:\n",
    "    hovtemp =\"<br>%{customdata[0]}, %{customdata[1]} \\\n",
    "        <br> $%{customdata[2]}M/%{customdata[3]}yr ($%{customdata[4]}M guaranteed) \\\n",
    "        <br> $%{customdata[5]}M APY\"\n",
    "\n",
    "    fig.add_trace(\n",
    "        go.Scatter(\n",
    "            name = clabel, \n",
    "            x = df[df['contract_type_id']==cidx]['year_signed']+(x_offset*(cidx-1)), y = df[df['contract_type_id']==cidx]['apy'],\n",
    "            customdata = cdata,\n",
    "            **style_dict,\n",
    "            hovertemplate=hovtemp,\n",
    "            # hovertemplate='<br>'.join([\"\\%{customdata[0]} (\\%{customdata[1]})\", \n",
    "            #     \"\\%{customdata[2]}M / \\%{customdata[3]} yrs\", \n",
    "            #     \"\\%{customdata[4]}M APY (\\%{customdata[5]:.1f}) pct cap))\"\n",
    "            # ])\n",
    "        )\n",
    "    )\n",
    "\n",
    "\n",
    "  \n",
    "\n",
    "# plotly ticklabelposition option seems to break vs code\n",
    "for ylabel in range(10, 51, 10):\n",
    "    fig.add_annotation(\n",
    "        x = 1999,\n",
    "        y = ylabel + 1.5,\n",
    "        text = str(ylabel),\n",
    "        font = dict(\n",
    "            size = 24\n",
    "        ),\n",
    "        # textangle = -90,\n",
    "        showarrow=False\n",
    "    )\n",
    "\n",
    "# fig.layout.template='seaborn'\n",
    "fig.layout.height = 500\n",
    "fig.layout.width = 1200\n",
    "\n",
    "fig.update_xaxes(\n",
    "    range = (1998.1, 2023.9),\n",
    "    fixedrange=True,\n",
    "    showgrid=False,\n",
    "    tickmode = 'linear',\n",
    "    tick0 = 2000,\n",
    "    dtick = 5,\n",
    "    minor = dict(ticklen = 5, nticks = 5, tickcolor = text_color, tickwidth=2)\n",
    "\n",
    "    )\n",
    "\n",
    "fig.update_yaxes(\n",
    "    range = (0,57.5),\n",
    "    fixedrange=True,\n",
    "    gridwidth=2,\n",
    "    gridcolor = text_color,\n",
    "    zeroline = True,\n",
    "    zerolinewidth = 2,\n",
    "    zerolinecolor = text_color,\n",
    "    showticklabels = False\n",
    "    )\n",
    "\n",
    "fig.update_layout(\n",
    "    height = 600,\n",
    "    width = 1200,\n",
    "    margin = dict(l=5, r=5, t=10, b=5),\n",
    "    paper_bgcolor = field_color,\n",
    "    plot_bgcolor = field_color,\n",
    "    colorway = cat_colors,\n",
    "    font = dict(\n",
    "        family = 'Courier',\n",
    "        color = text_color,\n",
    "        size = 16\n",
    "    ),\n",
    "    legend=dict(\n",
    "        yanchor=\"top\",\n",
    "        y=0.855,\n",
    "        xanchor=\"left\",\n",
    "        x=0.1\n",
    "    )\n",
    ")\n",
    "\n",
    "\n",
    "\n",
    "# fig.add_trace(\n",
    "#     go.Scatter(\n",
    "#         name = 'Vet Starter Contracts', \n",
    "#         x = df['year_signed'].iloc[vet_starter_idx], y = df['apy'].iloc[vet_starter_idx]\n",
    "#         )\n",
    "# )\n",
    "\n",
    "# fig.add_trace(\n",
    "#     go.Scatter(\n",
    "#         name = 'Vet Backup Contracts', \n",
    "#         x = df['year_signed'].iloc[vet_backup_idx], y = df['apy'].iloc[vet_backup_idx]\n",
    "#         )\n",
    "# )\n",
    "\n",
    "\n",
    "fig.show()\n",
    "\n"
   ]
  },
  {
   "cell_type": "code",
   "execution_count": 210,
   "id": "8608fb2a",
   "metadata": {},
   "outputs": [],
   "source": [
    "pfr_df = nfl.import_pfr('pass')\n",
    "ngs_df = nfl.import_ngs_data(stat_type= 'rushing', years = [2022])"
   ]
  },
  {
   "cell_type": "code",
   "execution_count": 211,
   "id": "62bfda0e",
   "metadata": {},
   "outputs": [
    {
     "name": "stdout",
     "output_type": "stream",
     "text": [
      "season                    season_type               week                      player_display_name       player_position           \n",
      "team_abbr                 avg_time_to_throw         avg_completed_air_yards   avg_intended_air_yards    avg_air_yards_differential \n",
      "aggressiveness            max_completed_air_distance avg_air_yards_to_sticks   attempts                  pass_yards                \n",
      "pass_touchdowns           interceptions             passer_rating             completions               completion_percentage     \n",
      "expected_completion_percentage completion_percentage_above_expectation avg_air_distance          max_air_distance          player_gsis_id            \n"
     ]
    }
   ],
   "source": [
    "# compact_columns(pfr_df)\n",
    "compact_columns(ngs_df)"
   ]
  },
  {
   "cell_type": "code",
   "execution_count": 207,
   "id": "6aac6c37",
   "metadata": {},
   "outputs": [
    {
     "data": {
      "text/html": [
       "<div>\n",
       "<style scoped>\n",
       "    .dataframe tbody tr th:only-of-type {\n",
       "        vertical-align: middle;\n",
       "    }\n",
       "\n",
       "    .dataframe tbody tr th {\n",
       "        vertical-align: top;\n",
       "    }\n",
       "\n",
       "    .dataframe thead th {\n",
       "        text-align: right;\n",
       "    }\n",
       "</style>\n",
       "<table border=\"1\" class=\"dataframe\">\n",
       "  <thead>\n",
       "    <tr style=\"text-align: right;\">\n",
       "      <th></th>\n",
       "      <th>player</th>\n",
       "      <th>team</th>\n",
       "      <th>pass_attempts</th>\n",
       "      <th>throwaways</th>\n",
       "      <th>spikes</th>\n",
       "      <th>drops</th>\n",
       "      <th>drop_pct</th>\n",
       "      <th>bad_throws</th>\n",
       "      <th>bad_throw_pct</th>\n",
       "      <th>season</th>\n",
       "      <th>...</th>\n",
       "      <th>on_tgt_throws</th>\n",
       "      <th>on_tgt_pct</th>\n",
       "      <th>rpo_plays</th>\n",
       "      <th>rpo_yards</th>\n",
       "      <th>rpo_pass_att</th>\n",
       "      <th>rpo_pass_yards</th>\n",
       "      <th>rpo_rush_att</th>\n",
       "      <th>rpo_rush_yards</th>\n",
       "      <th>pa_pass_att</th>\n",
       "      <th>pa_pass_yards</th>\n",
       "    </tr>\n",
       "  </thead>\n",
       "  <tbody>\n",
       "    <tr>\n",
       "      <th>435</th>\n",
       "      <td>Patrick Mahomes</td>\n",
       "      <td>KC</td>\n",
       "      <td>622.0</td>\n",
       "      <td>31.0</td>\n",
       "      <td>0.0</td>\n",
       "      <td>32.0</td>\n",
       "      <td>5.4</td>\n",
       "      <td>93.0</td>\n",
       "      <td>15.7</td>\n",
       "      <td>2022</td>\n",
       "      <td>...</td>\n",
       "      <td>455.0</td>\n",
       "      <td>77.0</td>\n",
       "      <td>81.0</td>\n",
       "      <td>570.0</td>\n",
       "      <td>77.0</td>\n",
       "      <td>562.0</td>\n",
       "      <td>3.0</td>\n",
       "      <td>8.0</td>\n",
       "      <td>129.0</td>\n",
       "      <td>1155.0</td>\n",
       "    </tr>\n",
       "    <tr>\n",
       "      <th>436</th>\n",
       "      <td>Tom Brady</td>\n",
       "      <td>TB</td>\n",
       "      <td>716.0</td>\n",
       "      <td>20.0</td>\n",
       "      <td>4.0</td>\n",
       "      <td>30.0</td>\n",
       "      <td>4.3</td>\n",
       "      <td>111.0</td>\n",
       "      <td>16.0</td>\n",
       "      <td>2022</td>\n",
       "      <td>...</td>\n",
       "      <td>510.0</td>\n",
       "      <td>73.7</td>\n",
       "      <td>18.0</td>\n",
       "      <td>126.0</td>\n",
       "      <td>18.0</td>\n",
       "      <td>126.0</td>\n",
       "      <td>0.0</td>\n",
       "      <td>0.0</td>\n",
       "      <td>113.0</td>\n",
       "      <td>861.0</td>\n",
       "    </tr>\n",
       "    <tr>\n",
       "      <th>437</th>\n",
       "      <td>Justin Herbert</td>\n",
       "      <td>LAC</td>\n",
       "      <td>662.0</td>\n",
       "      <td>24.0</td>\n",
       "      <td>2.0</td>\n",
       "      <td>34.0</td>\n",
       "      <td>5.3</td>\n",
       "      <td>84.0</td>\n",
       "      <td>13.2</td>\n",
       "      <td>2022</td>\n",
       "      <td>...</td>\n",
       "      <td>483.0</td>\n",
       "      <td>75.9</td>\n",
       "      <td>35.0</td>\n",
       "      <td>285.0</td>\n",
       "      <td>35.0</td>\n",
       "      <td>285.0</td>\n",
       "      <td>0.0</td>\n",
       "      <td>0.0</td>\n",
       "      <td>166.0</td>\n",
       "      <td>1240.0</td>\n",
       "    </tr>\n",
       "    <tr>\n",
       "      <th>438</th>\n",
       "      <td>Kirk Cousins</td>\n",
       "      <td>MIN</td>\n",
       "      <td>623.0</td>\n",
       "      <td>27.0</td>\n",
       "      <td>3.0</td>\n",
       "      <td>24.0</td>\n",
       "      <td>4.0</td>\n",
       "      <td>90.0</td>\n",
       "      <td>15.2</td>\n",
       "      <td>2022</td>\n",
       "      <td>...</td>\n",
       "      <td>451.0</td>\n",
       "      <td>76.1</td>\n",
       "      <td>19.0</td>\n",
       "      <td>145.0</td>\n",
       "      <td>18.0</td>\n",
       "      <td>145.0</td>\n",
       "      <td>0.0</td>\n",
       "      <td>0.0</td>\n",
       "      <td>182.0</td>\n",
       "      <td>1221.0</td>\n",
       "    </tr>\n",
       "    <tr>\n",
       "      <th>439</th>\n",
       "      <td>Joe Burrow</td>\n",
       "      <td>CIN</td>\n",
       "      <td>564.0</td>\n",
       "      <td>15.0</td>\n",
       "      <td>2.0</td>\n",
       "      <td>26.0</td>\n",
       "      <td>4.8</td>\n",
       "      <td>69.0</td>\n",
       "      <td>12.6</td>\n",
       "      <td>2022</td>\n",
       "      <td>...</td>\n",
       "      <td>434.0</td>\n",
       "      <td>79.3</td>\n",
       "      <td>57.0</td>\n",
       "      <td>404.0</td>\n",
       "      <td>50.0</td>\n",
       "      <td>386.0</td>\n",
       "      <td>2.0</td>\n",
       "      <td>18.0</td>\n",
       "      <td>85.0</td>\n",
       "      <td>591.0</td>\n",
       "    </tr>\n",
       "    <tr>\n",
       "      <th>...</th>\n",
       "      <td>...</td>\n",
       "      <td>...</td>\n",
       "      <td>...</td>\n",
       "      <td>...</td>\n",
       "      <td>...</td>\n",
       "      <td>...</td>\n",
       "      <td>...</td>\n",
       "      <td>...</td>\n",
       "      <td>...</td>\n",
       "      <td>...</td>\n",
       "      <td>...</td>\n",
       "      <td>...</td>\n",
       "      <td>...</td>\n",
       "      <td>...</td>\n",
       "      <td>...</td>\n",
       "      <td>...</td>\n",
       "      <td>...</td>\n",
       "      <td>...</td>\n",
       "      <td>...</td>\n",
       "      <td>...</td>\n",
       "      <td>...</td>\n",
       "    </tr>\n",
       "    <tr>\n",
       "      <th>531</th>\n",
       "      <td>Christian Kirk</td>\n",
       "      <td>JAX</td>\n",
       "      <td>1.0</td>\n",
       "      <td>0.0</td>\n",
       "      <td>0.0</td>\n",
       "      <td>0.0</td>\n",
       "      <td>0.0</td>\n",
       "      <td>1.0</td>\n",
       "      <td>100.0</td>\n",
       "      <td>2022</td>\n",
       "      <td>...</td>\n",
       "      <td>0.0</td>\n",
       "      <td>0.0</td>\n",
       "      <td>1.0</td>\n",
       "      <td>0.0</td>\n",
       "      <td>1.0</td>\n",
       "      <td>0.0</td>\n",
       "      <td>0.0</td>\n",
       "      <td>0.0</td>\n",
       "      <td>1.0</td>\n",
       "      <td>0.0</td>\n",
       "    </tr>\n",
       "    <tr>\n",
       "      <th>532</th>\n",
       "      <td>Cooper Kupp</td>\n",
       "      <td>LAR</td>\n",
       "      <td>1.0</td>\n",
       "      <td>0.0</td>\n",
       "      <td>0.0</td>\n",
       "      <td>0.0</td>\n",
       "      <td>0.0</td>\n",
       "      <td>1.0</td>\n",
       "      <td>100.0</td>\n",
       "      <td>2022</td>\n",
       "      <td>...</td>\n",
       "      <td>0.0</td>\n",
       "      <td>0.0</td>\n",
       "      <td>0.0</td>\n",
       "      <td>0.0</td>\n",
       "      <td>0.0</td>\n",
       "      <td>0.0</td>\n",
       "      <td>0.0</td>\n",
       "      <td>0.0</td>\n",
       "      <td>0.0</td>\n",
       "      <td>0.0</td>\n",
       "    </tr>\n",
       "    <tr>\n",
       "      <th>533</th>\n",
       "      <td>James Proche</td>\n",
       "      <td>BAL</td>\n",
       "      <td>1.0</td>\n",
       "      <td>0.0</td>\n",
       "      <td>0.0</td>\n",
       "      <td>0.0</td>\n",
       "      <td>0.0</td>\n",
       "      <td>0.0</td>\n",
       "      <td>0.0</td>\n",
       "      <td>2022</td>\n",
       "      <td>...</td>\n",
       "      <td>1.0</td>\n",
       "      <td>100.0</td>\n",
       "      <td>1.0</td>\n",
       "      <td>0.0</td>\n",
       "      <td>1.0</td>\n",
       "      <td>0.0</td>\n",
       "      <td>0.0</td>\n",
       "      <td>0.0</td>\n",
       "      <td>1.0</td>\n",
       "      <td>0.0</td>\n",
       "    </tr>\n",
       "    <tr>\n",
       "      <th>534</th>\n",
       "      <td>Tommy Townsend</td>\n",
       "      <td>KC</td>\n",
       "      <td>1.0</td>\n",
       "      <td>0.0</td>\n",
       "      <td>0.0</td>\n",
       "      <td>0.0</td>\n",
       "      <td>0.0</td>\n",
       "      <td>1.0</td>\n",
       "      <td>100.0</td>\n",
       "      <td>2022</td>\n",
       "      <td>...</td>\n",
       "      <td>0.0</td>\n",
       "      <td>0.0</td>\n",
       "      <td>0.0</td>\n",
       "      <td>0.0</td>\n",
       "      <td>0.0</td>\n",
       "      <td>0.0</td>\n",
       "      <td>0.0</td>\n",
       "      <td>0.0</td>\n",
       "      <td>0.0</td>\n",
       "      <td>0.0</td>\n",
       "    </tr>\n",
       "    <tr>\n",
       "      <th>535</th>\n",
       "      <td>Garrett Wilson</td>\n",
       "      <td>NYJ</td>\n",
       "      <td>1.0</td>\n",
       "      <td>1.0</td>\n",
       "      <td>0.0</td>\n",
       "      <td>0.0</td>\n",
       "      <td>0.0</td>\n",
       "      <td>0.0</td>\n",
       "      <td>0.0</td>\n",
       "      <td>2022</td>\n",
       "      <td>...</td>\n",
       "      <td>0.0</td>\n",
       "      <td>0.0</td>\n",
       "      <td>1.0</td>\n",
       "      <td>0.0</td>\n",
       "      <td>1.0</td>\n",
       "      <td>0.0</td>\n",
       "      <td>0.0</td>\n",
       "      <td>0.0</td>\n",
       "      <td>0.0</td>\n",
       "      <td>0.0</td>\n",
       "    </tr>\n",
       "  </tbody>\n",
       "</table>\n",
       "<p>101 rows × 28 columns</p>\n",
       "</div>"
      ],
      "text/plain": [
       "              player team  pass_attempts  throwaways  spikes  drops  drop_pct  \\\n",
       "435  Patrick Mahomes   KC          622.0        31.0     0.0   32.0       5.4   \n",
       "436        Tom Brady   TB          716.0        20.0     4.0   30.0       4.3   \n",
       "437   Justin Herbert  LAC          662.0        24.0     2.0   34.0       5.3   \n",
       "438     Kirk Cousins  MIN          623.0        27.0     3.0   24.0       4.0   \n",
       "439       Joe Burrow  CIN          564.0        15.0     2.0   26.0       4.8   \n",
       "..               ...  ...            ...         ...     ...    ...       ...   \n",
       "531   Christian Kirk  JAX            1.0         0.0     0.0    0.0       0.0   \n",
       "532      Cooper Kupp  LAR            1.0         0.0     0.0    0.0       0.0   \n",
       "533     James Proche  BAL            1.0         0.0     0.0    0.0       0.0   \n",
       "534   Tommy Townsend   KC            1.0         0.0     0.0    0.0       0.0   \n",
       "535   Garrett Wilson  NYJ            1.0         1.0     0.0    0.0       0.0   \n",
       "\n",
       "     bad_throws  bad_throw_pct  season  ... on_tgt_throws  on_tgt_pct  \\\n",
       "435        93.0           15.7    2022  ...         455.0        77.0   \n",
       "436       111.0           16.0    2022  ...         510.0        73.7   \n",
       "437        84.0           13.2    2022  ...         483.0        75.9   \n",
       "438        90.0           15.2    2022  ...         451.0        76.1   \n",
       "439        69.0           12.6    2022  ...         434.0        79.3   \n",
       "..          ...            ...     ...  ...           ...         ...   \n",
       "531         1.0          100.0    2022  ...           0.0         0.0   \n",
       "532         1.0          100.0    2022  ...           0.0         0.0   \n",
       "533         0.0            0.0    2022  ...           1.0       100.0   \n",
       "534         1.0          100.0    2022  ...           0.0         0.0   \n",
       "535         0.0            0.0    2022  ...           0.0         0.0   \n",
       "\n",
       "     rpo_plays  rpo_yards  rpo_pass_att  rpo_pass_yards  rpo_rush_att  \\\n",
       "435       81.0      570.0          77.0           562.0           3.0   \n",
       "436       18.0      126.0          18.0           126.0           0.0   \n",
       "437       35.0      285.0          35.0           285.0           0.0   \n",
       "438       19.0      145.0          18.0           145.0           0.0   \n",
       "439       57.0      404.0          50.0           386.0           2.0   \n",
       "..         ...        ...           ...             ...           ...   \n",
       "531        1.0        0.0           1.0             0.0           0.0   \n",
       "532        0.0        0.0           0.0             0.0           0.0   \n",
       "533        1.0        0.0           1.0             0.0           0.0   \n",
       "534        0.0        0.0           0.0             0.0           0.0   \n",
       "535        1.0        0.0           1.0             0.0           0.0   \n",
       "\n",
       "     rpo_rush_yards  pa_pass_att  pa_pass_yards  \n",
       "435             8.0        129.0         1155.0  \n",
       "436             0.0        113.0          861.0  \n",
       "437             0.0        166.0         1240.0  \n",
       "438             0.0        182.0         1221.0  \n",
       "439            18.0         85.0          591.0  \n",
       "..              ...          ...            ...  \n",
       "531             0.0          1.0            0.0  \n",
       "532             0.0          0.0            0.0  \n",
       "533             0.0          1.0            0.0  \n",
       "534             0.0          0.0            0.0  \n",
       "535             0.0          0.0            0.0  \n",
       "\n",
       "[101 rows x 28 columns]"
      ]
     },
     "execution_count": 207,
     "metadata": {},
     "output_type": "execute_result"
    }
   ],
   "source": [
    "pfr_df[pfr_df['season'] == 2022]"
   ]
  },
  {
   "cell_type": "code",
   "execution_count": 217,
   "id": "785d3157",
   "metadata": {},
   "outputs": [
    {
     "ename": "ValueError",
     "evalue": "Plotly Express cannot process wide-form data with columns of different type.",
     "output_type": "error",
     "traceback": [
      "\u001b[0;31m---------------------------------------------------------------------------\u001b[0m",
      "\u001b[0;31mValueError\u001b[0m                                Traceback (most recent call last)",
      "Cell \u001b[0;32mIn [217], line 1\u001b[0m\n\u001b[0;32m----> 1\u001b[0m pfr_df[pfr_df[\u001b[39m'\u001b[39;49m\u001b[39mseason\u001b[39;49m\u001b[39m'\u001b[39;49m]\u001b[39m==\u001b[39;49m\u001b[39m2022\u001b[39;49m][[\u001b[39m'\u001b[39;49m\u001b[39mplayer\u001b[39;49m\u001b[39m'\u001b[39;49m, \u001b[39m'\u001b[39;49m\u001b[39mpass_attempts\u001b[39;49m\u001b[39m'\u001b[39;49m]]\u001b[39m.\u001b[39;49mhist(column\u001b[39m=\u001b[39;49m\u001b[39m'\u001b[39;49m\u001b[39mpass_attempts\u001b[39;49m\u001b[39m'\u001b[39;49m)\n",
      "File \u001b[0;32m~/.NFL/lib/python3.8/site-packages/pandas/plotting/_core.py:231\u001b[0m, in \u001b[0;36mhist_frame\u001b[0;34m(data, column, by, grid, xlabelsize, xrot, ylabelsize, yrot, ax, sharex, sharey, figsize, layout, bins, backend, legend, **kwargs)\u001b[0m\n\u001b[1;32m    140\u001b[0m \u001b[39m\"\"\"\u001b[39;00m\n\u001b[1;32m    141\u001b[0m \u001b[39mMake a histogram of the DataFrame's columns.\u001b[39;00m\n\u001b[1;32m    142\u001b[0m \n\u001b[0;32m   (...)\u001b[0m\n\u001b[1;32m    228\u001b[0m \u001b[39m    >>> hist = df.hist(bins=3)\u001b[39;00m\n\u001b[1;32m    229\u001b[0m \u001b[39m\"\"\"\u001b[39;00m\n\u001b[1;32m    230\u001b[0m plot_backend \u001b[39m=\u001b[39m _get_plot_backend(backend)\n\u001b[0;32m--> 231\u001b[0m \u001b[39mreturn\u001b[39;00m plot_backend\u001b[39m.\u001b[39;49mhist_frame(\n\u001b[1;32m    232\u001b[0m     data,\n\u001b[1;32m    233\u001b[0m     column\u001b[39m=\u001b[39;49mcolumn,\n\u001b[1;32m    234\u001b[0m     by\u001b[39m=\u001b[39;49mby,\n\u001b[1;32m    235\u001b[0m     grid\u001b[39m=\u001b[39;49mgrid,\n\u001b[1;32m    236\u001b[0m     xlabelsize\u001b[39m=\u001b[39;49mxlabelsize,\n\u001b[1;32m    237\u001b[0m     xrot\u001b[39m=\u001b[39;49mxrot,\n\u001b[1;32m    238\u001b[0m     ylabelsize\u001b[39m=\u001b[39;49mylabelsize,\n\u001b[1;32m    239\u001b[0m     yrot\u001b[39m=\u001b[39;49myrot,\n\u001b[1;32m    240\u001b[0m     ax\u001b[39m=\u001b[39;49max,\n\u001b[1;32m    241\u001b[0m     sharex\u001b[39m=\u001b[39;49msharex,\n\u001b[1;32m    242\u001b[0m     sharey\u001b[39m=\u001b[39;49msharey,\n\u001b[1;32m    243\u001b[0m     figsize\u001b[39m=\u001b[39;49mfigsize,\n\u001b[1;32m    244\u001b[0m     layout\u001b[39m=\u001b[39;49mlayout,\n\u001b[1;32m    245\u001b[0m     legend\u001b[39m=\u001b[39;49mlegend,\n\u001b[1;32m    246\u001b[0m     bins\u001b[39m=\u001b[39;49mbins,\n\u001b[1;32m    247\u001b[0m     \u001b[39m*\u001b[39;49m\u001b[39m*\u001b[39;49mkwargs,\n\u001b[1;32m    248\u001b[0m )\n",
      "File \u001b[0;32m~/.NFL/lib/python3.8/site-packages/plotly/__init__.py:164\u001b[0m, in \u001b[0;36mhist_frame\u001b[0;34m(data_frame, **kwargs)\u001b[0m\n\u001b[1;32m    162\u001b[0m skip \u001b[39m+\u001b[39m\u001b[39m=\u001b[39m [\u001b[39m\"\u001b[39m\u001b[39max\u001b[39m\u001b[39m\"\u001b[39m, \u001b[39m\"\u001b[39m\u001b[39msharex\u001b[39m\u001b[39m\"\u001b[39m, \u001b[39m\"\u001b[39m\u001b[39msharey\u001b[39m\u001b[39m\"\u001b[39m, \u001b[39m\"\u001b[39m\u001b[39mfigsize\u001b[39m\u001b[39m\"\u001b[39m, \u001b[39m\"\u001b[39m\u001b[39mlayout\u001b[39m\u001b[39m\"\u001b[39m, \u001b[39m\"\u001b[39m\u001b[39mbins\u001b[39m\u001b[39m\"\u001b[39m, \u001b[39m\"\u001b[39m\u001b[39mlegend\u001b[39m\u001b[39m\"\u001b[39m]\n\u001b[1;32m    163\u001b[0m new_kwargs \u001b[39m=\u001b[39m {k: kwargs[k] \u001b[39mfor\u001b[39;00m k \u001b[39min\u001b[39;00m kwargs \u001b[39mif\u001b[39;00m k \u001b[39mnot\u001b[39;00m \u001b[39min\u001b[39;00m skip}\n\u001b[0;32m--> 164\u001b[0m \u001b[39mreturn\u001b[39;00m histogram(data_frame, \u001b[39m*\u001b[39;49m\u001b[39m*\u001b[39;49mnew_kwargs)\n",
      "File \u001b[0;32m~/.NFL/lib/python3.8/site-packages/plotly/express/_chart_types.py:480\u001b[0m, in \u001b[0;36mhistogram\u001b[0;34m(data_frame, x, y, color, pattern_shape, facet_row, facet_col, facet_col_wrap, facet_row_spacing, facet_col_spacing, hover_name, hover_data, animation_frame, animation_group, category_orders, labels, color_discrete_sequence, color_discrete_map, pattern_shape_sequence, pattern_shape_map, marginal, opacity, orientation, barmode, barnorm, histnorm, log_x, log_y, range_x, range_y, histfunc, cumulative, nbins, text_auto, title, template, width, height)\u001b[0m\n\u001b[1;32m    434\u001b[0m \u001b[39mdef\u001b[39;00m \u001b[39mhistogram\u001b[39m(\n\u001b[1;32m    435\u001b[0m     data_frame\u001b[39m=\u001b[39m\u001b[39mNone\u001b[39;00m,\n\u001b[1;32m    436\u001b[0m     x\u001b[39m=\u001b[39m\u001b[39mNone\u001b[39;00m,\n\u001b[0;32m   (...)\u001b[0m\n\u001b[1;32m    472\u001b[0m     height\u001b[39m=\u001b[39m\u001b[39mNone\u001b[39;00m,\n\u001b[1;32m    473\u001b[0m ) \u001b[39m-\u001b[39m\u001b[39m>\u001b[39m go\u001b[39m.\u001b[39mFigure:\n\u001b[1;32m    474\u001b[0m     \u001b[39m\"\"\"\u001b[39;00m\n\u001b[1;32m    475\u001b[0m \u001b[39m    In a histogram, rows of `data_frame` are grouped together into a\u001b[39;00m\n\u001b[1;32m    476\u001b[0m \u001b[39m    rectangular mark to visualize the 1D distribution of an aggregate\u001b[39;00m\n\u001b[1;32m    477\u001b[0m \u001b[39m    function `histfunc` (e.g. the count or sum) of the value `y` (or `x` if\u001b[39;00m\n\u001b[1;32m    478\u001b[0m \u001b[39m    `orientation` is `'h'`).\u001b[39;00m\n\u001b[1;32m    479\u001b[0m \u001b[39m    \"\"\"\u001b[39;00m\n\u001b[0;32m--> 480\u001b[0m     \u001b[39mreturn\u001b[39;00m make_figure(\n\u001b[1;32m    481\u001b[0m         args\u001b[39m=\u001b[39;49m\u001b[39mlocals\u001b[39;49m(),\n\u001b[1;32m    482\u001b[0m         constructor\u001b[39m=\u001b[39;49mgo\u001b[39m.\u001b[39;49mHistogram,\n\u001b[1;32m    483\u001b[0m         trace_patch\u001b[39m=\u001b[39;49m\u001b[39mdict\u001b[39;49m(\n\u001b[1;32m    484\u001b[0m             histnorm\u001b[39m=\u001b[39;49mhistnorm,\n\u001b[1;32m    485\u001b[0m             histfunc\u001b[39m=\u001b[39;49mhistfunc,\n\u001b[1;32m    486\u001b[0m             cumulative\u001b[39m=\u001b[39;49m\u001b[39mdict\u001b[39;49m(enabled\u001b[39m=\u001b[39;49mcumulative),\n\u001b[1;32m    487\u001b[0m         ),\n\u001b[1;32m    488\u001b[0m         layout_patch\u001b[39m=\u001b[39;49m\u001b[39mdict\u001b[39;49m(barmode\u001b[39m=\u001b[39;49mbarmode, barnorm\u001b[39m=\u001b[39;49mbarnorm),\n\u001b[1;32m    489\u001b[0m     )\n",
      "File \u001b[0;32m~/.NFL/lib/python3.8/site-packages/plotly/express/_core.py:1990\u001b[0m, in \u001b[0;36mmake_figure\u001b[0;34m(args, constructor, trace_patch, layout_patch)\u001b[0m\n\u001b[1;32m   1987\u001b[0m layout_patch \u001b[39m=\u001b[39m layout_patch \u001b[39mor\u001b[39;00m {}\n\u001b[1;32m   1988\u001b[0m apply_default_cascade(args)\n\u001b[0;32m-> 1990\u001b[0m args \u001b[39m=\u001b[39m build_dataframe(args, constructor)\n\u001b[1;32m   1991\u001b[0m \u001b[39mif\u001b[39;00m constructor \u001b[39min\u001b[39;00m [go\u001b[39m.\u001b[39mTreemap, go\u001b[39m.\u001b[39mSunburst, go\u001b[39m.\u001b[39mIcicle] \u001b[39mand\u001b[39;00m args[\u001b[39m\"\u001b[39m\u001b[39mpath\u001b[39m\u001b[39m\"\u001b[39m] \u001b[39mis\u001b[39;00m \u001b[39mnot\u001b[39;00m \u001b[39mNone\u001b[39;00m:\n\u001b[1;32m   1992\u001b[0m     args \u001b[39m=\u001b[39m process_dataframe_hierarchy(args)\n",
      "File \u001b[0;32m~/.NFL/lib/python3.8/site-packages/plotly/express/_core.py:1452\u001b[0m, in \u001b[0;36mbuild_dataframe\u001b[0;34m(args, constructor)\u001b[0m\n\u001b[1;32m   1450\u001b[0m         dtype \u001b[39m=\u001b[39m v_dtype\n\u001b[1;32m   1451\u001b[0m     \u001b[39melif\u001b[39;00m dtype \u001b[39m!=\u001b[39m v_dtype:\n\u001b[0;32m-> 1452\u001b[0m         \u001b[39mraise\u001b[39;00m \u001b[39mValueError\u001b[39;00m(\n\u001b[1;32m   1453\u001b[0m             \u001b[39m\"\u001b[39m\u001b[39mPlotly Express cannot process wide-form data with columns of different type.\u001b[39m\u001b[39m\"\u001b[39m\n\u001b[1;32m   1454\u001b[0m         )\n\u001b[1;32m   1455\u001b[0m df_output \u001b[39m=\u001b[39m df_output\u001b[39m.\u001b[39mmelt(\n\u001b[1;32m   1456\u001b[0m     id_vars\u001b[39m=\u001b[39mwide_id_vars,\n\u001b[1;32m   1457\u001b[0m     value_vars\u001b[39m=\u001b[39mwide_value_vars,\n\u001b[1;32m   1458\u001b[0m     var_name\u001b[39m=\u001b[39mvar_name,\n\u001b[1;32m   1459\u001b[0m     value_name\u001b[39m=\u001b[39mvalue_name,\n\u001b[1;32m   1460\u001b[0m )\n\u001b[1;32m   1461\u001b[0m \u001b[39massert\u001b[39;00m \u001b[39mlen\u001b[39m(df_output\u001b[39m.\u001b[39mcolumns) \u001b[39m==\u001b[39m \u001b[39mlen\u001b[39m(\u001b[39mset\u001b[39m(df_output\u001b[39m.\u001b[39mcolumns)), (\n\u001b[1;32m   1462\u001b[0m     \u001b[39m\"\u001b[39m\u001b[39mWide-mode name-inference failure, likely due to a internal bug. \u001b[39m\u001b[39m\"\u001b[39m\n\u001b[1;32m   1463\u001b[0m     \u001b[39m\"\u001b[39m\u001b[39mPlease report this to \u001b[39m\u001b[39m\"\u001b[39m\n\u001b[1;32m   1464\u001b[0m     \u001b[39m\"\u001b[39m\u001b[39mhttps://github.com/plotly/plotly.py/issues/new and we will try to \u001b[39m\u001b[39m\"\u001b[39m\n\u001b[1;32m   1465\u001b[0m     \u001b[39m\"\u001b[39m\u001b[39mreplicate and fix it.\u001b[39m\u001b[39m\"\u001b[39m\n\u001b[1;32m   1466\u001b[0m )\n",
      "\u001b[0;31mValueError\u001b[0m: Plotly Express cannot process wide-form data with columns of different type."
     ]
    }
   ],
   "source": [
    "pfr_df[pfr_df['season']==2022][['player', 'pass_attempts']].hist(column='pass_attempts')"
   ]
  },
  {
   "cell_type": "code",
   "execution_count": 32,
   "id": "aff8a95d-9f34-4e02-8d52-624bdf63ae69",
   "metadata": {},
   "outputs": [
    {
     "data": {
      "application/vnd.plotly.v1+json": {
       "config": {
        "plotlyServerURL": "https://plot.ly"
       },
       "data": [
        {
         "customdata": [
          [
           "Aaron Rodgers",
           50.271667,
           0.24100000000000002
          ],
          [
           "Josh Allen",
           43,
           0.23600000000000002
          ],
          [
           "Russell Wilson",
           49,
           0.235
          ],
          [
           "Patrick Mahomes",
           45,
           0.22699999999999998
          ],
          [
           "Kyler Murray",
           46.1,
           0.221
          ],
          [
           "Deshaun Watson",
           46,
           0.221
          ],
          [
           "Dak Prescott",
           40,
           0.21899999999999997
          ],
          [
           "Deshaun Watson",
           39,
           0.19699999999999998
          ],
          [
           "Derek Carr",
           40.47416,
           0.19399999999999998
          ],
          [
           "Carson Palmer",
           16.166667,
           0.18899999999999997
          ],
          [
           "Aaron Rodgers",
           33.5,
           0.18899999999999997
          ],
          [
           "Russell Wilson",
           35,
           0.18600000000000003
          ],
          [
           "Ben Roethlisberger",
           34,
           0.18100000000000002
          ],
          [
           "Aaron Rodgers",
           22,
           0.179
          ],
          [
           "Jared Goff",
           33.5,
           0.17800000000000002
          ],
          [
           "Peyton Manning",
           14,
           0.174
          ],
          [
           "Brett Favre",
           11.514286,
           0.171
          ],
          [
           "Carson Wentz",
           32,
           0.17
          ],
          [
           "Matt Ryan",
           30,
           0.16899999999999998
          ],
          [
           "Matt Ryan",
           20.75,
           0.16899999999999998
          ],
          [
           "Kirk Cousins",
           35,
           0.168
          ],
          [
           "Kirk Cousins",
           33,
           0.166
          ],
          [
           "Drew Brees",
           20,
           0.166
          ],
          [
           "Joe Flacco",
           20.1,
           0.163
          ],
          [
           "Michael Vick",
           13,
           0.161
          ],
          [
           "Peyton Manning",
           19.2,
           0.159
          ],
          [
           "Dak Prescott",
           31.409,
           0.158
          ],
          [
           "Andrew Luck",
           24.594,
           0.158
          ],
          [
           "Kirk Cousins",
           28,
           0.158
          ],
          [
           "Drew Bledsoe",
           10.6,
           0.157
          ],
          [
           "Drew Brees",
           24.25,
           0.156
          ],
          [
           "Jimmy Garoppolo",
           27.5,
           0.155
          ],
          [
           "Russell Wilson",
           21.9,
           0.153
          ],
          [
           "Ben Roethlisberger",
           21.85,
           0.152
          ],
          [
           "Derek Carr",
           25.005,
           0.15
          ],
          [
           "Peyton Manning",
           18,
           0.15
          ],
          [
           "Ryan Tannehill",
           29.5,
           0.149
          ],
          [
           "Jacoby Brissett",
           27.975,
           0.149
          ],
          [
           "Eli Manning",
           21,
           0.147
          ],
          [
           "Tony Romo",
           18,
           0.146
          ],
          [
           "Philip Rivers",
           20.8125,
           0.145
          ],
          [
           "Cam Newton",
           20.76,
           0.145
          ],
          [
           "Kirk Cousins",
           23.9436,
           0.14300000000000002
          ],
          [
           "Colin Kaepernick",
           19,
           0.14300000000000002
          ],
          [
           "Joe Flacco",
           22.133333,
           0.14300000000000002
          ],
          [
           "Drew Brees",
           25,
           0.141
          ],
          [
           "Tom Brady",
           18,
           0.14
          ],
          [
           "Tom Brady",
           25,
           0.13699999999999998
          ],
          [
           "Jay Cutler",
           18.1,
           0.136
          ],
          [
           "Carson Palmer",
           21,
           0.135
          ],
          [
           "Ryan Tannehill",
           19.25,
           0.134
          ],
          [
           "Michael Vick",
           16,
           0.133
          ],
          [
           "Alex Smith",
           23.5,
           0.133
          ],
          [
           "Eli Manning",
           16.25,
           0.132
          ],
          [
           "Tom Brady",
           20.5,
           0.132
          ],
          [
           "Steve McNair",
           10.541668,
           0.131
          ],
          [
           "Matt Schaub",
           15.5,
           0.129
          ],
          [
           "Kirk Cousins",
           19.953,
           0.129
          ],
          [
           "Alex Smith",
           17,
           0.128
          ],
          [
           "Ben Roethlisberger",
           14.664417,
           0.126
          ],
          [
           "Steve McNair",
           8.5085,
           0.126
          ],
          [
           "Philip Rivers",
           25,
           0.126
          ],
          [
           "Tom Brady",
           25,
           0.126
          ],
          [
           "Drew Brees",
           25,
           0.126
          ],
          [
           "Philip Rivers",
           15.3,
           0.124
          ],
          [
           "Carson Palmer",
           16.5,
           0.124
          ],
          [
           "Brett Favre",
           16,
           0.124
          ],
          [
           "Tom Brady",
           23,
           0.122
          ],
          [
           "Andy Dalton",
           16,
           0.12
          ],
          [
           "Peyton Manning",
           17,
           0.11900000000000001
          ],
          [
           "Donovan McNabb",
           8.398529,
           0.11800000000000001
          ],
          [
           "Jay Cutler",
           14.45625,
           0.11800000000000001
          ],
          [
           "Nick Foles",
           22,
           0.11699999999999999
          ],
          [
           "Brock Osweiler",
           18,
           0.11599999999999999
          ],
          [
           "Tyrod Taylor",
           18,
           0.11599999999999999
          ],
          [
           "Brock Osweiler",
           18,
           0.11599999999999999
          ],
          [
           "Donovan McNabb",
           14.85,
           0.115
          ],
          [
           "Chad Pennington",
           9.171143,
           0.114
          ],
          [
           "Sam Bradford",
           20,
           0.113
          ],
          [
           "Mark Sanchez",
           13.491667,
           0.11199999999999999
          ],
          [
           "Mark Brunell",
           7.5,
           0.111
          ],
          [
           "Aaron Rodgers",
           12.704,
           0.11
          ],
          [
           "Teddy Bridgewater",
           21,
           0.106
          ],
          [
           "Tom Brady",
           7.40625,
           0.10400000000000001
          ],
          [
           "Tony Romo",
           11.25,
           0.10300000000000001
          ],
          [
           "Kevin Kolb",
           12.4216,
           0.10300000000000001
          ],
          [
           "Brett Favre",
           12.5,
           0.102
          ],
          [
           "Case Keenum",
           18,
           0.102
          ],
          [
           "Colin Kaepernick",
           15.6,
           0.1
          ],
          [
           "Blake Bortles",
           17.4835,
           0.099
          ],
          [
           "Drew Brees",
           10,
           0.098
          ],
          [
           "Kevin Kolb",
           12.222,
           0.095
          ],
          [
           "Drew Brees",
           8.078,
           0.094
          ],
          [
           "Matt Hasselbeck",
           8,
           0.094
          ],
          [
           "Kurt Warner",
           11.5,
           0.09300000000000001
          ],
          [
           "Tom Brady",
           11.4,
           0.09300000000000001
          ],
          [
           "Tyrod Taylor",
           15.25,
           0.091
          ],
          [
           "Mike Glennon",
           15,
           0.09
          ],
          [
           "Carson Palmer",
           10.75,
           0.08900000000000001
          ],
          [
           "Nick Foles",
           12.25,
           0.085
          ],
          [
           "Matt Cassel",
           10.5,
           0.085
          ],
          [
           "Ryan Fitzpatrick",
           9.833333,
           0.08199999999999999
          ],
          [
           "Jake Plummer",
           5.833532,
           0.078
          ],
          [
           "Ryan Fitzpatrick",
           12,
           0.077
          ],
          [
           "Ben Roethlisberger",
           14,
           0.077
          ],
          [
           "Drew Bledsoe",
           6.166667,
           0.077
          ],
          [
           "Baker Mayfield",
           15.358,
           0.07400000000000001
          ],
          [
           "Matt Schaub",
           8,
           0.073
          ],
          [
           "Carson Palmer",
           8.5,
           0.069
          ],
          [
           "Derek Anderson",
           8,
           0.069
          ],
          [
           "Jameis Winston",
           14,
           0.067
          ],
          [
           "Alex Smith",
           8,
           0.066
          ],
          [
           "Kyle Orton",
           8.379,
           0.065
          ],
          [
           "Teddy Bridgewater",
           11.5,
           0.063
          ],
          [
           "Michael Vick",
           7.5,
           0.061
          ],
          [
           "Jay Cutler",
           10,
           0.06
          ],
          [
           "Andy Dalton",
           10,
           0.055
          ],
          [
           "Ryan Fitzpatrick",
           10,
           0.055
          ],
          [
           "Steve McNair",
           5.5,
           0.054000000000000006
          ],
          [
           "Drew Bledsoe",
           4.5,
           0.053
          ],
          [
           "Kurt Warner",
           5,
           0.049
          ],
          [
           "Kurt Warner",
           4,
           0.047
          ],
          [
           "Marcus Mariota",
           9.375,
           0.045
          ],
          [
           "Donovan McNabb",
           5.05,
           0.042
          ],
          [
           "Case Keenum",
           7.5,
           0.04
          ],
          [
           "Matt Cassel",
           5.25,
           0.039
          ],
          [
           "Josh McCown",
           5,
           0.038
          ],
          [
           "Brian Hoyer",
           5.25,
           0.037000000000000005
          ],
          [
           "Brian Hoyer",
           6,
           0.036000000000000004
          ],
          [
           "Josh McCown",
           6,
           0.036000000000000004
          ],
          [
           "Jason Campbell",
           4.6,
           0.036000000000000004
          ],
          [
           "Mitchell Trubisky",
           7.4125,
           0.036000000000000004
          ],
          [
           "Chad Pennington",
           4,
           0.034
          ],
          [
           "Alex Smith",
           4,
           0.033
          ],
          [
           "Josh McCown",
           4.666667,
           0.033
          ],
          [
           "Tyrod Taylor",
           5.5,
           0.03
          ],
          [
           "Jameis Winston",
           5.5,
           0.03
          ],
          [
           "Chad Henne",
           4,
           0.03
          ],
          [
           "Ryan Fitzpatrick",
           5.5,
           0.028999999999999998
          ],
          [
           "Derek Anderson",
           3.625,
           0.027999999999999997
          ],
          [
           "Ryan Fitzpatrick",
           3.625,
           0.027000000000000003
          ],
          [
           "Kyle Orton",
           3,
           0.026000000000000002
          ],
          [
           "Jason Campbell",
           3.14325,
           0.024
          ],
          [
           "Matt Moore",
           3.043,
           0.024
          ],
          [
           "Josh Freeman",
           2.833334,
           0.023
          ],
          [
           "Jacoby Brissett",
           4.65,
           0.022000000000000002
          ],
          [
           "Kyle Orton",
           2.621,
           0.02
          ],
          [
           "Joe Flacco",
           3.5,
           0.017
          ],
          [
           "Geno Smith",
           3.5,
           0.017
          ],
          [
           "Tim Couch",
           1.25,
           0.016
          ],
          [
           "Luke McCown",
           1.8,
           0.015
          ],
          [
           "Shaun Hill",
           1.75,
           0.013000000000000001
          ],
          [
           "Brian Hoyer",
           1.605,
           0.01
          ],
          [
           "Cam Newton",
           1.75,
           0.009000000000000001
          ],
          [
           "Chase Daniel",
           1,
           0.008
          ],
          [
           "Tyrod Taylor",
           1.116667,
           0.008
          ],
          [
           "Luke McCown",
           1.05,
           0.006999999999999999
          ],
          [
           "Luke McCown",
           0.92,
           0.006999999999999999
          ],
          [
           "Josh Freeman",
           0.765,
           0.005
          ],
          [
           "Josh Freeman",
           0.7525,
           0.005
          ],
          [
           "Josh Freeman",
           0.745,
           0.005
          ],
          [
           "Garrett Gilbert",
           0.92,
           0.005
          ],
          [
           "Brandon Allen",
           0.825,
           0.004
          ],
          [
           "Garrett Gilbert",
           0.252,
           0.001
          ],
          [
           "Brandon Allen",
           0.204,
           0.001
          ],
          [
           "Nathan Peterman",
           0.1292,
           0.001
          ]
         ],
         "hovertemplate": "%{customdata[0]}<br>$%{customdata[1]:.2f}M",
         "hovertext": [
          "Aaron Rodgers",
          "Josh Allen",
          "Russell Wilson",
          "Patrick Mahomes",
          "Kyler Murray",
          "Deshaun Watson",
          "Dak Prescott",
          "Deshaun Watson",
          "Derek Carr",
          "Carson Palmer",
          "Aaron Rodgers",
          "Russell Wilson",
          "Ben Roethlisberger",
          "Aaron Rodgers",
          "Jared Goff",
          "Peyton Manning",
          "Brett Favre",
          "Carson Wentz",
          "Matt Ryan",
          "Matt Ryan",
          "Kirk Cousins",
          "Kirk Cousins",
          "Drew Brees",
          "Joe Flacco",
          "Michael Vick",
          "Peyton Manning",
          "Dak Prescott",
          "Andrew Luck",
          "Kirk Cousins",
          "Drew Bledsoe",
          "Drew Brees",
          "Jimmy Garoppolo",
          "Russell Wilson",
          "Ben Roethlisberger",
          "Derek Carr",
          "Peyton Manning",
          "Ryan Tannehill",
          "Jacoby Brissett",
          "Eli Manning",
          "Tony Romo",
          "Philip Rivers",
          "Cam Newton",
          "Kirk Cousins",
          "Colin Kaepernick",
          "Joe Flacco",
          "Drew Brees",
          "Tom Brady",
          "Tom Brady",
          "Jay Cutler",
          "Carson Palmer",
          "Ryan Tannehill",
          "Michael Vick",
          "Alex Smith",
          "Eli Manning",
          "Tom Brady",
          "Steve McNair",
          "Matt Schaub",
          "Kirk Cousins",
          "Alex Smith",
          "Ben Roethlisberger",
          "Steve McNair",
          "Philip Rivers",
          "Tom Brady",
          "Drew Brees",
          "Philip Rivers",
          "Carson Palmer",
          "Brett Favre",
          "Tom Brady",
          "Andy Dalton",
          "Peyton Manning",
          "Donovan McNabb",
          "Jay Cutler",
          "Nick Foles",
          "Brock Osweiler",
          "Tyrod Taylor",
          "Brock Osweiler",
          "Donovan McNabb",
          "Chad Pennington",
          "Sam Bradford",
          "Mark Sanchez",
          "Mark Brunell",
          "Aaron Rodgers",
          "Teddy Bridgewater",
          "Tom Brady",
          "Tony Romo",
          "Kevin Kolb",
          "Brett Favre",
          "Case Keenum",
          "Colin Kaepernick",
          "Blake Bortles",
          "Drew Brees",
          "Kevin Kolb",
          "Drew Brees",
          "Matt Hasselbeck",
          "Kurt Warner",
          "Tom Brady",
          "Tyrod Taylor",
          "Mike Glennon",
          "Carson Palmer",
          "Nick Foles",
          "Matt Cassel",
          "Ryan Fitzpatrick",
          "Jake Plummer",
          "Ryan Fitzpatrick",
          "Ben Roethlisberger",
          "Drew Bledsoe",
          "Baker Mayfield",
          "Matt Schaub",
          "Carson Palmer",
          "Derek Anderson",
          "Jameis Winston",
          "Alex Smith",
          "Kyle Orton",
          "Teddy Bridgewater",
          "Michael Vick",
          "Jay Cutler",
          "Andy Dalton",
          "Ryan Fitzpatrick",
          "Steve McNair",
          "Drew Bledsoe",
          "Kurt Warner",
          "Kurt Warner",
          "Marcus Mariota",
          "Donovan McNabb",
          "Case Keenum",
          "Matt Cassel",
          "Josh McCown",
          "Brian Hoyer",
          "Brian Hoyer",
          "Josh McCown",
          "Jason Campbell",
          "Mitchell Trubisky",
          "Chad Pennington",
          "Alex Smith",
          "Josh McCown",
          "Tyrod Taylor",
          "Jameis Winston",
          "Chad Henne",
          "Ryan Fitzpatrick",
          "Derek Anderson",
          "Ryan Fitzpatrick",
          "Kyle Orton",
          "Jason Campbell",
          "Matt Moore",
          "Josh Freeman",
          "Jacoby Brissett",
          "Kyle Orton",
          "Joe Flacco",
          "Geno Smith",
          "Tim Couch",
          "Luke McCown",
          "Shaun Hill",
          "Brian Hoyer",
          "Cam Newton",
          "Chase Daniel",
          "Tyrod Taylor",
          "Luke McCown",
          "Luke McCown",
          "Josh Freeman",
          "Josh Freeman",
          "Josh Freeman",
          "Garrett Gilbert",
          "Brandon Allen",
          "Garrett Gilbert",
          "Brandon Allen",
          "Nathan Peterman"
         ],
         "legendgroup": "Vet starter",
         "marker": {
          "color": "rgb(76,114,176)",
          "symbol": "circle"
         },
         "mode": "markers",
         "name": "Vet starter",
         "orientation": "v",
         "showlegend": true,
         "type": "scatter",
         "x": [
          2022,
          2021,
          2022,
          2020,
          2022,
          2022,
          2021,
          2020,
          2022,
          2005,
          2018,
          2019,
          2019,
          2013,
          2019,
          2004,
          2001,
          2019,
          2018,
          2013,
          2022,
          2020,
          2012,
          2013,
          2004,
          2012,
          2020,
          2016,
          2018,
          2001,
          2016,
          2018,
          2015,
          2015,
          2017,
          2011,
          2020,
          2019,
          2015,
          2013,
          2015,
          2015,
          2017,
          2014,
          2016,
          2018,
          2010,
          2021,
          2014,
          2016,
          2015,
          2011,
          2018,
          2009,
          2016,
          2004,
          2012,
          2016,
          2014,
          2008,
          2001,
          2020,
          2020,
          2020,
          2009,
          2014,
          2010,
          2019,
          2014,
          2015,
          2002,
          2009,
          2019,
          2016,
          2016,
          2016,
          2010,
          2004,
          2018,
          2012,
          2001,
          2008,
          2020,
          2002,
          2007,
          2011,
          2009,
          2018,
          2016,
          2018,
          2006,
          2010,
          2005,
          2005,
          2009,
          2013,
          2017,
          2017,
          2011,
          2015,
          2009,
          2011,
          2003,
          2016,
          2021,
          2004,
          2022,
          2007,
          2013,
          2008,
          2022,
          2012,
          2010,
          2021,
          2013,
          2017,
          2021,
          2021,
          2006,
          2005,
          2006,
          2005,
          2022,
          2011,
          2019,
          2014,
          2014,
          2015,
          2017,
          2017,
          2010,
          2022,
          2008,
          2011,
          2015,
          2021,
          2021,
          2014,
          2019,
          2010,
          2014,
          2008,
          2010,
          2010,
          2013,
          2022,
          2010,
          2022,
          2022,
          2004,
          2011,
          2014,
          2017,
          2020,
          2012,
          2015,
          2015,
          2014,
          2015,
          2015,
          2015,
          2021,
          2020,
          2021,
          2020,
          2018
         ],
         "xaxis": "x",
         "y": [
          50.271667,
          43,
          49,
          45,
          46.1,
          46,
          40,
          39,
          40.47416,
          16.166667,
          33.5,
          35,
          34,
          22,
          33.5,
          14,
          11.514286,
          32,
          30,
          20.75,
          35,
          33,
          20,
          20.1,
          13,
          19.2,
          31.409,
          24.594,
          28,
          10.6,
          24.25,
          27.5,
          21.9,
          21.85,
          25.005,
          18,
          29.5,
          27.975,
          21,
          18,
          20.8125,
          20.76,
          23.9436,
          19,
          22.133333,
          25,
          18,
          25,
          18.1,
          21,
          19.25,
          16,
          23.5,
          16.25,
          20.5,
          10.541668,
          15.5,
          19.953,
          17,
          14.664417,
          8.5085,
          25,
          25,
          25,
          15.3,
          16.5,
          16,
          23,
          16,
          17,
          8.398529,
          14.45625,
          22,
          18,
          18,
          18,
          14.85,
          9.171143,
          20,
          13.491667,
          7.5,
          12.704,
          21,
          7.40625,
          11.25,
          12.4216,
          12.5,
          18,
          15.6,
          17.4835,
          10,
          12.222,
          8.078,
          8,
          11.5,
          11.4,
          15.25,
          15,
          10.75,
          12.25,
          10.5,
          9.833333,
          5.833532,
          12,
          14,
          6.166667,
          15.358,
          8,
          8.5,
          8,
          14,
          8,
          8.379,
          11.5,
          7.5,
          10,
          10,
          10,
          5.5,
          4.5,
          5,
          4,
          9.375,
          5.05,
          7.5,
          5.25,
          5,
          5.25,
          6,
          6,
          4.6,
          7.4125,
          4,
          4,
          4.666667,
          5.5,
          5.5,
          4,
          5.5,
          3.625,
          3.625,
          3,
          3.14325,
          3.043,
          2.833334,
          4.65,
          2.621,
          3.5,
          3.5,
          1.25,
          1.8,
          1.75,
          1.605,
          1.75,
          1,
          1.116667,
          1.05,
          0.92,
          0.765,
          0.7525,
          0.745,
          0.92,
          0.825,
          0.252,
          0.204,
          0.1292
         ],
         "yaxis": "y"
        },
        {
         "customdata": [
          [
           "Tom Brady",
           12,
           0.14
          ],
          [
           "Sam Bradford",
           17.5,
           0.113
          ],
          [
           "Donovan McNabb",
           12.1,
           0.098
          ],
          [
           "Nick Foles",
           14.5,
           0.08199999999999999
          ],
          [
           "Josh McCown",
           10,
           0.055999999999999994
          ],
          [
           "Matt Hasselbeck",
           6.666667,
           0.055
          ],
          [
           "Matt Flynn",
           6.5,
           0.054000000000000006
          ],
          [
           "Taysom Hill",
           10.5,
           0.053
          ],
          [
           "Charlie Whitehurst",
           6.824,
           0.053
          ],
          [
           "Matt Schaub",
           6.75,
           0.051
          ],
          [
           "Matt Flynn",
           5.75,
           0.047
          ],
          [
           "Cam Newton",
           8.25,
           0.045
          ],
          [
           "Chase Daniel",
           7,
           0.045
          ],
          [
           "Chad Pennington",
           5.75,
           0.045
          ],
          [
           "Marcus Mariota",
           8.8,
           0.044000000000000004
          ],
          [
           "Kyle Orton",
           5.5,
           0.040999999999999995
          ],
          [
           "Nick Foles",
           8,
           0.04
          ],
          [
           "Teddy Bridgewater",
           7.25,
           0.039
          ],
          [
           "Kurt Warner",
           3,
           0.037000000000000005
          ],
          [
           "Ryan Tannehill",
           7,
           0.037000000000000005
          ],
          [
           "Teddy Bridgewater",
           6,
           0.034
          ],
          [
           "Jimmy Garoppolo",
           7,
           0.034
          ],
          [
           "Nick Foles",
           5.5,
           0.033
          ],
          [
           "Matt Moore",
           4,
           0.033
          ],
          [
           "Mark Sanchez",
           4.5,
           0.031
          ],
          [
           "Teddy Bridgewater",
           6.5,
           0.031
          ],
          [
           "Luke McCown",
           3.75,
           0.03
          ],
          [
           "Case Keenum",
           6,
           0.03
          ],
          [
           "Matt Cassel",
           3.7,
           0.03
          ],
          [
           "Michael Vick",
           4,
           0.03
          ],
          [
           "Matt Hasselbeck",
           3.625,
           0.028999999999999998
          ],
          [
           "Tony Romo",
           3,
           0.028999999999999998
          ],
          [
           "Josh McCown",
           3,
           0.028999999999999998
          ],
          [
           "Tyrod Taylor",
           5.5,
           0.028999999999999998
          ],
          [
           "Kyle Orton",
           3.5,
           0.028999999999999998
          ],
          [
           "Jason Campbell",
           3.5,
           0.028999999999999998
          ],
          [
           "David Carr",
           3.1,
           0.027999999999999997
          ],
          [
           "Chase Daniel",
           5,
           0.027999999999999997
          ],
          [
           "Chad Henne",
           3.375,
           0.027999999999999997
          ],
          [
           "Michael Vick",
           3.4375,
           0.027999999999999997
          ],
          [
           "Cam Newton",
           5.1,
           0.027999999999999997
          ],
          [
           "Shaun Hill",
           3.586667,
           0.027999999999999997
          ],
          [
           "Jacoby Brissett",
           5,
           0.027000000000000003
          ],
          [
           "Nick Foles",
           4.25,
           0.027000000000000003
          ],
          [
           "Mason Rudolph",
           4.985199,
           0.027000000000000003
          ],
          [
           "Chase Daniel",
           3.333333,
           0.027000000000000003
          ],
          [
           "Josh McCown",
           3.125,
           0.027000000000000003
          ],
          [
           "Ryan Fitzpatrick",
           3.25,
           0.026000000000000002
          ],
          [
           "Alex Smith",
           3.25,
           0.026000000000000002
          ],
          [
           "Tyrod Taylor",
           5.5,
           0.026000000000000002
          ],
          [
           "Chad Henne",
           4,
           0.026000000000000002
          ],
          [
           "Ryan Mallett",
           3.5,
           0.024
          ],
          [
           "David Carr",
           3.125,
           0.024
          ],
          [
           "Matt Schaub",
           4,
           0.024
          ],
          [
           "Shaun Hill",
           2.75,
           0.023
          ],
          [
           "Shaun Hill",
           3.25,
           0.023
          ],
          [
           "Mike Glennon",
           4,
           0.023
          ],
          [
           "Ryan Fitzpatrick",
           2.75,
           0.022000000000000002
          ],
          [
           "Chase Daniel",
           4.35,
           0.022000000000000002
          ],
          [
           "Brian Hoyer",
           4,
           0.021
          ],
          [
           "Chad Henne",
           3.5,
           0.021
          ],
          [
           "Matt Hasselbeck",
           3,
           0.021
          ],
          [
           "Drew Stanton",
           3.25,
           0.021
          ],
          [
           "Matt Moore",
           2.5125,
           0.021
          ],
          [
           "Colt McCoy",
           3,
           0.019
          ],
          [
           "Marcus Mariota",
           3.5,
           0.019
          ],
          [
           "Joe Flacco",
           3.5,
           0.019
          ],
          [
           "Chad Henne",
           3.35,
           0.019
          ],
          [
           "Ryan Fitzpatrick",
           3.3,
           0.019
          ],
          [
           "Mark Brunell",
           2,
           0.018000000000000002
          ],
          [
           "Colt McCoy",
           3.25,
           0.018000000000000002
          ],
          [
           "Drew Stanton",
           3.25,
           0.018000000000000002
          ],
          [
           "Matt Moore",
           2.6,
           0.018000000000000002
          ],
          [
           "Ryan Fitzpatrick",
           3,
           0.018000000000000002
          ],
          [
           "Shaun Hill",
           2,
           0.017
          ],
          [
           "David Carr",
           2.1,
           0.017
          ],
          [
           "Mark Sanchez",
           2.25,
           0.017
          ],
          [
           "Case Keenum",
           3.5,
           0.017
          ],
          [
           "Josh McCown",
           1.43,
           0.017
          ],
          [
           "Brian Hoyer",
           2.023,
           0.016
          ],
          [
           "Nate Sudfeld",
           3.095,
           0.016
          ],
          [
           "Brian Hoyer",
           1.927,
           0.016
          ],
          [
           "Matt Cassel",
           2.625,
           0.016
          ],
          [
           "Christian Ponder",
           2.25,
           0.016
          ],
          [
           "Derek Anderson",
           2.25,
           0.016
          ],
          [
           "Colt McCoy",
           3.25,
           0.016
          ],
          [
           "Mark Brunell",
           1.8,
           0.016
          ],
          [
           "Jason Campbell",
           1.875,
           0.015
          ],
          [
           "Andy Dalton",
           3,
           0.015
          ],
          [
           "Charlie Whitehurst",
           2,
           0.015
          ],
          [
           "Nick Foles",
           3.1,
           0.015
          ],
          [
           "Austin Davis",
           2.086765,
           0.015
          ],
          [
           "Andy Dalton",
           3,
           0.013999999999999999
          ],
          [
           "Charlie Whitehurst",
           2,
           0.013999999999999999
          ],
          [
           "Blaine Gabbert",
           2,
           0.013999999999999999
          ],
          [
           "Matt Schaub",
           2,
           0.013999999999999999
          ],
          [
           "Matt Cassel",
           2,
           0.013999999999999999
          ],
          [
           "Charlie Whitehurst",
           2,
           0.013999999999999999
          ],
          [
           "Mitchell Trubisky",
           2.5,
           0.013999999999999999
          ],
          [
           "C.J. Beathard",
           2.5,
           0.013999999999999999
          ],
          [
           "Rob Johnson",
           1,
           0.013000000000000001
          ],
          [
           "Landry Jones",
           2.2,
           0.013000000000000001
          ],
          [
           "Tim Boyle",
           2.4,
           0.013000000000000001
          ],
          [
           "Taylor Heinicke",
           2.375,
           0.013000000000000001
          ],
          [
           "Matt Cassel",
           2,
           0.013000000000000001
          ],
          [
           "Brandon Weeden",
           2,
           0.013000000000000001
          ],
          [
           "Brian Hoyer",
           2,
           0.013000000000000001
          ],
          [
           "Mark Sanchez",
           2,
           0.013000000000000001
          ],
          [
           "Charlie Whitehurst",
           1.525,
           0.013000000000000001
          ],
          [
           "Jeff Driskel",
           2.5,
           0.013000000000000001
          ],
          [
           "Mike White",
           2.54,
           0.012
          ],
          [
           "Kyle Allen",
           2.5,
           0.012
          ],
          [
           "Matt Barkley",
           2,
           0.012
          ],
          [
           "Case Keenum",
           2,
           0.012
          ],
          [
           "Mark Sanchez",
           2,
           0.012
          ],
          [
           "Ryan Mallett",
           2,
           0.012
          ],
          [
           "Mark Brunell",
           1.5,
           0.012
          ],
          [
           "Matt Moore",
           1.775,
           0.011000000000000001
          ],
          [
           "Colt McCoy",
           2.25,
           0.011000000000000001
          ],
          [
           "Matt Barkley",
           2,
           0.011000000000000001
          ],
          [
           "Blaine Gabbert",
           2,
           0.011000000000000001
          ],
          [
           "Jason Campbell",
           1.5,
           0.011000000000000001
          ],
          [
           "Matt Schaub",
           1.75,
           0.011000000000000001
          ],
          [
           "Scott Tolzien",
           1.75,
           0.011000000000000001
          ],
          [
           "Tony Romo",
           0.94,
           0.011000000000000001
          ],
          [
           "Blaine Gabbert",
           2,
           0.011000000000000001
          ],
          [
           "Blaine Gabbert",
           2.25,
           0.011000000000000001
          ],
          [
           "Austin Davis",
           1.542,
           0.011000000000000001
          ],
          [
           "Nathan Peterman",
           2.133,
           0.011000000000000001
          ],
          [
           "Cooper Rush",
           2.133,
           0.011000000000000001
          ],
          [
           "Ryan Griffin",
           1.797,
           0.011000000000000001
          ],
          [
           "Trevor Siemian",
           2,
           0.011000000000000001
          ],
          [
           "Josh McCown",
           2,
           0.011000000000000001
          ],
          [
           "Colt McCoy",
           1.5,
           0.01
          ],
          [
           "Tarvaris Jackson",
           1.5,
           0.01
          ],
          [
           "Drew Stanton",
           1.25,
           0.01
          ],
          [
           "Mike Glennon",
           1.95,
           0.01
          ],
          [
           "Nate Sudfeld",
           2,
           0.01
          ],
          [
           "Matt Schaub",
           1.89,
           0.01
          ],
          [
           "Brett Hundley",
           1.875,
           0.01
          ],
          [
           "Kevin Kolb",
           1.0825,
           0.01
          ],
          [
           "Luke McCown",
           1.5,
           0.01
          ],
          [
           "Derek Anderson",
           1.282,
           0.01
          ],
          [
           "Chase Daniel",
           2,
           0.01
          ],
          [
           "Trevor Siemian",
           2,
           0.01
          ],
          [
           "Nick Mullens",
           2,
           0.01
          ],
          [
           "Nate Sudfeld",
           2,
           0.01
          ],
          [
           "Tim Boyle",
           2,
           0.01
          ],
          [
           "Brian Hoyer",
           2,
           0.01
          ],
          [
           "Chad Henne",
           2,
           0.01
          ],
          [
           "Jeff Driskel",
           1.75,
           0.01
          ],
          [
           "Rob Johnson",
           0.675,
           0.009000000000000001
          ],
          [
           "Matt Barkley",
           1.675,
           0.009000000000000001
          ],
          [
           "Charlie Whitehurst",
           1.176,
           0.009000000000000001
          ],
          [
           "Josh Johnson",
           1.0575,
           0.009000000000000001
          ],
          [
           "Rob Johnson",
           0.655,
           0.009000000000000001
          ],
          [
           "David Carr",
           1,
           0.009000000000000001
          ],
          [
           "Nate Sudfeld",
           1.7,
           0.009000000000000001
          ],
          [
           "Blaine Gabbert",
           1.6,
           0.009000000000000001
          ],
          [
           "Tom Savage",
           1.5,
           0.008
          ],
          [
           "Brandon Allen",
           1.5,
           0.008
          ],
          [
           "David Carr",
           0.99,
           0.008
          ],
          [
           "Chad Henne",
           1.625,
           0.008
          ],
          [
           "Austin Davis",
           1.25,
           0.008
          ],
          [
           "Ryan Fitzpatrick",
           0.927,
           0.008
          ],
          [
           "Mark Brunell",
           0.96,
           0.008
          ],
          [
           "Jimmy Clausen",
           1.125,
           0.008
          ],
          [
           "Ryan Mallett",
           1.1225,
           0.008
          ],
          [
           "Ryan Griffin",
           1.45,
           0.008
          ],
          [
           "Josh Johnson",
           0.9475,
           0.008
          ],
          [
           "Shaun Hill",
           0.656,
           0.008
          ],
          [
           "Ryan Griffin",
           1.275,
           0.008
          ],
          [
           "Joe Flacco",
           1.5,
           0.008
          ],
          [
           "Jeff Garcia",
           0.91,
           0.008
          ],
          [
           "Mike Glennon",
           1.375,
           0.008
          ],
          [
           "Drew Stanton",
           0.9,
           0.006999999999999999
          ],
          [
           "Derek Anderson",
           0.89,
           0.006999999999999999
          ],
          [
           "Derek Anderson",
           0.905,
           0.006999999999999999
          ],
          [
           "Matt Flynn",
           0.896875,
           0.006999999999999999
          ],
          [
           "Josh McCown",
           0.875,
           0.006999999999999999
          ],
          [
           "Brandon Allen",
           1.5,
           0.006999999999999999
          ],
          [
           "Geno Smith",
           1.2,
           0.006999999999999999
          ],
          [
           "David Carr",
           0.86,
           0.006999999999999999
          ],
          [
           "Josh McCown",
           0.865,
           0.006999999999999999
          ],
          [
           "Dan Orlovsky",
           1.065,
           0.006999999999999999
          ],
          [
           "Josh McCown",
           0.825,
           0.006999999999999999
          ],
          [
           "Luke McCown",
           0.825,
           0.006999999999999999
          ],
          [
           "Michael Vick",
           0.97,
           0.006999999999999999
          ],
          [
           "Josh McCown",
           0.81,
           0.006999999999999999
          ],
          [
           "Luke McCown",
           0.825,
           0.006999999999999999
          ],
          [
           "Geno Smith",
           1.2125,
           0.006999999999999999
          ],
          [
           "Colt McCoy",
           1.2125,
           0.006999999999999999
          ],
          [
           "Kellen Clemens",
           1.08,
           0.006
          ],
          [
           "Charlie Whitehurst",
           1,
           0.006
          ],
          [
           "Cooper Rush",
           1.25,
           0.006
          ],
          [
           "Matt Cassel",
           1.105,
           0.006
          ],
          [
           "Sean Mannion",
           1.1275,
           0.006
          ],
          [
           "Derek Anderson",
           0.735,
           0.006
          ],
          [
           "Matt Flynn",
           0.87,
           0.006
          ],
          [
           "Derek Anderson",
           1.07353,
           0.006
          ],
          [
           "Mike Glennon",
           1.1875,
           0.006
          ],
          [
           "Blaine Gabbert",
           1.1875,
           0.006
          ],
          [
           "Matt Moore",
           1.1875,
           0.006
          ],
          [
           "Geno Smith",
           1.1875,
           0.006
          ],
          [
           "Joe Webb",
           0.93,
           0.006
          ],
          [
           "Kellen Clemens",
           1,
           0.006
          ],
          [
           "Brandon Weeden",
           1,
           0.006
          ],
          [
           "Colt McCoy",
           0.795,
           0.006
          ],
          [
           "Matt Barkley",
           1.075,
           0.006
          ],
          [
           "Blake Bortles",
           1.075,
           0.006
          ],
          [
           "Brian Hoyer",
           1.075,
           0.006
          ],
          [
           "Brian Hoyer",
           1.075,
           0.006
          ],
          [
           "Josh Johnson",
           1.075,
           0.006
          ],
          [
           "Chase Daniel",
           1.075,
           0.006
          ],
          [
           "Josh Johnson",
           1.075,
           0.006
          ],
          [
           "Matt Barkley",
           1.075,
           0.006
          ],
          [
           "Josh Johnson",
           1.075,
           0.006
          ],
          [
           "Josh Johnson",
           1.22,
           0.006
          ],
          [
           "Josh Johnson",
           0.975,
           0.006
          ],
          [
           "Josh Johnson",
           0.7,
           0.006
          ],
          [
           "Mike Glennon",
           1.15,
           0.006
          ],
          [
           "Shaun Hill",
           0.59,
           0.006
          ],
          [
           "Brandon Allen",
           1.2,
           0.006
          ],
          [
           "Jeff Driskel",
           1.1875,
           0.006
          ],
          [
           "Joshua Dobbs",
           1.1875,
           0.006
          ],
          [
           "Josh Johnson",
           0.885,
           0.006
          ],
          [
           "Josh Johnson",
           1.005,
           0.006
          ],
          [
           "Joe Webb",
           1.005,
           0.006
          ],
          [
           "Geno Smith",
           1,
           0.006
          ],
          [
           "Nathan Peterman",
           1.025,
           0.006
          ],
          [
           "Alex Tanney",
           1.05,
           0.006
          ],
          [
           "Jameis Winston",
           1.1,
           0.006
          ],
          [
           "David Blough",
           1.15,
           0.006
          ],
          [
           "Matt Moore",
           1.03,
           0.005
          ],
          [
           "Josh Johnson",
           1.03,
           0.005
          ],
          [
           "Josh Johnson",
           0.9075,
           0.005
          ],
          [
           "Brett Hundley",
           0.99,
           0.005
          ],
          [
           "Sean Mannion",
           0.99,
           0.005
          ],
          [
           "Brett Hundley",
           0.99,
           0.005
          ],
          [
           "Jeff Driskel",
           0.99,
           0.005
          ],
          [
           "Nate Sudfeld",
           0.99,
           0.005
          ],
          [
           "Trevor Siemian",
           0.99,
           0.005
          ],
          [
           "Josh Johnson",
           0.9,
           0.005
          ],
          [
           "Chase Daniel",
           0.9,
           0.005
          ],
          [
           "Josh Johnson",
           1.12,
           0.005
          ],
          [
           "Josh McCown",
           1.0625,
           0.005
          ],
          [
           "Cooper Rush",
           0.9775,
           0.005
          ],
          [
           "Nick Mullens",
           0.97,
           0.005
          ],
          [
           "Blake Bortles",
           1,
           0.005
          ],
          [
           "Brian Hoyer",
           1.05,
           0.005
          ],
          [
           "Joe Webb",
           1.05,
           0.005
          ],
          [
           "Brett Hundley",
           1.0475,
           0.005
          ],
          [
           "Sean Mannion",
           1.0475,
           0.005
          ],
          [
           "Josh Johnson",
           0.745,
           0.005
          ],
          [
           "Christian Ponder",
           0.745,
           0.005
          ],
          [
           "Josh Johnson",
           0.745,
           0.005
          ],
          [
           "Josh Johnson",
           0.915,
           0.005
          ],
          [
           "Mark Sanchez",
           0.915,
           0.005
          ],
          [
           "Joe Webb",
           0.915,
           0.005
          ],
          [
           "Garrett Gilbert",
           1.075,
           0.005
          ],
          [
           "Christian Ponder",
           0.8,
           0.005
          ],
          [
           "Austin Davis",
           0.855,
           0.005
          ],
          [
           "Ryan Nassib",
           0.855,
           0.005
          ],
          [
           "T.J. Yates",
           0.855,
           0.005
          ],
          [
           "Blaine Gabbert",
           0.855,
           0.005
          ],
          [
           "Brian Hoyer",
           0.615,
           0.005
          ],
          [
           "Nathan Peterman",
           1,
           0.005
          ],
          [
           "Nick Mullens",
           0.92,
           0.005
          ],
          [
           "Kyle Sloter",
           0.92,
           0.005
          ],
          [
           "Davis Webb",
           0.9075,
           0.005
          ],
          [
           "Trace McSorley",
           0.9075,
           0.005
          ],
          [
           "Joshua Dobbs",
           1.035,
           0.005
          ],
          [
           "Jeff Driskel",
           1.035,
           0.005
          ],
          [
           "Nathan Peterman",
           1.035,
           0.005
          ],
          [
           "Nate Sudfeld",
           1.035,
           0.005
          ],
          [
           "Cooper Rush",
           1.035,
           0.005
          ],
          [
           "Nathan Peterman",
           1.035,
           0.005
          ],
          [
           "Tim Boyle",
           1.035,
           0.005
          ],
          [
           "Austin Davis",
           0.88,
           0.005
          ],
          [
           "Brock Osweiler",
           0.88,
           0.005
          ],
          [
           "David Fales",
           0.88,
           0.005
          ],
          [
           "Will Grier",
           1.0225,
           0.005
          ],
          [
           "T.J. Yates",
           0.76,
           0.005
          ],
          [
           "Ricky Stanzi",
           0.6,
           0.005
          ],
          [
           "Alex Tanney",
           0.9125,
           0.005
          ],
          [
           "Cody Kessler",
           0.91215,
           0.005
          ],
          [
           "Tyler Bray",
           0.955,
           0.005
          ],
          [
           "E.J. Manuel",
           0.8,
           0.005
          ],
          [
           "Geno Smith",
           0.895,
           0.005
          ],
          [
           "Sean Mannion",
           0.895,
           0.005
          ],
          [
           "Ryan Lindley",
           0.6675,
           0.005
          ],
          [
           "Kyle Allen",
           0.85,
           0.005
          ],
          [
           "Dwayne Haskins",
           0.85,
           0.005
          ],
          [
           "Brett Rypien",
           0.85,
           0.005
          ],
          [
           "Josh Rosen",
           0.85,
           0.005
          ],
          [
           "Mike White",
           0.85,
           0.005
          ],
          [
           "Josh Rosen",
           0.85,
           0.005
          ],
          [
           "T.J. Yates",
           0.775,
           0.005
          ],
          [
           "Matt Barkley",
           0.775,
           0.005
          ],
          [
           "Brock Osweiler",
           0.775,
           0.005
          ],
          [
           "Kellen Moore",
           0.775,
           0.005
          ],
          [
           "Kellen Moore",
           0.775,
           0.005
          ],
          [
           "Ryan Nassib",
           0.775,
           0.005
          ],
          [
           "David Blough",
           0.965,
           0.005
          ],
          [
           "Brett Rypien",
           0.965,
           0.005
          ],
          [
           "Trace McSorley",
           0.965,
           0.005
          ],
          [
           "Brandon Weeden",
           0.615,
           0.005
          ],
          [
           "Geno Smith",
           0.87,
           0.005
          ],
          [
           "Ryan Lindley",
           0.66,
           0.005
          ],
          [
           "Austin Davis",
           0.66,
           0.005
          ],
          [
           "Blake Bortles",
           0.91,
           0.005
          ],
          [
           "Trevor Siemian",
           0.91,
           0.005
          ],
          [
           "Taylor Heinicke",
           0.91,
           0.005
          ],
          [
           "Trevor Siemian",
           0.91,
           0.005
          ],
          [
           "Blake Bortles",
           0.91,
           0.005
          ],
          [
           "Kyle Lauletta",
           0.8375,
           0.005
          ],
          [
           "Logan Woodside",
           0.9525,
           0.005
          ],
          [
           "Davis Webb",
           0.945,
           0.005
          ],
          [
           "Matt Barkley",
           0.79,
           0.004
          ],
          [
           "Brandon Weeden",
           0.79,
           0.004
          ],
          [
           "Austin Davis",
           0.79,
           0.004
          ],
          [
           "Landry Jones",
           0.79,
           0.004
          ],
          [
           "Tyler Bray",
           0.8264,
           0.004
          ],
          [
           "Matt Barkley",
           0.675,
           0.004
          ],
          [
           "Phillip Walker",
           0.895,
           0.004
          ],
          [
           "Logan Woodside",
           0.895,
           0.004
          ],
          [
           "John Wolford",
           0.895,
           0.004
          ],
          [
           "Tyler Huntley",
           0.895,
           0.004
          ],
          [
           "Chris Streveler",
           0.895,
           0.004
          ],
          [
           "Ryan Lindley",
           0.57,
           0.004
          ],
          [
           "Austin Davis",
           0.57,
           0.004
          ],
          [
           "David Fales",
           0.805,
           0.004
          ],
          [
           "David Fales",
           0.805,
           0.004
          ],
          [
           "Tyler Bray",
           0.805,
           0.004
          ],
          [
           "David Fales",
           0.805,
           0.004
          ],
          [
           "Tyler Huntley",
           0.78,
           0.004
          ],
          [
           "Kyle Lauletta",
           0.78,
           0.004
          ],
          [
           "Jake Luton",
           0.78,
           0.004
          ],
          [
           "Jake Fromm",
           0.78,
           0.004
          ],
          [
           "Garrett Gilbert",
           0.835,
           0.004
          ],
          [
           "Cody Kessler",
           0.7825,
           0.004
          ],
          [
           "David Fales",
           0.69,
           0.004
          ],
          [
           "Cody Kessler",
           0.77,
           0.004
          ],
          [
           "Case Keenum",
           0.585,
           0.004
          ],
          [
           "Case Keenum",
           0.585,
           0.004
          ],
          [
           "Bryce Perkins",
           0.7425,
           0.004
          ],
          [
           "Reid Sinnett",
           0.7425,
           0.004
          ],
          [
           "Reid Sinnett",
           0.7425,
           0.004
          ],
          [
           "Reid Sinnett",
           0.7425,
           0.004
          ],
          [
           "Chandler Harnish",
           0.54,
           0.004
          ],
          [
           "Chandler Harnish",
           0.54,
           0.004
          ],
          [
           "Tom Savage",
           0.705,
           0.004
          ],
          [
           "Tom Savage",
           0.705,
           0.004
          ],
          [
           "Taylor Heinicke",
           0.66,
           0.004
          ],
          [
           "Phillip Walker",
           0.7825,
           0.004
          ],
          [
           "Austin Davis",
           0.48,
           0.004
          ],
          [
           "David Fales",
           0.555,
           0.004
          ],
          [
           "Brad Sorensen",
           0.555,
           0.004
          ],
          [
           "David Fales",
           0.555,
           0.004
          ],
          [
           "David Fales",
           0.6,
           0.004
          ],
          [
           "Mike White",
           0.7625,
           0.004
          ],
          [
           "David Blough",
           0.7625,
           0.004
          ],
          [
           "Brett Rypien",
           0.7625,
           0.004
          ],
          [
           "Kyle Sloter",
           0.715,
           0.004
          ],
          [
           "Nick Mullens",
           0.75,
           0.004
          ],
          [
           "Josh Rosen",
           0.75,
           0.004
          ],
          [
           "Jake Rudock",
           0.75,
           0.004
          ],
          [
           "Alex Tanney",
           0.585,
           0.004
          ],
          [
           "Case Keenum",
           0.495,
           0.004
          ],
          [
           "Paxton Lynch",
           0.69,
           0.004
          ],
          [
           "Garrett Gilbert",
           0.69,
           0.004
          ],
          [
           "Case Keenum",
           0.45,
           0.004
          ],
          [
           "Kyle Shurmur",
           0.66,
           0.004
          ],
          [
           "Kurt Benkert",
           0.66,
           0.004
          ],
          [
           "Brad Sorensen",
           0.51,
           0.004
          ],
          [
           "Kevin Hogan",
           0.63,
           0.004
          ],
          [
           "Kevin Hogan",
           0.63,
           0.004
          ],
          [
           "Nate Sudfeld",
           0.585,
           0.004
          ],
          [
           "Brandon Allen",
           0.645,
           0.003
          ],
          [
           "Paxton Lynch",
           0.645,
           0.003
          ],
          [
           "Brandon Allen",
           0.645,
           0.003
          ],
          [
           "Jeff Driskel",
           0.645,
           0.003
          ],
          [
           "Mike White",
           0.675,
           0.003
          ],
          [
           "Mike White",
           0.675,
           0.003
          ],
          [
           "Alex McGough",
           0.64,
           0.003
          ],
          [
           "Zac Dysert",
           0.525,
           0.003
          ],
          [
           "Zac Dysert",
           0.525,
           0.003
          ],
          [
           "Keith Wenning",
           0.48,
           0.003
          ],
          [
           "Jake Rudock",
           0.66,
           0.003
          ],
          [
           "Chad Kelly",
           0.615,
           0.003
          ],
          [
           "Nate Sudfeld",
           0.540005,
           0.003
          ],
          [
           "Joe Callahan",
           0.54,
           0.003
          ],
          [
           "Brett Rypien",
           0.63,
           0.003
          ],
          [
           "John Wolford",
           0.63,
           0.003
          ],
          [
           "Mike White",
           0.63,
           0.003
          ],
          [
           "Davis Webb",
           0.555,
           0.003
          ],
          [
           "Alex Tanney",
           0.555,
           0.003
          ],
          [
           "Garrett Gilbert",
           0.555,
           0.003
          ],
          [
           "Davis Webb",
           0.554999,
           0.003
          ],
          [
           "Garrett Gilbert",
           0.51,
           0.003
          ],
          [
           "Keith Wenning",
           0.435,
           0.003
          ],
          [
           "Keith Wenning",
           0.435,
           0.003
          ],
          [
           "Luke Falk",
           0.57,
           0.003
          ],
          [
           "Chad Kelly",
           0.57,
           0.003
          ],
          [
           "Nick Mullens",
           0.525,
           0.003
          ],
          [
           "Kyle Allen",
           0.585,
           0.003
          ],
          [
           "Clayton Thorson",
           0.58,
           0.003
          ],
          [
           "Alex McGough",
           0.54,
           0.003
          ],
          [
           "Logan Woodside",
           0.555,
           0.003
          ],
          [
           "Garrett Gilbert",
           0.465,
           0.003
          ],
          [
           "Alex McGough",
           0.495006,
           0.003
          ],
          [
           "Danny Etling",
           0.495,
           0.003
          ],
          [
           "Danny Etling",
           0.495,
           0.003
          ],
          [
           "Danny Etling",
           0.495,
           0.003
          ],
          [
           "Jeff Driskel",
           0.471,
           0.002
          ],
          [
           "Will Grier",
           0.459333,
           0.002
          ],
          [
           "Jeff Driskel",
           0.4334,
           0.002
          ],
          [
           "Jeff Driskel",
           0.375,
           0.002
          ],
          [
           "Will Grier",
           0.425622,
           0.002
          ],
          [
           "Jeff Driskel",
           0.3958,
           0.002
          ],
          [
           "Cooper Rush",
           0.3958,
           0.002
          ],
          [
           "Nathan Peterman",
           0.3958,
           0.002
          ],
          [
           "Will Grier",
           0.391911,
           0.002
          ],
          [
           "Josh Johnson",
           0.343444,
           0.002
          ],
          [
           "Sean Mannion",
           0.334,
           0.002
          ],
          [
           "Alex McGough",
           0.34,
           0.002
          ],
          [
           "Brett Hundley",
           0.32,
           0.002
          ],
          [
           "Will Grier",
           0.3582,
           0.002
          ],
          [
           "Jeff Driskel",
           0.3582,
           0.002
          ],
          [
           "Joshua Dobbs",
           0.3582,
           0.002
          ],
          [
           "David Blough",
           0.3582,
           0.002
          ],
          [
           "Nathan Peterman",
           0.3582,
           0.002
          ],
          [
           "Cooper Rush",
           0.3582,
           0.002
          ],
          [
           "Brian Hoyer",
           0.297722,
           0.002
          ],
          [
           "Josh Johnson",
           0.297722,
           0.002
          ],
          [
           "Tyler Bray",
           0.323316,
           0.002
          ],
          [
           "Brett Hundley",
           0.293,
           0.002
          ],
          [
           "Sean Mannion",
           0.293,
           0.002
          ],
          [
           "Josh Johnson",
           0.334222,
           0.002
          ],
          [
           "Nick Mullens",
           0.289111,
           0.002
          ],
          [
           "Matt Barkley",
           0.2448,
           0.002
          ],
          [
           "Chris Streveler",
           0.321666,
           0.002
          ],
          [
           "Davis Webb",
           0.321666,
           0.002
          ],
          [
           "Taylor Heinicke",
           0.255,
           0.002
          ],
          [
           "David Fales",
           0.2125,
           0.001
          ],
          [
           "Garrett Gilbert",
           0.2998,
           0.001
          ],
          [
           "Nate Sudfeld",
           0.2572,
           0.001
          ],
          [
           "Tyler Bray",
           0.278187,
           0.001
          ],
          [
           "Josh Johnson",
           0.288,
           0.001
          ],
          [
           "Jeff Driskel",
           0.252,
           0.001
          ],
          [
           "Blake Bortles",
           0.252,
           0.001
          ],
          [
           "Nathan Peterman",
           0.252,
           0.001
          ],
          [
           "Blake Bortles",
           0.252,
           0.001
          ],
          [
           "Josh Johnson",
           0.252,
           0.001
          ],
          [
           "Brian Hoyer",
           0.252,
           0.001
          ],
          [
           "Sean Mannion",
           0.252,
           0.001
          ],
          [
           "Nick Mullens",
           0.252,
           0.001
          ],
          [
           "Brett Hundley",
           0.252,
           0.001
          ],
          [
           "Matt Barkley",
           0.252,
           0.001
          ],
          [
           "Brett Hundley",
           0.252,
           0.001
          ],
          [
           "Davis Webb",
           0.283444,
           0.001
          ],
          [
           "Logan Woodside",
           0.283444,
           0.001
          ],
          [
           "Chris Streveler",
           0.283444,
           0.001
          ],
          [
           "Garrett Gilbert",
           0.2772,
           0.001
          ],
          [
           "Mike Glennon",
           0.2772,
           0.001
          ],
          [
           "Mike Glennon",
           0.2772,
           0.001
          ],
          [
           "Tim Boyle",
           0.2772,
           0.001
          ],
          [
           "Garrett Gilbert",
           0.2772,
           0.001
          ],
          [
           "Matt Moore",
           0.253765,
           0.001
          ],
          [
           "Chris Streveler",
           0.245222,
           0.001
          ],
          [
           "Logan Woodside",
           0.245222,
           0.001
          ],
          [
           "Davis Webb",
           0.245222,
           0.001
          ],
          [
           "Nate Sudfeld",
           0.2114,
           0.001
          ],
          [
           "Jake Luton",
           0.206266,
           0.001
          ],
          [
           "Tyler Bray",
           0.2125,
           0.001
          ],
          [
           "Trace McSorley",
           0.203622,
           0.001
          ],
          [
           "Davis Webb",
           0.203622,
           0.001
          ],
          [
           "David Fales",
           0.17,
           0.001
          ],
          [
           "Luke Falk",
           0.204,
           0.001
          ],
          [
           "Josh McCown",
           0.204,
           0.001
          ],
          [
           "Cooper Rush",
           0.204,
           0.001
          ],
          [
           "Cooper Rush",
           0.204,
           0.001
          ],
          [
           "Trevor Siemian",
           0.204,
           0.001
          ],
          [
           "Joe Webb",
           0.204,
           0.001
          ],
          [
           "Kevin Hogan",
           0.204,
           0.001
          ],
          [
           "Joe Webb",
           0.204,
           0.001
          ],
          [
           "Taylor Heinicke",
           0.204,
           0.001
          ],
          [
           "Kevin Hogan",
           0.204,
           0.001
          ],
          [
           "Blake Bortles",
           0.204,
           0.001
          ],
          [
           "Mike Glennon",
           0.204,
           0.001
          ],
          [
           "Cooper Rush",
           0.204,
           0.001
          ],
          [
           "Matt Moore",
           0.204,
           0.001
          ],
          [
           "Trevor Siemian",
           0.204,
           0.001
          ],
          [
           "Chris Streveler",
           0.207,
           0.001
          ],
          [
           "Davis Webb",
           0.207,
           0.001
          ],
          [
           "Trace McSorley",
           0.207,
           0.001
          ],
          [
           "Logan Woodside",
           0.207,
           0.001
          ],
          [
           "Nick Mullens",
           0.17,
           0.001
          ],
          [
           "Jake Luton",
           0.172133,
           0.001
          ],
          [
           "Jake Luton",
           0.1656,
           0.001
          ],
          [
           "Kurt Benkert",
           0.1656,
           0.001
          ],
          [
           "Brett Rypien",
           0.1656,
           0.001
          ],
          [
           "Jake Fromm",
           0.1656,
           0.001
          ],
          [
           "Nate Sudfeld",
           0.1656,
           0.001
          ],
          [
           "Kyle Lauletta",
           0.1656,
           0.001
          ],
          [
           "Reid Sinnett",
           0.1656,
           0.001
          ],
          [
           "Trace McSorley",
           0.1656,
           0.001
          ],
          [
           "Jake Luton",
           0.1656,
           0.001
          ],
          [
           "Chris Streveler",
           0.1656,
           0.001
          ],
          [
           "Kyle Shurmur",
           0.1656,
           0.001
          ],
          [
           "Kyle Sloter",
           0.1656,
           0.001
          ],
          [
           "Davis Webb",
           0.1656,
           0.001
          ],
          [
           "Clayton Thorson",
           0.172564,
           0.001
          ],
          [
           "Kurt Benkert",
           0.170282,
           0.001
          ],
          [
           "Mike White",
           0.167988,
           0.001
          ],
          [
           "Austin Davis",
           0.102,
           0.001
          ],
          [
           "Case Keenum",
           0.1071,
           0.001
          ],
          [
           "Chandler Harnish",
           0.1071,
           0.001
          ],
          [
           "Ryan Lindley",
           0.1071,
           0.001
          ],
          [
           "Brad Sorensen",
           0.1122,
           0.001
          ],
          [
           "David Fales",
           0.1122,
           0.001
          ],
          [
           "Keith Wenning",
           0.1122,
           0.001
          ],
          [
           "Brad Sorensen",
           0.1122,
           0.001
          ],
          [
           "Zac Dysert",
           0.1173,
           0.001
          ],
          [
           "Zac Dysert",
           0.1173,
           0.001
          ],
          [
           "Kellen Moore",
           0.1224,
           0.001
          ],
          [
           "Taylor Heinicke",
           0.1224,
           0.001
          ],
          [
           "Garrett Gilbert",
           0.1224,
           0.001
          ],
          [
           "Joe Callahan",
           0.1224,
           0.001
          ],
          [
           "Austin Davis",
           0.1292,
           0.001
          ],
          [
           "Brandon Allen",
           0.1292,
           0.001
          ],
          [
           "Danny Etling",
           0.136,
           0.001
          ],
          [
           "Paxton Lynch",
           0.136,
           0.001
          ],
          [
           "Danny Etling",
           0.136,
           0.001
          ],
          [
           "Kyle Sloter",
           0.136,
           0.001
          ],
          [
           "Mike White",
           0.1428,
           0.001
          ],
          [
           "Garrett Gilbert",
           0.1428,
           0.001
          ],
          [
           "Mike White",
           0.1428,
           0.001
          ],
          [
           "Tyler Bray",
           0.1428,
           0.001
          ],
          [
           "David Blough",
           0.1428,
           0.001
          ],
          [
           "Brett Rypien",
           0.1428,
           0.001
          ],
          [
           "Jake Rudock",
           0.1428,
           0.001
          ],
          [
           "Jake Rudock",
           0.1428,
           0.001
          ],
          [
           "Mike White",
           0.1428,
           0.001
          ],
          [
           "Josh Rosen",
           0.1428,
           0.001
          ],
          [
           "Mike White",
           0.1428,
           0.001
          ],
          [
           "Clayton Thorson",
           0.1428,
           0.001
          ],
          [
           "Mike White",
           0.136682,
           0.001
          ],
          [
           "Matt Barkley",
           0.11,
           0.001
          ]
         ],
         "hovertemplate": "%{customdata[0]}<br>$%{customdata[1]:.2f}M",
         "hovertext": [
          "Tom Brady",
          "Sam Bradford",
          "Donovan McNabb",
          "Nick Foles",
          "Josh McCown",
          "Matt Hasselbeck",
          "Matt Flynn",
          "Taysom Hill",
          "Charlie Whitehurst",
          "Matt Schaub",
          "Matt Flynn",
          "Cam Newton",
          "Chase Daniel",
          "Chad Pennington",
          "Marcus Mariota",
          "Kyle Orton",
          "Nick Foles",
          "Teddy Bridgewater",
          "Kurt Warner",
          "Ryan Tannehill",
          "Teddy Bridgewater",
          "Jimmy Garoppolo",
          "Nick Foles",
          "Matt Moore",
          "Mark Sanchez",
          "Teddy Bridgewater",
          "Luke McCown",
          "Case Keenum",
          "Matt Cassel",
          "Michael Vick",
          "Matt Hasselbeck",
          "Tony Romo",
          "Josh McCown",
          "Tyrod Taylor",
          "Kyle Orton",
          "Jason Campbell",
          "David Carr",
          "Chase Daniel",
          "Chad Henne",
          "Michael Vick",
          "Cam Newton",
          "Shaun Hill",
          "Jacoby Brissett",
          "Nick Foles",
          "Mason Rudolph",
          "Chase Daniel",
          "Josh McCown",
          "Ryan Fitzpatrick",
          "Alex Smith",
          "Tyrod Taylor",
          "Chad Henne",
          "Ryan Mallett",
          "David Carr",
          "Matt Schaub",
          "Shaun Hill",
          "Shaun Hill",
          "Mike Glennon",
          "Ryan Fitzpatrick",
          "Chase Daniel",
          "Brian Hoyer",
          "Chad Henne",
          "Matt Hasselbeck",
          "Drew Stanton",
          "Matt Moore",
          "Colt McCoy",
          "Marcus Mariota",
          "Joe Flacco",
          "Chad Henne",
          "Ryan Fitzpatrick",
          "Mark Brunell",
          "Colt McCoy",
          "Drew Stanton",
          "Matt Moore",
          "Ryan Fitzpatrick",
          "Shaun Hill",
          "David Carr",
          "Mark Sanchez",
          "Case Keenum",
          "Josh McCown",
          "Brian Hoyer",
          "Nate Sudfeld",
          "Brian Hoyer",
          "Matt Cassel",
          "Christian Ponder",
          "Derek Anderson",
          "Colt McCoy",
          "Mark Brunell",
          "Jason Campbell",
          "Andy Dalton",
          "Charlie Whitehurst",
          "Nick Foles",
          "Austin Davis",
          "Andy Dalton",
          "Charlie Whitehurst",
          "Blaine Gabbert",
          "Matt Schaub",
          "Matt Cassel",
          "Charlie Whitehurst",
          "Mitchell Trubisky",
          "C.J. Beathard",
          "Rob Johnson",
          "Landry Jones",
          "Tim Boyle",
          "Taylor Heinicke",
          "Matt Cassel",
          "Brandon Weeden",
          "Brian Hoyer",
          "Mark Sanchez",
          "Charlie Whitehurst",
          "Jeff Driskel",
          "Mike White",
          "Kyle Allen",
          "Matt Barkley",
          "Case Keenum",
          "Mark Sanchez",
          "Ryan Mallett",
          "Mark Brunell",
          "Matt Moore",
          "Colt McCoy",
          "Matt Barkley",
          "Blaine Gabbert",
          "Jason Campbell",
          "Matt Schaub",
          "Scott Tolzien",
          "Tony Romo",
          "Blaine Gabbert",
          "Blaine Gabbert",
          "Austin Davis",
          "Nathan Peterman",
          "Cooper Rush",
          "Ryan Griffin",
          "Trevor Siemian",
          "Josh McCown",
          "Colt McCoy",
          "Tarvaris Jackson",
          "Drew Stanton",
          "Mike Glennon",
          "Nate Sudfeld",
          "Matt Schaub",
          "Brett Hundley",
          "Kevin Kolb",
          "Luke McCown",
          "Derek Anderson",
          "Chase Daniel",
          "Trevor Siemian",
          "Nick Mullens",
          "Nate Sudfeld",
          "Tim Boyle",
          "Brian Hoyer",
          "Chad Henne",
          "Jeff Driskel",
          "Rob Johnson",
          "Matt Barkley",
          "Charlie Whitehurst",
          "Josh Johnson",
          "Rob Johnson",
          "David Carr",
          "Nate Sudfeld",
          "Blaine Gabbert",
          "Tom Savage",
          "Brandon Allen",
          "David Carr",
          "Chad Henne",
          "Austin Davis",
          "Ryan Fitzpatrick",
          "Mark Brunell",
          "Jimmy Clausen",
          "Ryan Mallett",
          "Ryan Griffin",
          "Josh Johnson",
          "Shaun Hill",
          "Ryan Griffin",
          "Joe Flacco",
          "Jeff Garcia",
          "Mike Glennon",
          "Drew Stanton",
          "Derek Anderson",
          "Derek Anderson",
          "Matt Flynn",
          "Josh McCown",
          "Brandon Allen",
          "Geno Smith",
          "David Carr",
          "Josh McCown",
          "Dan Orlovsky",
          "Josh McCown",
          "Luke McCown",
          "Michael Vick",
          "Josh McCown",
          "Luke McCown",
          "Geno Smith",
          "Colt McCoy",
          "Kellen Clemens",
          "Charlie Whitehurst",
          "Cooper Rush",
          "Matt Cassel",
          "Sean Mannion",
          "Derek Anderson",
          "Matt Flynn",
          "Derek Anderson",
          "Mike Glennon",
          "Blaine Gabbert",
          "Matt Moore",
          "Geno Smith",
          "Joe Webb",
          "Kellen Clemens",
          "Brandon Weeden",
          "Colt McCoy",
          "Matt Barkley",
          "Blake Bortles",
          "Brian Hoyer",
          "Brian Hoyer",
          "Josh Johnson",
          "Chase Daniel",
          "Josh Johnson",
          "Matt Barkley",
          "Josh Johnson",
          "Josh Johnson",
          "Josh Johnson",
          "Josh Johnson",
          "Mike Glennon",
          "Shaun Hill",
          "Brandon Allen",
          "Jeff Driskel",
          "Joshua Dobbs",
          "Josh Johnson",
          "Josh Johnson",
          "Joe Webb",
          "Geno Smith",
          "Nathan Peterman",
          "Alex Tanney",
          "Jameis Winston",
          "David Blough",
          "Matt Moore",
          "Josh Johnson",
          "Josh Johnson",
          "Brett Hundley",
          "Sean Mannion",
          "Brett Hundley",
          "Jeff Driskel",
          "Nate Sudfeld",
          "Trevor Siemian",
          "Josh Johnson",
          "Chase Daniel",
          "Josh Johnson",
          "Josh McCown",
          "Cooper Rush",
          "Nick Mullens",
          "Blake Bortles",
          "Brian Hoyer",
          "Joe Webb",
          "Brett Hundley",
          "Sean Mannion",
          "Josh Johnson",
          "Christian Ponder",
          "Josh Johnson",
          "Josh Johnson",
          "Mark Sanchez",
          "Joe Webb",
          "Garrett Gilbert",
          "Christian Ponder",
          "Austin Davis",
          "Ryan Nassib",
          "T.J. Yates",
          "Blaine Gabbert",
          "Brian Hoyer",
          "Nathan Peterman",
          "Nick Mullens",
          "Kyle Sloter",
          "Davis Webb",
          "Trace McSorley",
          "Joshua Dobbs",
          "Jeff Driskel",
          "Nathan Peterman",
          "Nate Sudfeld",
          "Cooper Rush",
          "Nathan Peterman",
          "Tim Boyle",
          "Austin Davis",
          "Brock Osweiler",
          "David Fales",
          "Will Grier",
          "T.J. Yates",
          "Ricky Stanzi",
          "Alex Tanney",
          "Cody Kessler",
          "Tyler Bray",
          "E.J. Manuel",
          "Geno Smith",
          "Sean Mannion",
          "Ryan Lindley",
          "Kyle Allen",
          "Dwayne Haskins",
          "Brett Rypien",
          "Josh Rosen",
          "Mike White",
          "Josh Rosen",
          "T.J. Yates",
          "Matt Barkley",
          "Brock Osweiler",
          "Kellen Moore",
          "Kellen Moore",
          "Ryan Nassib",
          "David Blough",
          "Brett Rypien",
          "Trace McSorley",
          "Brandon Weeden",
          "Geno Smith",
          "Ryan Lindley",
          "Austin Davis",
          "Blake Bortles",
          "Trevor Siemian",
          "Taylor Heinicke",
          "Trevor Siemian",
          "Blake Bortles",
          "Kyle Lauletta",
          "Logan Woodside",
          "Davis Webb",
          "Matt Barkley",
          "Brandon Weeden",
          "Austin Davis",
          "Landry Jones",
          "Tyler Bray",
          "Matt Barkley",
          "Phillip Walker",
          "Logan Woodside",
          "John Wolford",
          "Tyler Huntley",
          "Chris Streveler",
          "Ryan Lindley",
          "Austin Davis",
          "David Fales",
          "David Fales",
          "Tyler Bray",
          "David Fales",
          "Tyler Huntley",
          "Kyle Lauletta",
          "Jake Luton",
          "Jake Fromm",
          "Garrett Gilbert",
          "Cody Kessler",
          "David Fales",
          "Cody Kessler",
          "Case Keenum",
          "Case Keenum",
          "Bryce Perkins",
          "Reid Sinnett",
          "Reid Sinnett",
          "Reid Sinnett",
          "Chandler Harnish",
          "Chandler Harnish",
          "Tom Savage",
          "Tom Savage",
          "Taylor Heinicke",
          "Phillip Walker",
          "Austin Davis",
          "David Fales",
          "Brad Sorensen",
          "David Fales",
          "David Fales",
          "Mike White",
          "David Blough",
          "Brett Rypien",
          "Kyle Sloter",
          "Nick Mullens",
          "Josh Rosen",
          "Jake Rudock",
          "Alex Tanney",
          "Case Keenum",
          "Paxton Lynch",
          "Garrett Gilbert",
          "Case Keenum",
          "Kyle Shurmur",
          "Kurt Benkert",
          "Brad Sorensen",
          "Kevin Hogan",
          "Kevin Hogan",
          "Nate Sudfeld",
          "Brandon Allen",
          "Paxton Lynch",
          "Brandon Allen",
          "Jeff Driskel",
          "Mike White",
          "Mike White",
          "Alex McGough",
          "Zac Dysert",
          "Zac Dysert",
          "Keith Wenning",
          "Jake Rudock",
          "Chad Kelly",
          "Nate Sudfeld",
          "Joe Callahan",
          "Brett Rypien",
          "John Wolford",
          "Mike White",
          "Davis Webb",
          "Alex Tanney",
          "Garrett Gilbert",
          "Davis Webb",
          "Garrett Gilbert",
          "Keith Wenning",
          "Keith Wenning",
          "Luke Falk",
          "Chad Kelly",
          "Nick Mullens",
          "Kyle Allen",
          "Clayton Thorson",
          "Alex McGough",
          "Logan Woodside",
          "Garrett Gilbert",
          "Alex McGough",
          "Danny Etling",
          "Danny Etling",
          "Danny Etling",
          "Jeff Driskel",
          "Will Grier",
          "Jeff Driskel",
          "Jeff Driskel",
          "Will Grier",
          "Jeff Driskel",
          "Cooper Rush",
          "Nathan Peterman",
          "Will Grier",
          "Josh Johnson",
          "Sean Mannion",
          "Alex McGough",
          "Brett Hundley",
          "Will Grier",
          "Jeff Driskel",
          "Joshua Dobbs",
          "David Blough",
          "Nathan Peterman",
          "Cooper Rush",
          "Brian Hoyer",
          "Josh Johnson",
          "Tyler Bray",
          "Brett Hundley",
          "Sean Mannion",
          "Josh Johnson",
          "Nick Mullens",
          "Matt Barkley",
          "Chris Streveler",
          "Davis Webb",
          "Taylor Heinicke",
          "David Fales",
          "Garrett Gilbert",
          "Nate Sudfeld",
          "Tyler Bray",
          "Josh Johnson",
          "Jeff Driskel",
          "Blake Bortles",
          "Nathan Peterman",
          "Blake Bortles",
          "Josh Johnson",
          "Brian Hoyer",
          "Sean Mannion",
          "Nick Mullens",
          "Brett Hundley",
          "Matt Barkley",
          "Brett Hundley",
          "Davis Webb",
          "Logan Woodside",
          "Chris Streveler",
          "Garrett Gilbert",
          "Mike Glennon",
          "Mike Glennon",
          "Tim Boyle",
          "Garrett Gilbert",
          "Matt Moore",
          "Chris Streveler",
          "Logan Woodside",
          "Davis Webb",
          "Nate Sudfeld",
          "Jake Luton",
          "Tyler Bray",
          "Trace McSorley",
          "Davis Webb",
          "David Fales",
          "Luke Falk",
          "Josh McCown",
          "Cooper Rush",
          "Cooper Rush",
          "Trevor Siemian",
          "Joe Webb",
          "Kevin Hogan",
          "Joe Webb",
          "Taylor Heinicke",
          "Kevin Hogan",
          "Blake Bortles",
          "Mike Glennon",
          "Cooper Rush",
          "Matt Moore",
          "Trevor Siemian",
          "Chris Streveler",
          "Davis Webb",
          "Trace McSorley",
          "Logan Woodside",
          "Nick Mullens",
          "Jake Luton",
          "Jake Luton",
          "Kurt Benkert",
          "Brett Rypien",
          "Jake Fromm",
          "Nate Sudfeld",
          "Kyle Lauletta",
          "Reid Sinnett",
          "Trace McSorley",
          "Jake Luton",
          "Chris Streveler",
          "Kyle Shurmur",
          "Kyle Sloter",
          "Davis Webb",
          "Clayton Thorson",
          "Kurt Benkert",
          "Mike White",
          "Austin Davis",
          "Case Keenum",
          "Chandler Harnish",
          "Ryan Lindley",
          "Brad Sorensen",
          "David Fales",
          "Keith Wenning",
          "Brad Sorensen",
          "Zac Dysert",
          "Zac Dysert",
          "Kellen Moore",
          "Taylor Heinicke",
          "Garrett Gilbert",
          "Joe Callahan",
          "Austin Davis",
          "Brandon Allen",
          "Danny Etling",
          "Paxton Lynch",
          "Danny Etling",
          "Kyle Sloter",
          "Mike White",
          "Garrett Gilbert",
          "Mike White",
          "Tyler Bray",
          "David Blough",
          "Brett Rypien",
          "Jake Rudock",
          "Jake Rudock",
          "Mike White",
          "Josh Rosen",
          "Mike White",
          "Clayton Thorson",
          "Mike White",
          "Matt Barkley"
         ],
         "legendgroup": "Vet backup",
         "marker": {
          "color": "rgb(221,132,82)",
          "symbol": "circle"
         },
         "mode": "markers",
         "name": "Vet backup",
         "orientation": "v",
         "showlegend": true,
         "type": "scatter",
         "x": [
          2005,
          2016,
          2009,
          2018,
          2018,
          2011,
          2012,
          2020,
          2010,
          2014,
          2013,
          2021,
          2016,
          2010,
          2020,
          2014,
          2020,
          2019,
          2004,
          2019,
          2018,
          2022,
          2017,
          2013,
          2015,
          2022,
          2009,
          2020,
          2013,
          2014,
          2013,
          2006,
          2006,
          2019,
          2012,
          2012,
          2007,
          2018,
          2012,
          2009,
          2021,
          2010,
          2021,
          2016,
          2021,
          2013,
          2008,
          2013,
          2009,
          2022,
          2016,
          2015,
          2010,
          2017,
          2012,
          2015,
          2018,
          2009,
          2020,
          2019,
          2017,
          2015,
          2016,
          2011,
          2016,
          2021,
          2021,
          2018,
          2018,
          2007,
          2018,
          2018,
          2015,
          2017,
          2008,
          2009,
          2014,
          2022,
          2005,
          2013,
          2019,
          2012,
          2017,
          2015,
          2015,
          2022,
          2008,
          2013,
          2020,
          2014,
          2022,
          2015,
          2022,
          2015,
          2015,
          2015,
          2015,
          2015,
          2021,
          2021,
          2003,
          2017,
          2021,
          2021,
          2016,
          2016,
          2016,
          2016,
          2012,
          2020,
          2022,
          2022,
          2017,
          2017,
          2017,
          2017,
          2010,
          2016,
          2020,
          2018,
          2018,
          2014,
          2016,
          2016,
          2005,
          2021,
          2022,
          2015,
          2020,
          2020,
          2017,
          2019,
          2019,
          2015,
          2015,
          2012,
          2019,
          2020,
          2019,
          2019,
          2007,
          2016,
          2014,
          2022,
          2022,
          2022,
          2022,
          2022,
          2022,
          2022,
          2021,
          2002,
          2018,
          2010,
          2012,
          2003,
          2008,
          2020,
          2019,
          2018,
          2021,
          2012,
          2020,
          2016,
          2008,
          2011,
          2015,
          2015,
          2019,
          2013,
          2005,
          2017,
          2020,
          2011,
          2021,
          2011,
          2012,
          2013,
          2013,
          2012,
          2022,
          2017,
          2011,
          2013,
          2016,
          2012,
          2012,
          2015,
          2011,
          2013,
          2021,
          2021,
          2017,
          2016,
          2020,
          2018,
          2021,
          2011,
          2015,
          2018,
          2020,
          2020,
          2020,
          2020,
          2016,
          2017,
          2017,
          2014,
          2021,
          2021,
          2021,
          2021,
          2021,
          2021,
          2021,
          2021,
          2021,
          2022,
          2017,
          2012,
          2020,
          2006,
          2022,
          2022,
          2022,
          2016,
          2018,
          2018,
          2018,
          2021,
          2019,
          2020,
          2022,
          2019,
          2019,
          2017,
          2021,
          2021,
          2021,
          2021,
          2021,
          2021,
          2017,
          2017,
          2022,
          2020,
          2021,
          2021,
          2019,
          2020,
          2020,
          2020,
          2020,
          2015,
          2015,
          2015,
          2018,
          2018,
          2018,
          2022,
          2016,
          2017,
          2017,
          2017,
          2017,
          2012,
          2020,
          2021,
          2021,
          2021,
          2021,
          2022,
          2022,
          2022,
          2022,
          2022,
          2022,
          2022,
          2018,
          2018,
          2018,
          2022,
          2016,
          2013,
          2019,
          2019,
          2020,
          2017,
          2019,
          2019,
          2015,
          2021,
          2021,
          2021,
          2021,
          2021,
          2021,
          2017,
          2017,
          2017,
          2017,
          2017,
          2017,
          2022,
          2022,
          2022,
          2014,
          2019,
          2015,
          2015,
          2020,
          2020,
          2020,
          2020,
          2020,
          2021,
          2022,
          2022,
          2018,
          2018,
          2018,
          2018,
          2019,
          2016,
          2022,
          2022,
          2022,
          2022,
          2022,
          2014,
          2014,
          2019,
          2019,
          2019,
          2019,
          2021,
          2021,
          2021,
          2021,
          2020,
          2019,
          2017,
          2019,
          2015,
          2015,
          2021,
          2021,
          2021,
          2021,
          2014,
          2014,
          2018,
          2018,
          2017,
          2020,
          2013,
          2015,
          2015,
          2015,
          2016,
          2020,
          2020,
          2020,
          2019,
          2020,
          2020,
          2020,
          2016,
          2014,
          2019,
          2019,
          2013,
          2021,
          2021,
          2015,
          2018,
          2018,
          2017,
          2019,
          2019,
          2019,
          2019,
          2020,
          2020,
          2019,
          2016,
          2016,
          2015,
          2020,
          2019,
          2017,
          2017,
          2020,
          2020,
          2020,
          2018,
          2018,
          2018,
          2018,
          2017,
          2015,
          2015,
          2019,
          2019,
          2018,
          2020,
          2020,
          2019,
          2020,
          2017,
          2019,
          2019,
          2019,
          2019,
          2022,
          2022,
          2022,
          2021,
          2022,
          2022,
          2022,
          2022,
          2022,
          2021,
          2021,
          2019,
          2021,
          2022,
          2022,
          2022,
          2022,
          2022,
          2022,
          2021,
          2021,
          2020,
          2021,
          2021,
          2022,
          2021,
          2016,
          2022,
          2022,
          2017,
          2015,
          2022,
          2021,
          2020,
          2022,
          2021,
          2021,
          2021,
          2021,
          2021,
          2021,
          2021,
          2021,
          2021,
          2021,
          2021,
          2022,
          2022,
          2022,
          2022,
          2022,
          2022,
          2022,
          2022,
          2020,
          2022,
          2022,
          2022,
          2021,
          2021,
          2019,
          2021,
          2021,
          2016,
          2019,
          2020,
          2020,
          2020,
          2020,
          2020,
          2020,
          2020,
          2020,
          2020,
          2020,
          2020,
          2020,
          2020,
          2020,
          2022,
          2022,
          2022,
          2022,
          2018,
          2021,
          2021,
          2021,
          2021,
          2021,
          2021,
          2021,
          2021,
          2021,
          2021,
          2021,
          2021,
          2021,
          2021,
          2020,
          2020,
          2020,
          2013,
          2014,
          2014,
          2014,
          2015,
          2015,
          2015,
          2015,
          2016,
          2016,
          2017,
          2017,
          2017,
          2017,
          2018,
          2018,
          2019,
          2019,
          2019,
          2019,
          2020,
          2020,
          2020,
          2020,
          2020,
          2020,
          2020,
          2020,
          2020,
          2020,
          2020,
          2020,
          2020,
          2021
         ],
         "xaxis": "x",
         "y": [
          12,
          17.5,
          12.1,
          14.5,
          10,
          6.666667,
          6.5,
          10.5,
          6.824,
          6.75,
          5.75,
          8.25,
          7,
          5.75,
          8.8,
          5.5,
          8,
          7.25,
          3,
          7,
          6,
          7,
          5.5,
          4,
          4.5,
          6.5,
          3.75,
          6,
          3.7,
          4,
          3.625,
          3,
          3,
          5.5,
          3.5,
          3.5,
          3.1,
          5,
          3.375,
          3.4375,
          5.1,
          3.586667,
          5,
          4.25,
          4.985199,
          3.333333,
          3.125,
          3.25,
          3.25,
          5.5,
          4,
          3.5,
          3.125,
          4,
          2.75,
          3.25,
          4,
          2.75,
          4.35,
          4,
          3.5,
          3,
          3.25,
          2.5125,
          3,
          3.5,
          3.5,
          3.35,
          3.3,
          2,
          3.25,
          3.25,
          2.6,
          3,
          2,
          2.1,
          2.25,
          3.5,
          1.43,
          2.023,
          3.095,
          1.927,
          2.625,
          2.25,
          2.25,
          3.25,
          1.8,
          1.875,
          3,
          2,
          3.1,
          2.086765,
          3,
          2,
          2,
          2,
          2,
          2,
          2.5,
          2.5,
          1,
          2.2,
          2.4,
          2.375,
          2,
          2,
          2,
          2,
          1.525,
          2.5,
          2.54,
          2.5,
          2,
          2,
          2,
          2,
          1.5,
          1.775,
          2.25,
          2,
          2,
          1.5,
          1.75,
          1.75,
          0.94,
          2,
          2.25,
          1.542,
          2.133,
          2.133,
          1.797,
          2,
          2,
          1.5,
          1.5,
          1.25,
          1.95,
          2,
          1.89,
          1.875,
          1.0825,
          1.5,
          1.282,
          2,
          2,
          2,
          2,
          2,
          2,
          2,
          1.75,
          0.675,
          1.675,
          1.176,
          1.0575,
          0.655,
          1,
          1.7,
          1.6,
          1.5,
          1.5,
          0.99,
          1.625,
          1.25,
          0.927,
          0.96,
          1.125,
          1.1225,
          1.45,
          0.9475,
          0.656,
          1.275,
          1.5,
          0.91,
          1.375,
          0.9,
          0.89,
          0.905,
          0.896875,
          0.875,
          1.5,
          1.2,
          0.86,
          0.865,
          1.065,
          0.825,
          0.825,
          0.97,
          0.81,
          0.825,
          1.2125,
          1.2125,
          1.08,
          1,
          1.25,
          1.105,
          1.1275,
          0.735,
          0.87,
          1.07353,
          1.1875,
          1.1875,
          1.1875,
          1.1875,
          0.93,
          1,
          1,
          0.795,
          1.075,
          1.075,
          1.075,
          1.075,
          1.075,
          1.075,
          1.075,
          1.075,
          1.075,
          1.22,
          0.975,
          0.7,
          1.15,
          0.59,
          1.2,
          1.1875,
          1.1875,
          0.885,
          1.005,
          1.005,
          1,
          1.025,
          1.05,
          1.1,
          1.15,
          1.03,
          1.03,
          0.9075,
          0.99,
          0.99,
          0.99,
          0.99,
          0.99,
          0.99,
          0.9,
          0.9,
          1.12,
          1.0625,
          0.9775,
          0.97,
          1,
          1.05,
          1.05,
          1.0475,
          1.0475,
          0.745,
          0.745,
          0.745,
          0.915,
          0.915,
          0.915,
          1.075,
          0.8,
          0.855,
          0.855,
          0.855,
          0.855,
          0.615,
          1,
          0.92,
          0.92,
          0.9075,
          0.9075,
          1.035,
          1.035,
          1.035,
          1.035,
          1.035,
          1.035,
          1.035,
          0.88,
          0.88,
          0.88,
          1.0225,
          0.76,
          0.6,
          0.9125,
          0.91215,
          0.955,
          0.8,
          0.895,
          0.895,
          0.6675,
          0.85,
          0.85,
          0.85,
          0.85,
          0.85,
          0.85,
          0.775,
          0.775,
          0.775,
          0.775,
          0.775,
          0.775,
          0.965,
          0.965,
          0.965,
          0.615,
          0.87,
          0.66,
          0.66,
          0.91,
          0.91,
          0.91,
          0.91,
          0.91,
          0.8375,
          0.9525,
          0.945,
          0.79,
          0.79,
          0.79,
          0.79,
          0.8264,
          0.675,
          0.895,
          0.895,
          0.895,
          0.895,
          0.895,
          0.57,
          0.57,
          0.805,
          0.805,
          0.805,
          0.805,
          0.78,
          0.78,
          0.78,
          0.78,
          0.835,
          0.7825,
          0.69,
          0.77,
          0.585,
          0.585,
          0.7425,
          0.7425,
          0.7425,
          0.7425,
          0.54,
          0.54,
          0.705,
          0.705,
          0.66,
          0.7825,
          0.48,
          0.555,
          0.555,
          0.555,
          0.6,
          0.7625,
          0.7625,
          0.7625,
          0.715,
          0.75,
          0.75,
          0.75,
          0.585,
          0.495,
          0.69,
          0.69,
          0.45,
          0.66,
          0.66,
          0.51,
          0.63,
          0.63,
          0.585,
          0.645,
          0.645,
          0.645,
          0.645,
          0.675,
          0.675,
          0.64,
          0.525,
          0.525,
          0.48,
          0.66,
          0.615,
          0.540005,
          0.54,
          0.63,
          0.63,
          0.63,
          0.555,
          0.555,
          0.555,
          0.554999,
          0.51,
          0.435,
          0.435,
          0.57,
          0.57,
          0.525,
          0.585,
          0.58,
          0.54,
          0.555,
          0.465,
          0.495006,
          0.495,
          0.495,
          0.495,
          0.471,
          0.459333,
          0.4334,
          0.375,
          0.425622,
          0.3958,
          0.3958,
          0.3958,
          0.391911,
          0.343444,
          0.334,
          0.34,
          0.32,
          0.3582,
          0.3582,
          0.3582,
          0.3582,
          0.3582,
          0.3582,
          0.297722,
          0.297722,
          0.323316,
          0.293,
          0.293,
          0.334222,
          0.289111,
          0.2448,
          0.321666,
          0.321666,
          0.255,
          0.2125,
          0.2998,
          0.2572,
          0.278187,
          0.288,
          0.252,
          0.252,
          0.252,
          0.252,
          0.252,
          0.252,
          0.252,
          0.252,
          0.252,
          0.252,
          0.252,
          0.283444,
          0.283444,
          0.283444,
          0.2772,
          0.2772,
          0.2772,
          0.2772,
          0.2772,
          0.253765,
          0.245222,
          0.245222,
          0.245222,
          0.2114,
          0.206266,
          0.2125,
          0.203622,
          0.203622,
          0.17,
          0.204,
          0.204,
          0.204,
          0.204,
          0.204,
          0.204,
          0.204,
          0.204,
          0.204,
          0.204,
          0.204,
          0.204,
          0.204,
          0.204,
          0.204,
          0.207,
          0.207,
          0.207,
          0.207,
          0.17,
          0.172133,
          0.1656,
          0.1656,
          0.1656,
          0.1656,
          0.1656,
          0.1656,
          0.1656,
          0.1656,
          0.1656,
          0.1656,
          0.1656,
          0.1656,
          0.1656,
          0.172564,
          0.170282,
          0.167988,
          0.102,
          0.1071,
          0.1071,
          0.1071,
          0.1122,
          0.1122,
          0.1122,
          0.1122,
          0.1173,
          0.1173,
          0.1224,
          0.1224,
          0.1224,
          0.1224,
          0.1292,
          0.1292,
          0.136,
          0.136,
          0.136,
          0.136,
          0.1428,
          0.1428,
          0.1428,
          0.1428,
          0.1428,
          0.1428,
          0.1428,
          0.1428,
          0.1428,
          0.1428,
          0.1428,
          0.1428,
          0.136682,
          0.11
         ],
         "yaxis": "y"
        },
        {
         "customdata": [
          [
           "Sam Bradford",
           13,
           0.10099999999999999
          ],
          [
           "David Carr",
           6.964286,
           0.098
          ],
          [
           "Matt Ryan",
           11.25,
           0.09699999999999999
          ],
          [
           "Alex Smith",
           8.25,
           0.096
          ],
          [
           "JaMarcus Russell",
           10.166667,
           0.09300000000000001
          ],
          [
           "Sam Bradford",
           12,
           0.09300000000000001
          ],
          [
           "Michael Vick",
           6.216667,
           0.092
          ],
          [
           "Carson Palmer",
           6.666667,
           0.08900000000000001
          ],
          [
           "Jason Campbell",
           7.5,
           0.08800000000000001
          ],
          [
           "Philip Rivers",
           6.875,
           0.085
          ],
          [
           "Mark Sanchez",
           9.5,
           0.077
          ],
          [
           "Jay Cutler",
           5.685417,
           0.055999999999999994
          ],
          [
           "Ben Roethlisberger",
           4.20325,
           0.052000000000000005
          ],
          [
           "Trevor Lawrence",
           9.198372,
           0.05
          ],
          [
           "Zach Wilson",
           8.787695,
           0.048
          ],
          [
           "Trey Lance",
           8.526315,
           0.047
          ],
          [
           "Kyler Murray",
           8.789661,
           0.047
          ],
          [
           "Baker Mayfield",
           8.170745,
           0.046
          ],
          [
           "Andrew Luck",
           5.527,
           0.046
          ],
          [
           "Cam Newton",
           5.506375,
           0.046
          ],
          [
           "Joe Burrow",
           9.047534,
           0.046
          ],
          [
           "Jared Goff",
           6.984418,
           0.045
          ],
          [
           "Jameis Winston",
           6.337819,
           0.044000000000000004
          ],
          [
           "Mitchell Trubisky",
           7.258109,
           0.043
          ],
          [
           "Carson Wentz",
           6.669085,
           0.043
          ],
          [
           "Sam Darnold",
           7.561924,
           0.043
          ],
          [
           "Marcus Mariota",
           6.053494,
           0.042
          ],
          [
           "Joe Flacco",
           4.76,
           0.040999999999999995
          ],
          [
           "Blake Bortles",
           5.163701,
           0.039
          ],
          [
           "Tua Tagovailoa",
           7.568859,
           0.038
          ],
          [
           "Daniel Jones",
           6.416014,
           0.034
          ],
          [
           "Justin Herbert",
           6.644689,
           0.034
          ],
          [
           "Josh Allen",
           5.295759,
           0.03
          ],
          [
           "Ryan Tannehill",
           3.167128,
           0.026000000000000002
          ],
          [
           "Jake Locker",
           3.146501,
           0.026000000000000002
          ],
          [
           "Justin Fields",
           4.717988,
           0.026000000000000002
          ],
          [
           "Blaine Gabbert",
           3.000412,
           0.025
          ],
          [
           "Josh Rosen",
           4.39944,
           0.025
          ],
          [
           "Patrick Mahomes",
           4.106491,
           0.025
          ],
          [
           "Josh Freeman",
           2.7,
           0.022000000000000002
          ],
          [
           "Mac Jones",
           3.896585,
           0.021
          ],
          [
           "Christian Ponder",
           2.539675,
           0.021
          ],
          [
           "Deshaun Watson",
           3.463621,
           0.021
          ],
          [
           "Dwayne Haskins",
           3.604154,
           0.019
          ],
          [
           "E.J. Manuel",
           2.221325,
           0.018000000000000002
          ],
          [
           "Aaron Rodgers",
           1.531,
           0.018000000000000002
          ],
          [
           "Kenny Pickett",
           3.516976,
           0.017
          ],
          [
           "Brandon Weeden",
           2.020899,
           0.017
          ],
          [
           "Jordan Love",
           3.095868,
           0.016
          ],
          [
           "Johnny Manziel",
           2.062149,
           0.016
          ],
          [
           "Paxton Lynch",
           2.369077,
           0.015
          ],
          [
           "Drew Brees",
           0.90125,
           0.013000000000000001
          ],
          [
           "Lamar Jackson",
           2.367913,
           0.013000000000000001
          ],
          [
           "Teddy Bridgewater",
           1.712376,
           0.013000000000000001
          ],
          [
           "Andy Dalton",
           1.30355,
           0.011000000000000001
          ],
          [
           "Colin Kaepernick",
           1.281074,
           0.011000000000000001
          ],
          [
           "Geno Smith",
           1.254901,
           0.01
          ],
          [
           "Derek Carr",
           1.342951,
           0.01
          ],
          [
           "Drew Lock",
           1.752705,
           0.009000000000000001
          ],
          [
           "Jalen Hurts",
           1.506294,
           0.008
          ],
          [
           "Kyle Trask",
           1.383834,
           0.008
          ],
          [
           "Christian Hackenberg",
           1.165076,
           0.008
          ],
          [
           "Christian Hackenberg",
           1.165076,
           0.008
          ],
          [
           "DeShone Kizer",
           1.237103,
           0.006999999999999999
          ],
          [
           "Chad Henne",
           0.857525,
           0.006999999999999999
          ],
          [
           "Brock Osweiler",
           0.87917,
           0.006999999999999999
          ],
          [
           "Kellen Mond",
           1.305853,
           0.006999999999999999
          ],
          [
           "Davis Mills",
           1.305525,
           0.006999999999999999
          ],
          [
           "Jimmy Garoppolo",
           0.870975,
           0.006999999999999999
          ],
          [
           "Josh McCown",
           0.462667,
           0.006999999999999999
          ],
          [
           "Desmond Ridder",
           1.340741,
           0.006
          ],
          [
           "Mike Glennon",
           0.776016,
           0.006
          ],
          [
           "Russell Wilson",
           0.749194,
           0.006
          ],
          [
           "Malik Willis",
           1.290025,
           0.006
          ],
          [
           "Ryan Mallett",
           0.736957,
           0.006
          ],
          [
           "Garrett Grayson",
           0.850152,
           0.006
          ],
          [
           "Nick Foles",
           0.69213,
           0.006
          ],
          [
           "Ian Book",
           1.038395,
           0.006
          ],
          [
           "Charlie Whitehurst",
           0.5795,
           0.006
          ],
          [
           "Sean Mannion",
           0.812724,
           0.006
          ],
          [
           "Matt Schaub",
           0.455,
           0.006
          ],
          [
           "Matt Barkley",
           0.684882,
           0.006
          ],
          [
           "Mason Rudolph",
           0.980467,
           0.006
          ],
          [
           "Jacoby Brissett",
           0.852708,
           0.005
          ],
          [
           "Cody Kessler",
           0.847271,
           0.005
          ],
          [
           "Davis Webb",
           0.902832,
           0.005
          ],
          [
           "Kyle Orton",
           0.46075,
           0.005
          ],
          [
           "Kirk Cousins",
           0.643172,
           0.005
          ],
          [
           "Ryan Nassib",
           0.6534,
           0.005
          ],
          [
           "Tyler Wilson",
           0.652725,
           0.005
          ],
          [
           "Landry Jones",
           0.649805,
           0.005
          ],
          [
           "C.J. Beathard",
           0.882162,
           0.005
          ],
          [
           "Bailey Zappe",
           1.076768,
           0.005
          ],
          [
           "Will Grier",
           0.963249,
           0.005
          ],
          [
           "Jacob Eason",
           1.006816,
           0.005
          ],
          [
           "James Morgan",
           1.002566,
           0.005
          ],
          [
           "Sam Ehlinger",
           0.902676,
           0.005
          ],
          [
           "Bryce Petty",
           0.708424,
           0.005
          ],
          [
           "Colt McCoy",
           0.63525,
           0.005
          ],
          [
           "Sam Howell",
           1.0054,
           0.005
          ],
          [
           "Connor Cook",
           0.739972,
           0.005
          ],
          [
           "Tom Savage",
           0.630146,
           0.005
          ],
          [
           "Ricky Stanzi",
           0.562763,
           0.005
          ],
          [
           "T.J. Yates",
           0.55625,
           0.005
          ],
          [
           "Nathan Enderle",
           0.552215,
           0.005
          ],
          [
           "Ryan Lindley",
           0.551327,
           0.005
          ],
          [
           "Aaron Murray",
           0.606856,
           0.005
          ],
          [
           "Jake Fromm",
           0.89949,
           0.005
          ],
          [
           "Brad Sorensen",
           0.55485,
           0.005
          ],
          [
           "Skylar Thompson",
           0.935552,
           0.004
          ],
          [
           "Brock Purdy",
           0.934253,
           0.004
          ],
          [
           "Kyle Lauletta",
           0.791925,
           0.004
          ],
          [
           "Shane Buechele",
           0.813333,
           0.004
          ],
          [
           "Feleipe Franks",
           0.813333,
           0.004
          ],
          [
           "Tyrod Taylor",
           0.536327,
           0.004
          ],
          [
           "Chandler Harnish",
           0.536474,
           0.004
          ],
          [
           "Joshua Dobbs",
           0.739781,
           0.004
          ],
          [
           "Zach Mettenberger",
           0.586279,
           0.004
          ],
          [
           "Ryan Finley",
           0.827414,
           0.004
          ],
          [
           "David Fales",
           0.583556,
           0.004
          ],
          [
           "Jake Luton",
           0.869189,
           0.004
          ],
          [
           "Cardale Jones",
           0.680848,
           0.004
          ],
          [
           "Dak Prescott",
           0.680848,
           0.004
          ],
          [
           "Brett Hundley",
           0.625908,
           0.004
          ],
          [
           "Ben DiNucci",
           0.847537,
           0.004
          ],
          [
           "Zac Dysert",
           0.52205,
           0.004
          ],
          [
           "Matt Cassel",
           0.35975,
           0.004
          ],
          [
           "Jarrett Stidham",
           0.789028,
           0.004
          ],
          [
           "Anthony Brown",
           0.86,
           0.004
          ],
          [
           "Anthony Brown",
           0.853333,
           0.004
          ],
          [
           "Jarrett Guarantano",
           0.853333,
           0.004
          ],
          [
           "Trevor Siemian",
           0.583196,
           0.004
          ],
          [
           "Shane Buechele",
           0.7425,
           0.004
          ],
          [
           "Josh Johnson",
           0.469375,
           0.004
          ],
          [
           "Tyler Wilson",
           0.495,
           0.004
          ],
          [
           "Austin Davis",
           0.481667,
           0.004
          ],
          [
           "Nate Sudfeld",
           0.619334,
           0.004
          ],
          [
           "Brandon Allen",
           0.616068,
           0.004
          ],
          [
           "Nathan Peterman",
           0.659877,
           0.004
          ],
          [
           "Jeff Driskel",
           0.613135,
           0.004
          ],
          [
           "Joe Webb",
           0.508129,
           0.004
          ],
          [
           "Steven Montez",
           0.765,
           0.004
          ],
          [
           "Reid Sinnett",
           0.765,
           0.004
          ],
          [
           "Tyler Huntley",
           0.763333,
           0.004
          ],
          [
           "Bryce Perkins",
           0.763333,
           0.004
          ],
          [
           "David Fales",
           0.51,
           0.004
          ],
          [
           "Jarrett Guarantano",
           0.7925,
           0.004
          ],
          [
           "Derek Anderson",
           0.324833,
           0.004
          ],
          [
           "Mike White",
           0.669389,
           0.004
          ],
          [
           "Brad Kaaya",
           0.630839,
           0.004
          ],
          [
           "Easton Stick",
           0.699655,
           0.004
          ],
          [
           "Ryan Fitzpatrick",
           0.31775,
           0.004
          ],
          [
           "Taylor Heinicke",
           0.528333,
           0.004
          ],
          [
           "Luke Falk",
           0.652208,
           0.004
          ],
          [
           "Gardner Minshew",
           0.677904,
           0.004
          ],
          [
           "Trace McSorley",
           0.670172,
           0.004
          ],
          [
           "Trevone Boykin",
           0.545,
           0.004
          ],
          [
           "Steven Montez",
           0.695,
           0.004
          ],
          [
           "Matt Moore",
           0.376667,
           0.003
          ],
          [
           "Cooper Rush",
           0.556667,
           0.003
          ],
          [
           "Taysom Hill",
           0.556667,
           0.003
          ],
          [
           "Kyle Sloter",
           0.555,
           0.003
          ],
          [
           "Kyle Sloter",
           0.555,
           0.003
          ],
          [
           "Tyler Wilson",
           0.405,
           0.003
          ],
          [
           "Kyle Allen",
           0.581,
           0.003
          ],
          [
           "Brian Hoyer",
           0.399167,
           0.003
          ],
          [
           "Tim Boyle",
           0.572,
           0.003
          ],
          [
           "Chase Daniel",
           0.3955,
           0.003
          ],
          [
           "Chase Daniel",
           0.395,
           0.003
          ],
          [
           "Kevin Hogan",
           0.495,
           0.003
          ],
          [
           "Jake Rudock",
           0.495,
           0.003
          ],
          [
           "Joe Callahan",
           0.495,
           0.003
          ],
          [
           "David Blough",
           0.591667,
           0.003
          ],
          [
           "Kyle Shurmur",
           0.588333,
           0.003
          ],
          [
           "Brett Rypien",
           0.588333,
           0.003
          ],
          [
           "Jacob Dolegala",
           0.586667,
           0.003
          ],
          [
           "Devlin Hodges",
           0.585333,
           0.003
          ],
          [
           "Brad Kaaya",
           0.51,
           0.003
          ],
          [
           "Chris Streveler",
           0.6,
           0.003
          ],
          [
           "Kyle Shurmur",
           0.54,
           0.003
          ],
          [
           "Devlin Hodges",
           0.54,
           0.003
          ],
          [
           "Brett Rypien",
           0.54,
           0.003
          ],
          [
           "Kyle Allen",
           0.4875,
           0.003
          ],
          [
           "Brett Rypien",
           0.494989,
           0.003
          ],
          [
           "Kyle Sloter",
           0.34,
           0.002
          ],
          [
           "Brett Rypien",
           0.34,
           0.002
          ],
          [
           "Brad Kaaya",
           0.255,
           0.002
          ],
          [
           "Anthony Brown",
           0.290001,
           0.001
          ],
          [
           "Tyler Huntley",
           0.252728,
           0.001
          ],
          [
           "Anthony Brown",
           0.262334,
           0.001
          ],
          [
           "Tyler Huntley",
           0.225246,
           0.001
          ],
          [
           "Anthony Brown",
           0.234667,
           0.001
          ],
          [
           "Tyler Huntley",
           0.197764,
           0.001
          ],
          [
           "Steven Montez",
           0.197764,
           0.001
          ],
          [
           "Jarrett Guarantano",
           0.207,
           0.001
          ],
          [
           "Anthony Brown",
           0.207,
           0.001
          ],
          [
           "Jarrett Guarantano",
           0.207,
           0.001
          ],
          [
           "Jarrett Guarantano",
           0.207,
           0.001
          ],
          [
           "Reid Sinnett",
           0.189364,
           0.001
          ],
          [
           "Shane Buechele",
           0.1656,
           0.001
          ],
          [
           "Steven Montez",
           0.170282,
           0.001
          ],
          [
           "Bryce Perkins",
           0.170282,
           0.001
          ],
          [
           "Tyler Wilson",
           0.102,
           0.001
          ],
          [
           "Reid Sinnett",
           0.161882,
           0.001
          ],
          [
           "David Fales",
           0.1071,
           0.001
          ],
          [
           "Chandler Harnish",
           0.0969,
           0.001
          ],
          [
           "Kyle Allen",
           0.1292,
           0.001
          ],
          [
           "Kyle Allen",
           0.1292,
           0.001
          ],
          [
           "Devlin Hodges",
           0.136,
           0.001
          ],
          [
           "Kyle Shurmur",
           0.136,
           0.001
          ],
          [
           "Kyle Shurmur",
           0.136,
           0.001
          ],
          [
           "Reid Sinnett",
           0.1428,
           0.001
          ],
          [
           "Steven Montez",
           0.1428,
           0.001
          ],
          [
           "Reid Sinnett",
           0.1428,
           0.001
          ],
          [
           "Chase Daniel",
           0.0884,
           0.001
          ]
         ],
         "hovertemplate": "%{customdata[0]}<br>$%{customdata[1]:.2f}M",
         "hovertext": [
          "Sam Bradford",
          "David Carr",
          "Matt Ryan",
          "Alex Smith",
          "JaMarcus Russell",
          "Sam Bradford",
          "Michael Vick",
          "Carson Palmer",
          "Jason Campbell",
          "Philip Rivers",
          "Mark Sanchez",
          "Jay Cutler",
          "Ben Roethlisberger",
          "Trevor Lawrence",
          "Zach Wilson",
          "Trey Lance",
          "Kyler Murray",
          "Baker Mayfield",
          "Andrew Luck",
          "Cam Newton",
          "Joe Burrow",
          "Jared Goff",
          "Jameis Winston",
          "Mitchell Trubisky",
          "Carson Wentz",
          "Sam Darnold",
          "Marcus Mariota",
          "Joe Flacco",
          "Blake Bortles",
          "Tua Tagovailoa",
          "Daniel Jones",
          "Justin Herbert",
          "Josh Allen",
          "Ryan Tannehill",
          "Jake Locker",
          "Justin Fields",
          "Blaine Gabbert",
          "Josh Rosen",
          "Patrick Mahomes",
          "Josh Freeman",
          "Mac Jones",
          "Christian Ponder",
          "Deshaun Watson",
          "Dwayne Haskins",
          "E.J. Manuel",
          "Aaron Rodgers",
          "Kenny Pickett",
          "Brandon Weeden",
          "Jordan Love",
          "Johnny Manziel",
          "Paxton Lynch",
          "Drew Brees",
          "Lamar Jackson",
          "Teddy Bridgewater",
          "Andy Dalton",
          "Colin Kaepernick",
          "Geno Smith",
          "Derek Carr",
          "Drew Lock",
          "Jalen Hurts",
          "Kyle Trask",
          "Christian Hackenberg",
          "Christian Hackenberg",
          "DeShone Kizer",
          "Chad Henne",
          "Brock Osweiler",
          "Kellen Mond",
          "Davis Mills",
          "Jimmy Garoppolo",
          "Josh McCown",
          "Desmond Ridder",
          "Mike Glennon",
          "Russell Wilson",
          "Malik Willis",
          "Ryan Mallett",
          "Garrett Grayson",
          "Nick Foles",
          "Ian Book",
          "Charlie Whitehurst",
          "Sean Mannion",
          "Matt Schaub",
          "Matt Barkley",
          "Mason Rudolph",
          "Jacoby Brissett",
          "Cody Kessler",
          "Davis Webb",
          "Kyle Orton",
          "Kirk Cousins",
          "Ryan Nassib",
          "Tyler Wilson",
          "Landry Jones",
          "C.J. Beathard",
          "Bailey Zappe",
          "Will Grier",
          "Jacob Eason",
          "James Morgan",
          "Sam Ehlinger",
          "Bryce Petty",
          "Colt McCoy",
          "Sam Howell",
          "Connor Cook",
          "Tom Savage",
          "Ricky Stanzi",
          "T.J. Yates",
          "Nathan Enderle",
          "Ryan Lindley",
          "Aaron Murray",
          "Jake Fromm",
          "Brad Sorensen",
          "Skylar Thompson",
          "Brock Purdy",
          "Kyle Lauletta",
          "Shane Buechele",
          "Feleipe Franks",
          "Tyrod Taylor",
          "Chandler Harnish",
          "Joshua Dobbs",
          "Zach Mettenberger",
          "Ryan Finley",
          "David Fales",
          "Jake Luton",
          "Cardale Jones",
          "Dak Prescott",
          "Brett Hundley",
          "Ben DiNucci",
          "Zac Dysert",
          "Matt Cassel",
          "Jarrett Stidham",
          "Anthony Brown",
          "Anthony Brown",
          "Jarrett Guarantano",
          "Trevor Siemian",
          "Shane Buechele",
          "Josh Johnson",
          "Tyler Wilson",
          "Austin Davis",
          "Nate Sudfeld",
          "Brandon Allen",
          "Nathan Peterman",
          "Jeff Driskel",
          "Joe Webb",
          "Steven Montez",
          "Reid Sinnett",
          "Tyler Huntley",
          "Bryce Perkins",
          "David Fales",
          "Jarrett Guarantano",
          "Derek Anderson",
          "Mike White",
          "Brad Kaaya",
          "Easton Stick",
          "Ryan Fitzpatrick",
          "Taylor Heinicke",
          "Luke Falk",
          "Gardner Minshew",
          "Trace McSorley",
          "Trevone Boykin",
          "Steven Montez",
          "Matt Moore",
          "Cooper Rush",
          "Taysom Hill",
          "Kyle Sloter",
          "Kyle Sloter",
          "Tyler Wilson",
          "Kyle Allen",
          "Brian Hoyer",
          "Tim Boyle",
          "Chase Daniel",
          "Chase Daniel",
          "Kevin Hogan",
          "Jake Rudock",
          "Joe Callahan",
          "David Blough",
          "Kyle Shurmur",
          "Brett Rypien",
          "Jacob Dolegala",
          "Devlin Hodges",
          "Brad Kaaya",
          "Chris Streveler",
          "Kyle Shurmur",
          "Devlin Hodges",
          "Brett Rypien",
          "Kyle Allen",
          "Brett Rypien",
          "Kyle Sloter",
          "Brett Rypien",
          "Brad Kaaya",
          "Anthony Brown",
          "Tyler Huntley",
          "Anthony Brown",
          "Tyler Huntley",
          "Anthony Brown",
          "Tyler Huntley",
          "Steven Montez",
          "Jarrett Guarantano",
          "Anthony Brown",
          "Jarrett Guarantano",
          "Jarrett Guarantano",
          "Reid Sinnett",
          "Shane Buechele",
          "Steven Montez",
          "Bryce Perkins",
          "Tyler Wilson",
          "Reid Sinnett",
          "David Fales",
          "Chandler Harnish",
          "Kyle Allen",
          "Kyle Allen",
          "Devlin Hodges",
          "Kyle Shurmur",
          "Kyle Shurmur",
          "Reid Sinnett",
          "Steven Montez",
          "Reid Sinnett",
          "Chase Daniel"
         ],
         "legendgroup": "Rookie deal",
         "marker": {
          "color": "rgb(85,168,104)",
          "symbol": "circle"
         },
         "mode": "markers",
         "name": "Rookie deal",
         "orientation": "v",
         "showlegend": true,
         "type": "scatter",
         "x": [
          2010,
          2002,
          2008,
          2005,
          2007,
          2010,
          2001,
          2003,
          2005,
          2004,
          2009,
          2006,
          2004,
          2021,
          2021,
          2021,
          2019,
          2018,
          2012,
          2011,
          2020,
          2016,
          2015,
          2017,
          2016,
          2018,
          2015,
          2008,
          2014,
          2020,
          2019,
          2020,
          2018,
          2012,
          2011,
          2021,
          2011,
          2018,
          2017,
          2009,
          2021,
          2011,
          2017,
          2019,
          2013,
          2005,
          2022,
          2012,
          2020,
          2014,
          2016,
          2001,
          2018,
          2014,
          2011,
          2011,
          2013,
          2014,
          2019,
          2020,
          2021,
          2016,
          2016,
          2017,
          2008,
          2012,
          2021,
          2021,
          2014,
          2002,
          2022,
          2013,
          2012,
          2022,
          2011,
          2015,
          2012,
          2021,
          2006,
          2015,
          2004,
          2013,
          2018,
          2016,
          2016,
          2017,
          2005,
          2012,
          2013,
          2013,
          2013,
          2017,
          2022,
          2019,
          2020,
          2020,
          2021,
          2015,
          2010,
          2022,
          2016,
          2014,
          2011,
          2011,
          2011,
          2012,
          2014,
          2020,
          2013,
          2022,
          2022,
          2018,
          2021,
          2021,
          2011,
          2012,
          2017,
          2014,
          2019,
          2014,
          2020,
          2016,
          2016,
          2015,
          2020,
          2013,
          2005,
          2019,
          2022,
          2022,
          2022,
          2015,
          2021,
          2008,
          2013,
          2012,
          2016,
          2016,
          2017,
          2016,
          2010,
          2020,
          2020,
          2020,
          2020,
          2014,
          2022,
          2005,
          2018,
          2017,
          2019,
          2005,
          2015,
          2018,
          2019,
          2019,
          2016,
          2020,
          2007,
          2017,
          2017,
          2017,
          2017,
          2013,
          2018,
          2009,
          2018,
          2009,
          2009,
          2016,
          2016,
          2016,
          2019,
          2019,
          2019,
          2019,
          2019,
          2017,
          2020,
          2019,
          2019,
          2019,
          2018,
          2019,
          2017,
          2019,
          2017,
          2022,
          2020,
          2022,
          2020,
          2022,
          2020,
          2020,
          2022,
          2022,
          2022,
          2022,
          2020,
          2021,
          2020,
          2020,
          2013,
          2020,
          2014,
          2012,
          2018,
          2018,
          2019,
          2019,
          2019,
          2020,
          2020,
          2020,
          2009
         ],
         "xaxis": "x",
         "y": [
          13,
          6.964286,
          11.25,
          8.25,
          10.166667,
          12,
          6.216667,
          6.666667,
          7.5,
          6.875,
          9.5,
          5.685417,
          4.20325,
          9.198372,
          8.787695,
          8.526315,
          8.789661,
          8.170745,
          5.527,
          5.506375,
          9.047534,
          6.984418,
          6.337819,
          7.258109,
          6.669085,
          7.561924,
          6.053494,
          4.76,
          5.163701,
          7.568859,
          6.416014,
          6.644689,
          5.295759,
          3.167128,
          3.146501,
          4.717988,
          3.000412,
          4.39944,
          4.106491,
          2.7,
          3.896585,
          2.539675,
          3.463621,
          3.604154,
          2.221325,
          1.531,
          3.516976,
          2.020899,
          3.095868,
          2.062149,
          2.369077,
          0.90125,
          2.367913,
          1.712376,
          1.30355,
          1.281074,
          1.254901,
          1.342951,
          1.752705,
          1.506294,
          1.383834,
          1.165076,
          1.165076,
          1.237103,
          0.857525,
          0.87917,
          1.305853,
          1.305525,
          0.870975,
          0.462667,
          1.340741,
          0.776016,
          0.749194,
          1.290025,
          0.736957,
          0.850152,
          0.69213,
          1.038395,
          0.5795,
          0.812724,
          0.455,
          0.684882,
          0.980467,
          0.852708,
          0.847271,
          0.902832,
          0.46075,
          0.643172,
          0.6534,
          0.652725,
          0.649805,
          0.882162,
          1.076768,
          0.963249,
          1.006816,
          1.002566,
          0.902676,
          0.708424,
          0.63525,
          1.0054,
          0.739972,
          0.630146,
          0.562763,
          0.55625,
          0.552215,
          0.551327,
          0.606856,
          0.89949,
          0.55485,
          0.935552,
          0.934253,
          0.791925,
          0.813333,
          0.813333,
          0.536327,
          0.536474,
          0.739781,
          0.586279,
          0.827414,
          0.583556,
          0.869189,
          0.680848,
          0.680848,
          0.625908,
          0.847537,
          0.52205,
          0.35975,
          0.789028,
          0.86,
          0.853333,
          0.853333,
          0.583196,
          0.7425,
          0.469375,
          0.495,
          0.481667,
          0.619334,
          0.616068,
          0.659877,
          0.613135,
          0.508129,
          0.765,
          0.765,
          0.763333,
          0.763333,
          0.51,
          0.7925,
          0.324833,
          0.669389,
          0.630839,
          0.699655,
          0.31775,
          0.528333,
          0.652208,
          0.677904,
          0.670172,
          0.545,
          0.695,
          0.376667,
          0.556667,
          0.556667,
          0.555,
          0.555,
          0.405,
          0.581,
          0.399167,
          0.572,
          0.3955,
          0.395,
          0.495,
          0.495,
          0.495,
          0.591667,
          0.588333,
          0.588333,
          0.586667,
          0.585333,
          0.51,
          0.6,
          0.54,
          0.54,
          0.54,
          0.4875,
          0.494989,
          0.34,
          0.34,
          0.255,
          0.290001,
          0.252728,
          0.262334,
          0.225246,
          0.234667,
          0.197764,
          0.197764,
          0.207,
          0.207,
          0.207,
          0.207,
          0.189364,
          0.1656,
          0.170282,
          0.170282,
          0.102,
          0.161882,
          0.1071,
          0.0969,
          0.1292,
          0.1292,
          0.136,
          0.136,
          0.136,
          0.1428,
          0.1428,
          0.1428,
          0.0884
         ],
         "yaxis": "y"
        }
       ],
       "layout": {
        "legend": {
         "title": {
          "text": "contract_type"
         },
         "tracegroupgap": 0
        },
        "margin": {
         "t": 60
        },
        "template": {
         "data": {
          "bar": [
           {
            "error_x": {
             "color": "rgb(36,36,36)"
            },
            "error_y": {
             "color": "rgb(36,36,36)"
            },
            "marker": {
             "line": {
              "color": "rgb(234,234,242)",
              "width": 0.5
             },
             "pattern": {
              "fillmode": "overlay",
              "size": 10,
              "solidity": 0.2
             }
            },
            "type": "bar"
           }
          ],
          "barpolar": [
           {
            "marker": {
             "line": {
              "color": "rgb(234,234,242)",
              "width": 0.5
             },
             "pattern": {
              "fillmode": "overlay",
              "size": 10,
              "solidity": 0.2
             }
            },
            "type": "barpolar"
           }
          ],
          "carpet": [
           {
            "aaxis": {
             "endlinecolor": "rgb(36,36,36)",
             "gridcolor": "white",
             "linecolor": "white",
             "minorgridcolor": "white",
             "startlinecolor": "rgb(36,36,36)"
            },
            "baxis": {
             "endlinecolor": "rgb(36,36,36)",
             "gridcolor": "white",
             "linecolor": "white",
             "minorgridcolor": "white",
             "startlinecolor": "rgb(36,36,36)"
            },
            "type": "carpet"
           }
          ],
          "choropleth": [
           {
            "colorbar": {
             "outlinewidth": 0,
             "tickcolor": "rgb(36,36,36)",
             "ticklen": 8,
             "ticks": "outside",
             "tickwidth": 2
            },
            "type": "choropleth"
           }
          ],
          "contour": [
           {
            "colorbar": {
             "outlinewidth": 0,
             "tickcolor": "rgb(36,36,36)",
             "ticklen": 8,
             "ticks": "outside",
             "tickwidth": 2
            },
            "colorscale": [
             [
              0,
              "rgb(2,4,25)"
             ],
             [
              0.06274509803921569,
              "rgb(24,15,41)"
             ],
             [
              0.12549019607843137,
              "rgb(47,23,57)"
             ],
             [
              0.18823529411764706,
              "rgb(71,28,72)"
             ],
             [
              0.25098039215686274,
              "rgb(97,30,82)"
             ],
             [
              0.3137254901960784,
              "rgb(123,30,89)"
             ],
             [
              0.3764705882352941,
              "rgb(150,27,91)"
             ],
             [
              0.4392156862745098,
              "rgb(177,22,88)"
             ],
             [
              0.5019607843137255,
              "rgb(203,26,79)"
             ],
             [
              0.5647058823529412,
              "rgb(223,47,67)"
             ],
             [
              0.6274509803921569,
              "rgb(236,76,61)"
             ],
             [
              0.6901960784313725,
              "rgb(242,107,73)"
             ],
             [
              0.7529411764705882,
              "rgb(244,135,95)"
             ],
             [
              0.8156862745098039,
              "rgb(245,162,122)"
             ],
             [
              0.8784313725490196,
              "rgb(246,188,153)"
             ],
             [
              0.9411764705882353,
              "rgb(247,212,187)"
             ],
             [
              1,
              "rgb(250,234,220)"
             ]
            ],
            "type": "contour"
           }
          ],
          "contourcarpet": [
           {
            "colorbar": {
             "outlinewidth": 0,
             "tickcolor": "rgb(36,36,36)",
             "ticklen": 8,
             "ticks": "outside",
             "tickwidth": 2
            },
            "type": "contourcarpet"
           }
          ],
          "heatmap": [
           {
            "colorbar": {
             "outlinewidth": 0,
             "tickcolor": "rgb(36,36,36)",
             "ticklen": 8,
             "ticks": "outside",
             "tickwidth": 2
            },
            "colorscale": [
             [
              0,
              "rgb(2,4,25)"
             ],
             [
              0.06274509803921569,
              "rgb(24,15,41)"
             ],
             [
              0.12549019607843137,
              "rgb(47,23,57)"
             ],
             [
              0.18823529411764706,
              "rgb(71,28,72)"
             ],
             [
              0.25098039215686274,
              "rgb(97,30,82)"
             ],
             [
              0.3137254901960784,
              "rgb(123,30,89)"
             ],
             [
              0.3764705882352941,
              "rgb(150,27,91)"
             ],
             [
              0.4392156862745098,
              "rgb(177,22,88)"
             ],
             [
              0.5019607843137255,
              "rgb(203,26,79)"
             ],
             [
              0.5647058823529412,
              "rgb(223,47,67)"
             ],
             [
              0.6274509803921569,
              "rgb(236,76,61)"
             ],
             [
              0.6901960784313725,
              "rgb(242,107,73)"
             ],
             [
              0.7529411764705882,
              "rgb(244,135,95)"
             ],
             [
              0.8156862745098039,
              "rgb(245,162,122)"
             ],
             [
              0.8784313725490196,
              "rgb(246,188,153)"
             ],
             [
              0.9411764705882353,
              "rgb(247,212,187)"
             ],
             [
              1,
              "rgb(250,234,220)"
             ]
            ],
            "type": "heatmap"
           }
          ],
          "heatmapgl": [
           {
            "colorbar": {
             "outlinewidth": 0,
             "tickcolor": "rgb(36,36,36)",
             "ticklen": 8,
             "ticks": "outside",
             "tickwidth": 2
            },
            "colorscale": [
             [
              0,
              "rgb(2,4,25)"
             ],
             [
              0.06274509803921569,
              "rgb(24,15,41)"
             ],
             [
              0.12549019607843137,
              "rgb(47,23,57)"
             ],
             [
              0.18823529411764706,
              "rgb(71,28,72)"
             ],
             [
              0.25098039215686274,
              "rgb(97,30,82)"
             ],
             [
              0.3137254901960784,
              "rgb(123,30,89)"
             ],
             [
              0.3764705882352941,
              "rgb(150,27,91)"
             ],
             [
              0.4392156862745098,
              "rgb(177,22,88)"
             ],
             [
              0.5019607843137255,
              "rgb(203,26,79)"
             ],
             [
              0.5647058823529412,
              "rgb(223,47,67)"
             ],
             [
              0.6274509803921569,
              "rgb(236,76,61)"
             ],
             [
              0.6901960784313725,
              "rgb(242,107,73)"
             ],
             [
              0.7529411764705882,
              "rgb(244,135,95)"
             ],
             [
              0.8156862745098039,
              "rgb(245,162,122)"
             ],
             [
              0.8784313725490196,
              "rgb(246,188,153)"
             ],
             [
              0.9411764705882353,
              "rgb(247,212,187)"
             ],
             [
              1,
              "rgb(250,234,220)"
             ]
            ],
            "type": "heatmapgl"
           }
          ],
          "histogram": [
           {
            "marker": {
             "pattern": {
              "fillmode": "overlay",
              "size": 10,
              "solidity": 0.2
             }
            },
            "type": "histogram"
           }
          ],
          "histogram2d": [
           {
            "colorbar": {
             "outlinewidth": 0,
             "tickcolor": "rgb(36,36,36)",
             "ticklen": 8,
             "ticks": "outside",
             "tickwidth": 2
            },
            "colorscale": [
             [
              0,
              "rgb(2,4,25)"
             ],
             [
              0.06274509803921569,
              "rgb(24,15,41)"
             ],
             [
              0.12549019607843137,
              "rgb(47,23,57)"
             ],
             [
              0.18823529411764706,
              "rgb(71,28,72)"
             ],
             [
              0.25098039215686274,
              "rgb(97,30,82)"
             ],
             [
              0.3137254901960784,
              "rgb(123,30,89)"
             ],
             [
              0.3764705882352941,
              "rgb(150,27,91)"
             ],
             [
              0.4392156862745098,
              "rgb(177,22,88)"
             ],
             [
              0.5019607843137255,
              "rgb(203,26,79)"
             ],
             [
              0.5647058823529412,
              "rgb(223,47,67)"
             ],
             [
              0.6274509803921569,
              "rgb(236,76,61)"
             ],
             [
              0.6901960784313725,
              "rgb(242,107,73)"
             ],
             [
              0.7529411764705882,
              "rgb(244,135,95)"
             ],
             [
              0.8156862745098039,
              "rgb(245,162,122)"
             ],
             [
              0.8784313725490196,
              "rgb(246,188,153)"
             ],
             [
              0.9411764705882353,
              "rgb(247,212,187)"
             ],
             [
              1,
              "rgb(250,234,220)"
             ]
            ],
            "type": "histogram2d"
           }
          ],
          "histogram2dcontour": [
           {
            "colorbar": {
             "outlinewidth": 0,
             "tickcolor": "rgb(36,36,36)",
             "ticklen": 8,
             "ticks": "outside",
             "tickwidth": 2
            },
            "colorscale": [
             [
              0,
              "rgb(2,4,25)"
             ],
             [
              0.06274509803921569,
              "rgb(24,15,41)"
             ],
             [
              0.12549019607843137,
              "rgb(47,23,57)"
             ],
             [
              0.18823529411764706,
              "rgb(71,28,72)"
             ],
             [
              0.25098039215686274,
              "rgb(97,30,82)"
             ],
             [
              0.3137254901960784,
              "rgb(123,30,89)"
             ],
             [
              0.3764705882352941,
              "rgb(150,27,91)"
             ],
             [
              0.4392156862745098,
              "rgb(177,22,88)"
             ],
             [
              0.5019607843137255,
              "rgb(203,26,79)"
             ],
             [
              0.5647058823529412,
              "rgb(223,47,67)"
             ],
             [
              0.6274509803921569,
              "rgb(236,76,61)"
             ],
             [
              0.6901960784313725,
              "rgb(242,107,73)"
             ],
             [
              0.7529411764705882,
              "rgb(244,135,95)"
             ],
             [
              0.8156862745098039,
              "rgb(245,162,122)"
             ],
             [
              0.8784313725490196,
              "rgb(246,188,153)"
             ],
             [
              0.9411764705882353,
              "rgb(247,212,187)"
             ],
             [
              1,
              "rgb(250,234,220)"
             ]
            ],
            "type": "histogram2dcontour"
           }
          ],
          "mesh3d": [
           {
            "colorbar": {
             "outlinewidth": 0,
             "tickcolor": "rgb(36,36,36)",
             "ticklen": 8,
             "ticks": "outside",
             "tickwidth": 2
            },
            "type": "mesh3d"
           }
          ],
          "parcoords": [
           {
            "line": {
             "colorbar": {
              "outlinewidth": 0,
              "tickcolor": "rgb(36,36,36)",
              "ticklen": 8,
              "ticks": "outside",
              "tickwidth": 2
             }
            },
            "type": "parcoords"
           }
          ],
          "pie": [
           {
            "automargin": true,
            "type": "pie"
           }
          ],
          "scatter": [
           {
            "fillpattern": {
             "fillmode": "overlay",
             "size": 10,
             "solidity": 0.2
            },
            "type": "scatter"
           }
          ],
          "scatter3d": [
           {
            "line": {
             "colorbar": {
              "outlinewidth": 0,
              "tickcolor": "rgb(36,36,36)",
              "ticklen": 8,
              "ticks": "outside",
              "tickwidth": 2
             }
            },
            "marker": {
             "colorbar": {
              "outlinewidth": 0,
              "tickcolor": "rgb(36,36,36)",
              "ticklen": 8,
              "ticks": "outside",
              "tickwidth": 2
             }
            },
            "type": "scatter3d"
           }
          ],
          "scattercarpet": [
           {
            "marker": {
             "colorbar": {
              "outlinewidth": 0,
              "tickcolor": "rgb(36,36,36)",
              "ticklen": 8,
              "ticks": "outside",
              "tickwidth": 2
             }
            },
            "type": "scattercarpet"
           }
          ],
          "scattergeo": [
           {
            "marker": {
             "colorbar": {
              "outlinewidth": 0,
              "tickcolor": "rgb(36,36,36)",
              "ticklen": 8,
              "ticks": "outside",
              "tickwidth": 2
             }
            },
            "type": "scattergeo"
           }
          ],
          "scattergl": [
           {
            "marker": {
             "colorbar": {
              "outlinewidth": 0,
              "tickcolor": "rgb(36,36,36)",
              "ticklen": 8,
              "ticks": "outside",
              "tickwidth": 2
             }
            },
            "type": "scattergl"
           }
          ],
          "scattermapbox": [
           {
            "marker": {
             "colorbar": {
              "outlinewidth": 0,
              "tickcolor": "rgb(36,36,36)",
              "ticklen": 8,
              "ticks": "outside",
              "tickwidth": 2
             }
            },
            "type": "scattermapbox"
           }
          ],
          "scatterpolar": [
           {
            "marker": {
             "colorbar": {
              "outlinewidth": 0,
              "tickcolor": "rgb(36,36,36)",
              "ticklen": 8,
              "ticks": "outside",
              "tickwidth": 2
             }
            },
            "type": "scatterpolar"
           }
          ],
          "scatterpolargl": [
           {
            "marker": {
             "colorbar": {
              "outlinewidth": 0,
              "tickcolor": "rgb(36,36,36)",
              "ticklen": 8,
              "ticks": "outside",
              "tickwidth": 2
             }
            },
            "type": "scatterpolargl"
           }
          ],
          "scatterternary": [
           {
            "marker": {
             "colorbar": {
              "outlinewidth": 0,
              "tickcolor": "rgb(36,36,36)",
              "ticklen": 8,
              "ticks": "outside",
              "tickwidth": 2
             }
            },
            "type": "scatterternary"
           }
          ],
          "surface": [
           {
            "colorbar": {
             "outlinewidth": 0,
             "tickcolor": "rgb(36,36,36)",
             "ticklen": 8,
             "ticks": "outside",
             "tickwidth": 2
            },
            "colorscale": [
             [
              0,
              "rgb(2,4,25)"
             ],
             [
              0.06274509803921569,
              "rgb(24,15,41)"
             ],
             [
              0.12549019607843137,
              "rgb(47,23,57)"
             ],
             [
              0.18823529411764706,
              "rgb(71,28,72)"
             ],
             [
              0.25098039215686274,
              "rgb(97,30,82)"
             ],
             [
              0.3137254901960784,
              "rgb(123,30,89)"
             ],
             [
              0.3764705882352941,
              "rgb(150,27,91)"
             ],
             [
              0.4392156862745098,
              "rgb(177,22,88)"
             ],
             [
              0.5019607843137255,
              "rgb(203,26,79)"
             ],
             [
              0.5647058823529412,
              "rgb(223,47,67)"
             ],
             [
              0.6274509803921569,
              "rgb(236,76,61)"
             ],
             [
              0.6901960784313725,
              "rgb(242,107,73)"
             ],
             [
              0.7529411764705882,
              "rgb(244,135,95)"
             ],
             [
              0.8156862745098039,
              "rgb(245,162,122)"
             ],
             [
              0.8784313725490196,
              "rgb(246,188,153)"
             ],
             [
              0.9411764705882353,
              "rgb(247,212,187)"
             ],
             [
              1,
              "rgb(250,234,220)"
             ]
            ],
            "type": "surface"
           }
          ],
          "table": [
           {
            "cells": {
             "fill": {
              "color": "rgb(231,231,240)"
             },
             "line": {
              "color": "white"
             }
            },
            "header": {
             "fill": {
              "color": "rgb(183,183,191)"
             },
             "line": {
              "color": "white"
             }
            },
            "type": "table"
           }
          ]
         },
         "layout": {
          "annotationdefaults": {
           "arrowcolor": "rgb(67,103,167)"
          },
          "autotypenumbers": "strict",
          "coloraxis": {
           "colorbar": {
            "outlinewidth": 0,
            "tickcolor": "rgb(36,36,36)",
            "ticklen": 8,
            "ticks": "outside",
            "tickwidth": 2
           }
          },
          "colorscale": {
           "sequential": [
            [
             0,
             "rgb(2,4,25)"
            ],
            [
             0.06274509803921569,
             "rgb(24,15,41)"
            ],
            [
             0.12549019607843137,
             "rgb(47,23,57)"
            ],
            [
             0.18823529411764706,
             "rgb(71,28,72)"
            ],
            [
             0.25098039215686274,
             "rgb(97,30,82)"
            ],
            [
             0.3137254901960784,
             "rgb(123,30,89)"
            ],
            [
             0.3764705882352941,
             "rgb(150,27,91)"
            ],
            [
             0.4392156862745098,
             "rgb(177,22,88)"
            ],
            [
             0.5019607843137255,
             "rgb(203,26,79)"
            ],
            [
             0.5647058823529412,
             "rgb(223,47,67)"
            ],
            [
             0.6274509803921569,
             "rgb(236,76,61)"
            ],
            [
             0.6901960784313725,
             "rgb(242,107,73)"
            ],
            [
             0.7529411764705882,
             "rgb(244,135,95)"
            ],
            [
             0.8156862745098039,
             "rgb(245,162,122)"
            ],
            [
             0.8784313725490196,
             "rgb(246,188,153)"
            ],
            [
             0.9411764705882353,
             "rgb(247,212,187)"
            ],
            [
             1,
             "rgb(250,234,220)"
            ]
           ],
           "sequentialminus": [
            [
             0,
             "rgb(2,4,25)"
            ],
            [
             0.06274509803921569,
             "rgb(24,15,41)"
            ],
            [
             0.12549019607843137,
             "rgb(47,23,57)"
            ],
            [
             0.18823529411764706,
             "rgb(71,28,72)"
            ],
            [
             0.25098039215686274,
             "rgb(97,30,82)"
            ],
            [
             0.3137254901960784,
             "rgb(123,30,89)"
            ],
            [
             0.3764705882352941,
             "rgb(150,27,91)"
            ],
            [
             0.4392156862745098,
             "rgb(177,22,88)"
            ],
            [
             0.5019607843137255,
             "rgb(203,26,79)"
            ],
            [
             0.5647058823529412,
             "rgb(223,47,67)"
            ],
            [
             0.6274509803921569,
             "rgb(236,76,61)"
            ],
            [
             0.6901960784313725,
             "rgb(242,107,73)"
            ],
            [
             0.7529411764705882,
             "rgb(244,135,95)"
            ],
            [
             0.8156862745098039,
             "rgb(245,162,122)"
            ],
            [
             0.8784313725490196,
             "rgb(246,188,153)"
            ],
            [
             0.9411764705882353,
             "rgb(247,212,187)"
            ],
            [
             1,
             "rgb(250,234,220)"
            ]
           ]
          },
          "colorway": [
           "rgb(76,114,176)",
           "rgb(221,132,82)",
           "rgb(85,168,104)",
           "rgb(196,78,82)",
           "rgb(129,114,179)",
           "rgb(147,120,96)",
           "rgb(218,139,195)",
           "rgb(140,140,140)",
           "rgb(204,185,116)",
           "rgb(100,181,205)"
          ],
          "font": {
           "color": "rgb(36,36,36)"
          },
          "geo": {
           "bgcolor": "white",
           "lakecolor": "white",
           "landcolor": "rgb(234,234,242)",
           "showlakes": true,
           "showland": true,
           "subunitcolor": "white"
          },
          "hoverlabel": {
           "align": "left"
          },
          "hovermode": "closest",
          "paper_bgcolor": "white",
          "plot_bgcolor": "rgb(234,234,242)",
          "polar": {
           "angularaxis": {
            "gridcolor": "white",
            "linecolor": "white",
            "showgrid": true,
            "ticks": ""
           },
           "bgcolor": "rgb(234,234,242)",
           "radialaxis": {
            "gridcolor": "white",
            "linecolor": "white",
            "showgrid": true,
            "ticks": ""
           }
          },
          "scene": {
           "xaxis": {
            "backgroundcolor": "rgb(234,234,242)",
            "gridcolor": "white",
            "gridwidth": 2,
            "linecolor": "white",
            "showbackground": true,
            "showgrid": true,
            "ticks": "",
            "zerolinecolor": "white"
           },
           "yaxis": {
            "backgroundcolor": "rgb(234,234,242)",
            "gridcolor": "white",
            "gridwidth": 2,
            "linecolor": "white",
            "showbackground": true,
            "showgrid": true,
            "ticks": "",
            "zerolinecolor": "white"
           },
           "zaxis": {
            "backgroundcolor": "rgb(234,234,242)",
            "gridcolor": "white",
            "gridwidth": 2,
            "linecolor": "white",
            "showbackground": true,
            "showgrid": true,
            "ticks": "",
            "zerolinecolor": "white"
           }
          },
          "shapedefaults": {
           "fillcolor": "rgb(67,103,167)",
           "line": {
            "width": 0
           },
           "opacity": 0.5
          },
          "ternary": {
           "aaxis": {
            "gridcolor": "white",
            "linecolor": "white",
            "showgrid": true,
            "ticks": ""
           },
           "baxis": {
            "gridcolor": "white",
            "linecolor": "white",
            "showgrid": true,
            "ticks": ""
           },
           "bgcolor": "rgb(234,234,242)",
           "caxis": {
            "gridcolor": "white",
            "linecolor": "white",
            "showgrid": true,
            "ticks": ""
           }
          },
          "xaxis": {
           "automargin": true,
           "gridcolor": "white",
           "linecolor": "white",
           "showgrid": true,
           "ticks": "",
           "title": {
            "standoff": 15
           },
           "zerolinecolor": "white"
          },
          "yaxis": {
           "automargin": true,
           "gridcolor": "white",
           "linecolor": "white",
           "showgrid": true,
           "ticks": "",
           "title": {
            "standoff": 15
           },
           "zerolinecolor": "white"
          }
         }
        },
        "xaxis": {
         "anchor": "y",
         "domain": [
          0,
          1
         ],
         "title": {
          "text": "year_signed"
         }
        },
        "yaxis": {
         "anchor": "x",
         "domain": [
          0,
          1
         ],
         "title": {
          "text": "apy"
         }
        }
       }
      }
     },
     "metadata": {},
     "output_type": "display_data"
    }
   ],
   "source": [
    "\n",
    "fig = px.scatter(df, x = 'year_signed', y = 'apy', color = 'contract_type',\n",
    "    custom_data = ['player', 'apy', 'apy_cap_pct'],\n",
    "    hover_name = df['player'],\n",
    "    template='seaborn')\n",
    "\n",
    "fig.update_traces(\n",
    "    hovertemplate=\"<br>\".join([\n",
    "        \"%{customdata[0]}\",\n",
    "        \"$%{customdata[1]:.2f}M\"\n",
    "    ])\n",
    ")\n",
    "fig.show()"
   ]
  },
  {
   "cell_type": "code",
   "execution_count": 33,
   "id": "bbb71527-335d-4319-80ef-6d767c8ca6ec",
   "metadata": {},
   "outputs": [
    {
     "data": {
      "text/plain": [
       "<Axes.ArtistList of 3 lines>"
      ]
     },
     "execution_count": 33,
     "metadata": {},
     "output_type": "execute_result"
    }
   ],
   "source": [
    "ax[0].lines"
   ]
  },
  {
   "cell_type": "code",
   "execution_count": null,
   "id": "9ffb2194-1f27-4ca4-b11e-1e6c007c6221",
   "metadata": {},
   "outputs": [],
   "source": []
  },
  {
   "cell_type": "code",
   "execution_count": 34,
   "id": "39034d5d-550a-49d6-8932-ddcb47388179",
   "metadata": {},
   "outputs": [
    {
     "ename": "NameError",
     "evalue": "name 'qb_contracts_df_2' is not defined",
     "output_type": "error",
     "traceback": [
      "\u001b[0;31m---------------------------------------------------------------------------\u001b[0m",
      "\u001b[0;31mNameError\u001b[0m                                 Traceback (most recent call last)",
      "Cell \u001b[0;32mIn [34], line 1\u001b[0m\n\u001b[0;32m----> 1\u001b[0m qb_contracts_df_2[qb_contracts_df_2[\u001b[39m'\u001b[39m\u001b[39mplayer\u001b[39m\u001b[39m'\u001b[39m]\u001b[39m==\u001b[39m\u001b[39m'\u001b[39m\u001b[39mTony Romo\u001b[39m\u001b[39m'\u001b[39m]\u001b[39m.\u001b[39mhead(\u001b[39m13\u001b[39m)\n",
      "\u001b[0;31mNameError\u001b[0m: name 'qb_contracts_df_2' is not defined"
     ]
    }
   ],
   "source": [
    "qb_contracts_df_2[qb_contracts_df_2['player']=='Tony Romo'].head(13)"
   ]
  },
  {
   "cell_type": "code",
   "execution_count": null,
   "id": "06aee2d9-1a8a-4bd0-860d-d2437f2f008c",
   "metadata": {},
   "outputs": [],
   "source": [
    "qb_depth_df_2[qb_depth_df_2['full_name']=='Carson Wentz'].sort_values(['season', 'week'])"
   ]
  },
  {
   "cell_type": "code",
   "execution_count": null,
   "id": "a81a3c4e-9729-493c-9369-c57b4170a720",
   "metadata": {},
   "outputs": [],
   "source": [
    "pbp = nfl.import_pbp_data([2021])"
   ]
  },
  {
   "cell_type": "code",
   "execution_count": null,
   "id": "07c23f24-b899-452a-9c48-22ad0407d90f",
   "metadata": {},
   "outputs": [],
   "source": [
    "pbp.head()"
   ]
  },
  {
   "cell_type": "code",
   "execution_count": null,
   "id": "58c922b7-21aa-4d89-86ab-636144915013",
   "metadata": {},
   "outputs": [],
   "source": [
    "season = nfl.import_seasonal_data([2021])"
   ]
  },
  {
   "cell_type": "code",
   "execution_count": null,
   "id": "904c1cb6-50c6-4cb7-b626-f87808231bea",
   "metadata": {},
   "outputs": [],
   "source": [
    "season.columns"
   ]
  },
  {
   "cell_type": "code",
   "execution_count": null,
   "id": "82c6e957-a99b-4b4b-9f92-b0ec61647626",
   "metadata": {},
   "outputs": [],
   "source": [
    "season.games"
   ]
  },
  {
   "cell_type": "code",
   "execution_count": null,
   "id": "d8c1b470-34bf-461e-b2d2-8880b3709623",
   "metadata": {},
   "outputs": [],
   "source": []
  }
 ],
 "metadata": {
  "kernelspec": {
   "display_name": "Python 3.8.1 ('.NFL')",
   "language": "python",
   "name": "python3"
  },
  "language_info": {
   "codemirror_mode": {
    "name": "ipython",
    "version": 3
   },
   "file_extension": ".py",
   "mimetype": "text/x-python",
   "name": "python",
   "nbconvert_exporter": "python",
   "pygments_lexer": "ipython3",
   "version": "3.8.1"
  },
  "vscode": {
   "interpreter": {
    "hash": "dfc49559d9ec39c0be50f39d27eaf261bcfde5b6595da5c081c891eba5d098ea"
   }
  }
 },
 "nbformat": 4,
 "nbformat_minor": 5
}
