{
 "cells": [
  {
   "cell_type": "code",
   "execution_count": 1,
   "id": "4cbc9d62-cc92-4388-8f47-6f3aecad8e39",
   "metadata": {},
   "outputs": [],
   "source": [
    "import nfl_data_py as nfl\n",
    "import pandas as pd\n",
    "import matplotlib.pyplot as plt\n",
    "import numpy as np\n"
   ]
  },
  {
   "cell_type": "code",
   "execution_count": 2,
   "id": "47e96ea4-9511-4356-b985-2b4287cbb3a5",
   "metadata": {},
   "outputs": [
    {
     "data": {
      "text/plain": [
       "Index(['player', 'position', 'team', 'is_active', 'year_signed', 'years',\n",
       "       'value', 'apy', 'guaranteed', 'apy_cap_pct', 'inflated_value',\n",
       "       'inflated_apy', 'inflated_guaranteed', 'player_page', 'otc_id',\n",
       "       'date_of_birth', 'height', 'weight', 'college', 'draft_year',\n",
       "       'draft_round', 'draft_overall', 'draft_team', 'cols'],\n",
       "      dtype='object')"
      ]
     },
     "execution_count": 2,
     "metadata": {},
     "output_type": "execute_result"
    }
   ],
   "source": [
    "contracts_df = nfl.import_contracts()\n",
    "contracts_df.columns"
   ]
  },
  {
   "cell_type": "code",
   "execution_count": 3,
   "id": "b0fdc623-3ae0-4e8e-a73d-fb6f9927f4e8",
   "metadata": {},
   "outputs": [
    {
     "data": {
      "text/plain": [
       "Index(['season', 'club_code', 'week', 'game_type', 'depth_team', 'last_name',\n",
       "       'first_name', 'football_name', 'formation', 'gsis_id', 'jersey_number',\n",
       "       'position', 'elias_id', 'depth_position', 'full_name'],\n",
       "      dtype='object')"
      ]
     },
     "execution_count": 3,
     "metadata": {},
     "output_type": "execute_result"
    }
   ],
   "source": [
    "depth_df = nfl.import_depth_charts(years = range(2001,2023))\n",
    "depth_df.columns"
   ]
  },
  {
   "cell_type": "code",
   "execution_count": 4,
   "id": "69961ba5-bd00-48f1-9864-abbbc5dbfab3",
   "metadata": {},
   "outputs": [
    {
     "name": "stdout",
     "output_type": "stream",
     "text": [
      "depth_df['position']:\n",
      "['CB' 'FS' 'SS' 'QB' 'FB' 'DT' 'WR' 'P' 'T' 'RB' 'DE' 'G' 'OLB' 'C' 'TE'\n",
      " 'MLB' 'LS' 'K' 'ILB' 'NT' 'LB' 'S' 'UK' 'KR' 'DB' 'PR']\n",
      "depth_df['depth_position']:\n",
      "['RCB' 'FS' 'LCB' 'PR' 'SS' 'QB' 'FB' 'RT' 'WR' 'H' 'P' 'LT' 'RB' 'KR'\n",
      " 'RDE' 'LDE' 'RG' 'SLB' 'MLB' 'WLB' 'LG' 'TE' 'C' 'LS' 'K' 'RDT' 'LDT'\n",
      " 'OLB' 'DE' 'DT' 'CB' 'G' 'T' 'NT' 'NG' 'ILB' 'DL' 'HB' 'UT' 'LLB' 'RLB'\n",
      " 'WILB' 'LILB' 'LOLB' 'RILB' 'ROLB' 'BLB' 'RE' 'PC/KC' 'LE' 'KC' 'PC' 'KO'\n",
      " '\\n    ' 'KOR' 'JACK' 'WE' 'SAM' 'WILL' 'FL' 'SE' 'H\\nH' 'KO/LS' 'PK' 'S'\n",
      " 'MIKE' 'FG' 'ROT' 'LOT' 'JLB' ' LE' 'TE/LS' 'DB' 'OE' 'PS' 'P\\n' '\\n'\n",
      " 'H-B' 'HO' 'LB' '78' '87' '--' 'LS/TE' 'MOLB' 'MILB' '\\nWR' 'FS\\n' 'LBE'\n",
      " 'LB/DE' 'DE/LB' 'R' 'DDE' 'FB/TE' 'RWR' 'LWR' 'END' 'WL' 'SL' 'ML' 'OC'\n",
      " 'TED' 'RUSH' 'OL' ' RB' 'RBC' 'LSB' 'LC' ' LOLB' 'KOS' ' QB' 'LT\\n' 'MO'\n",
      " 'SAM\\n' 'K222' 'TE/FB' 'F' ' LT' 'NICK' 'RDE\\n' 'TE/HB' 'OL B' 'WIL'\n",
      " 'LEO' 'DS' 'RB`' ' WR' 'NKL' '2' 'HB/TE' ' FB' 'NOSE' 'CS' 'WS' 'PH' ' H'\n",
      " 'RB5' '$LB' 'LA' '9' 'OTTO' 'RB/TE' 'HB-TE' 'MCB' 'MIL' '\\nMLB' 'DL/OL'\n",
      " 'HLS' '19' 'TE\\n' 'DL44' 'NB' '21' 'RB86' 'NCB' 'K/KO' 'PF' 'NDT' 'DPR'\n",
      " 'N' 'LCR' '6' '0LB' 'P.' 'P/H' 'S47' 'LILBI' 'EDGE' '7' 'NICKE' 'LTE'\n",
      " 'RTE']\n",
      "contracts_df['position']:\n",
      "['QB' 'RB' 'FB' 'WR' 'TE' 'LT' 'LG' 'C' 'RG' 'RT' 'IDL' 'ED' 'LB' 'CB' 'S'\n",
      " 'K' 'P' 'LS']\n"
     ]
    }
   ],
   "source": [
    "print('depth_df[\\'position\\']:')\n",
    "print(depth_df['position'].unique())\n",
    "print('depth_df[\\'depth_position\\']:')\n",
    "print(depth_df['depth_position'].unique())\n",
    "print('contracts_df[\\'position\\']:')\n",
    "print(contracts_df['position'].unique())"
   ]
  },
  {
   "cell_type": "code",
   "execution_count": 5,
   "id": "213f2046-803e-437e-9263-eb82342524dc",
   "metadata": {},
   "outputs": [
    {
     "name": "stdout",
     "output_type": "stream",
     "text": [
      "['ATL' 'BAL' 'BUF' 'CAR' 'CHI' 'CIN' 'CLE' 'DAL' 'DEN' 'DET' 'GB' 'IND'\n",
      " 'JAX' 'KC' 'MIN' 'NO' 'NYJ' 'OAK' 'SD' 'SEA' 'SF' 'TB' 'TEN' 'ARI' 'MIA'\n",
      " 'NE' 'NYG' 'PHI' 'PIT' 'STL' 'WAS' 'HOU' 'LA' 'LAC' 'LV']\n",
      "['Packers' 'Bills' 'Broncos' 'Chiefs' 'Cardinals' 'Browns' 'Cowboys'\n",
      " 'Texans' 'Raiders' 'Rams' 'Bengals' 'DEN/SEA' 'Jaguars' 'Patriots'\n",
      " '49ers' 'Steelers' 'DET/LAR' 'Colts' 'NYJ/GB' 'PHI/WAS/IND' 'IND/ATL'\n",
      " 'Falcons' 'Vikings' 'Saints' 'Ravens' 'Dolphins' 'NE/BUF' 'Seahawks'\n",
      " 'Titans' 'Giants' 'Chargers' 'Panthers' 'Lions' 'Commanders' 'DEN/BAL'\n",
      " 'Buccaneers' 'Bears' 'Eagles' 'CHI/JAX' 'HOU/CLE' 'Jets' 'PHI/MIN'\n",
      " 'BUF/CLE' 'SF/KC' 'DEN/KC' 'CAR/DEN' 'CAR/NYJ' 'BUF/MIN' 'MIA/TEN'\n",
      " 'NO/NYJ']\n"
     ]
    }
   ],
   "source": [
    "print(depth_df['club_code'].unique())\n",
    "print(contracts_df['team'].unique()[0:50])"
   ]
  },
  {
   "cell_type": "code",
   "execution_count": 6,
   "id": "cd8c11f5-0399-4339-aac7-6b275fb0a3c6",
   "metadata": {},
   "outputs": [
    {
     "name": "stdout",
     "output_type": "stream",
     "text": [
      "['ATL' 'BAL' 'BUF' 'CAR' 'CHI' 'CIN' 'CLE' 'DAL' 'DEN' 'DET' 'GB' 'IND'\n",
      " 'JAX' 'KC' 'MIN' 'NO' 'NYJ' 'LV' 'SD' 'SEA' 'SF' 'TB' 'TEN' 'ARI' 'MIA'\n",
      " 'NE' 'NYG' 'PHI' 'PIT' 'LAR' 'WAS' 'HOU' 'LAC']\n"
     ]
    }
   ],
   "source": [
    "depth_df.replace(to_replace = 'LA', value = 'LAR', inplace=True)\n",
    "depth_df.replace(to_replace = 'STL', value = 'LAR', inplace=True)\n",
    "depth_df.replace(to_replace = 'OAK', value = 'LV', inplace=True)\n",
    "\n",
    "print(depth_df['club_code'].unique())\n"
   ]
  },
  {
   "cell_type": "code",
   "execution_count": 7,
   "id": "5074fa49-d341-405f-a0fd-c99bdf7d1604",
   "metadata": {},
   "outputs": [],
   "source": [
    "teamcode_dict = { \\\n",
    "                 'Eagles' : 'PHI', 'Cowboys' : 'DAL', 'Giants' : 'NYG', 'Commanders' : 'WAS', \\\n",
    "                 'Packers': 'GB', 'Vikings' : 'MIN', 'Lions' : 'DET', 'Bears' : 'CHI', \\\n",
    "                 'Saints' : 'NO', 'Buccaneers' : 'TB', 'Panthers' : 'CAR', 'Falcons' : 'ATL', \\\n",
    "                 'Rams' : 'LAR', '49ers' : 'SF', 'Seahawks' : 'SEA', 'Cardinals' : 'ARI', \\\n",
    "                 'Bills' : 'BUF', 'Patriots' : 'NE', 'Jets' : 'NYJ', 'Dolphins' : 'MIA', \\\n",
    "                 'Ravens': 'BAL', 'Steelers' : 'PIT', 'Bengals' : 'CIN', 'Browns' : 'CLE', \\\n",
    "                 'Colts' : 'IND', 'Titans' : 'TEN', 'Texans' : 'HOU', 'Jaguars' : 'JAX', \\\n",
    "                 'Chiefs' : 'KC', 'Raiders' : 'LV', 'Chargers' : 'LAC', 'Broncos' : 'DEN'\\\n",
    "                }\n",
    "\n",
    "contracts_df['team'].replace(to_replace = teamcode_dict, inplace=True)"
   ]
  },
  {
   "cell_type": "code",
   "execution_count": 8,
   "id": "f9618cd5-5d32-4f64-9ce2-6c64e8d29a4a",
   "metadata": {},
   "outputs": [],
   "source": [
    "#contracts_df[(contracts_df['team'].str.len()>4)]\n",
    "# contracts_df[(contracts_df['is_rookie_deal']) & (contracts_df['player'] == 'Sam Bradford')]"
   ]
  },
  {
   "cell_type": "code",
   "execution_count": 9,
   "id": "cbff1b7c-783e-4e33-acf9-e7ae2446123c",
   "metadata": {},
   "outputs": [],
   "source": [
    " # depth_df[['position', 'depth_position']][depth_df['position'] != depth_df['depth_position']]"
   ]
  },
  {
   "cell_type": "code",
   "execution_count": 10,
   "id": "23aa096f-73a5-4029-86a4-80ebf721d016",
   "metadata": {},
   "outputs": [],
   "source": [
    "# depth_df['depth_team'][depth_df['week']==1].head()"
   ]
  },
  {
   "cell_type": "markdown",
   "id": "0228b43d-c2f2-4b75-962d-17317cd007a4",
   "metadata": {},
   "source": [
    "### Pruning and repairing data\n",
    "\n",
    "Some issues with the data:\n",
    " - depth_df.club_code uses a 2- or 3-letter city code (e.g. PHI, DAL), while contracts_df.team uses the team name (e.g. Eagles, Cowboys) or a 2- or 3- letter code when the contract spans stints with several teams (e.g. Carson Wentz PHI/WAS/IND). NOTE, for contracts spanning multiple teams, the team code is in no particular order (oof).\n",
    " - depth_df has repeated indices. We'll reset indices once we have filtered by position."
   ]
  },
  {
   "cell_type": "code",
   "execution_count": null,
   "id": "55c8a550-a487-4b35-a99b-fb0fdcc1b9d5",
   "metadata": {},
   "outputs": [],
   "source": []
  },
  {
   "cell_type": "code",
   "execution_count": 27,
   "id": "11628b45-6e90-41cc-831f-270e1a6b9242",
   "metadata": {},
   "outputs": [],
   "source": [
    "contracts_df = contracts_df[contracts_df.year_signed > 1970]\n",
    "qb_contracts_df = contracts_df[contracts_df['position']=='QB'].reset_index()\n",
    "qb_depth_df = depth_df[depth_df['position']=='QB'].reset_index()"
   ]
  },
  {
   "cell_type": "code",
   "execution_count": 28,
   "id": "a933b030-2402-42b0-b819-42c5337b0a3b",
   "metadata": {},
   "outputs": [],
   "source": [
    "#minIdx = qb_depth_df.groupby(['full_name', 'season'], as_index=False)['week'].agg('idxmin').week.to_numpy()\n",
    "minIdx = qb_depth_df.groupby(['full_name', 'season'], as_index=False)['week'].agg('idxmin').week.to_numpy()\n",
    "qb_depth_df = qb_depth_df.loc[minIdx]"
   ]
  },
  {
   "cell_type": "code",
   "execution_count": 29,
   "id": "f0d0bb45-fa37-4946-a082-a390744de693",
   "metadata": {},
   "outputs": [
    {
     "data": {
      "text/html": [
       "<div>\n",
       "<style scoped>\n",
       "    .dataframe tbody tr th:only-of-type {\n",
       "        vertical-align: middle;\n",
       "    }\n",
       "\n",
       "    .dataframe tbody tr th {\n",
       "        vertical-align: top;\n",
       "    }\n",
       "\n",
       "    .dataframe thead th {\n",
       "        text-align: right;\n",
       "    }\n",
       "</style>\n",
       "<table border=\"1\" class=\"dataframe\">\n",
       "  <thead>\n",
       "    <tr style=\"text-align: right;\">\n",
       "      <th></th>\n",
       "      <th>index</th>\n",
       "      <th>season</th>\n",
       "      <th>club_code</th>\n",
       "      <th>week</th>\n",
       "      <th>game_type</th>\n",
       "      <th>depth_team</th>\n",
       "      <th>last_name</th>\n",
       "      <th>first_name</th>\n",
       "      <th>football_name</th>\n",
       "      <th>formation</th>\n",
       "      <th>gsis_id</th>\n",
       "      <th>jersey_number</th>\n",
       "      <th>position</th>\n",
       "      <th>elias_id</th>\n",
       "      <th>depth_position</th>\n",
       "      <th>full_name</th>\n",
       "    </tr>\n",
       "  </thead>\n",
       "  <tbody>\n",
       "    <tr>\n",
       "      <th>26240</th>\n",
       "      <td>23984</td>\n",
       "      <td>2016.0</td>\n",
       "      <td>PHI</td>\n",
       "      <td>1.0</td>\n",
       "      <td>REG</td>\n",
       "      <td>1</td>\n",
       "      <td>Wentz</td>\n",
       "      <td>Carson</td>\n",
       "      <td>Carson</td>\n",
       "      <td>Offense</td>\n",
       "      <td>00-0032950</td>\n",
       "      <td>11</td>\n",
       "      <td>QB</td>\n",
       "      <td>WEN615770</td>\n",
       "      <td>QB</td>\n",
       "      <td>Carson Wentz</td>\n",
       "    </tr>\n",
       "    <tr>\n",
       "      <th>27881</th>\n",
       "      <td>23749</td>\n",
       "      <td>2017.0</td>\n",
       "      <td>PHI</td>\n",
       "      <td>1.0</td>\n",
       "      <td>REG</td>\n",
       "      <td>1</td>\n",
       "      <td>Wentz</td>\n",
       "      <td>Carson</td>\n",
       "      <td>Carson</td>\n",
       "      <td>Offense</td>\n",
       "      <td>00-0032950</td>\n",
       "      <td>11</td>\n",
       "      <td>QB</td>\n",
       "      <td>WEN615770</td>\n",
       "      <td>QB</td>\n",
       "      <td>Carson Wentz</td>\n",
       "    </tr>\n",
       "    <tr>\n",
       "      <th>29413</th>\n",
       "      <td>23601</td>\n",
       "      <td>2018.0</td>\n",
       "      <td>PHI</td>\n",
       "      <td>1.0</td>\n",
       "      <td>REG</td>\n",
       "      <td>1</td>\n",
       "      <td>Wentz</td>\n",
       "      <td>Carson</td>\n",
       "      <td>Carson</td>\n",
       "      <td>Offense</td>\n",
       "      <td>00-0032950</td>\n",
       "      <td>11</td>\n",
       "      <td>QB</td>\n",
       "      <td>WEN615770</td>\n",
       "      <td>QB</td>\n",
       "      <td>Carson Wentz</td>\n",
       "    </tr>\n",
       "    <tr>\n",
       "      <th>30948</th>\n",
       "      <td>23172</td>\n",
       "      <td>2019.0</td>\n",
       "      <td>PHI</td>\n",
       "      <td>1.0</td>\n",
       "      <td>REG</td>\n",
       "      <td>1</td>\n",
       "      <td>Wentz</td>\n",
       "      <td>Carson</td>\n",
       "      <td>Carson</td>\n",
       "      <td>Offense</td>\n",
       "      <td>00-0032950</td>\n",
       "      <td>11</td>\n",
       "      <td>QB</td>\n",
       "      <td>WEN615770</td>\n",
       "      <td>QB</td>\n",
       "      <td>Carson Wentz</td>\n",
       "    </tr>\n",
       "    <tr>\n",
       "      <th>32548</th>\n",
       "      <td>22968</td>\n",
       "      <td>2020.0</td>\n",
       "      <td>PHI</td>\n",
       "      <td>1.0</td>\n",
       "      <td>REG</td>\n",
       "      <td>1</td>\n",
       "      <td>Wentz</td>\n",
       "      <td>Carson</td>\n",
       "      <td>Carson</td>\n",
       "      <td>Offense</td>\n",
       "      <td>00-0032950</td>\n",
       "      <td>11</td>\n",
       "      <td>QB</td>\n",
       "      <td>WEN615770</td>\n",
       "      <td>QB</td>\n",
       "      <td>Carson Wentz</td>\n",
       "    </tr>\n",
       "    <tr>\n",
       "      <th>33672</th>\n",
       "      <td>12012</td>\n",
       "      <td>2021.0</td>\n",
       "      <td>IND</td>\n",
       "      <td>1.0</td>\n",
       "      <td>REG</td>\n",
       "      <td>1</td>\n",
       "      <td>Wentz</td>\n",
       "      <td>Carson</td>\n",
       "      <td>Carson</td>\n",
       "      <td>Offense</td>\n",
       "      <td>00-0032950</td>\n",
       "      <td>11</td>\n",
       "      <td>QB</td>\n",
       "      <td>WEN615770</td>\n",
       "      <td>QB</td>\n",
       "      <td>Carson Wentz</td>\n",
       "    </tr>\n",
       "    <tr>\n",
       "      <th>35225</th>\n",
       "      <td>11075</td>\n",
       "      <td>2022.0</td>\n",
       "      <td>WAS</td>\n",
       "      <td>1.0</td>\n",
       "      <td>REG</td>\n",
       "      <td>1</td>\n",
       "      <td>Wentz</td>\n",
       "      <td>Carson</td>\n",
       "      <td>Carson</td>\n",
       "      <td>Offense</td>\n",
       "      <td>00-0032950</td>\n",
       "      <td>11</td>\n",
       "      <td>QB</td>\n",
       "      <td>WEN615770</td>\n",
       "      <td>QB</td>\n",
       "      <td>Carson Wentz</td>\n",
       "    </tr>\n",
       "  </tbody>\n",
       "</table>\n",
       "</div>"
      ],
      "text/plain": [
       "       index  season club_code  week game_type depth_team last_name  \\\n",
       "26240  23984  2016.0       PHI   1.0       REG          1     Wentz   \n",
       "27881  23749  2017.0       PHI   1.0       REG          1     Wentz   \n",
       "29413  23601  2018.0       PHI   1.0       REG          1     Wentz   \n",
       "30948  23172  2019.0       PHI   1.0       REG          1     Wentz   \n",
       "32548  22968  2020.0       PHI   1.0       REG          1     Wentz   \n",
       "33672  12012  2021.0       IND   1.0       REG          1     Wentz   \n",
       "35225  11075  2022.0       WAS   1.0       REG          1     Wentz   \n",
       "\n",
       "      first_name football_name formation     gsis_id jersey_number position  \\\n",
       "26240     Carson        Carson   Offense  00-0032950            11       QB   \n",
       "27881     Carson        Carson   Offense  00-0032950            11       QB   \n",
       "29413     Carson        Carson   Offense  00-0032950            11       QB   \n",
       "30948     Carson        Carson   Offense  00-0032950            11       QB   \n",
       "32548     Carson        Carson   Offense  00-0032950            11       QB   \n",
       "33672     Carson        Carson   Offense  00-0032950            11       QB   \n",
       "35225     Carson        Carson   Offense  00-0032950            11       QB   \n",
       "\n",
       "        elias_id depth_position     full_name  \n",
       "26240  WEN615770             QB  Carson Wentz  \n",
       "27881  WEN615770             QB  Carson Wentz  \n",
       "29413  WEN615770             QB  Carson Wentz  \n",
       "30948  WEN615770             QB  Carson Wentz  \n",
       "32548  WEN615770             QB  Carson Wentz  \n",
       "33672  WEN615770             QB  Carson Wentz  \n",
       "35225  WEN615770             QB  Carson Wentz  "
      ]
     },
     "execution_count": 29,
     "metadata": {},
     "output_type": "execute_result"
    }
   ],
   "source": [
    "# qb_depth_df.loc[:, keys_right+get_right]\n",
    "qb_depth_df[qb_depth_df['full_name']=='Carson Wentz'].sort_values(['season', 'week'])"
   ]
  },
  {
   "cell_type": "code",
   "execution_count": 30,
   "id": "2307ef01-00aa-4ab5-a684-06a642d52457",
   "metadata": {},
   "outputs": [],
   "source": [
    "# The columns in contracts_df (left) and depth_df (right) to join on.\n",
    "keys_left = ['player', 'year_signed']\n",
    "keys_right = ['full_name', 'season']\n",
    "get_right = ['depth_team']\n",
    "\n",
    "qb_contracts_df = qb_contracts_df.merge(\\\n",
    "                                        qb_depth_df.loc[:, keys_right+get_right], \\\n",
    "                                        how = 'left', \\\n",
    "                                        left_on = keys_left, \\\n",
    "                                        right_on = keys_right\n",
    "                                       )\n",
    "#.drop(columns = keys_right)\n",
    "\n",
    "depth = qb_contracts_df.pop('depth_team')\n",
    "qb_contracts_df.insert(loc = 2, column = 'depth', value = depth)\n"
   ]
  },
  {
   "cell_type": "code",
   "execution_count": 31,
   "id": "b2b032f3-1bb0-4575-8db1-1c31fb4f18aa",
   "metadata": {},
   "outputs": [],
   "source": [
    "is_rookie_deal = qb_contracts_df['year_signed'].to_numpy()==qb_contracts_df['draft_year'].to_numpy()\n",
    "qb_contracts_df.insert(loc = 6, \\\n",
    "                       column = 'is_rookie_deal', \\\n",
    "                       value = is_rookie_deal)"
   ]
  },
  {
   "cell_type": "code",
   "execution_count": 32,
   "id": "15d2c8f5-1178-4bbf-b558-dcafc0492649",
   "metadata": {},
   "outputs": [
    {
     "data": {
      "text/plain": [
       "Index(['index', 'player', 'depth', 'position', 'team', 'is_active',\n",
       "       'is_rookie_deal', 'year_signed', 'years', 'value', 'apy', 'guaranteed',\n",
       "       'apy_cap_pct', 'inflated_value', 'inflated_apy', 'inflated_guaranteed',\n",
       "       'player_page', 'otc_id', 'date_of_birth', 'height', 'weight', 'college',\n",
       "       'draft_year', 'draft_round', 'draft_overall', 'draft_team', 'cols',\n",
       "       'full_name', 'season'],\n",
       "      dtype='object')"
      ]
     },
     "execution_count": 32,
     "metadata": {},
     "output_type": "execute_result"
    }
   ],
   "source": [
    "qb_contracts_df.columns"
   ]
  },
  {
   "cell_type": "code",
   "execution_count": 33,
   "id": "3fd0d9db-2144-439c-a6c3-c7686a37c309",
   "metadata": {},
   "outputs": [
    {
     "data": {
      "text/plain": [
       "(5, 29)"
      ]
     },
     "execution_count": 33,
     "metadata": {},
     "output_type": "execute_result"
    }
   ],
   "source": [
    "qb_contracts_df[qb_contracts_df['player']=='Tony Romo'].shape"
   ]
  },
  {
   "cell_type": "code",
   "execution_count": 115,
   "id": "3901984d-40f6-41aa-86ef-cdd32a8d6e3f",
   "metadata": {},
   "outputs": [],
   "source": [
    "rookie_idx = qb_contracts_df.index[qb_contracts_df.is_rookie_deal==True]\n",
    "vet_starter_idx = qb_contracts_df.index[(qb_contracts_df.is_rookie_deal==False) & (qb_contracts_df.depth.astype(float) == 1)]\n",
    "vet_backup_idx = qb_contracts_df.index[(qb_contracts_df.is_rookie_deal==False) & (qb_contracts_df.depth.astype(float) > 1)]"
   ]
  },
  {
   "cell_type": "code",
   "execution_count": 116,
   "id": "1676a20e-92b5-425b-a3bc-50a0a62ac381",
   "metadata": {},
   "outputs": [],
   "source": [
    "def df_to_lists(df, cols=[], idx=[]):\n",
    "    # df - dataframe\n",
    "    # cols - columns to extract\n",
    "    # idx - indices by Pandas index (use loc), NOT ROW NUMBER (not iloc)\n",
    "    \n",
    "    # Returns a tuple of arrays corresponding to the requested columns.\n",
    "    # This is useful in extracting arrays for plotting in matplotlib (instead of Pandas built-in plotting functions).\n",
    "    \n",
    "    if not len(cols):\n",
    "        cols = df.columns\n",
    "    else:\n",
    "        to_remove = []\n",
    "        for col in cols:\n",
    "            if col not in df.columns:\n",
    "                print('%s is NOT a column label of the dataframe.'% col)\n",
    "                to_remove.append(col)\n",
    "        [cols.remove(r) for r in to_remove]\n",
    "    \n",
    "        \n",
    "    if not len(idx):\n",
    "        idx = range(0, df.shape[0])\n",
    "    \n",
    "    return tuple(df[cols].loc[idx].T.to_numpy(copy=True))"
   ]
  },
  {
   "cell_type": "code",
   "execution_count": 117,
   "id": "aa614483-ff07-4f4a-b4ca-a8de5751b49b",
   "metadata": {},
   "outputs": [],
   "source": [
    "y_rook, apy_rook, apy_pct_rook, draft_rook = df_to_lists(qb_contracts_df, cols = ['year_signed', 'apy', 'apy_cap_pct', 'draft_round'], idx = rookie_idx)\n",
    "y_vet, apy_vet, apy_pct_vet, draft_vet = df_to_lists(qb_contracts_df, cols = ['year_signed', 'apy', 'apy_cap_pct', 'draft_round'], idx = vet_starter_idx)\n",
    "y_backup, apy_backup, apy_pct_backup, draft_backup = df_to_lists(qb_contracts_df, cols = ['year_signed', 'apy', 'apy_cap_pct', 'draft_round'], idx = vet_backup_idx)"
   ]
  },
  {
   "cell_type": "code",
   "execution_count": 175,
   "id": "41b1c981-12d2-4174-85e7-59561e381240",
   "metadata": {},
   "outputs": [
    {
     "data": {
      "image/png": "[encoded data removed]",
      "text/plain": [
       "<Figure size 1000x1000 with 2 Axes>"
      ]
     },
     "metadata": {},
     "output_type": "display_data"
    }
   ],
   "source": [
    "plot_opts = {\\\n",
    "             'linestyle' : 'None',\\\n",
    "             'alpha': 0.8,\\\n",
    "             'marker' :'s',\\\n",
    "             'markersize' : 4, \\\n",
    "             'markeredgecolor' : 'None',\\\n",
    "            }\n",
    "            #  'cmap' : 'tab20c',\\\n",
    "            #  'clim' : [0, 12]\\\n",
    "            # }\n",
    "\n",
    "color_rook1 = np.array([80, 200, 140])/255.0\n",
    "color_vet1 = np.array([230, 100, 20])/255.0\n",
    "color_backup1 = np.array([250, 200, 70])/255.0\n",
    "    \n",
    "fig, ax = plt.subplots(nrows = 2, ncols = 1, sharex=True, figsize=(10, 10))\n",
    "ax[0].axvspan(2009.5, 2010.5, facecolor = '0.2', alpha = 0.2)\n",
    "ax[0].axvspan(1990, 2009.5, facecolor = '0.7', alpha = 0.2)\n",
    "\n",
    "ax[0].plot(y_rook+0.15, apy_rook, c=color_rook1, **plot_opts, label = 'Rookie Deal')\n",
    "ax[0].plot(y_backup-0.15, apy_backup, c=color_backup1, **plot_opts, label = 'Vet Backup')\n",
    "ax[0].plot(y_vet-0.15, apy_vet, c=color_vet1, **plot_opts, label = 'Vet Starter')\n",
    "ax[0].set_ylabel('($1M)')\n",
    "ax[0].legend()\n",
    "\n",
    "ax[1].axvspan(2009.5, 2010.5, facecolor = '0.2', alpha = 0.2)\n",
    "ax[1].axvspan(1990, 2009.5, facecolor = '0.7', alpha = 0.2)\n",
    "\n",
    "ax[1].plot(y_rook+0.15, apy_pct_rook, c=color_rook1, **plot_opts)\n",
    "ax[1].plot(y_backup-0.15, apy_pct_backup, c=color_backup1, **plot_opts)\n",
    "ax[1].plot(y_vet-0.15, apy_pct_vet, c=color_vet1, **plot_opts)\n",
    "ax[1].set_ylabel('(% Cap)')\n",
    "ax[1].set_xlim([1990, 2023])\n",
    "fig.supylabel('APY')\n",
    "fig.supxlabel('Season')\n",
    "\n",
    "# plt.tight_layout(pad=0, w_pad=0, h_pad=0);\n",
    "plt.subplots_adjust(hspace=0.075,left=0.1, bottom=0.075)\n",
    "plt.show()"
   ]
  },
  {
   "cell_type": "code",
   "execution_count": null,
   "id": "8603ee72-7805-42cd-a197-7d732b9c62eb",
   "metadata": {},
   "outputs": [],
   "source": [
    "contracts_df[contracts_df['player']=='Tony Romo'].shape\n",
    "qb_contracts_df[qb_contracts_df['player']=='Tony Romo'].shape"
   ]
  },
  {
   "cell_type": "code",
   "execution_count": null,
   "id": "39034d5d-550a-49d6-8932-ddcb47388179",
   "metadata": {},
   "outputs": [],
   "source": [
    "qb_contracts_df_2[qb_contracts_df_2['player']=='Tony Romo'].head(13)"
   ]
  },
  {
   "cell_type": "code",
   "execution_count": null,
   "id": "06aee2d9-1a8a-4bd0-860d-d2437f2f008c",
   "metadata": {},
   "outputs": [],
   "source": [
    "qb_depth_df_2[qb_depth_df_2['full_name']=='Carson Wentz'].sort_values(['season', 'week'])"
   ]
  },
  {
   "cell_type": "code",
   "execution_count": null,
   "id": "a81a3c4e-9729-493c-9369-c57b4170a720",
   "metadata": {},
   "outputs": [],
   "source": []
  }
 ],
 "metadata": {
  "kernelspec": {
   "display_name": "Python 3 (ipykernel)",
   "language": "python",
   "name": "python3"
  },
  "language_info": {
   "codemirror_mode": {
    "name": "ipython",
    "version": 3
   },
   "file_extension": ".py",
   "mimetype": "text/x-python",
   "name": "python",
   "nbconvert_exporter": "python",
   "pygments_lexer": "ipython3",
   "version": "3.8.1"
  }
 },
 "nbformat": 4,
 "nbformat_minor": 5
}
